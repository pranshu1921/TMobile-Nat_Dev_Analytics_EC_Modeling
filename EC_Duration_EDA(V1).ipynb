{
 "cells": [
  {
   "cell_type": "markdown",
   "id": "4795f217",
   "metadata": {},
   "source": [
    "# NatDev - EC Modeling"
   ]
  },
  {
   "cell_type": "markdown",
   "id": "474d892b",
   "metadata": {},
   "source": [
    "#### Importing Libraries"
   ]
  },
  {
   "cell_type": "code",
   "execution_count": 1,
   "id": "e8f2c22c",
   "metadata": {},
   "outputs": [],
   "source": [
    "#importing libraries\n",
    "import pandas as pd\n",
    "import numpy as np\n",
    "import seaborn as sns\n",
    "import sklearn\n",
    "from sklearn.linear_model import TweedieRegressor\n",
    "from sklearn.model_selection import cross_validate\n",
    "from sklearn.preprocessing import MinMaxScaler\n",
    "import pickle\n",
    "import warnings\n",
    "warnings.filterwarnings(\"ignore\")"
   ]
  },
  {
   "cell_type": "markdown",
   "id": "c8fb0b30-9c67-4e44-ac71-7a619c8c124e",
   "metadata": {},
   "source": [
    "## Load Data"
   ]
  },
  {
   "cell_type": "code",
   "execution_count": 2,
   "id": "63e1aa97",
   "metadata": {},
   "outputs": [],
   "source": [
    "# Load data\n",
    "data_file_path = 'C:/Users/pranshuk/OneDrive - Logic20 20 Inc/Documents/data_w_geo_predictors_proj_level_kc.csv'\n",
    "data = pd.read_csv(data_file_path)"
   ]
  },
  {
   "cell_type": "code",
   "execution_count": 3,
   "id": "faa2160c",
   "metadata": {},
   "outputs": [
    {
     "data": {
      "text/html": [
       "<div>\n",
       "<style scoped>\n",
       "    .dataframe tbody tr th:only-of-type {\n",
       "        vertical-align: middle;\n",
       "    }\n",
       "\n",
       "    .dataframe tbody tr th {\n",
       "        vertical-align: top;\n",
       "    }\n",
       "\n",
       "    .dataframe thead th {\n",
       "        text-align: right;\n",
       "    }\n",
       "</style>\n",
       "<table border=\"1\" class=\"dataframe\">\n",
       "  <thead>\n",
       "    <tr style=\"text-align: right;\">\n",
       "      <th></th>\n",
       "      <th>proj_cd</th>\n",
       "      <th>por_id</th>\n",
       "      <th>site_region_name</th>\n",
       "      <th>site_mkt_name</th>\n",
       "      <th>site_cty_name</th>\n",
       "      <th>site_county_name</th>\n",
       "      <th>site_addr_desc</th>\n",
       "      <th>site_type_desc</th>\n",
       "      <th>site_class_desc</th>\n",
       "      <th>Siterra_And_elemenT_Structure_Owner</th>\n",
       "      <th>...</th>\n",
       "      <th>awater</th>\n",
       "      <th>intptlat</th>\n",
       "      <th>intptlon</th>\n",
       "      <th>Universe_geometry_k</th>\n",
       "      <th>SITETYPE</th>\n",
       "      <th>LEVY_JURIS</th>\n",
       "      <th>PROPTYPE</th>\n",
       "      <th>KCA_ZONING</th>\n",
       "      <th>PREUSE_COD</th>\n",
       "      <th>PREUSE_DES</th>\n",
       "    </tr>\n",
       "  </thead>\n",
       "  <tbody>\n",
       "    <tr>\n",
       "      <th>0</th>\n",
       "      <td>SE04035A - Site Modification (4902665)</td>\n",
       "      <td>POR0348914,POR0256248</td>\n",
       "      <td>WEST</td>\n",
       "      <td>SEATTLE WA</td>\n",
       "      <td>Renton</td>\n",
       "      <td>King</td>\n",
       "      <td>3401 Lind Avenue SW</td>\n",
       "      <td>Structure Non Building</td>\n",
       "      <td>Monopole</td>\n",
       "      <td>Crown Castle T3</td>\n",
       "      <td>...</td>\n",
       "      <td>4544405.0</td>\n",
       "      <td>47.479191</td>\n",
       "      <td>-122.194613</td>\n",
       "      <td>73e4ab58f0aed3fd</td>\n",
       "      <td>C9</td>\n",
       "      <td>RENTON</td>\n",
       "      <td>C</td>\n",
       "      <td>IL</td>\n",
       "      <td>195.0</td>\n",
       "      <td>Warehouse</td>\n",
       "    </tr>\n",
       "    <tr>\n",
       "      <th>1</th>\n",
       "      <td>SE01130C - Site Modification (4902594)</td>\n",
       "      <td>POR0256260</td>\n",
       "      <td>WEST</td>\n",
       "      <td>SEATTLE WA</td>\n",
       "      <td>Seattle</td>\n",
       "      <td>King</td>\n",
       "      <td>9725 3rd Avenue NE</td>\n",
       "      <td>Building</td>\n",
       "      <td>Roof Top Mount</td>\n",
       "      <td>US Wireless, Inc.</td>\n",
       "      <td>...</td>\n",
       "      <td>150761136.0</td>\n",
       "      <td>47.619349</td>\n",
       "      <td>-122.351471</td>\n",
       "      <td>5b1ccf47ec6f6313</td>\n",
       "      <td>C1</td>\n",
       "      <td>SEATTLE</td>\n",
       "      <td>C</td>\n",
       "      <td>SM-NG 145</td>\n",
       "      <td>106.0</td>\n",
       "      <td>Office Building</td>\n",
       "    </tr>\n",
       "    <tr>\n",
       "      <th>2</th>\n",
       "      <td>SE02108E - Site Modification (4946325)</td>\n",
       "      <td>POR0307721,POR0254995,POR0327285</td>\n",
       "      <td>WEST</td>\n",
       "      <td>SEATTLE WA</td>\n",
       "      <td>Seattle</td>\n",
       "      <td>King</td>\n",
       "      <td>3206 SW Admiral Way</td>\n",
       "      <td>Structure Non Building</td>\n",
       "      <td>Wood Pole</td>\n",
       "      <td>City of Seattle</td>\n",
       "      <td>...</td>\n",
       "      <td>150761136.0</td>\n",
       "      <td>47.619349</td>\n",
       "      <td>-122.351471</td>\n",
       "      <td>5b1ccf47ec6f6313</td>\n",
       "      <td>NaN</td>\n",
       "      <td>NaN</td>\n",
       "      <td>NaN</td>\n",
       "      <td>NaN</td>\n",
       "      <td>NaN</td>\n",
       "      <td>NaN</td>\n",
       "    </tr>\n",
       "    <tr>\n",
       "      <th>3</th>\n",
       "      <td>SE03559F - Site Modification (4902649)</td>\n",
       "      <td>POR0260721,POR0308045</td>\n",
       "      <td>WEST</td>\n",
       "      <td>SEATTLE WA</td>\n",
       "      <td>Tukwila</td>\n",
       "      <td>King</td>\n",
       "      <td>4030 S. 140th St</td>\n",
       "      <td>Structure Non Building</td>\n",
       "      <td>Wood Pole</td>\n",
       "      <td>City of Seattle</td>\n",
       "      <td>...</td>\n",
       "      <td>1069363.0</td>\n",
       "      <td>47.476289</td>\n",
       "      <td>-122.275740</td>\n",
       "      <td>9b2abbc615945874</td>\n",
       "      <td>R2</td>\n",
       "      <td>TUKWILA</td>\n",
       "      <td>C</td>\n",
       "      <td>HDR</td>\n",
       "      <td>11.0</td>\n",
       "      <td>Apartment</td>\n",
       "    </tr>\n",
       "    <tr>\n",
       "      <th>4</th>\n",
       "      <td>SE02339D - Site Modification (4902627)</td>\n",
       "      <td>POR0256254</td>\n",
       "      <td>WEST</td>\n",
       "      <td>SEATTLE WA</td>\n",
       "      <td>Redmond</td>\n",
       "      <td>King</td>\n",
       "      <td>18609 NE 65th Street</td>\n",
       "      <td>Structure Non Building</td>\n",
       "      <td>Watertank</td>\n",
       "      <td>City of Redmond</td>\n",
       "      <td>...</td>\n",
       "      <td>1732419.0</td>\n",
       "      <td>47.677925</td>\n",
       "      <td>-122.115336</td>\n",
       "      <td>43129f32c57993d3</td>\n",
       "      <td>U1</td>\n",
       "      <td>REDMOND</td>\n",
       "      <td>C</td>\n",
       "      <td>MP</td>\n",
       "      <td>266.0</td>\n",
       "      <td>Utility, Public</td>\n",
       "    </tr>\n",
       "  </tbody>\n",
       "</table>\n",
       "<p>5 rows × 133 columns</p>\n",
       "</div>"
      ],
      "text/plain": [
       "                                  proj_cd                            por_id  \\\n",
       "0  SE04035A - Site Modification (4902665)             POR0348914,POR0256248   \n",
       "1  SE01130C - Site Modification (4902594)                        POR0256260   \n",
       "2  SE02108E - Site Modification (4946325)  POR0307721,POR0254995,POR0327285   \n",
       "3  SE03559F - Site Modification (4902649)             POR0260721,POR0308045   \n",
       "4  SE02339D - Site Modification (4902627)                        POR0256254   \n",
       "\n",
       "  site_region_name site_mkt_name site_cty_name site_county_name  \\\n",
       "0             WEST    SEATTLE WA        Renton             King   \n",
       "1             WEST    SEATTLE WA       Seattle             King   \n",
       "2             WEST    SEATTLE WA       Seattle             King   \n",
       "3             WEST    SEATTLE WA       Tukwila             King   \n",
       "4             WEST    SEATTLE WA       Redmond             King   \n",
       "\n",
       "         site_addr_desc          site_type_desc site_class_desc  \\\n",
       "0   3401 Lind Avenue SW  Structure Non Building        Monopole   \n",
       "1    9725 3rd Avenue NE                Building  Roof Top Mount   \n",
       "2   3206 SW Admiral Way  Structure Non Building       Wood Pole   \n",
       "3      4030 S. 140th St  Structure Non Building       Wood Pole   \n",
       "4  18609 NE 65th Street  Structure Non Building       Watertank   \n",
       "\n",
       "  Siterra_And_elemenT_Structure_Owner  ...       awater   intptlat  \\\n",
       "0                     Crown Castle T3  ...    4544405.0  47.479191   \n",
       "1                   US Wireless, Inc.  ...  150761136.0  47.619349   \n",
       "2                     City of Seattle  ...  150761136.0  47.619349   \n",
       "3                     City of Seattle  ...    1069363.0  47.476289   \n",
       "4                     City of Redmond  ...    1732419.0  47.677925   \n",
       "\n",
       "     intptlon Universe_geometry_k  SITETYPE  LEVY_JURIS PROPTYPE  KCA_ZONING  \\\n",
       "0 -122.194613    73e4ab58f0aed3fd        C9      RENTON        C          IL   \n",
       "1 -122.351471    5b1ccf47ec6f6313        C1     SEATTLE        C   SM-NG 145   \n",
       "2 -122.351471    5b1ccf47ec6f6313       NaN         NaN      NaN         NaN   \n",
       "3 -122.275740    9b2abbc615945874        R2     TUKWILA        C         HDR   \n",
       "4 -122.115336    43129f32c57993d3        U1     REDMOND        C          MP   \n",
       "\n",
       "   PREUSE_COD       PREUSE_DES  \n",
       "0       195.0        Warehouse  \n",
       "1       106.0  Office Building  \n",
       "2         NaN              NaN  \n",
       "3        11.0        Apartment  \n",
       "4       266.0  Utility, Public  \n",
       "\n",
       "[5 rows x 133 columns]"
      ]
     },
     "execution_count": 3,
     "metadata": {},
     "output_type": "execute_result"
    }
   ],
   "source": [
    "#display rows\n",
    "data.head()"
   ]
  },
  {
   "cell_type": "code",
   "execution_count": 4,
   "id": "42d8e948",
   "metadata": {},
   "outputs": [
    {
     "data": {
      "text/plain": [
       "(449, 133)"
      ]
     },
     "execution_count": 4,
     "metadata": {},
     "output_type": "execute_result"
    }
   ],
   "source": [
    "#data dimensions\n",
    "data.shape"
   ]
  },
  {
   "cell_type": "markdown",
   "id": "37be5b16",
   "metadata": {},
   "source": [
    "## Missing Data Analysis"
   ]
  },
  {
   "cell_type": "code",
   "execution_count": 5,
   "id": "7637ca54",
   "metadata": {},
   "outputs": [],
   "source": [
    "#store column names\n",
    "data_cols = data.columns"
   ]
  },
  {
   "cell_type": "code",
   "execution_count": 6,
   "id": "06703751",
   "metadata": {},
   "outputs": [],
   "source": [
    "#storing columns with null values separately\n",
    "isnull_cols = {}\n",
    "for feature in data_cols:\n",
    "    if data[feature].isnull().sum() > 0:\n",
    "        isnull_cols[feature] = data[feature].isnull().sum()"
   ]
  },
  {
   "cell_type": "code",
   "execution_count": 7,
   "id": "f6952a0f",
   "metadata": {
    "collapsed": true
   },
   "outputs": [
    {
     "data": {
      "text/plain": [
       "{'min_por_plan_status_dt': 40,\n",
       " 'max_por_plan_status_dt': 40,\n",
       " 'Min_HC_Release_POR': 25,\n",
       " 'id': 60,\n",
       " 'frm_apn': 60,\n",
       " 'orig_apn': 60,\n",
       " 'land_use': 60,\n",
       " 'land_use_name': 65,\n",
       " 'prop_ind': 60,\n",
       " 'property_indicator_name': 60,\n",
       " 'zoning': 60,\n",
       " 'tax_yr': 61,\n",
       " 'tax_amt': 61,\n",
       " 'tot_val': 122,\n",
       " 'imp_val': 160,\n",
       " 'lan_val': 123,\n",
       " 'imp_land_ratio': 161,\n",
       " 'land_value_assessment_type': 60,\n",
       " 'total_value_assessment_type': 60,\n",
       " 'mkt_imp': 160,\n",
       " 'mkt_lan': 123,\n",
       " 'mkt_val': 122,\n",
       " 'mkt_imp_land_ratio': 161,\n",
       " 'assd_imp': 160,\n",
       " 'assd_lan': 123,\n",
       " 'assd_val': 122,\n",
       " 'assd_imp_land_ratio': 161,\n",
       " 'yr_blt': 152,\n",
       " 'eff_yr_blt': 187,\n",
       " 'bld_units': 96,\n",
       " 'units_nbr': 378,\n",
       " 'land_acres': 60,\n",
       " 'land_sq_ft': 60,\n",
       " 'bld_sq_ft': 164,\n",
       " 'bldg_far': 164,\n",
       " 'ubld_sq_ft': 153,\n",
       " 'adj_sq_ft': 204,\n",
       " 'bsmt_sq_ft': 430,\n",
       " 'front_ft': 449,\n",
       " 'depth_ft': 449,\n",
       " 'gf_sq_ft': 409,\n",
       " 'pool': 434,\n",
       " 'energy_use_type': 449,\n",
       " 'water_type': 73,\n",
       " 'fuel_type': 449,\n",
       " 'sewer_type': 449,\n",
       " 'std_addr': 102,\n",
       " 'std_state': 102,\n",
       " 'std_zip': 102,\n",
       " 'census_tr': 67,\n",
       " 'cnty_code': 60,\n",
       " 'state_code': 60,\n",
       " 'geometry_key': 60,\n",
       " 'geometry_k': 60,\n",
       " 'fid': 35,\n",
       " 'statefp': 35,\n",
       " 'placefp': 35,\n",
       " 'placens': 35,\n",
       " 'geoid': 35,\n",
       " 'name': 35,\n",
       " 'namelsad': 35,\n",
       " 'lsad': 35,\n",
       " 'classfp': 35,\n",
       " 'pcicbsa': 35,\n",
       " 'pcinecta': 35,\n",
       " 'mtfcc': 35,\n",
       " 'funcstat': 35,\n",
       " 'aland': 35,\n",
       " 'awater': 35,\n",
       " 'intptlat': 35,\n",
       " 'intptlon': 35,\n",
       " 'Universe_geometry_k': 35,\n",
       " 'SITETYPE': 89,\n",
       " 'LEVY_JURIS': 86,\n",
       " 'PROPTYPE': 59,\n",
       " 'KCA_ZONING': 59,\n",
       " 'PREUSE_COD': 59,\n",
       " 'PREUSE_DES': 67}"
      ]
     },
     "execution_count": 7,
     "metadata": {},
     "output_type": "execute_result"
    }
   ],
   "source": [
    "#dictionary containing null counts \n",
    "isnull_cols"
   ]
  },
  {
   "cell_type": "code",
   "execution_count": 8,
   "id": "1e651d46",
   "metadata": {},
   "outputs": [
    {
     "data": {
      "text/plain": [
       "proj_cd              0.000000\n",
       "por_id               0.000000\n",
       "site_region_name     0.000000\n",
       "site_mkt_name        0.000000\n",
       "site_cty_name        0.000000\n",
       "                      ...    \n",
       "LEVY_JURIS          19.153675\n",
       "PROPTYPE            13.140312\n",
       "KCA_ZONING          13.140312\n",
       "PREUSE_COD          13.140312\n",
       "PREUSE_DES          14.922049\n",
       "Length: 133, dtype: float64"
      ]
     },
     "execution_count": 8,
     "metadata": {},
     "output_type": "execute_result"
    }
   ],
   "source": [
    "# calculating missing values percentage\n",
    "percent_missing = data.isnull().sum() / len(data) * 100\n",
    "percent_missing"
   ]
  },
  {
   "cell_type": "code",
   "execution_count": 9,
   "id": "2d063ba4",
   "metadata": {},
   "outputs": [
    {
     "data": {
      "text/plain": [
       "proj_cd              object\n",
       "por_id               object\n",
       "site_region_name     object\n",
       "site_mkt_name        object\n",
       "site_cty_name        object\n",
       "                     ...   \n",
       "LEVY_JURIS           object\n",
       "PROPTYPE             object\n",
       "KCA_ZONING           object\n",
       "PREUSE_COD          float64\n",
       "PREUSE_DES           object\n",
       "Length: 133, dtype: object"
      ]
     },
     "execution_count": 9,
     "metadata": {},
     "output_type": "execute_result"
    }
   ],
   "source": [
    "#checking datatypes\n",
    "data.dtypes"
   ]
  },
  {
   "cell_type": "markdown",
   "id": "3c47a91b-12b8-4430-9b86-f47ad10a7b0a",
   "metadata": {},
   "source": [
    "## Features of interest"
   ]
  },
  {
   "cell_type": "code",
   "execution_count": 10,
   "id": "6f3c2aff",
   "metadata": {},
   "outputs": [],
   "source": [
    "#Final features for the dataset\n",
    "data_v1 = data[['site_type_desc','site_class_desc','MLA_Partner','MLA_Flag','isurban','EC Duration',\n",
    "            'Category_v_Anchor','Category_v_L600','Category_v_Capacity_Other','max_proj_l600_flg','max_proj_2500_flg',\n",
    "            'land_use_name','property_indicator_name','tax_amt','yr_blt','land_acres','std_city']]"
   ]
  },
  {
   "cell_type": "code",
   "execution_count": 11,
   "id": "54fe6982-5791-4d68-a7b1-fed5321a0fd6",
   "metadata": {},
   "outputs": [
    {
     "data": {
      "text/html": [
       "<div>\n",
       "<style scoped>\n",
       "    .dataframe tbody tr th:only-of-type {\n",
       "        vertical-align: middle;\n",
       "    }\n",
       "\n",
       "    .dataframe tbody tr th {\n",
       "        vertical-align: top;\n",
       "    }\n",
       "\n",
       "    .dataframe thead th {\n",
       "        text-align: right;\n",
       "    }\n",
       "</style>\n",
       "<table border=\"1\" class=\"dataframe\">\n",
       "  <thead>\n",
       "    <tr style=\"text-align: right;\">\n",
       "      <th></th>\n",
       "      <th>site_type_desc</th>\n",
       "      <th>site_class_desc</th>\n",
       "      <th>MLA_Partner</th>\n",
       "      <th>MLA_Flag</th>\n",
       "      <th>isurban</th>\n",
       "      <th>EC Duration</th>\n",
       "      <th>Category_v_Anchor</th>\n",
       "      <th>Category_v_L600</th>\n",
       "      <th>Category_v_Capacity_Other</th>\n",
       "      <th>max_proj_l600_flg</th>\n",
       "      <th>max_proj_2500_flg</th>\n",
       "      <th>land_use_name</th>\n",
       "      <th>property_indicator_name</th>\n",
       "      <th>tax_amt</th>\n",
       "      <th>yr_blt</th>\n",
       "      <th>land_acres</th>\n",
       "      <th>std_city</th>\n",
       "    </tr>\n",
       "  </thead>\n",
       "  <tbody>\n",
       "    <tr>\n",
       "      <th>0</th>\n",
       "      <td>Structure Non Building</td>\n",
       "      <td>Monopole</td>\n",
       "      <td>Other</td>\n",
       "      <td>Y</td>\n",
       "      <td>1</td>\n",
       "      <td>5.9</td>\n",
       "      <td>1</td>\n",
       "      <td>0</td>\n",
       "      <td>1</td>\n",
       "      <td>0</td>\n",
       "      <td>1</td>\n",
       "      <td>WAREHOUSE</td>\n",
       "      <td>WAREHOUSE</td>\n",
       "      <td>206166.61</td>\n",
       "      <td>1986.0</td>\n",
       "      <td>5.1496</td>\n",
       "      <td>RENTON</td>\n",
       "    </tr>\n",
       "    <tr>\n",
       "      <th>1</th>\n",
       "      <td>Building</td>\n",
       "      <td>Roof Top Mount</td>\n",
       "      <td>Other</td>\n",
       "      <td>N</td>\n",
       "      <td>1</td>\n",
       "      <td>8.8</td>\n",
       "      <td>1</td>\n",
       "      <td>0</td>\n",
       "      <td>0</td>\n",
       "      <td>0</td>\n",
       "      <td>1</td>\n",
       "      <td>OFFICE BUILDING</td>\n",
       "      <td>OFFICE BUILDING</td>\n",
       "      <td>258186.06</td>\n",
       "      <td>1979.0</td>\n",
       "      <td>3.2108</td>\n",
       "      <td>SEATTLE</td>\n",
       "    </tr>\n",
       "    <tr>\n",
       "      <th>2</th>\n",
       "      <td>Structure Non Building</td>\n",
       "      <td>Wood Pole</td>\n",
       "      <td>Other</td>\n",
       "      <td>N</td>\n",
       "      <td>1</td>\n",
       "      <td>12.7</td>\n",
       "      <td>1</td>\n",
       "      <td>1</td>\n",
       "      <td>1</td>\n",
       "      <td>1</td>\n",
       "      <td>1</td>\n",
       "      <td>NaN</td>\n",
       "      <td>NaN</td>\n",
       "      <td>NaN</td>\n",
       "      <td>NaN</td>\n",
       "      <td>NaN</td>\n",
       "      <td>SEATTLE</td>\n",
       "    </tr>\n",
       "    <tr>\n",
       "      <th>3</th>\n",
       "      <td>Structure Non Building</td>\n",
       "      <td>Wood Pole</td>\n",
       "      <td>Other</td>\n",
       "      <td>N</td>\n",
       "      <td>1</td>\n",
       "      <td>10.6</td>\n",
       "      <td>1</td>\n",
       "      <td>1</td>\n",
       "      <td>0</td>\n",
       "      <td>1</td>\n",
       "      <td>1</td>\n",
       "      <td>APARTMENT</td>\n",
       "      <td>APARTMENT</td>\n",
       "      <td>5630.69</td>\n",
       "      <td>NaN</td>\n",
       "      <td>0.3857</td>\n",
       "      <td>TUKWILA</td>\n",
       "    </tr>\n",
       "    <tr>\n",
       "      <th>4</th>\n",
       "      <td>Structure Non Building</td>\n",
       "      <td>Watertank</td>\n",
       "      <td>Other</td>\n",
       "      <td>N</td>\n",
       "      <td>1</td>\n",
       "      <td>4.6</td>\n",
       "      <td>1</td>\n",
       "      <td>0</td>\n",
       "      <td>0</td>\n",
       "      <td>0</td>\n",
       "      <td>1</td>\n",
       "      <td>UTILITIES</td>\n",
       "      <td>UTILITIES</td>\n",
       "      <td>17.63</td>\n",
       "      <td>NaN</td>\n",
       "      <td>0.8844</td>\n",
       "      <td>REDMOND</td>\n",
       "    </tr>\n",
       "  </tbody>\n",
       "</table>\n",
       "</div>"
      ],
      "text/plain": [
       "           site_type_desc site_class_desc MLA_Partner MLA_Flag  isurban  \\\n",
       "0  Structure Non Building        Monopole       Other        Y        1   \n",
       "1                Building  Roof Top Mount       Other        N        1   \n",
       "2  Structure Non Building       Wood Pole       Other        N        1   \n",
       "3  Structure Non Building       Wood Pole       Other        N        1   \n",
       "4  Structure Non Building       Watertank       Other        N        1   \n",
       "\n",
       "   EC Duration  Category_v_Anchor  Category_v_L600  Category_v_Capacity_Other  \\\n",
       "0          5.9                  1                0                          1   \n",
       "1          8.8                  1                0                          0   \n",
       "2         12.7                  1                1                          1   \n",
       "3         10.6                  1                1                          0   \n",
       "4          4.6                  1                0                          0   \n",
       "\n",
       "   max_proj_l600_flg  max_proj_2500_flg    land_use_name  \\\n",
       "0                  0                  1        WAREHOUSE   \n",
       "1                  0                  1  OFFICE BUILDING   \n",
       "2                  1                  1              NaN   \n",
       "3                  1                  1        APARTMENT   \n",
       "4                  0                  1        UTILITIES   \n",
       "\n",
       "  property_indicator_name    tax_amt  yr_blt  land_acres std_city  \n",
       "0               WAREHOUSE  206166.61  1986.0      5.1496   RENTON  \n",
       "1         OFFICE BUILDING  258186.06  1979.0      3.2108  SEATTLE  \n",
       "2                     NaN        NaN     NaN         NaN  SEATTLE  \n",
       "3               APARTMENT    5630.69     NaN      0.3857  TUKWILA  \n",
       "4               UTILITIES      17.63     NaN      0.8844  REDMOND  "
      ]
     },
     "execution_count": 11,
     "metadata": {},
     "output_type": "execute_result"
    }
   ],
   "source": [
    "data_v1.head()"
   ]
  },
  {
   "cell_type": "code",
   "execution_count": 12,
   "id": "3ad44571",
   "metadata": {},
   "outputs": [
    {
     "data": {
      "text/plain": [
       "dtype('float64')"
      ]
     },
     "execution_count": 12,
     "metadata": {},
     "output_type": "execute_result"
    }
   ],
   "source": [
    "data_v1['EC Duration'].dtype"
   ]
  },
  {
   "cell_type": "code",
   "execution_count": 13,
   "id": "ef07690d",
   "metadata": {},
   "outputs": [
    {
     "name": "stdout",
     "output_type": "stream",
     "text": [
      "Number of categorical features: 7\n",
      "Categorical features: ['site_type_desc', 'site_class_desc', 'MLA_Partner', 'MLA_Flag', 'land_use_name', 'property_indicator_name', 'std_city']\n"
     ]
    }
   ],
   "source": [
    "#separating categorical features in the dataset\n",
    "categorical_features = [column_name for column_name in data_v1.columns if data_v1[column_name].dtype == 'O']\n",
    "print('Number of categorical features: {}'.format(len(categorical_features)))\n",
    "print('Categorical features: {}'.format(list(categorical_features)))"
   ]
  },
  {
   "cell_type": "code",
   "execution_count": 14,
   "id": "0919f23e",
   "metadata": {},
   "outputs": [
    {
     "name": "stdout",
     "output_type": "stream",
     "text": [
      "Number of numerical features: 10\n",
      "Numerical Features: ['isurban', 'EC Duration', 'Category_v_Anchor', 'Category_v_L600', 'Category_v_Capacity_Other', 'max_proj_l600_flg', 'max_proj_2500_flg', 'tax_amt', 'yr_blt', 'land_acres']\n"
     ]
    }
   ],
   "source": [
    "#Separating numerical features in the dataset\n",
    "numerical_features = [column_name for column_name in data_v1.columns if data_v1[column_name].dtype != 'O']\n",
    "print('Number of numerical features: {}'.format(len(numerical_features)))\n",
    "print('Numerical Features:', list(numerical_features))"
   ]
  },
  {
   "cell_type": "markdown",
   "id": "780587bf-ccac-446c-a3d1-ec55f4d1717d",
   "metadata": {},
   "source": [
    "## Cardinality\n",
    "Conclusions:\n",
    " - land_use_name, property_indicator_name, std_city are all high-cardinality, requiring reduction\n",
    " - site_class_desc should be considered for grouping"
   ]
  },
  {
   "cell_type": "code",
   "execution_count": 15,
   "id": "3d9cdc4c",
   "metadata": {},
   "outputs": [
    {
     "name": "stdout",
     "output_type": "stream",
     "text": [
      "site_type_desc : 2\n",
      "site_class_desc : 14\n",
      "MLA_Partner : 3\n",
      "MLA_Flag : 2\n",
      "land_use_name : 57\n",
      "property_indicator_name : 24\n",
      "std_city : 36\n"
     ]
    }
   ],
   "source": [
    "#checking cardinality\n",
    "for each_feature in categorical_features:\n",
    "    unique_values = len(data[each_feature].unique())\n",
    "    print('{} : {}'.format(each_feature, unique_values))"
   ]
  },
  {
   "cell_type": "markdown",
   "id": "9682f6a8-22fa-4129-98bf-66801a6d8e59",
   "metadata": {},
   "source": [
    "## Sweetvis Report"
   ]
  },
  {
   "cell_type": "code",
   "execution_count": 16,
   "id": "6b526734",
   "metadata": {},
   "outputs": [],
   "source": [
    "# pip install sweetviz\n",
    "# Importing Sweetviz for analysis\n",
    "import sweetviz as sv"
   ]
  },
  {
   "cell_type": "code",
   "execution_count": 17,
   "id": "a4fbf3e0",
   "metadata": {},
   "outputs": [
    {
     "data": {
      "application/vnd.jupyter.widget-view+json": {
       "model_id": "7ebf955aa47242dd8555a746376e491e",
       "version_major": 2,
       "version_minor": 0
      },
      "text/plain": [
       "                                             |                                             | [  0%]   00:00 ->…"
      ]
     },
     "metadata": {},
     "output_type": "display_data"
    },
    {
     "name": "stdout",
     "output_type": "stream",
     "text": [
      "Report EC_v1_Analysis.html was generated! NOTEBOOK/COLAB USERS: the web browser MAY not pop up, regardless, the report IS saved in your notebook/colab files.\n"
     ]
    }
   ],
   "source": [
    "#generating report around data \n",
    "report = sv.analyze(source=data_v1,target_feat='EC Duration', pairwise_analysis='on')\n",
    "report.show_html('EC_v1_Analysis.html')"
   ]
  },
  {
   "cell_type": "markdown",
   "id": "490414f4",
   "metadata": {},
   "source": [
    "## Missing Values\n",
    "Conclusions:\n",
    "The following fields should be considered for missing value replacement or interpolation:\n",
    " - land_use_name (categorical)\n",
    " - property_indicator_name (categorical)\n",
    " - tax_amt (numeric)\n",
    " - yr_blt (numeric)\n",
    " - land_acres (numeric)"
   ]
  },
  {
   "cell_type": "code",
   "execution_count": 18,
   "id": "fb241758",
   "metadata": {},
   "outputs": [
    {
     "data": {
      "text/plain": [
       "site_type_desc                 0\n",
       "site_class_desc                0\n",
       "MLA_Partner                    0\n",
       "MLA_Flag                       0\n",
       "isurban                        0\n",
       "EC Duration                    0\n",
       "Category_v_Anchor              0\n",
       "Category_v_L600                0\n",
       "Category_v_Capacity_Other      0\n",
       "max_proj_l600_flg              0\n",
       "max_proj_2500_flg              0\n",
       "land_use_name                 65\n",
       "property_indicator_name       60\n",
       "tax_amt                       61\n",
       "yr_blt                       152\n",
       "land_acres                    60\n",
       "std_city                       0\n",
       "dtype: int64"
      ]
     },
     "execution_count": 18,
     "metadata": {},
     "output_type": "execute_result"
    }
   ],
   "source": [
    "#checking null values\n",
    "data_v1.isnull().sum()"
   ]
  },
  {
   "cell_type": "code",
   "execution_count": 19,
   "id": "5631d738",
   "metadata": {},
   "outputs": [],
   "source": [
    "# substituting null values with the majority class 'APARTMENT'\n",
    "data_v1['land_use_name'].fillna('APARTMENT', inplace = True)"
   ]
  },
  {
   "cell_type": "code",
   "execution_count": 20,
   "id": "5f4c2c00",
   "metadata": {},
   "outputs": [],
   "source": [
    "# substituting null values with the majority class 'APARTMENT'\n",
    "data_v1['property_indicator_name'].fillna('APARTMENT', inplace = True)"
   ]
  },
  {
   "cell_type": "code",
   "execution_count": 21,
   "id": "8cc2426f",
   "metadata": {},
   "outputs": [
    {
     "data": {
      "text/plain": [
       "site_type_desc                 0\n",
       "site_class_desc                0\n",
       "MLA_Partner                    0\n",
       "MLA_Flag                       0\n",
       "isurban                        0\n",
       "EC Duration                    0\n",
       "Category_v_Anchor              0\n",
       "Category_v_L600                0\n",
       "Category_v_Capacity_Other      0\n",
       "max_proj_l600_flg              0\n",
       "max_proj_2500_flg              0\n",
       "land_use_name                  0\n",
       "property_indicator_name        0\n",
       "tax_amt                       61\n",
       "yr_blt                       152\n",
       "land_acres                    60\n",
       "std_city                       0\n",
       "dtype: int64"
      ]
     },
     "execution_count": 21,
     "metadata": {},
     "output_type": "execute_result"
    }
   ],
   "source": [
    "data_v1.isnull().sum()"
   ]
  },
  {
   "cell_type": "markdown",
   "id": "1875b839",
   "metadata": {},
   "source": [
    "## Outlier Identification\n",
    "Conclusions:\n",
    "tax_amt, yr_blt, land_acres contain outliers that should be treated before missing value interpolation"
   ]
  },
  {
   "cell_type": "code",
   "execution_count": 22,
   "id": "cea8f33c",
   "metadata": {},
   "outputs": [
    {
     "data": {
      "text/plain": [
       "<AxesSubplot:xlabel='tax_amt'>"
      ]
     },
     "execution_count": 22,
     "metadata": {},
     "output_type": "execute_result"
    },
    {
     "data": {
      "image/png": "[encoded data removed]",
      "text/plain": [
       "<Figure size 600x400 with 1 Axes>"
      ]
     },
     "metadata": {},
     "output_type": "display_data"
    }
   ],
   "source": [
    "#using boxplot to visualize outliers\n",
    "sns.boxplot(data_v1['tax_amt'])"
   ]
  },
  {
   "cell_type": "code",
   "execution_count": 23,
   "id": "f422fa04",
   "metadata": {},
   "outputs": [
    {
     "data": {
      "text/plain": [
       "<AxesSubplot:xlabel='yr_blt'>"
      ]
     },
     "execution_count": 23,
     "metadata": {},
     "output_type": "execute_result"
    },
    {
     "data": {
      "image/png": "[encoded data removed]",
      "text/plain": [
       "<Figure size 600x400 with 1 Axes>"
      ]
     },
     "metadata": {},
     "output_type": "display_data"
    }
   ],
   "source": [
    "sns.boxplot(data_v1['yr_blt'])"
   ]
  },
  {
   "cell_type": "code",
   "execution_count": 24,
   "id": "0d332656",
   "metadata": {},
   "outputs": [
    {
     "data": {
      "text/plain": [
       "<AxesSubplot:xlabel='land_acres'>"
      ]
     },
     "execution_count": 24,
     "metadata": {},
     "output_type": "execute_result"
    },
    {
     "data": {
      "image/png": "[encoded data removed]",
      "text/plain": [
       "<Figure size 600x400 with 1 Axes>"
      ]
     },
     "metadata": {},
     "output_type": "display_data"
    }
   ],
   "source": [
    "sns.boxplot(data_v1['land_acres'])\n"
   ]
  },
  {
   "cell_type": "code",
   "execution_count": 25,
   "id": "67fd3af8",
   "metadata": {},
   "outputs": [
    {
     "name": "stdout",
     "output_type": "stream",
     "text": [
      "Treating 0 lower (-105508.48125000001) and 43 upper (186910.36875000002) outliers for tax_amt\n",
      "Treating 10 lower (1914.0) and 0 upper (2042.0) outliers for yr_blt\n",
      "Treating 0 lower (-4.62755) and 57 upper (8.81445) outliers for land_acres\n"
     ]
    }
   ],
   "source": [
    "#Outliers Treatment\n",
    "\n",
    "features_with_outliers = ['tax_amt','yr_blt','land_acres']\n",
    "for feature in features_with_outliers:\n",
    "    q1 = data_v1[feature].quantile(.25)\n",
    "    q3 = data_v1[feature].quantile(.75)\n",
    "    IQR = q3 - q1\n",
    "    lower_limit = q1 - (IQR*1.5)\n",
    "    upper_limit = q3 + (IQR*1.5)\n",
    "    lower_outliers = data_v1.loc[data_v1[feature] < lower_limit, feature].count()\n",
    "    upper_outliers = data_v1.loc[data_v1[feature] > upper_limit, feature].count()\n",
    "    print(f\"Treating {lower_outliers} lower ({lower_limit}) and {upper_outliers} upper ({upper_limit}) outliers for {feature}\")\n",
    "    data_v1.loc[data_v1[feature] < lower_limit, feature] = lower_limit\n",
    "    data_v1.loc[data_v1[feature] > upper_limit, feature] = upper_limit"
   ]
  },
  {
   "cell_type": "markdown",
   "id": "08b65bb6",
   "metadata": {},
   "source": [
    "Since we have treated outliers successfully, it should be safe to impute missing values using 'mean'"
   ]
  },
  {
   "cell_type": "code",
   "execution_count": 26,
   "id": "3d353f34",
   "metadata": {},
   "outputs": [],
   "source": [
    "#treating null values with 'median' value due to the presence of outliers\n",
    "data_v1['tax_amt'].fillna(data_v1['tax_amt'].mean(), inplace = True)\n",
    "data_v1['yr_blt'].fillna(data_v1['tax_amt'].mean(), inplace = True)\n",
    "data_v1['land_acres'].fillna(data_v1['land_acres'].mean(), inplace = True)"
   ]
  },
  {
   "cell_type": "code",
   "execution_count": 27,
   "id": "581005bb",
   "metadata": {},
   "outputs": [
    {
     "data": {
      "text/plain": [
       "tax_amt       0\n",
       "yr_blt        0\n",
       "land_acres    0\n",
       "dtype: int64"
      ]
     },
     "execution_count": 27,
     "metadata": {},
     "output_type": "execute_result"
    }
   ],
   "source": [
    "#confirming null values\n",
    "data_v1[['tax_amt','yr_blt','land_acres']].isnull().sum()"
   ]
  },
  {
   "cell_type": "markdown",
   "id": "443bb7de",
   "metadata": {},
   "source": [
    "#### One-hot Encoding"
   ]
  },
  {
   "cell_type": "code",
   "execution_count": 28,
   "id": "ba42742a",
   "metadata": {},
   "outputs": [],
   "source": [
    "data_v1_oh = data_v1.copy()\n",
    "\n",
    "data_v1_oh = pd.get_dummies(data_v1_oh, columns= ['site_type_desc', 'site_class_desc', 'MLA_Partner', 'MLA_Flag', 'land_use_name', 'property_indicator_name', 'std_city'])"
   ]
  },
  {
   "cell_type": "markdown",
   "id": "418fbb91",
   "metadata": {},
   "source": [
    "#### Separating Target and Features"
   ]
  },
  {
   "cell_type": "code",
   "execution_count": 29,
   "id": "6f1fa0b6",
   "metadata": {},
   "outputs": [],
   "source": [
    "X = data_v1_oh.drop(['EC Duration'], axis = 1)\n",
    "y = data_v1_oh['EC Duration']"
   ]
  },
  {
   "cell_type": "markdown",
   "id": "d405b463",
   "metadata": {},
   "source": [
    "# Model Training"
   ]
  },
  {
   "cell_type": "markdown",
   "id": "72d53c05",
   "metadata": {},
   "source": [
    "#### Evaluating Model Performance"
   ]
  },
  {
   "cell_type": "markdown",
   "id": "d8de905e",
   "metadata": {},
   "source": [
    "#### Feature Importance\n",
    "We will be using ExtraTreesRegressor class for Feature Importance. This class implements a meta estimator that fits a number of randomized decision trees on various samples of the dataset and uses averaging to improve the predictive accuracy and control over-fitting."
   ]
  },
  {
   "cell_type": "code",
   "execution_count": 30,
   "id": "e97987e2",
   "metadata": {},
   "outputs": [
    {
     "data": {
      "text/plain": [
       "array([9.24793730e-03, 1.09516185e-01, 2.61773607e-02, 9.82346416e-03,\n",
       "       2.60280265e-02, 8.60484310e-02, 6.90162990e-02, 7.56353366e-02,\n",
       "       4.21249540e-02, 2.08602519e-03, 2.83438397e-03, 2.16673544e-04,\n",
       "       1.64215916e-04, 1.63051242e-02, 4.83464575e-03, 5.93765643e-03,\n",
       "       2.19956014e-02, 2.28654702e-04, 4.69221056e-04, 4.85716476e-05,\n",
       "       4.18004583e-03, 4.14949368e-03, 3.70183450e-03, 3.92313728e-03,\n",
       "       1.98956510e-02, 1.95327827e-02, 3.41086579e-03, 3.68027892e-03,\n",
       "       3.53001826e-03, 4.15964528e-03, 1.29147206e-02, 9.58421198e-05,\n",
       "       1.99409494e-03, 1.98765076e-04, 4.14949417e-06, 4.04757379e-03,\n",
       "       1.20595788e-03, 3.56852814e-03, 8.21065225e-03, 1.80205669e-03,\n",
       "       1.76734107e-03, 1.72970532e-04, 2.07979169e-05, 4.01169284e-06,\n",
       "       9.77176255e-05, 3.70142590e-04, 1.85435628e-03, 4.04725703e-05,\n",
       "       2.27371198e-03, 9.32919596e-04, 6.40477409e-04, 1.55439143e-03,\n",
       "       1.01047208e-02, 1.24812352e-02, 1.52895078e-02, 1.45542662e-03,\n",
       "       1.25206541e-03, 4.45291466e-05, 4.71234175e-04, 8.20388184e-03,\n",
       "       6.72439018e-04, 6.02637868e-06, 1.00144217e-05, 9.16465029e-04,\n",
       "       3.81526727e-04, 3.23753000e-03, 1.94724866e-06, 1.58630555e-02,\n",
       "       3.57461150e-05, 7.27278233e-03, 1.68991784e-03, 7.35409123e-04,\n",
       "       3.51902798e-04, 3.94694789e-04, 0.00000000e+00, 3.28063815e-03,\n",
       "       4.52306746e-03, 8.00319859e-04, 2.48352657e-05, 2.67890882e-03,\n",
       "       4.78822858e-03, 7.20418231e-04, 1.52677615e-05, 9.13596747e-04,\n",
       "       1.35424078e-02, 3.79113195e-03, 5.88737312e-09, 9.98168406e-04,\n",
       "       1.84226191e-02, 7.58966841e-04, 1.00585470e-03, 2.00815539e-03,\n",
       "       1.16068068e-03, 3.22332161e-03, 2.64187278e-03, 1.49431760e-03,\n",
       "       9.54140798e-04, 2.76228340e-04, 6.96154580e-04, 2.60033292e-03,\n",
       "       9.17801191e-03, 8.69868169e-04, 3.23091118e-03, 1.02926919e-03,\n",
       "       5.10290086e-03, 7.18072237e-05, 1.24842624e-02, 1.04722050e-03,\n",
       "       1.86096834e-03, 8.87627997e-04, 7.09054436e-03, 1.46155732e-03,\n",
       "       6.69203952e-03, 7.77065032e-04, 1.91625969e-02, 1.04001463e-02,\n",
       "       2.01739982e-03, 3.68237781e-04, 3.01652200e-03, 3.64237204e-04,\n",
       "       1.32909972e-03, 1.52827493e-03, 7.44152430e-03, 1.02778659e-02,\n",
       "       6.51435249e-04, 5.52643079e-03, 1.42830182e-02, 1.40814926e-05,\n",
       "       1.36609216e-03, 3.44004987e-02, 1.09976642e-03, 1.73970113e-03,\n",
       "       3.09087089e-06, 8.94587729e-03, 3.68934970e-03, 3.64142414e-03,\n",
       "       2.47799899e-03, 1.56763754e-02, 6.33679871e-03, 2.18577502e-04,\n",
       "       6.30398990e-03, 7.52996070e-03, 1.07947709e-03, 1.13422479e-03,\n",
       "       1.32600042e-03])"
      ]
     },
     "execution_count": 30,
     "metadata": {},
     "output_type": "execute_result"
    }
   ],
   "source": [
    "from sklearn.ensemble import ExtraTreesRegressor\n",
    "etr_model = ExtraTreesRegressor()\n",
    "etr_model.fit(X, y)\n",
    "etr_model.feature_importances_"
   ]
  },
  {
   "cell_type": "code",
   "execution_count": 31,
   "id": "c1c11e21",
   "metadata": {},
   "outputs": [
    {
     "data": {
      "text/plain": [
       "<AxesSubplot:>"
      ]
     },
     "execution_count": 31,
     "metadata": {},
     "output_type": "execute_result"
    },
    {
     "data": {
      "image/png": "[encoded data removed]",
      "text/plain": [
       "<Figure size 600x400 with 1 Axes>"
      ]
     },
     "metadata": {},
     "output_type": "display_data"
    }
   ],
   "source": [
    "feature_imp = pd.Series(etr_model.feature_importances_, index = X.columns)\n",
    "feature_imp.nlargest(10).plot(kind = 'barh')"
   ]
  },
  {
   "cell_type": "markdown",
   "id": "c8ccf13d",
   "metadata": {},
   "source": [
    "#### Splitting Data into Training and Testing Set"
   ]
  },
  {
   "cell_type": "code",
   "execution_count": 35,
   "id": "ce6e01cd",
   "metadata": {},
   "outputs": [],
   "source": [
    "from sklearn.model_selection import train_test_split\n",
    "X_train, X_test, y_train, y_test = train_test_split(X, y, test_size = 0.2, random_state = 0)"
   ]
  },
  {
   "cell_type": "markdown",
   "id": "595693ba",
   "metadata": {},
   "source": [
    "#### Feature Scaling"
   ]
  },
  {
   "cell_type": "code",
   "execution_count": 36,
   "id": "bd268369",
   "metadata": {},
   "outputs": [],
   "source": [
    "scaler = MinMaxScaler()\n",
    "X_train_scaled = scaler.fit_transform(X_train)"
   ]
  },
  {
   "cell_type": "markdown",
   "id": "ea1859ac",
   "metadata": {},
   "source": [
    "#### Model Fitting"
   ]
  },
  {
   "cell_type": "code",
   "execution_count": 37,
   "id": "c185ac4c",
   "metadata": {},
   "outputs": [
    {
     "data": {
      "text/plain": [
       "TweedieRegressor(link='log', power=2)"
      ]
     },
     "execution_count": 37,
     "metadata": {},
     "output_type": "execute_result"
    }
   ],
   "source": [
    "#Fitting Tweedie Regressor to the dataset\n",
    "tw = TweedieRegressor(power=2, link='log')\n",
    "tw.fit(X_train_scaled, y_train)"
   ]
  },
  {
   "cell_type": "code",
   "execution_count": null,
   "id": "329d0c8e",
   "metadata": {},
   "outputs": [],
   "source": [
    "# scaling test data and making predictions\n",
    "X_test_scaled = scaler.transform(X_test)\n",
    "y_pred = regressor.predict(X_test_scaled)"
   ]
  },
  {
   "cell_type": "code",
   "execution_count": 41,
   "id": "f27fbef0",
   "metadata": {
    "collapsed": true
   },
   "outputs": [
    {
     "data": {
      "text/plain": [
       "array([7.65178187, 7.69163799, 7.52381026, 7.85481565, 6.84607814,\n",
       "       7.53575638, 7.42272341, 6.93933694, 7.08722689, 6.90784615,\n",
       "       7.01331576, 6.31774334, 6.97169817, 7.19295176, 7.02835058,\n",
       "       7.26938655, 7.59860664, 7.2363683 , 7.54136419, 6.89158671,\n",
       "       6.81332923, 6.03112972, 7.1768241 , 7.03456725, 7.50015704,\n",
       "       6.92048584, 7.08861089, 6.78717422, 7.15777585, 7.22708324,\n",
       "       7.01158442, 7.52381026, 7.61649636, 7.64596424, 7.00349348,\n",
       "       7.08816605, 6.00489246, 6.96449015, 7.01305339, 6.97984053,\n",
       "       7.17288132, 7.34716243, 6.9662058 , 7.3215947 , 7.42249848,\n",
       "       7.13821095, 6.98801655, 6.32386694, 7.1194548 , 5.98169381,\n",
       "       7.11158292, 7.00497794, 7.08400607, 6.82348836, 5.89141569,\n",
       "       7.24566969, 6.78062739, 7.77613108, 6.97723315, 6.38689419,\n",
       "       6.2900751 , 7.42120951, 7.53339465, 5.90925857, 5.83022628,\n",
       "       6.86074123, 6.96693904, 7.60473933, 6.05462589, 7.10649973,\n",
       "       6.29056504, 7.0879379 , 6.19021321, 7.74114229, 6.59571248,\n",
       "       6.96346447, 6.32351125, 5.89024818, 7.07806867, 6.32393268,\n",
       "       7.53339465, 7.41752575, 7.05698202, 7.18884263, 7.13540861,\n",
       "       7.14373485, 7.22266043, 5.92179111, 7.58349092, 7.30250112])"
      ]
     },
     "execution_count": 41,
     "metadata": {},
     "output_type": "execute_result"
    }
   ],
   "source": [
    "y_pred"
   ]
  },
  {
   "cell_type": "markdown",
   "id": "eba78448",
   "metadata": {},
   "source": [
    "#### Model Performance"
   ]
  },
  {
   "cell_type": "code",
   "execution_count": 39,
   "id": "c572636c",
   "metadata": {},
   "outputs": [
    {
     "data": {
      "text/plain": [
       "2.5991753750872797"
      ]
     },
     "execution_count": 39,
     "metadata": {},
     "output_type": "execute_result"
    }
   ],
   "source": [
    "from sklearn.metrics import mean_absolute_error\n",
    "mean_absolute_error(y_test, y_pred)"
   ]
  },
  {
   "cell_type": "markdown",
   "id": "c5d19857",
   "metadata": {},
   "source": [
    "#### Cross Validation"
   ]
  },
  {
   "cell_type": "code",
   "execution_count": 40,
   "id": "fe97c13d",
   "metadata": {},
   "outputs": [
    {
     "name": "stdout",
     "output_type": "stream",
     "text": [
      "Cross-validation scores: [2.69437005 3.41187795 3.45221443 2.75416258 2.83939116 2.34131345\n",
      " 2.60432263 2.15100571 3.02286278 2.48580638]\n",
      "Average cross-validation score: 2.7757327120585154\n"
     ]
    }
   ],
   "source": [
    "#Cross Validation\n",
    "from sklearn.model_selection import cross_val_score\n",
    "from sklearn.metrics import make_scorer\n",
    "scores = cross_val_score(tw, X_train_scaled, y_train, cv = 10, scoring = make_scorer(mean_absolute_error))\n",
    "print('Cross-validation scores: {}'.format(scores))\n",
    "print('Average cross-validation score: {}'.format(scores.mean()))"
   ]
  },
  {
   "cell_type": "code",
   "execution_count": null,
   "id": "4cab59de",
   "metadata": {},
   "outputs": [],
   "source": []
  },
  {
   "cell_type": "code",
   "execution_count": null,
   "id": "8565fa2f",
   "metadata": {},
   "outputs": [],
   "source": []
  },
  {
   "cell_type": "code",
   "execution_count": null,
   "id": "090ae2fc",
   "metadata": {},
   "outputs": [],
   "source": []
  },
  {
   "cell_type": "code",
   "execution_count": null,
   "id": "d323c683",
   "metadata": {},
   "outputs": [],
   "source": []
  },
  {
   "cell_type": "code",
   "execution_count": null,
   "id": "adfafdf7",
   "metadata": {},
   "outputs": [],
   "source": []
  },
  {
   "cell_type": "code",
   "execution_count": null,
   "id": "43134437",
   "metadata": {},
   "outputs": [],
   "source": []
  },
  {
   "cell_type": "code",
   "execution_count": null,
   "id": "c8702b81",
   "metadata": {},
   "outputs": [],
   "source": []
  },
  {
   "cell_type": "code",
   "execution_count": null,
   "id": "c09bfbe6",
   "metadata": {},
   "outputs": [],
   "source": []
  },
  {
   "cell_type": "code",
   "execution_count": null,
   "id": "ba3a29ac",
   "metadata": {},
   "outputs": [],
   "source": []
  },
  {
   "cell_type": "code",
   "execution_count": null,
   "id": "a5afdf80",
   "metadata": {},
   "outputs": [],
   "source": []
  },
  {
   "cell_type": "code",
   "execution_count": null,
   "id": "37cbeaa1",
   "metadata": {},
   "outputs": [],
   "source": []
  },
  {
   "cell_type": "code",
   "execution_count": null,
   "id": "b96d6b2c",
   "metadata": {},
   "outputs": [],
   "source": []
  },
  {
   "cell_type": "code",
   "execution_count": null,
   "id": "9d8849e7",
   "metadata": {},
   "outputs": [],
   "source": []
  },
  {
   "cell_type": "code",
   "execution_count": null,
   "id": "e6ee6c07",
   "metadata": {},
   "outputs": [],
   "source": []
  },
  {
   "cell_type": "code",
   "execution_count": null,
   "id": "7d1c0058",
   "metadata": {},
   "outputs": [],
   "source": []
  }
 ],
 "metadata": {
  "kernelspec": {
   "display_name": "Python 3 (ipykernel)",
   "language": "python",
   "name": "python3"
  },
  "language_info": {
   "codemirror_mode": {
    "name": "ipython",
    "version": 3
   },
   "file_extension": ".py",
   "mimetype": "text/x-python",
   "name": "python",
   "nbconvert_exporter": "python",
   "pygments_lexer": "ipython3",
   "version": "3.9.7"
  }
 },
 "nbformat": 4,
 "nbformat_minor": 5
}
