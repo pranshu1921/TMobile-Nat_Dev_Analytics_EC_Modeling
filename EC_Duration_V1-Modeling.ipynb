{
 "cells": [
  {
   "cell_type": "code",
   "execution_count": 1,
   "id": "e8f2c22c",
   "metadata": {},
   "outputs": [],
   "source": [
    "#importing libraries\n",
    "import pandas as pd\n",
    "import numpy as np\n",
    "import seaborn as sns\n",
    "import sklearn\n",
    "from sklearn.linear_model import TweedieRegressor\n",
    "from sklearn.model_selection import cross_validate\n",
    "from sklearn.preprocessing import MinMaxScaler\n",
    "import pickle"
   ]
  },
  {
   "cell_type": "code",
   "execution_count": 2,
   "id": "d06fd952",
   "metadata": {},
   "outputs": [],
   "source": [
    "#import mlflow"
   ]
  },
  {
   "cell_type": "code",
   "execution_count": 3,
   "id": "63e1aa97",
   "metadata": {},
   "outputs": [],
   "source": [
    "# Load data\n",
    "location = 'C:/Users/pranshuk/OneDrive - Logic20 20 Inc/Desktop/EC Prediction Data/New EC Data/data_w_geo_predictors_proj_level_kc.xlsx'\n",
    "data = pd.read_excel(location)"
   ]
  },
  {
   "cell_type": "code",
   "execution_count": 4,
   "id": "faa2160c",
   "metadata": {},
   "outputs": [
    {
     "data": {
      "text/html": [
       "<div>\n",
       "<style scoped>\n",
       "    .dataframe tbody tr th:only-of-type {\n",
       "        vertical-align: middle;\n",
       "    }\n",
       "\n",
       "    .dataframe tbody tr th {\n",
       "        vertical-align: top;\n",
       "    }\n",
       "\n",
       "    .dataframe thead th {\n",
       "        text-align: right;\n",
       "    }\n",
       "</style>\n",
       "<table border=\"1\" class=\"dataframe\">\n",
       "  <thead>\n",
       "    <tr style=\"text-align: right;\">\n",
       "      <th></th>\n",
       "      <th>proj_cd</th>\n",
       "      <th>por_id</th>\n",
       "      <th>site_region_name</th>\n",
       "      <th>site_mkt_name</th>\n",
       "      <th>site_cty_name</th>\n",
       "      <th>site_county_name</th>\n",
       "      <th>site_addr_desc</th>\n",
       "      <th>site_type_desc</th>\n",
       "      <th>site_class_desc</th>\n",
       "      <th>Siterra_And_elemenT_Structure_Owner</th>\n",
       "      <th>...</th>\n",
       "      <th>awater</th>\n",
       "      <th>intptlat</th>\n",
       "      <th>intptlon</th>\n",
       "      <th>Universe_geometry_k</th>\n",
       "      <th>SITETYPE</th>\n",
       "      <th>LEVY_JURIS</th>\n",
       "      <th>PROPTYPE</th>\n",
       "      <th>KCA_ZONING</th>\n",
       "      <th>PREUSE_COD</th>\n",
       "      <th>PREUSE_DES</th>\n",
       "    </tr>\n",
       "  </thead>\n",
       "  <tbody>\n",
       "    <tr>\n",
       "      <th>0</th>\n",
       "      <td>SE04035A - Site Modification (4902665)</td>\n",
       "      <td>POR0348914,POR0256248</td>\n",
       "      <td>WEST</td>\n",
       "      <td>SEATTLE WA</td>\n",
       "      <td>Renton</td>\n",
       "      <td>King</td>\n",
       "      <td>3401 Lind Avenue SW</td>\n",
       "      <td>Structure Non Building</td>\n",
       "      <td>Monopole</td>\n",
       "      <td>Crown Castle T3</td>\n",
       "      <td>...</td>\n",
       "      <td>4544405.0</td>\n",
       "      <td>47.479191</td>\n",
       "      <td>-122.194613</td>\n",
       "      <td>73e4ab58f0aed3fd</td>\n",
       "      <td>C9</td>\n",
       "      <td>RENTON</td>\n",
       "      <td>C</td>\n",
       "      <td>IL</td>\n",
       "      <td>195.0</td>\n",
       "      <td>Warehouse</td>\n",
       "    </tr>\n",
       "    <tr>\n",
       "      <th>1</th>\n",
       "      <td>SE01130C - Site Modification (4902594)</td>\n",
       "      <td>POR0256260</td>\n",
       "      <td>WEST</td>\n",
       "      <td>SEATTLE WA</td>\n",
       "      <td>Seattle</td>\n",
       "      <td>King</td>\n",
       "      <td>9725 3rd Avenue NE</td>\n",
       "      <td>Building</td>\n",
       "      <td>Roof Top Mount</td>\n",
       "      <td>US Wireless, Inc.</td>\n",
       "      <td>...</td>\n",
       "      <td>150761136.0</td>\n",
       "      <td>47.619349</td>\n",
       "      <td>-122.351471</td>\n",
       "      <td>5b1ccf47ec6f6313</td>\n",
       "      <td>C1</td>\n",
       "      <td>SEATTLE</td>\n",
       "      <td>C</td>\n",
       "      <td>SM-NG 145</td>\n",
       "      <td>106.0</td>\n",
       "      <td>Office Building</td>\n",
       "    </tr>\n",
       "    <tr>\n",
       "      <th>2</th>\n",
       "      <td>SE02108E - Site Modification (4946325)</td>\n",
       "      <td>POR0307721,POR0254995,POR0327285</td>\n",
       "      <td>WEST</td>\n",
       "      <td>SEATTLE WA</td>\n",
       "      <td>Seattle</td>\n",
       "      <td>King</td>\n",
       "      <td>3206 SW Admiral Way</td>\n",
       "      <td>Structure Non Building</td>\n",
       "      <td>Wood Pole</td>\n",
       "      <td>City of Seattle</td>\n",
       "      <td>...</td>\n",
       "      <td>150761136.0</td>\n",
       "      <td>47.619349</td>\n",
       "      <td>-122.351471</td>\n",
       "      <td>5b1ccf47ec6f6313</td>\n",
       "      <td>NaN</td>\n",
       "      <td>NaN</td>\n",
       "      <td>NaN</td>\n",
       "      <td>NaN</td>\n",
       "      <td>NaN</td>\n",
       "      <td>NaN</td>\n",
       "    </tr>\n",
       "    <tr>\n",
       "      <th>3</th>\n",
       "      <td>SE03559F - Site Modification (4902649)</td>\n",
       "      <td>POR0260721,POR0308045</td>\n",
       "      <td>WEST</td>\n",
       "      <td>SEATTLE WA</td>\n",
       "      <td>Tukwila</td>\n",
       "      <td>King</td>\n",
       "      <td>4030 S. 140th St</td>\n",
       "      <td>Structure Non Building</td>\n",
       "      <td>Wood Pole</td>\n",
       "      <td>City of Seattle</td>\n",
       "      <td>...</td>\n",
       "      <td>1069363.0</td>\n",
       "      <td>47.476289</td>\n",
       "      <td>-122.275740</td>\n",
       "      <td>9b2abbc615945874</td>\n",
       "      <td>R2</td>\n",
       "      <td>TUKWILA</td>\n",
       "      <td>C</td>\n",
       "      <td>HDR</td>\n",
       "      <td>11.0</td>\n",
       "      <td>Apartment</td>\n",
       "    </tr>\n",
       "    <tr>\n",
       "      <th>4</th>\n",
       "      <td>SE02339D - Site Modification (4902627)</td>\n",
       "      <td>POR0256254</td>\n",
       "      <td>WEST</td>\n",
       "      <td>SEATTLE WA</td>\n",
       "      <td>Redmond</td>\n",
       "      <td>King</td>\n",
       "      <td>18609 NE 65th Street</td>\n",
       "      <td>Structure Non Building</td>\n",
       "      <td>Watertank</td>\n",
       "      <td>City of Redmond</td>\n",
       "      <td>...</td>\n",
       "      <td>1732419.0</td>\n",
       "      <td>47.677925</td>\n",
       "      <td>-122.115336</td>\n",
       "      <td>43129f32c57993d3</td>\n",
       "      <td>U1</td>\n",
       "      <td>REDMOND</td>\n",
       "      <td>C</td>\n",
       "      <td>MP</td>\n",
       "      <td>266.0</td>\n",
       "      <td>Utility, Public</td>\n",
       "    </tr>\n",
       "  </tbody>\n",
       "</table>\n",
       "<p>5 rows × 133 columns</p>\n",
       "</div>"
      ],
      "text/plain": [
       "                                  proj_cd                            por_id  \\\n",
       "0  SE04035A - Site Modification (4902665)             POR0348914,POR0256248   \n",
       "1  SE01130C - Site Modification (4902594)                        POR0256260   \n",
       "2  SE02108E - Site Modification (4946325)  POR0307721,POR0254995,POR0327285   \n",
       "3  SE03559F - Site Modification (4902649)             POR0260721,POR0308045   \n",
       "4  SE02339D - Site Modification (4902627)                        POR0256254   \n",
       "\n",
       "  site_region_name site_mkt_name site_cty_name site_county_name  \\\n",
       "0             WEST    SEATTLE WA        Renton             King   \n",
       "1             WEST    SEATTLE WA       Seattle             King   \n",
       "2             WEST    SEATTLE WA       Seattle             King   \n",
       "3             WEST    SEATTLE WA       Tukwila             King   \n",
       "4             WEST    SEATTLE WA       Redmond             King   \n",
       "\n",
       "         site_addr_desc          site_type_desc site_class_desc  \\\n",
       "0   3401 Lind Avenue SW  Structure Non Building        Monopole   \n",
       "1    9725 3rd Avenue NE                Building  Roof Top Mount   \n",
       "2   3206 SW Admiral Way  Structure Non Building       Wood Pole   \n",
       "3      4030 S. 140th St  Structure Non Building       Wood Pole   \n",
       "4  18609 NE 65th Street  Structure Non Building       Watertank   \n",
       "\n",
       "  Siterra_And_elemenT_Structure_Owner  ...       awater   intptlat  \\\n",
       "0                     Crown Castle T3  ...    4544405.0  47.479191   \n",
       "1                   US Wireless, Inc.  ...  150761136.0  47.619349   \n",
       "2                     City of Seattle  ...  150761136.0  47.619349   \n",
       "3                     City of Seattle  ...    1069363.0  47.476289   \n",
       "4                     City of Redmond  ...    1732419.0  47.677925   \n",
       "\n",
       "     intptlon Universe_geometry_k  SITETYPE  LEVY_JURIS PROPTYPE  KCA_ZONING  \\\n",
       "0 -122.194613    73e4ab58f0aed3fd        C9      RENTON        C          IL   \n",
       "1 -122.351471    5b1ccf47ec6f6313        C1     SEATTLE        C   SM-NG 145   \n",
       "2 -122.351471    5b1ccf47ec6f6313       NaN         NaN      NaN         NaN   \n",
       "3 -122.275740    9b2abbc615945874        R2     TUKWILA        C         HDR   \n",
       "4 -122.115336    43129f32c57993d3        U1     REDMOND        C          MP   \n",
       "\n",
       "   PREUSE_COD       PREUSE_DES  \n",
       "0       195.0        Warehouse  \n",
       "1       106.0  Office Building  \n",
       "2         NaN              NaN  \n",
       "3        11.0        Apartment  \n",
       "4       266.0  Utility, Public  \n",
       "\n",
       "[5 rows x 133 columns]"
      ]
     },
     "execution_count": 4,
     "metadata": {},
     "output_type": "execute_result"
    }
   ],
   "source": [
    "#display rows\n",
    "data.head()"
   ]
  },
  {
   "cell_type": "code",
   "execution_count": 5,
   "id": "42d8e948",
   "metadata": {},
   "outputs": [
    {
     "data": {
      "text/plain": [
       "(449, 133)"
      ]
     },
     "execution_count": 5,
     "metadata": {},
     "output_type": "execute_result"
    }
   ],
   "source": [
    "#data dimensions\n",
    "data.shape"
   ]
  },
  {
   "cell_type": "markdown",
   "id": "37be5b16",
   "metadata": {},
   "source": [
    "### Data Cleansing"
   ]
  },
  {
   "cell_type": "code",
   "execution_count": 9,
   "id": "7637ca54",
   "metadata": {},
   "outputs": [],
   "source": [
    "#store column names\n",
    "data_cols = data.columns"
   ]
  },
  {
   "cell_type": "code",
   "execution_count": 10,
   "id": "06703751",
   "metadata": {},
   "outputs": [],
   "source": [
    "#storing columns with null values separately\n",
    "isnull_cols = {}\n",
    "for feature in data_cols:\n",
    "    if data[feature].isnull().sum() > 0:\n",
    "        isnull_cols[feature] = data[feature].isnull().sum()"
   ]
  },
  {
   "cell_type": "code",
   "execution_count": 11,
   "id": "f6952a0f",
   "metadata": {
    "scrolled": false
   },
   "outputs": [
    {
     "data": {
      "text/plain": [
       "{'min_por_plan_status_dt': 40,\n",
       " 'max_por_plan_status_dt': 40,\n",
       " 'Min_HC_Release_POR': 25,\n",
       " 'id': 60,\n",
       " 'frm_apn': 60,\n",
       " 'orig_apn': 60,\n",
       " 'land_use': 60,\n",
       " 'land_use_name': 65,\n",
       " 'prop_ind': 60,\n",
       " 'property_indicator_name': 60,\n",
       " 'zoning': 60,\n",
       " 'tax_yr': 61,\n",
       " 'tax_amt': 61,\n",
       " 'tot_val': 122,\n",
       " 'imp_val': 160,\n",
       " 'lan_val': 123,\n",
       " 'imp_land_ratio': 161,\n",
       " 'land_value_assessment_type': 60,\n",
       " 'total_value_assessment_type': 60,\n",
       " 'mkt_imp': 160,\n",
       " 'mkt_lan': 123,\n",
       " 'mkt_val': 122,\n",
       " 'mkt_imp_land_ratio': 161,\n",
       " 'assd_imp': 160,\n",
       " 'assd_lan': 123,\n",
       " 'assd_val': 122,\n",
       " 'assd_imp_land_ratio': 161,\n",
       " 'yr_blt': 152,\n",
       " 'eff_yr_blt': 187,\n",
       " 'bld_units': 96,\n",
       " 'units_nbr': 378,\n",
       " 'land_acres': 60,\n",
       " 'land_sq_ft': 60,\n",
       " 'bld_sq_ft': 164,\n",
       " 'bldg_far': 164,\n",
       " 'ubld_sq_ft': 153,\n",
       " 'adj_sq_ft': 204,\n",
       " 'bsmt_sq_ft': 430,\n",
       " 'front_ft': 449,\n",
       " 'depth_ft': 449,\n",
       " 'gf_sq_ft': 409,\n",
       " 'pool': 434,\n",
       " 'energy_use_type': 449,\n",
       " 'water_type': 73,\n",
       " 'fuel_type': 449,\n",
       " 'sewer_type': 449,\n",
       " 'std_addr': 102,\n",
       " 'std_state': 102,\n",
       " 'std_zip': 102,\n",
       " 'census_tr': 67,\n",
       " 'cnty_code': 60,\n",
       " 'state_code': 60,\n",
       " 'geometry_key': 60,\n",
       " 'geometry_k': 60,\n",
       " 'fid': 35,\n",
       " 'statefp': 35,\n",
       " 'placefp': 35,\n",
       " 'placens': 35,\n",
       " 'geoid': 35,\n",
       " 'name': 35,\n",
       " 'namelsad': 35,\n",
       " 'lsad': 35,\n",
       " 'classfp': 35,\n",
       " 'pcicbsa': 35,\n",
       " 'pcinecta': 35,\n",
       " 'mtfcc': 35,\n",
       " 'funcstat': 35,\n",
       " 'aland': 35,\n",
       " 'awater': 35,\n",
       " 'intptlat': 35,\n",
       " 'intptlon': 35,\n",
       " 'Universe_geometry_k': 35,\n",
       " 'SITETYPE': 89,\n",
       " 'LEVY_JURIS': 86,\n",
       " 'PROPTYPE': 59,\n",
       " 'KCA_ZONING': 59,\n",
       " 'PREUSE_COD': 59,\n",
       " 'PREUSE_DES': 67}"
      ]
     },
     "execution_count": 11,
     "metadata": {},
     "output_type": "execute_result"
    }
   ],
   "source": [
    "#dictionary containing null counts \n",
    "isnull_cols"
   ]
  },
  {
   "cell_type": "code",
   "execution_count": 12,
   "id": "1e651d46",
   "metadata": {},
   "outputs": [],
   "source": [
    "# calculating missing values percentage\n",
    "percent_missing = data.isnull().sum() / len(data) * 100"
   ]
  },
  {
   "cell_type": "code",
   "execution_count": 13,
   "id": "70578c65",
   "metadata": {},
   "outputs": [
    {
     "data": {
      "text/plain": [
       "proj_cd              0.000000\n",
       "por_id               0.000000\n",
       "site_region_name     0.000000\n",
       "site_mkt_name        0.000000\n",
       "site_cty_name        0.000000\n",
       "                      ...    \n",
       "LEVY_JURIS          19.153675\n",
       "PROPTYPE            13.140312\n",
       "KCA_ZONING          13.140312\n",
       "PREUSE_COD          13.140312\n",
       "PREUSE_DES          14.922049\n",
       "Length: 133, dtype: float64"
      ]
     },
     "execution_count": 13,
     "metadata": {},
     "output_type": "execute_result"
    }
   ],
   "source": [
    "percent_missing"
   ]
  },
  {
   "cell_type": "code",
   "execution_count": 14,
   "id": "2d063ba4",
   "metadata": {},
   "outputs": [
    {
     "data": {
      "text/plain": [
       "proj_cd              object\n",
       "por_id               object\n",
       "site_region_name     object\n",
       "site_mkt_name        object\n",
       "site_cty_name        object\n",
       "                     ...   \n",
       "LEVY_JURIS           object\n",
       "PROPTYPE             object\n",
       "KCA_ZONING           object\n",
       "PREUSE_COD          float64\n",
       "PREUSE_DES           object\n",
       "Length: 133, dtype: object"
      ]
     },
     "execution_count": 14,
     "metadata": {},
     "output_type": "execute_result"
    }
   ],
   "source": [
    "#checking datatypes\n",
    "data.dtypes"
   ]
  },
  {
   "cell_type": "code",
   "execution_count": 15,
   "id": "6f3c2aff",
   "metadata": {},
   "outputs": [],
   "source": [
    "#Final features for the dataset\n",
    "data_v1 = data[['site_type_desc','site_class_desc','MLA_Partner','MLA_Flag','isurban','EC Duration',\n",
    "            'Category_v_Anchor','Category_v_L600','Category_v_Capacity_Other','max_proj_l600_flg','max_proj_2500_flg',\n",
    "            'land_use_name','property_indicator_name','tax_amt','yr_blt','land_acres','std_city']]"
   ]
  },
  {
   "cell_type": "code",
   "execution_count": 17,
   "id": "3ad44571",
   "metadata": {},
   "outputs": [
    {
     "data": {
      "text/plain": [
       "dtype('float64')"
      ]
     },
     "execution_count": 17,
     "metadata": {},
     "output_type": "execute_result"
    }
   ],
   "source": [
    "data_v1['EC Duration'].dtype"
   ]
  },
  {
   "cell_type": "code",
   "execution_count": 16,
   "id": "66b48740",
   "metadata": {},
   "outputs": [
    {
     "data": {
      "text/html": [
       "<div>\n",
       "<style scoped>\n",
       "    .dataframe tbody tr th:only-of-type {\n",
       "        vertical-align: middle;\n",
       "    }\n",
       "\n",
       "    .dataframe tbody tr th {\n",
       "        vertical-align: top;\n",
       "    }\n",
       "\n",
       "    .dataframe thead th {\n",
       "        text-align: right;\n",
       "    }\n",
       "</style>\n",
       "<table border=\"1\" class=\"dataframe\">\n",
       "  <thead>\n",
       "    <tr style=\"text-align: right;\">\n",
       "      <th></th>\n",
       "      <th>site_type_desc</th>\n",
       "      <th>site_class_desc</th>\n",
       "      <th>MLA_Partner</th>\n",
       "      <th>MLA_Flag</th>\n",
       "      <th>isurban</th>\n",
       "      <th>EC Duration</th>\n",
       "      <th>Category_v_Anchor</th>\n",
       "      <th>Category_v_L600</th>\n",
       "      <th>Category_v_Capacity_Other</th>\n",
       "      <th>max_proj_l600_flg</th>\n",
       "      <th>max_proj_2500_flg</th>\n",
       "      <th>land_use_name</th>\n",
       "      <th>property_indicator_name</th>\n",
       "      <th>tax_amt</th>\n",
       "      <th>yr_blt</th>\n",
       "      <th>land_acres</th>\n",
       "      <th>std_city</th>\n",
       "    </tr>\n",
       "  </thead>\n",
       "  <tbody>\n",
       "    <tr>\n",
       "      <th>0</th>\n",
       "      <td>Structure Non Building</td>\n",
       "      <td>Monopole</td>\n",
       "      <td>Other</td>\n",
       "      <td>Y</td>\n",
       "      <td>1</td>\n",
       "      <td>5.9</td>\n",
       "      <td>1</td>\n",
       "      <td>0</td>\n",
       "      <td>1</td>\n",
       "      <td>0</td>\n",
       "      <td>1</td>\n",
       "      <td>WAREHOUSE</td>\n",
       "      <td>WAREHOUSE</td>\n",
       "      <td>206166.61</td>\n",
       "      <td>1986.0</td>\n",
       "      <td>5.1496</td>\n",
       "      <td>RENTON</td>\n",
       "    </tr>\n",
       "    <tr>\n",
       "      <th>1</th>\n",
       "      <td>Building</td>\n",
       "      <td>Roof Top Mount</td>\n",
       "      <td>Other</td>\n",
       "      <td>N</td>\n",
       "      <td>1</td>\n",
       "      <td>8.8</td>\n",
       "      <td>1</td>\n",
       "      <td>0</td>\n",
       "      <td>0</td>\n",
       "      <td>0</td>\n",
       "      <td>1</td>\n",
       "      <td>OFFICE BUILDING</td>\n",
       "      <td>OFFICE BUILDING</td>\n",
       "      <td>258186.06</td>\n",
       "      <td>1979.0</td>\n",
       "      <td>3.2108</td>\n",
       "      <td>SEATTLE</td>\n",
       "    </tr>\n",
       "    <tr>\n",
       "      <th>2</th>\n",
       "      <td>Structure Non Building</td>\n",
       "      <td>Wood Pole</td>\n",
       "      <td>Other</td>\n",
       "      <td>N</td>\n",
       "      <td>1</td>\n",
       "      <td>12.7</td>\n",
       "      <td>1</td>\n",
       "      <td>1</td>\n",
       "      <td>1</td>\n",
       "      <td>1</td>\n",
       "      <td>1</td>\n",
       "      <td>NaN</td>\n",
       "      <td>NaN</td>\n",
       "      <td>NaN</td>\n",
       "      <td>NaN</td>\n",
       "      <td>NaN</td>\n",
       "      <td>SEATTLE</td>\n",
       "    </tr>\n",
       "    <tr>\n",
       "      <th>3</th>\n",
       "      <td>Structure Non Building</td>\n",
       "      <td>Wood Pole</td>\n",
       "      <td>Other</td>\n",
       "      <td>N</td>\n",
       "      <td>1</td>\n",
       "      <td>10.6</td>\n",
       "      <td>1</td>\n",
       "      <td>1</td>\n",
       "      <td>0</td>\n",
       "      <td>1</td>\n",
       "      <td>1</td>\n",
       "      <td>APARTMENT</td>\n",
       "      <td>APARTMENT</td>\n",
       "      <td>5630.69</td>\n",
       "      <td>NaN</td>\n",
       "      <td>0.3857</td>\n",
       "      <td>TUKWILA</td>\n",
       "    </tr>\n",
       "    <tr>\n",
       "      <th>4</th>\n",
       "      <td>Structure Non Building</td>\n",
       "      <td>Watertank</td>\n",
       "      <td>Other</td>\n",
       "      <td>N</td>\n",
       "      <td>1</td>\n",
       "      <td>4.6</td>\n",
       "      <td>1</td>\n",
       "      <td>0</td>\n",
       "      <td>0</td>\n",
       "      <td>0</td>\n",
       "      <td>1</td>\n",
       "      <td>UTILITIES</td>\n",
       "      <td>UTILITIES</td>\n",
       "      <td>17.63</td>\n",
       "      <td>NaN</td>\n",
       "      <td>0.8844</td>\n",
       "      <td>REDMOND</td>\n",
       "    </tr>\n",
       "    <tr>\n",
       "      <th>...</th>\n",
       "      <td>...</td>\n",
       "      <td>...</td>\n",
       "      <td>...</td>\n",
       "      <td>...</td>\n",
       "      <td>...</td>\n",
       "      <td>...</td>\n",
       "      <td>...</td>\n",
       "      <td>...</td>\n",
       "      <td>...</td>\n",
       "      <td>...</td>\n",
       "      <td>...</td>\n",
       "      <td>...</td>\n",
       "      <td>...</td>\n",
       "      <td>...</td>\n",
       "      <td>...</td>\n",
       "      <td>...</td>\n",
       "      <td>...</td>\n",
       "    </tr>\n",
       "    <tr>\n",
       "      <th>444</th>\n",
       "      <td>Structure Non Building</td>\n",
       "      <td>Utility Lattice Tower</td>\n",
       "      <td>Other</td>\n",
       "      <td>N</td>\n",
       "      <td>1</td>\n",
       "      <td>6.1</td>\n",
       "      <td>0</td>\n",
       "      <td>1</td>\n",
       "      <td>0</td>\n",
       "      <td>1</td>\n",
       "      <td>0</td>\n",
       "      <td>NaN</td>\n",
       "      <td>MISCELLANEOUS</td>\n",
       "      <td>11.89</td>\n",
       "      <td>NaN</td>\n",
       "      <td>0.2415</td>\n",
       "      <td>RENTON</td>\n",
       "    </tr>\n",
       "    <tr>\n",
       "      <th>445</th>\n",
       "      <td>Structure Non Building</td>\n",
       "      <td>Self Support Tower</td>\n",
       "      <td>Crown Castle</td>\n",
       "      <td>Y</td>\n",
       "      <td>0</td>\n",
       "      <td>8.6</td>\n",
       "      <td>1</td>\n",
       "      <td>0</td>\n",
       "      <td>0</td>\n",
       "      <td>0</td>\n",
       "      <td>1</td>\n",
       "      <td>RESIDENTIAL ACREAGE</td>\n",
       "      <td>VACANT</td>\n",
       "      <td>283.12</td>\n",
       "      <td>NaN</td>\n",
       "      <td>49.2300</td>\n",
       "      <td>FALL CITY</td>\n",
       "    </tr>\n",
       "    <tr>\n",
       "      <th>446</th>\n",
       "      <td>Building</td>\n",
       "      <td>Roof Top Mount</td>\n",
       "      <td>Other</td>\n",
       "      <td>N</td>\n",
       "      <td>1</td>\n",
       "      <td>5.1</td>\n",
       "      <td>1</td>\n",
       "      <td>0</td>\n",
       "      <td>1</td>\n",
       "      <td>0</td>\n",
       "      <td>1</td>\n",
       "      <td>TECHNOLOGICAL INDUSTRY</td>\n",
       "      <td>INDUSTRIAL</td>\n",
       "      <td>161150.33</td>\n",
       "      <td>1987.0</td>\n",
       "      <td>4.3243</td>\n",
       "      <td>BOTHELL</td>\n",
       "    </tr>\n",
       "    <tr>\n",
       "      <th>447</th>\n",
       "      <td>Building</td>\n",
       "      <td>In Building</td>\n",
       "      <td>Other</td>\n",
       "      <td>N</td>\n",
       "      <td>1</td>\n",
       "      <td>0.9</td>\n",
       "      <td>0</td>\n",
       "      <td>0</td>\n",
       "      <td>1</td>\n",
       "      <td>0</td>\n",
       "      <td>0</td>\n",
       "      <td>PARKING STRUCTURE</td>\n",
       "      <td>PARKING</td>\n",
       "      <td>22906.58</td>\n",
       "      <td>NaN</td>\n",
       "      <td>0.7920</td>\n",
       "      <td>BELLEVUE</td>\n",
       "    </tr>\n",
       "    <tr>\n",
       "      <th>448</th>\n",
       "      <td>Structure Non Building</td>\n",
       "      <td>Monopole</td>\n",
       "      <td>Other</td>\n",
       "      <td>Y</td>\n",
       "      <td>1</td>\n",
       "      <td>0.9</td>\n",
       "      <td>0</td>\n",
       "      <td>1</td>\n",
       "      <td>0</td>\n",
       "      <td>1</td>\n",
       "      <td>0</td>\n",
       "      <td>INDUSTRIAL LOT</td>\n",
       "      <td>VACANT</td>\n",
       "      <td>19601.85</td>\n",
       "      <td>NaN</td>\n",
       "      <td>0.3060</td>\n",
       "      <td>SEATTLE</td>\n",
       "    </tr>\n",
       "  </tbody>\n",
       "</table>\n",
       "<p>449 rows × 17 columns</p>\n",
       "</div>"
      ],
      "text/plain": [
       "             site_type_desc        site_class_desc   MLA_Partner MLA_Flag  \\\n",
       "0    Structure Non Building               Monopole         Other        Y   \n",
       "1                  Building         Roof Top Mount         Other        N   \n",
       "2    Structure Non Building              Wood Pole         Other        N   \n",
       "3    Structure Non Building              Wood Pole         Other        N   \n",
       "4    Structure Non Building              Watertank         Other        N   \n",
       "..                      ...                    ...           ...      ...   \n",
       "444  Structure Non Building  Utility Lattice Tower         Other        N   \n",
       "445  Structure Non Building     Self Support Tower  Crown Castle        Y   \n",
       "446                Building         Roof Top Mount         Other        N   \n",
       "447                Building            In Building         Other        N   \n",
       "448  Structure Non Building               Monopole         Other        Y   \n",
       "\n",
       "     isurban  EC Duration  Category_v_Anchor  Category_v_L600  \\\n",
       "0          1          5.9                  1                0   \n",
       "1          1          8.8                  1                0   \n",
       "2          1         12.7                  1                1   \n",
       "3          1         10.6                  1                1   \n",
       "4          1          4.6                  1                0   \n",
       "..       ...          ...                ...              ...   \n",
       "444        1          6.1                  0                1   \n",
       "445        0          8.6                  1                0   \n",
       "446        1          5.1                  1                0   \n",
       "447        1          0.9                  0                0   \n",
       "448        1          0.9                  0                1   \n",
       "\n",
       "     Category_v_Capacity_Other  max_proj_l600_flg  max_proj_2500_flg  \\\n",
       "0                            1                  0                  1   \n",
       "1                            0                  0                  1   \n",
       "2                            1                  1                  1   \n",
       "3                            0                  1                  1   \n",
       "4                            0                  0                  1   \n",
       "..                         ...                ...                ...   \n",
       "444                          0                  1                  0   \n",
       "445                          0                  0                  1   \n",
       "446                          1                  0                  1   \n",
       "447                          1                  0                  0   \n",
       "448                          0                  1                  0   \n",
       "\n",
       "              land_use_name property_indicator_name    tax_amt  yr_blt  \\\n",
       "0                 WAREHOUSE               WAREHOUSE  206166.61  1986.0   \n",
       "1           OFFICE BUILDING         OFFICE BUILDING  258186.06  1979.0   \n",
       "2                       NaN                     NaN        NaN     NaN   \n",
       "3                 APARTMENT               APARTMENT    5630.69     NaN   \n",
       "4                 UTILITIES               UTILITIES      17.63     NaN   \n",
       "..                      ...                     ...        ...     ...   \n",
       "444                     NaN           MISCELLANEOUS      11.89     NaN   \n",
       "445     RESIDENTIAL ACREAGE                  VACANT     283.12     NaN   \n",
       "446  TECHNOLOGICAL INDUSTRY              INDUSTRIAL  161150.33  1987.0   \n",
       "447       PARKING STRUCTURE                 PARKING   22906.58     NaN   \n",
       "448          INDUSTRIAL LOT                  VACANT   19601.85     NaN   \n",
       "\n",
       "     land_acres   std_city  \n",
       "0        5.1496     RENTON  \n",
       "1        3.2108    SEATTLE  \n",
       "2           NaN    SEATTLE  \n",
       "3        0.3857    TUKWILA  \n",
       "4        0.8844    REDMOND  \n",
       "..          ...        ...  \n",
       "444      0.2415     RENTON  \n",
       "445     49.2300  FALL CITY  \n",
       "446      4.3243    BOTHELL  \n",
       "447      0.7920   BELLEVUE  \n",
       "448      0.3060    SEATTLE  \n",
       "\n",
       "[449 rows x 17 columns]"
      ]
     },
     "execution_count": 16,
     "metadata": {},
     "output_type": "execute_result"
    }
   ],
   "source": [
    "data_v1"
   ]
  },
  {
   "cell_type": "code",
   "execution_count": 18,
   "id": "ef07690d",
   "metadata": {},
   "outputs": [
    {
     "name": "stdout",
     "output_type": "stream",
     "text": [
      "Number of categorical features: 7\n",
      "Categorical features: ['site_type_desc', 'site_class_desc', 'MLA_Partner', 'MLA_Flag', 'land_use_name', 'property_indicator_name', 'std_city']\n"
     ]
    }
   ],
   "source": [
    "#separating categorical features in the dataset\n",
    "categorical_features = [column_name for column_name in data_v1.columns if data_v1[column_name].dtype == 'O']\n",
    "print('Number of categorical features: {}'.format(len(categorical_features)))\n",
    "print('Categorical features: {}'.format(list(categorical_features)))"
   ]
  },
  {
   "cell_type": "code",
   "execution_count": 19,
   "id": "0919f23e",
   "metadata": {},
   "outputs": [
    {
     "name": "stdout",
     "output_type": "stream",
     "text": [
      "Number of numerical features: 10\n",
      "Numerical Features: ['isurban', 'EC Duration', 'Category_v_Anchor', 'Category_v_L600', 'Category_v_Capacity_Other', 'max_proj_l600_flg', 'max_proj_2500_flg', 'tax_amt', 'yr_blt', 'land_acres']\n"
     ]
    }
   ],
   "source": [
    "#Separating numerical features in the dataset\n",
    "numerical_features = [column_name for column_name in data_v1.columns if data_v1[column_name].dtype != 'O']\n",
    "print('Number of numerical features: {}'.format(len(numerical_features)))\n",
    "print('Numerical Features:', list(numerical_features))"
   ]
  },
  {
   "cell_type": "code",
   "execution_count": 20,
   "id": "3d9cdc4c",
   "metadata": {},
   "outputs": [
    {
     "name": "stdout",
     "output_type": "stream",
     "text": [
      "site_type_desc : 2\n",
      "site_class_desc : 14\n",
      "MLA_Partner : 3\n",
      "MLA_Flag : 2\n",
      "land_use_name : 57\n",
      "property_indicator_name : 24\n",
      "std_city : 36\n"
     ]
    }
   ],
   "source": [
    "#checking cardinality\n",
    "for each_feature in categorical_features:\n",
    "    unique_values = len(data[each_feature].unique())\n",
    "    print('{} : {}'.format(each_feature, unique_values))"
   ]
  },
  {
   "cell_type": "markdown",
   "id": "490414f4",
   "metadata": {},
   "source": [
    "#### Handling Missing Values"
   ]
  },
  {
   "cell_type": "code",
   "execution_count": 22,
   "id": "fb241758",
   "metadata": {},
   "outputs": [
    {
     "data": {
      "text/plain": [
       "site_type_desc                 0\n",
       "site_class_desc                0\n",
       "MLA_Partner                    0\n",
       "MLA_Flag                       0\n",
       "isurban                        0\n",
       "EC Duration                    0\n",
       "Category_v_Anchor              0\n",
       "Category_v_L600                0\n",
       "Category_v_Capacity_Other      0\n",
       "max_proj_l600_flg              0\n",
       "max_proj_2500_flg              0\n",
       "land_use_name                 65\n",
       "property_indicator_name       60\n",
       "tax_amt                       61\n",
       "yr_blt                       152\n",
       "land_acres                    60\n",
       "std_city                       0\n",
       "dtype: int64"
      ]
     },
     "execution_count": 22,
     "metadata": {},
     "output_type": "execute_result"
    }
   ],
   "source": [
    "#checking null values\n",
    "data_v1.isnull().sum()"
   ]
  },
  {
   "cell_type": "code",
   "execution_count": null,
   "id": "6b526734",
   "metadata": {},
   "outputs": [],
   "source": [
    "# pip install sweetviz\n",
    "# Importing Sweetviz for analysis\n",
    "import sweetviz as sv"
   ]
  },
  {
   "cell_type": "code",
   "execution_count": null,
   "id": "a4fbf3e0",
   "metadata": {},
   "outputs": [],
   "source": [
    "#generating report around data \n",
    "report = sv.analyze(source=data_v1,target_feat='EC Duration', pairwise_analysis='on')\n",
    "report.show_html('EC_v1_Analysis.html')"
   ]
  },
  {
   "cell_type": "code",
   "execution_count": 23,
   "id": "5631d738",
   "metadata": {},
   "outputs": [
    {
     "name": "stderr",
     "output_type": "stream",
     "text": [
      "C:\\Users\\pranshuk\\anaconda3\\lib\\site-packages\\pandas\\core\\generic.py:6392: SettingWithCopyWarning: \n",
      "A value is trying to be set on a copy of a slice from a DataFrame\n",
      "\n",
      "See the caveats in the documentation: https://pandas.pydata.org/pandas-docs/stable/user_guide/indexing.html#returning-a-view-versus-a-copy\n",
      "  return self._update_inplace(result)\n"
     ]
    }
   ],
   "source": [
    "# substituting null values with the majority class 'APARTMENT'\n",
    "data_v1['land_use_name'].fillna('APARTMENT', inplace = True)"
   ]
  },
  {
   "cell_type": "code",
   "execution_count": 24,
   "id": "5f4c2c00",
   "metadata": {},
   "outputs": [],
   "source": [
    "# substituting null values with the majority class 'APARTMENT'\n",
    "data_v1['property_indicator_name'].fillna('APARTMENT', inplace = True)"
   ]
  },
  {
   "cell_type": "code",
   "execution_count": 25,
   "id": "8cc2426f",
   "metadata": {},
   "outputs": [
    {
     "data": {
      "text/plain": [
       "site_type_desc                 0\n",
       "site_class_desc                0\n",
       "MLA_Partner                    0\n",
       "MLA_Flag                       0\n",
       "isurban                        0\n",
       "EC Duration                    0\n",
       "Category_v_Anchor              0\n",
       "Category_v_L600                0\n",
       "Category_v_Capacity_Other      0\n",
       "max_proj_l600_flg              0\n",
       "max_proj_2500_flg              0\n",
       "land_use_name                  0\n",
       "property_indicator_name        0\n",
       "tax_amt                       61\n",
       "yr_blt                       152\n",
       "land_acres                    60\n",
       "std_city                       0\n",
       "dtype: int64"
      ]
     },
     "execution_count": 25,
     "metadata": {},
     "output_type": "execute_result"
    }
   ],
   "source": [
    "data_v1.isnull().sum()"
   ]
  },
  {
   "cell_type": "markdown",
   "id": "1875b839",
   "metadata": {},
   "source": [
    "#### Outlier Identification and Treatment"
   ]
  },
  {
   "cell_type": "code",
   "execution_count": 26,
   "id": "cea8f33c",
   "metadata": {},
   "outputs": [
    {
     "name": "stderr",
     "output_type": "stream",
     "text": [
      "C:\\Users\\pranshuk\\anaconda3\\lib\\site-packages\\seaborn\\_decorators.py:36: FutureWarning: Pass the following variable as a keyword arg: x. From version 0.12, the only valid positional argument will be `data`, and passing other arguments without an explicit keyword will result in an error or misinterpretation.\n",
      "  warnings.warn(\n"
     ]
    },
    {
     "data": {
      "text/plain": [
       "<AxesSubplot:xlabel='tax_amt'>"
      ]
     },
     "execution_count": 26,
     "metadata": {},
     "output_type": "execute_result"
    },
    {
     "data": {
      "image/png": "[encoded data removed]",
      "text/plain": [
       "<Figure size 432x288 with 1 Axes>"
      ]
     },
     "metadata": {
      "needs_background": "light"
     },
     "output_type": "display_data"
    }
   ],
   "source": [
    "#using boxplot to visualize outliers\n",
    "sns.boxplot(data_v1['tax_amt'])"
   ]
  },
  {
   "cell_type": "code",
   "execution_count": 27,
   "id": "f422fa04",
   "metadata": {},
   "outputs": [
    {
     "name": "stderr",
     "output_type": "stream",
     "text": [
      "C:\\Users\\pranshuk\\anaconda3\\lib\\site-packages\\seaborn\\_decorators.py:36: FutureWarning: Pass the following variable as a keyword arg: x. From version 0.12, the only valid positional argument will be `data`, and passing other arguments without an explicit keyword will result in an error or misinterpretation.\n",
      "  warnings.warn(\n"
     ]
    },
    {
     "data": {
      "text/plain": [
       "<AxesSubplot:xlabel='yr_blt'>"
      ]
     },
     "execution_count": 27,
     "metadata": {},
     "output_type": "execute_result"
    },
    {
     "data": {
      "image/png": "[encoded data removed]",
      "text/plain": [
       "<Figure size 432x288 with 1 Axes>"
      ]
     },
     "metadata": {
      "needs_background": "light"
     },
     "output_type": "display_data"
    }
   ],
   "source": [
    "sns.boxplot(data_v1['yr_blt'])"
   ]
  },
  {
   "cell_type": "code",
   "execution_count": 28,
   "id": "0d332656",
   "metadata": {},
   "outputs": [
    {
     "name": "stderr",
     "output_type": "stream",
     "text": [
      "C:\\Users\\pranshuk\\anaconda3\\lib\\site-packages\\seaborn\\_decorators.py:36: FutureWarning: Pass the following variable as a keyword arg: x. From version 0.12, the only valid positional argument will be `data`, and passing other arguments without an explicit keyword will result in an error or misinterpretation.\n",
      "  warnings.warn(\n"
     ]
    },
    {
     "data": {
      "text/plain": [
       "<AxesSubplot:xlabel='land_acres'>"
      ]
     },
     "execution_count": 28,
     "metadata": {},
     "output_type": "execute_result"
    },
    {
     "data": {
      "image/png": "[encoded data removed]",
      "text/plain": [
       "<Figure size 432x288 with 1 Axes>"
      ]
     },
     "metadata": {
      "needs_background": "light"
     },
     "output_type": "display_data"
    }
   ],
   "source": [
    "sns.boxplot(data_v1['land_acres'])\n"
   ]
  },
  {
   "cell_type": "code",
   "execution_count": 29,
   "id": "67fd3af8",
   "metadata": {},
   "outputs": [
    {
     "name": "stderr",
     "output_type": "stream",
     "text": [
      "C:\\Users\\pranshuk\\anaconda3\\lib\\site-packages\\pandas\\core\\indexing.py:1817: SettingWithCopyWarning: \n",
      "A value is trying to be set on a copy of a slice from a DataFrame.\n",
      "Try using .loc[row_indexer,col_indexer] = value instead\n",
      "\n",
      "See the caveats in the documentation: https://pandas.pydata.org/pandas-docs/stable/user_guide/indexing.html#returning-a-view-versus-a-copy\n",
      "  self._setitem_single_column(loc, value, pi)\n"
     ]
    }
   ],
   "source": [
    "#Outliers Treatment\n",
    "\n",
    "features_with_outliers = ['tax_amt','yr_blt','land_acres']\n",
    "for feature in features_with_outliers:\n",
    "    q1 = data_v1[feature].quantile(.25)\n",
    "    q3 = data_v1[feature].quantile(.75)\n",
    "    IQR = q3 - q1\n",
    "    lower_limit = q1 - (IQR*1.5)\n",
    "    upper_limit = q3 + (IQR*1.5)\n",
    "    data_v1.loc[data_v1[feature] < lower_limit, feature] = lower_limit\n",
    "    data_v1.loc[data_v1[feature] > upper_limit, feature] = upper_limit"
   ]
  },
  {
   "cell_type": "markdown",
   "id": "08b65bb6",
   "metadata": {},
   "source": [
    "Since we have treated outliers successfully, it should be safe to impute missing values using 'mean'"
   ]
  },
  {
   "cell_type": "code",
   "execution_count": 30,
   "id": "3d353f34",
   "metadata": {},
   "outputs": [
    {
     "name": "stderr",
     "output_type": "stream",
     "text": [
      "C:\\Users\\pranshuk\\anaconda3\\lib\\site-packages\\pandas\\core\\generic.py:6392: SettingWithCopyWarning: \n",
      "A value is trying to be set on a copy of a slice from a DataFrame\n",
      "\n",
      "See the caveats in the documentation: https://pandas.pydata.org/pandas-docs/stable/user_guide/indexing.html#returning-a-view-versus-a-copy\n",
      "  return self._update_inplace(result)\n"
     ]
    }
   ],
   "source": [
    "#treating null values with 'median' value due to the presence of outliers\n",
    "data_v1['tax_amt'].fillna(data_v1['tax_amt'].mean(), inplace = True)\n",
    "data_v1['yr_blt'].fillna(data_v1['tax_amt'].mean(), inplace = True)\n",
    "data_v1['land_acres'].fillna(data_v1['land_acres'].mean(), inplace = True)"
   ]
  },
  {
   "cell_type": "code",
   "execution_count": 31,
   "id": "581005bb",
   "metadata": {},
   "outputs": [
    {
     "data": {
      "text/plain": [
       "tax_amt       0\n",
       "yr_blt        0\n",
       "land_acres    0\n",
       "dtype: int64"
      ]
     },
     "execution_count": 31,
     "metadata": {},
     "output_type": "execute_result"
    }
   ],
   "source": [
    "#confirming null values\n",
    "data_v1[['tax_amt','yr_blt','land_acres']].isnull().sum()"
   ]
  },
  {
   "cell_type": "markdown",
   "id": "443bb7de",
   "metadata": {},
   "source": [
    "#### One-hot Encoding"
   ]
  },
  {
   "cell_type": "code",
   "execution_count": 32,
   "id": "ba42742a",
   "metadata": {},
   "outputs": [],
   "source": [
    "data_v1_oh = data_v1.copy()\n",
    "\n",
    "data_v1_oh = pd.get_dummies(data_v1_oh, columns= ['site_type_desc', 'site_class_desc', 'MLA_Partner', 'MLA_Flag', 'land_use_name', 'property_indicator_name', 'std_city'])"
   ]
  },
  {
   "cell_type": "markdown",
   "id": "418fbb91",
   "metadata": {},
   "source": [
    "#### Separating Target and Features"
   ]
  },
  {
   "cell_type": "code",
   "execution_count": 35,
   "id": "6f1fa0b6",
   "metadata": {},
   "outputs": [],
   "source": [
    "X = data_v1_oh.drop(['EC Duration'], axis = 1)\n",
    "y = data_v1_oh['EC Duration']"
   ]
  },
  {
   "cell_type": "markdown",
   "id": "d405b463",
   "metadata": {},
   "source": [
    "### Model Training"
   ]
  },
  {
   "cell_type": "markdown",
   "id": "72d53c05",
   "metadata": {},
   "source": [
    "#### Evaluating Model Performance"
   ]
  },
  {
   "cell_type": "markdown",
   "id": "d8de905e",
   "metadata": {},
   "source": [
    "#### Feature Importance\n",
    "We will be using ExtraTreesRegressor class for Feature Importance. This class implements a meta estimator that fits a number of randomized decision trees on various samples of the dataset and uses averaging to improve the predictive accuracy and control over-fitting."
   ]
  },
  {
   "cell_type": "code",
   "execution_count": 36,
   "id": "e97987e2",
   "metadata": {},
   "outputs": [
    {
     "data": {
      "text/plain": [
       "array([9.28749611e-03, 1.11471831e-01, 2.47644643e-02, 1.04786373e-02,\n",
       "       2.53342219e-02, 8.40927848e-02, 6.69838530e-02, 7.64196561e-02,\n",
       "       4.29648373e-02, 2.59834949e-03, 2.44471839e-03, 4.50976778e-04,\n",
       "       1.79876031e-04, 1.59873125e-02, 5.66174890e-03, 5.47851013e-03,\n",
       "       2.20235775e-02, 2.52942758e-04, 6.39054651e-04, 2.96097704e-05,\n",
       "       4.41755203e-03, 4.10459248e-03, 3.72337368e-03, 3.73292398e-03,\n",
       "       1.98877008e-02, 1.92874744e-02, 3.41397154e-03, 3.63098123e-03,\n",
       "       3.75208720e-03, 4.09635449e-03, 1.28732762e-02, 9.69812255e-05,\n",
       "       2.03512451e-03, 1.75770063e-04, 4.37358231e-06, 4.12802793e-03,\n",
       "       1.03149267e-03, 3.40012339e-03, 8.20950700e-03, 2.07417806e-03,\n",
       "       2.24434892e-03, 2.32198854e-04, 1.58433801e-05, 2.79712776e-05,\n",
       "       7.35390304e-05, 2.99644497e-04, 1.73498287e-03, 3.14319737e-05,\n",
       "       2.26056589e-03, 1.21643387e-03, 7.41662085e-04, 1.57128533e-03,\n",
       "       1.01047208e-02, 1.25366302e-02, 1.52917178e-02, 1.52211844e-03,\n",
       "       1.40341460e-03, 2.22734044e-05, 5.10503690e-04, 9.81103821e-03,\n",
       "       9.78635189e-04, 6.16532152e-06, 9.38852032e-06, 1.05787755e-03,\n",
       "       3.97653481e-04, 3.11207341e-03, 3.60303838e-05, 1.57553629e-02,\n",
       "       4.11575801e-05, 7.27278233e-03, 1.59134650e-03, 8.30122875e-04,\n",
       "       3.19824283e-04, 3.89147405e-04, 0.00000000e+00, 3.15463988e-03,\n",
       "       5.26609716e-03, 7.45090560e-04, 1.68701965e-05, 2.68068573e-03,\n",
       "       4.74132373e-03, 7.80374393e-04, 1.75499649e-05, 1.13779084e-03,\n",
       "       1.23202251e-02, 3.98692313e-03, 1.31748372e-06, 8.70250080e-04,\n",
       "       1.73556472e-02, 8.52086770e-04, 1.02801035e-03, 2.38471066e-03,\n",
       "       9.89564617e-04, 3.27048110e-03, 2.93919474e-03, 1.58115853e-03,\n",
       "       8.93104724e-04, 3.46156605e-04, 7.36610732e-04, 2.29867033e-03,\n",
       "       8.79920602e-03, 1.15392815e-03, 3.24949626e-03, 9.44984223e-04,\n",
       "       3.93030073e-03, 3.61629845e-05, 1.36199204e-02, 1.12801700e-03,\n",
       "       1.53635186e-03, 8.89483309e-04, 7.27378215e-03, 1.31209379e-03,\n",
       "       6.71055603e-03, 7.07606208e-04, 1.88982879e-02, 1.05868979e-02,\n",
       "       2.31262906e-03, 2.80676745e-04, 3.01652200e-03, 3.90616683e-04,\n",
       "       1.06981047e-03, 1.31137277e-03, 7.43497662e-03, 1.06247152e-02,\n",
       "       5.09389427e-04, 5.61449109e-03, 1.36750054e-02, 3.60601604e-07,\n",
       "       1.43486654e-03, 3.43284467e-02, 1.07649654e-03, 1.88947449e-03,\n",
       "       2.84360122e-06, 8.96640742e-03, 4.19180985e-03, 3.85885224e-03,\n",
       "       2.82997958e-03, 1.56988572e-02, 5.54478516e-03, 1.91993765e-04,\n",
       "       6.18589956e-03, 7.64677742e-03, 9.46230447e-04, 1.06585248e-03,\n",
       "       1.65803352e-03])"
      ]
     },
     "execution_count": 36,
     "metadata": {},
     "output_type": "execute_result"
    }
   ],
   "source": [
    "from sklearn.ensemble import ExtraTreesRegressor\n",
    "etr_model = ExtraTreesRegressor()\n",
    "etr_model.fit(X, y)\n",
    "etr_model.feature_importances_"
   ]
  },
  {
   "cell_type": "code",
   "execution_count": 37,
   "id": "c1c11e21",
   "metadata": {},
   "outputs": [
    {
     "data": {
      "text/plain": [
       "<AxesSubplot:>"
      ]
     },
     "execution_count": 37,
     "metadata": {},
     "output_type": "execute_result"
    },
    {
     "data": {
      "image/png": "[encoded data removed]",
      "text/plain": [
       "<Figure size 432x288 with 1 Axes>"
      ]
     },
     "metadata": {
      "needs_background": "light"
     },
     "output_type": "display_data"
    }
   ],
   "source": [
    "feature_imp = pd.Series(etr_model.feature_importances_, index = X.columns)\n",
    "feature_imp.nlargest(10).plot(kind = 'barh')"
   ]
  },
  {
   "cell_type": "markdown",
   "id": "c8ccf13d",
   "metadata": {},
   "source": [
    "#### Splitting Data into Training and Testing Set"
   ]
  },
  {
   "cell_type": "code",
   "execution_count": 38,
   "id": "ce6e01cd",
   "metadata": {},
   "outputs": [],
   "source": [
    "from sklearn.model_selection import train_test_split\n",
    "X_train, X_test, y_train, y_test = train_test_split(X, y, test_size = 0.2, random_state = 0)"
   ]
  },
  {
   "cell_type": "markdown",
   "id": "595693ba",
   "metadata": {},
   "source": [
    "#### Feature Scaling"
   ]
  },
  {
   "cell_type": "code",
   "execution_count": 39,
   "id": "bd268369",
   "metadata": {},
   "outputs": [],
   "source": [
    "scaler = MinMaxScaler()\n",
    "X_train_scaled = scaler.fit_transform(X_train)"
   ]
  },
  {
   "cell_type": "code",
   "execution_count": 40,
   "id": "4229ed2f",
   "metadata": {},
   "outputs": [
    {
     "data": {
      "text/plain": [
       "RandomForestRegressor(random_state=0)"
      ]
     },
     "execution_count": 40,
     "metadata": {},
     "output_type": "execute_result"
    }
   ],
   "source": [
    "# Fitting Random Forest Regressor to the dataset\n",
    "# import the regressor\n",
    "from sklearn.ensemble import RandomForestRegressor\n",
    "\n",
    "# create regressor object\n",
    "regressor = RandomForestRegressor(n_estimators = 100, random_state = 0)\n",
    " \n",
    "# fit the regressor with x and y data\n",
    "regressor.fit(X_train_scaled, y_train) "
   ]
  },
  {
   "cell_type": "code",
   "execution_count": 41,
   "id": "329d0c8e",
   "metadata": {},
   "outputs": [],
   "source": [
    "# scaling test data and making predictions\n",
    "X_test_scaled = scaler.transform(X_test)\n",
    "y_pred = regressor.predict(X_test_scaled)"
   ]
  },
  {
   "cell_type": "code",
   "execution_count": 44,
   "id": "f27fbef0",
   "metadata": {},
   "outputs": [
    {
     "data": {
      "text/plain": [
       "dtype('float64')"
      ]
     },
     "execution_count": 44,
     "metadata": {},
     "output_type": "execute_result"
    }
   ],
   "source": [
    "y_pred.dtype"
   ]
  },
  {
   "cell_type": "code",
   "execution_count": 48,
   "id": "c572636c",
   "metadata": {},
   "outputs": [
    {
     "ename": "ValueError",
     "evalue": "continuous is not supported",
     "output_type": "error",
     "traceback": [
      "\u001b[1;31m---------------------------------------------------------------------------\u001b[0m",
      "\u001b[1;31mValueError\u001b[0m                                Traceback (most recent call last)",
      "\u001b[1;32m~\\AppData\\Local\\Temp/ipykernel_31148/3796402214.py\u001b[0m in \u001b[0;36m<module>\u001b[1;34m\u001b[0m\n\u001b[0;32m      1\u001b[0m \u001b[1;32mfrom\u001b[0m \u001b[0msklearn\u001b[0m\u001b[1;33m.\u001b[0m\u001b[0mmetrics\u001b[0m \u001b[1;32mimport\u001b[0m \u001b[0maccuracy_score\u001b[0m\u001b[1;33m\u001b[0m\u001b[1;33m\u001b[0m\u001b[0m\n\u001b[1;32m----> 2\u001b[1;33m \u001b[0maccuracy_score\u001b[0m\u001b[1;33m(\u001b[0m\u001b[0my_test\u001b[0m\u001b[1;33m,\u001b[0m \u001b[0my_pred\u001b[0m\u001b[1;33m)\u001b[0m\u001b[1;33m\u001b[0m\u001b[1;33m\u001b[0m\u001b[0m\n\u001b[0m",
      "\u001b[1;32m~\\anaconda3\\lib\\site-packages\\sklearn\\utils\\validation.py\u001b[0m in \u001b[0;36minner_f\u001b[1;34m(*args, **kwargs)\u001b[0m\n\u001b[0;32m     61\u001b[0m             \u001b[0mextra_args\u001b[0m \u001b[1;33m=\u001b[0m \u001b[0mlen\u001b[0m\u001b[1;33m(\u001b[0m\u001b[0margs\u001b[0m\u001b[1;33m)\u001b[0m \u001b[1;33m-\u001b[0m \u001b[0mlen\u001b[0m\u001b[1;33m(\u001b[0m\u001b[0mall_args\u001b[0m\u001b[1;33m)\u001b[0m\u001b[1;33m\u001b[0m\u001b[1;33m\u001b[0m\u001b[0m\n\u001b[0;32m     62\u001b[0m             \u001b[1;32mif\u001b[0m \u001b[0mextra_args\u001b[0m \u001b[1;33m<=\u001b[0m \u001b[1;36m0\u001b[0m\u001b[1;33m:\u001b[0m\u001b[1;33m\u001b[0m\u001b[1;33m\u001b[0m\u001b[0m\n\u001b[1;32m---> 63\u001b[1;33m                 \u001b[1;32mreturn\u001b[0m \u001b[0mf\u001b[0m\u001b[1;33m(\u001b[0m\u001b[1;33m*\u001b[0m\u001b[0margs\u001b[0m\u001b[1;33m,\u001b[0m \u001b[1;33m**\u001b[0m\u001b[0mkwargs\u001b[0m\u001b[1;33m)\u001b[0m\u001b[1;33m\u001b[0m\u001b[1;33m\u001b[0m\u001b[0m\n\u001b[0m\u001b[0;32m     64\u001b[0m \u001b[1;33m\u001b[0m\u001b[0m\n\u001b[0;32m     65\u001b[0m             \u001b[1;31m# extra_args > 0\u001b[0m\u001b[1;33m\u001b[0m\u001b[1;33m\u001b[0m\u001b[0m\n",
      "\u001b[1;32m~\\anaconda3\\lib\\site-packages\\sklearn\\metrics\\_classification.py\u001b[0m in \u001b[0;36maccuracy_score\u001b[1;34m(y_true, y_pred, normalize, sample_weight)\u001b[0m\n\u001b[0;32m    200\u001b[0m \u001b[1;33m\u001b[0m\u001b[0m\n\u001b[0;32m    201\u001b[0m     \u001b[1;31m# Compute accuracy for each possible representation\u001b[0m\u001b[1;33m\u001b[0m\u001b[1;33m\u001b[0m\u001b[0m\n\u001b[1;32m--> 202\u001b[1;33m     \u001b[0my_type\u001b[0m\u001b[1;33m,\u001b[0m \u001b[0my_true\u001b[0m\u001b[1;33m,\u001b[0m \u001b[0my_pred\u001b[0m \u001b[1;33m=\u001b[0m \u001b[0m_check_targets\u001b[0m\u001b[1;33m(\u001b[0m\u001b[0my_true\u001b[0m\u001b[1;33m,\u001b[0m \u001b[0my_pred\u001b[0m\u001b[1;33m)\u001b[0m\u001b[1;33m\u001b[0m\u001b[1;33m\u001b[0m\u001b[0m\n\u001b[0m\u001b[0;32m    203\u001b[0m     \u001b[0mcheck_consistent_length\u001b[0m\u001b[1;33m(\u001b[0m\u001b[0my_true\u001b[0m\u001b[1;33m,\u001b[0m \u001b[0my_pred\u001b[0m\u001b[1;33m,\u001b[0m \u001b[0msample_weight\u001b[0m\u001b[1;33m)\u001b[0m\u001b[1;33m\u001b[0m\u001b[1;33m\u001b[0m\u001b[0m\n\u001b[0;32m    204\u001b[0m     \u001b[1;32mif\u001b[0m \u001b[0my_type\u001b[0m\u001b[1;33m.\u001b[0m\u001b[0mstartswith\u001b[0m\u001b[1;33m(\u001b[0m\u001b[1;34m'multilabel'\u001b[0m\u001b[1;33m)\u001b[0m\u001b[1;33m:\u001b[0m\u001b[1;33m\u001b[0m\u001b[1;33m\u001b[0m\u001b[0m\n",
      "\u001b[1;32m~\\anaconda3\\lib\\site-packages\\sklearn\\metrics\\_classification.py\u001b[0m in \u001b[0;36m_check_targets\u001b[1;34m(y_true, y_pred)\u001b[0m\n\u001b[0;32m     98\u001b[0m     \u001b[1;31m# No metrics support \"multiclass-multioutput\" format\u001b[0m\u001b[1;33m\u001b[0m\u001b[1;33m\u001b[0m\u001b[0m\n\u001b[0;32m     99\u001b[0m     \u001b[1;32mif\u001b[0m \u001b[1;33m(\u001b[0m\u001b[0my_type\u001b[0m \u001b[1;32mnot\u001b[0m \u001b[1;32min\u001b[0m \u001b[1;33m[\u001b[0m\u001b[1;34m\"binary\"\u001b[0m\u001b[1;33m,\u001b[0m \u001b[1;34m\"multiclass\"\u001b[0m\u001b[1;33m,\u001b[0m \u001b[1;34m\"multilabel-indicator\"\u001b[0m\u001b[1;33m]\u001b[0m\u001b[1;33m)\u001b[0m\u001b[1;33m:\u001b[0m\u001b[1;33m\u001b[0m\u001b[1;33m\u001b[0m\u001b[0m\n\u001b[1;32m--> 100\u001b[1;33m         \u001b[1;32mraise\u001b[0m \u001b[0mValueError\u001b[0m\u001b[1;33m(\u001b[0m\u001b[1;34m\"{0} is not supported\"\u001b[0m\u001b[1;33m.\u001b[0m\u001b[0mformat\u001b[0m\u001b[1;33m(\u001b[0m\u001b[0my_type\u001b[0m\u001b[1;33m)\u001b[0m\u001b[1;33m)\u001b[0m\u001b[1;33m\u001b[0m\u001b[1;33m\u001b[0m\u001b[0m\n\u001b[0m\u001b[0;32m    101\u001b[0m \u001b[1;33m\u001b[0m\u001b[0m\n\u001b[0;32m    102\u001b[0m     \u001b[1;32mif\u001b[0m \u001b[0my_type\u001b[0m \u001b[1;32min\u001b[0m \u001b[1;33m[\u001b[0m\u001b[1;34m\"binary\"\u001b[0m\u001b[1;33m,\u001b[0m \u001b[1;34m\"multiclass\"\u001b[0m\u001b[1;33m]\u001b[0m\u001b[1;33m:\u001b[0m\u001b[1;33m\u001b[0m\u001b[1;33m\u001b[0m\u001b[0m\n",
      "\u001b[1;31mValueError\u001b[0m: continuous is not supported"
     ]
    }
   ],
   "source": [
    "from sklearn.metrics import accuracy_score\n",
    "accuracy_score(y_test, y_pred)"
   ]
  },
  {
   "cell_type": "code",
   "execution_count": 43,
   "id": "fe97c13d",
   "metadata": {},
   "outputs": [
    {
     "name": "stderr",
     "output_type": "stream",
     "text": [
      "C:\\Users\\pranshuk\\anaconda3\\lib\\site-packages\\sklearn\\model_selection\\_validation.py:696: UserWarning: Scoring failed. The score on this train-test partition for these parameters will be set to nan. Details: \n",
      "Traceback (most recent call last):\n",
      "  File \"C:\\Users\\pranshuk\\anaconda3\\lib\\site-packages\\sklearn\\model_selection\\_validation.py\", line 687, in _score\n",
      "    scores = scorer(estimator, X_test, y_test)\n",
      "  File \"C:\\Users\\pranshuk\\anaconda3\\lib\\site-packages\\sklearn\\metrics\\_scorer.py\", line 87, in __call__\n",
      "    score = scorer._score(cached_call, estimator,\n",
      "  File \"C:\\Users\\pranshuk\\anaconda3\\lib\\site-packages\\sklearn\\metrics\\_scorer.py\", line 242, in _score\n",
      "    return self._sign * self._score_func(y_true, y_pred,\n",
      "  File \"C:\\Users\\pranshuk\\anaconda3\\lib\\site-packages\\sklearn\\utils\\validation.py\", line 63, in inner_f\n",
      "    return f(*args, **kwargs)\n",
      "  File \"C:\\Users\\pranshuk\\anaconda3\\lib\\site-packages\\sklearn\\metrics\\_classification.py\", line 202, in accuracy_score\n",
      "    y_type, y_true, y_pred = _check_targets(y_true, y_pred)\n",
      "  File \"C:\\Users\\pranshuk\\anaconda3\\lib\\site-packages\\sklearn\\metrics\\_classification.py\", line 100, in _check_targets\n",
      "    raise ValueError(\"{0} is not supported\".format(y_type))\n",
      "ValueError: continuous is not supported\n",
      "\n",
      "  warnings.warn(\n",
      "C:\\Users\\pranshuk\\anaconda3\\lib\\site-packages\\sklearn\\model_selection\\_validation.py:696: UserWarning: Scoring failed. The score on this train-test partition for these parameters will be set to nan. Details: \n",
      "Traceback (most recent call last):\n",
      "  File \"C:\\Users\\pranshuk\\anaconda3\\lib\\site-packages\\sklearn\\model_selection\\_validation.py\", line 687, in _score\n",
      "    scores = scorer(estimator, X_test, y_test)\n",
      "  File \"C:\\Users\\pranshuk\\anaconda3\\lib\\site-packages\\sklearn\\metrics\\_scorer.py\", line 87, in __call__\n",
      "    score = scorer._score(cached_call, estimator,\n",
      "  File \"C:\\Users\\pranshuk\\anaconda3\\lib\\site-packages\\sklearn\\metrics\\_scorer.py\", line 242, in _score\n",
      "    return self._sign * self._score_func(y_true, y_pred,\n",
      "  File \"C:\\Users\\pranshuk\\anaconda3\\lib\\site-packages\\sklearn\\utils\\validation.py\", line 63, in inner_f\n",
      "    return f(*args, **kwargs)\n",
      "  File \"C:\\Users\\pranshuk\\anaconda3\\lib\\site-packages\\sklearn\\metrics\\_classification.py\", line 202, in accuracy_score\n",
      "    y_type, y_true, y_pred = _check_targets(y_true, y_pred)\n",
      "  File \"C:\\Users\\pranshuk\\anaconda3\\lib\\site-packages\\sklearn\\metrics\\_classification.py\", line 100, in _check_targets\n",
      "    raise ValueError(\"{0} is not supported\".format(y_type))\n",
      "ValueError: continuous is not supported\n",
      "\n",
      "  warnings.warn(\n",
      "C:\\Users\\pranshuk\\anaconda3\\lib\\site-packages\\sklearn\\model_selection\\_validation.py:696: UserWarning: Scoring failed. The score on this train-test partition for these parameters will be set to nan. Details: \n",
      "Traceback (most recent call last):\n",
      "  File \"C:\\Users\\pranshuk\\anaconda3\\lib\\site-packages\\sklearn\\model_selection\\_validation.py\", line 687, in _score\n",
      "    scores = scorer(estimator, X_test, y_test)\n",
      "  File \"C:\\Users\\pranshuk\\anaconda3\\lib\\site-packages\\sklearn\\metrics\\_scorer.py\", line 87, in __call__\n",
      "    score = scorer._score(cached_call, estimator,\n",
      "  File \"C:\\Users\\pranshuk\\anaconda3\\lib\\site-packages\\sklearn\\metrics\\_scorer.py\", line 242, in _score\n",
      "    return self._sign * self._score_func(y_true, y_pred,\n",
      "  File \"C:\\Users\\pranshuk\\anaconda3\\lib\\site-packages\\sklearn\\utils\\validation.py\", line 63, in inner_f\n",
      "    return f(*args, **kwargs)\n",
      "  File \"C:\\Users\\pranshuk\\anaconda3\\lib\\site-packages\\sklearn\\metrics\\_classification.py\", line 202, in accuracy_score\n",
      "    y_type, y_true, y_pred = _check_targets(y_true, y_pred)\n",
      "  File \"C:\\Users\\pranshuk\\anaconda3\\lib\\site-packages\\sklearn\\metrics\\_classification.py\", line 100, in _check_targets\n",
      "    raise ValueError(\"{0} is not supported\".format(y_type))\n",
      "ValueError: continuous is not supported\n",
      "\n",
      "  warnings.warn(\n",
      "C:\\Users\\pranshuk\\anaconda3\\lib\\site-packages\\sklearn\\model_selection\\_validation.py:696: UserWarning: Scoring failed. The score on this train-test partition for these parameters will be set to nan. Details: \n",
      "Traceback (most recent call last):\n",
      "  File \"C:\\Users\\pranshuk\\anaconda3\\lib\\site-packages\\sklearn\\model_selection\\_validation.py\", line 687, in _score\n",
      "    scores = scorer(estimator, X_test, y_test)\n",
      "  File \"C:\\Users\\pranshuk\\anaconda3\\lib\\site-packages\\sklearn\\metrics\\_scorer.py\", line 87, in __call__\n",
      "    score = scorer._score(cached_call, estimator,\n",
      "  File \"C:\\Users\\pranshuk\\anaconda3\\lib\\site-packages\\sklearn\\metrics\\_scorer.py\", line 242, in _score\n",
      "    return self._sign * self._score_func(y_true, y_pred,\n",
      "  File \"C:\\Users\\pranshuk\\anaconda3\\lib\\site-packages\\sklearn\\utils\\validation.py\", line 63, in inner_f\n",
      "    return f(*args, **kwargs)\n",
      "  File \"C:\\Users\\pranshuk\\anaconda3\\lib\\site-packages\\sklearn\\metrics\\_classification.py\", line 202, in accuracy_score\n",
      "    y_type, y_true, y_pred = _check_targets(y_true, y_pred)\n",
      "  File \"C:\\Users\\pranshuk\\anaconda3\\lib\\site-packages\\sklearn\\metrics\\_classification.py\", line 100, in _check_targets\n",
      "    raise ValueError(\"{0} is not supported\".format(y_type))\n",
      "ValueError: continuous is not supported\n",
      "\n",
      "  warnings.warn(\n",
      "C:\\Users\\pranshuk\\anaconda3\\lib\\site-packages\\sklearn\\model_selection\\_validation.py:696: UserWarning: Scoring failed. The score on this train-test partition for these parameters will be set to nan. Details: \n",
      "Traceback (most recent call last):\n",
      "  File \"C:\\Users\\pranshuk\\anaconda3\\lib\\site-packages\\sklearn\\model_selection\\_validation.py\", line 687, in _score\n",
      "    scores = scorer(estimator, X_test, y_test)\n",
      "  File \"C:\\Users\\pranshuk\\anaconda3\\lib\\site-packages\\sklearn\\metrics\\_scorer.py\", line 87, in __call__\n",
      "    score = scorer._score(cached_call, estimator,\n",
      "  File \"C:\\Users\\pranshuk\\anaconda3\\lib\\site-packages\\sklearn\\metrics\\_scorer.py\", line 242, in _score\n",
      "    return self._sign * self._score_func(y_true, y_pred,\n",
      "  File \"C:\\Users\\pranshuk\\anaconda3\\lib\\site-packages\\sklearn\\utils\\validation.py\", line 63, in inner_f\n",
      "    return f(*args, **kwargs)\n",
      "  File \"C:\\Users\\pranshuk\\anaconda3\\lib\\site-packages\\sklearn\\metrics\\_classification.py\", line 202, in accuracy_score\n",
      "    y_type, y_true, y_pred = _check_targets(y_true, y_pred)\n",
      "  File \"C:\\Users\\pranshuk\\anaconda3\\lib\\site-packages\\sklearn\\metrics\\_classification.py\", line 100, in _check_targets\n",
      "    raise ValueError(\"{0} is not supported\".format(y_type))\n",
      "ValueError: continuous is not supported\n",
      "\n",
      "  warnings.warn(\n",
      "C:\\Users\\pranshuk\\anaconda3\\lib\\site-packages\\sklearn\\model_selection\\_validation.py:696: UserWarning: Scoring failed. The score on this train-test partition for these parameters will be set to nan. Details: \n",
      "Traceback (most recent call last):\n",
      "  File \"C:\\Users\\pranshuk\\anaconda3\\lib\\site-packages\\sklearn\\model_selection\\_validation.py\", line 687, in _score\n",
      "    scores = scorer(estimator, X_test, y_test)\n",
      "  File \"C:\\Users\\pranshuk\\anaconda3\\lib\\site-packages\\sklearn\\metrics\\_scorer.py\", line 87, in __call__\n",
      "    score = scorer._score(cached_call, estimator,\n",
      "  File \"C:\\Users\\pranshuk\\anaconda3\\lib\\site-packages\\sklearn\\metrics\\_scorer.py\", line 242, in _score\n",
      "    return self._sign * self._score_func(y_true, y_pred,\n",
      "  File \"C:\\Users\\pranshuk\\anaconda3\\lib\\site-packages\\sklearn\\utils\\validation.py\", line 63, in inner_f\n",
      "    return f(*args, **kwargs)\n",
      "  File \"C:\\Users\\pranshuk\\anaconda3\\lib\\site-packages\\sklearn\\metrics\\_classification.py\", line 202, in accuracy_score\n",
      "    y_type, y_true, y_pred = _check_targets(y_true, y_pred)\n",
      "  File \"C:\\Users\\pranshuk\\anaconda3\\lib\\site-packages\\sklearn\\metrics\\_classification.py\", line 100, in _check_targets\n",
      "    raise ValueError(\"{0} is not supported\".format(y_type))\n",
      "ValueError: continuous is not supported\n",
      "\n",
      "  warnings.warn(\n",
      "C:\\Users\\pranshuk\\anaconda3\\lib\\site-packages\\sklearn\\model_selection\\_validation.py:696: UserWarning: Scoring failed. The score on this train-test partition for these parameters will be set to nan. Details: \n",
      "Traceback (most recent call last):\n",
      "  File \"C:\\Users\\pranshuk\\anaconda3\\lib\\site-packages\\sklearn\\model_selection\\_validation.py\", line 687, in _score\n",
      "    scores = scorer(estimator, X_test, y_test)\n",
      "  File \"C:\\Users\\pranshuk\\anaconda3\\lib\\site-packages\\sklearn\\metrics\\_scorer.py\", line 87, in __call__\n",
      "    score = scorer._score(cached_call, estimator,\n",
      "  File \"C:\\Users\\pranshuk\\anaconda3\\lib\\site-packages\\sklearn\\metrics\\_scorer.py\", line 242, in _score\n",
      "    return self._sign * self._score_func(y_true, y_pred,\n",
      "  File \"C:\\Users\\pranshuk\\anaconda3\\lib\\site-packages\\sklearn\\utils\\validation.py\", line 63, in inner_f\n",
      "    return f(*args, **kwargs)\n",
      "  File \"C:\\Users\\pranshuk\\anaconda3\\lib\\site-packages\\sklearn\\metrics\\_classification.py\", line 202, in accuracy_score\n",
      "    y_type, y_true, y_pred = _check_targets(y_true, y_pred)\n",
      "  File \"C:\\Users\\pranshuk\\anaconda3\\lib\\site-packages\\sklearn\\metrics\\_classification.py\", line 100, in _check_targets\n",
      "    raise ValueError(\"{0} is not supported\".format(y_type))\n",
      "ValueError: continuous is not supported\n",
      "\n",
      "  warnings.warn(\n",
      "C:\\Users\\pranshuk\\anaconda3\\lib\\site-packages\\sklearn\\model_selection\\_validation.py:696: UserWarning: Scoring failed. The score on this train-test partition for these parameters will be set to nan. Details: \n",
      "Traceback (most recent call last):\n",
      "  File \"C:\\Users\\pranshuk\\anaconda3\\lib\\site-packages\\sklearn\\model_selection\\_validation.py\", line 687, in _score\n",
      "    scores = scorer(estimator, X_test, y_test)\n",
      "  File \"C:\\Users\\pranshuk\\anaconda3\\lib\\site-packages\\sklearn\\metrics\\_scorer.py\", line 87, in __call__\n",
      "    score = scorer._score(cached_call, estimator,\n",
      "  File \"C:\\Users\\pranshuk\\anaconda3\\lib\\site-packages\\sklearn\\metrics\\_scorer.py\", line 242, in _score\n",
      "    return self._sign * self._score_func(y_true, y_pred,\n",
      "  File \"C:\\Users\\pranshuk\\anaconda3\\lib\\site-packages\\sklearn\\utils\\validation.py\", line 63, in inner_f\n",
      "    return f(*args, **kwargs)\n",
      "  File \"C:\\Users\\pranshuk\\anaconda3\\lib\\site-packages\\sklearn\\metrics\\_classification.py\", line 202, in accuracy_score\n",
      "    y_type, y_true, y_pred = _check_targets(y_true, y_pred)\n",
      "  File \"C:\\Users\\pranshuk\\anaconda3\\lib\\site-packages\\sklearn\\metrics\\_classification.py\", line 100, in _check_targets\n",
      "    raise ValueError(\"{0} is not supported\".format(y_type))\n",
      "ValueError: continuous is not supported\n",
      "\n",
      "  warnings.warn(\n",
      "C:\\Users\\pranshuk\\anaconda3\\lib\\site-packages\\sklearn\\model_selection\\_validation.py:696: UserWarning: Scoring failed. The score on this train-test partition for these parameters will be set to nan. Details: \n",
      "Traceback (most recent call last):\n",
      "  File \"C:\\Users\\pranshuk\\anaconda3\\lib\\site-packages\\sklearn\\model_selection\\_validation.py\", line 687, in _score\n",
      "    scores = scorer(estimator, X_test, y_test)\n",
      "  File \"C:\\Users\\pranshuk\\anaconda3\\lib\\site-packages\\sklearn\\metrics\\_scorer.py\", line 87, in __call__\n",
      "    score = scorer._score(cached_call, estimator,\n",
      "  File \"C:\\Users\\pranshuk\\anaconda3\\lib\\site-packages\\sklearn\\metrics\\_scorer.py\", line 242, in _score\n",
      "    return self._sign * self._score_func(y_true, y_pred,\n",
      "  File \"C:\\Users\\pranshuk\\anaconda3\\lib\\site-packages\\sklearn\\utils\\validation.py\", line 63, in inner_f\n",
      "    return f(*args, **kwargs)\n",
      "  File \"C:\\Users\\pranshuk\\anaconda3\\lib\\site-packages\\sklearn\\metrics\\_classification.py\", line 202, in accuracy_score\n",
      "    y_type, y_true, y_pred = _check_targets(y_true, y_pred)\n",
      "  File \"C:\\Users\\pranshuk\\anaconda3\\lib\\site-packages\\sklearn\\metrics\\_classification.py\", line 100, in _check_targets\n",
      "    raise ValueError(\"{0} is not supported\".format(y_type))\n",
      "ValueError: continuous is not supported\n",
      "\n",
      "  warnings.warn(\n"
     ]
    },
    {
     "name": "stdout",
     "output_type": "stream",
     "text": [
      "Cross-validation scores: [nan nan nan nan nan nan nan nan nan nan]\n",
      "Average cross-validation score: nan\n"
     ]
    },
    {
     "name": "stderr",
     "output_type": "stream",
     "text": [
      "C:\\Users\\pranshuk\\anaconda3\\lib\\site-packages\\sklearn\\model_selection\\_validation.py:696: UserWarning: Scoring failed. The score on this train-test partition for these parameters will be set to nan. Details: \n",
      "Traceback (most recent call last):\n",
      "  File \"C:\\Users\\pranshuk\\anaconda3\\lib\\site-packages\\sklearn\\model_selection\\_validation.py\", line 687, in _score\n",
      "    scores = scorer(estimator, X_test, y_test)\n",
      "  File \"C:\\Users\\pranshuk\\anaconda3\\lib\\site-packages\\sklearn\\metrics\\_scorer.py\", line 87, in __call__\n",
      "    score = scorer._score(cached_call, estimator,\n",
      "  File \"C:\\Users\\pranshuk\\anaconda3\\lib\\site-packages\\sklearn\\metrics\\_scorer.py\", line 242, in _score\n",
      "    return self._sign * self._score_func(y_true, y_pred,\n",
      "  File \"C:\\Users\\pranshuk\\anaconda3\\lib\\site-packages\\sklearn\\utils\\validation.py\", line 63, in inner_f\n",
      "    return f(*args, **kwargs)\n",
      "  File \"C:\\Users\\pranshuk\\anaconda3\\lib\\site-packages\\sklearn\\metrics\\_classification.py\", line 202, in accuracy_score\n",
      "    y_type, y_true, y_pred = _check_targets(y_true, y_pred)\n",
      "  File \"C:\\Users\\pranshuk\\anaconda3\\lib\\site-packages\\sklearn\\metrics\\_classification.py\", line 100, in _check_targets\n",
      "    raise ValueError(\"{0} is not supported\".format(y_type))\n",
      "ValueError: continuous is not supported\n",
      "\n",
      "  warnings.warn(\n"
     ]
    }
   ],
   "source": [
    "#Cross Validation\n",
    "from sklearn.model_selection import cross_val_score\n",
    "scores = cross_val_score(regressor, X_train_scaled, y_train, cv = 10, scoring = 'accuracy')\n",
    "print('Cross-validation scores: {}'.format(scores))\n",
    "print('Average cross-validation score: {}'.format(scores.mean()))"
   ]
  },
  {
   "cell_type": "code",
   "execution_count": null,
   "id": "4cab59de",
   "metadata": {},
   "outputs": [],
   "source": []
  },
  {
   "cell_type": "code",
   "execution_count": null,
   "id": "8565fa2f",
   "metadata": {},
   "outputs": [],
   "source": []
  },
  {
   "cell_type": "code",
   "execution_count": null,
   "id": "090ae2fc",
   "metadata": {},
   "outputs": [],
   "source": []
  },
  {
   "cell_type": "code",
   "execution_count": null,
   "id": "d323c683",
   "metadata": {},
   "outputs": [],
   "source": []
  },
  {
   "cell_type": "code",
   "execution_count": null,
   "id": "adfafdf7",
   "metadata": {},
   "outputs": [],
   "source": []
  },
  {
   "cell_type": "code",
   "execution_count": null,
   "id": "43134437",
   "metadata": {},
   "outputs": [],
   "source": []
  },
  {
   "cell_type": "code",
   "execution_count": null,
   "id": "c8702b81",
   "metadata": {},
   "outputs": [],
   "source": []
  },
  {
   "cell_type": "code",
   "execution_count": null,
   "id": "c09bfbe6",
   "metadata": {},
   "outputs": [],
   "source": []
  },
  {
   "cell_type": "code",
   "execution_count": null,
   "id": "ba3a29ac",
   "metadata": {},
   "outputs": [],
   "source": []
  },
  {
   "cell_type": "code",
   "execution_count": null,
   "id": "a5afdf80",
   "metadata": {},
   "outputs": [],
   "source": []
  },
  {
   "cell_type": "code",
   "execution_count": null,
   "id": "37cbeaa1",
   "metadata": {},
   "outputs": [],
   "source": []
  },
  {
   "cell_type": "code",
   "execution_count": null,
   "id": "b96d6b2c",
   "metadata": {},
   "outputs": [],
   "source": []
  },
  {
   "cell_type": "code",
   "execution_count": null,
   "id": "9d8849e7",
   "metadata": {},
   "outputs": [],
   "source": []
  },
  {
   "cell_type": "code",
   "execution_count": null,
   "id": "e6ee6c07",
   "metadata": {},
   "outputs": [],
   "source": []
  },
  {
   "cell_type": "code",
   "execution_count": null,
   "id": "7d1c0058",
   "metadata": {},
   "outputs": [],
   "source": []
  }
 ],
 "metadata": {
  "kernelspec": {
   "display_name": "Python 3 (ipykernel)",
   "language": "python",
   "name": "python3"
  },
  "language_info": {
   "codemirror_mode": {
    "name": "ipython",
    "version": 3
   },
   "file_extension": ".py",
   "mimetype": "text/x-python",
   "name": "python",
   "nbconvert_exporter": "python",
   "pygments_lexer": "ipython3",
   "version": "3.9.7"
  }
 },
 "nbformat": 4,
 "nbformat_minor": 5
}
