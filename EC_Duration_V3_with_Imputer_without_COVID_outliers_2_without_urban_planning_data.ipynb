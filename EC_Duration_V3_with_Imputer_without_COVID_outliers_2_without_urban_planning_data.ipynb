{
 "cells": [
  {
   "cell_type": "markdown",
   "id": "3bae6282",
   "metadata": {},
   "source": [
    "# NatDev - EC Modeling"
   ]
  },
  {
   "cell_type": "markdown",
   "id": "bda6e28d",
   "metadata": {},
   "source": [
    "#### Importing Libraries"
   ]
  },
  {
   "cell_type": "code",
   "execution_count": 1,
   "id": "e8f2c22c",
   "metadata": {},
   "outputs": [],
   "source": [
    "#importing libraries\n",
    "import pandas as pd\n",
    "import numpy as np\n",
    "import seaborn as sns\n",
    "import sklearn\n",
    "from sklearn.linear_model import TweedieRegressor\n",
    "from sklearn.preprocessing import StandardScaler\n",
    "from sklearn.model_selection import cross_validate\n",
    "from sklearn.preprocessing import MinMaxScaler\n",
    "import matplotlib.pyplot as plt\n",
    "import pickle\n",
    "import warnings\n",
    "warnings.filterwarnings(\"ignore\")\n",
    "from sklearn.ensemble import ExtraTreesRegressor\n",
    "from sklearn.ensemble import RandomForestRegressor\n",
    "from sklearn.compose import TransformedTargetRegressor\n",
    "from sklearn.preprocessing import QuantileTransformer\n",
    "from sklearn.metrics import mean_absolute_error\n",
    "from sklearn.model_selection import cross_val_score\n",
    "from sklearn.metrics import make_scorer\n",
    "from sklearn.preprocessing import PolynomialFeatures\n",
    "from sklearn.linear_model import RidgeCV\n",
    "from sklearn.model_selection import cross_val_predict"
   ]
  },
  {
   "cell_type": "markdown",
   "id": "c8fb0b30-9c67-4e44-ac71-7a619c8c124e",
   "metadata": {},
   "source": [
    "## Load Data"
   ]
  },
  {
   "cell_type": "code",
   "execution_count": 2,
   "id": "63e1aa97",
   "metadata": {},
   "outputs": [],
   "source": [
    "# Load data\n",
    "data_file_path = 'C:/Users/pranshuk/OneDrive - Logic20 20 Inc/Desktop/EC Prediction Data/New EC Data/data_w_geo_predictors_proj_level_kc.xlsx'\n",
    "data = pd.read_excel(data_file_path)"
   ]
  },
  {
   "cell_type": "code",
   "execution_count": 3,
   "id": "22a99600",
   "metadata": {},
   "outputs": [],
   "source": [
    "data_file_path_2 = 'C:/Users/pranshuk/OneDrive - Logic20 20 Inc/Desktop/EC_Data_May_5/data_w_geo_predictors_proj_level.xlsx'\n",
    "data2 = pd.read_excel(data_file_path)"
   ]
  },
  {
   "cell_type": "code",
   "execution_count": 4,
   "id": "faa2160c",
   "metadata": {},
   "outputs": [
    {
     "data": {
      "text/html": [
       "<div>\n",
       "<style scoped>\n",
       "    .dataframe tbody tr th:only-of-type {\n",
       "        vertical-align: middle;\n",
       "    }\n",
       "\n",
       "    .dataframe tbody tr th {\n",
       "        vertical-align: top;\n",
       "    }\n",
       "\n",
       "    .dataframe thead th {\n",
       "        text-align: right;\n",
       "    }\n",
       "</style>\n",
       "<table border=\"1\" class=\"dataframe\">\n",
       "  <thead>\n",
       "    <tr style=\"text-align: right;\">\n",
       "      <th></th>\n",
       "      <th>proj_cd</th>\n",
       "      <th>por_id</th>\n",
       "      <th>site_region_name</th>\n",
       "      <th>site_mkt_name</th>\n",
       "      <th>site_cty_name</th>\n",
       "      <th>site_county_name</th>\n",
       "      <th>site_addr_desc</th>\n",
       "      <th>site_type_desc</th>\n",
       "      <th>site_class_desc</th>\n",
       "      <th>Siterra_And_elemenT_Structure_Owner</th>\n",
       "      <th>...</th>\n",
       "      <th>awater</th>\n",
       "      <th>intptlat</th>\n",
       "      <th>intptlon</th>\n",
       "      <th>Universe_geometry_k</th>\n",
       "      <th>SITETYPE</th>\n",
       "      <th>LEVY_JURIS</th>\n",
       "      <th>PROPTYPE</th>\n",
       "      <th>KCA_ZONING</th>\n",
       "      <th>PREUSE_COD</th>\n",
       "      <th>PREUSE_DES</th>\n",
       "    </tr>\n",
       "  </thead>\n",
       "  <tbody>\n",
       "    <tr>\n",
       "      <th>0</th>\n",
       "      <td>SE04035A - Site Modification (4902665)</td>\n",
       "      <td>POR0348914,POR0256248</td>\n",
       "      <td>WEST</td>\n",
       "      <td>SEATTLE WA</td>\n",
       "      <td>Renton</td>\n",
       "      <td>King</td>\n",
       "      <td>3401 Lind Avenue SW</td>\n",
       "      <td>Structure Non Building</td>\n",
       "      <td>Monopole</td>\n",
       "      <td>Crown Castle T3</td>\n",
       "      <td>...</td>\n",
       "      <td>4544405.0</td>\n",
       "      <td>47.479191</td>\n",
       "      <td>-122.194613</td>\n",
       "      <td>73e4ab58f0aed3fd</td>\n",
       "      <td>C9</td>\n",
       "      <td>RENTON</td>\n",
       "      <td>C</td>\n",
       "      <td>IL</td>\n",
       "      <td>195.0</td>\n",
       "      <td>Warehouse</td>\n",
       "    </tr>\n",
       "    <tr>\n",
       "      <th>1</th>\n",
       "      <td>SE01130C - Site Modification (4902594)</td>\n",
       "      <td>POR0256260</td>\n",
       "      <td>WEST</td>\n",
       "      <td>SEATTLE WA</td>\n",
       "      <td>Seattle</td>\n",
       "      <td>King</td>\n",
       "      <td>9725 3rd Avenue NE</td>\n",
       "      <td>Building</td>\n",
       "      <td>Roof Top Mount</td>\n",
       "      <td>US Wireless, Inc.</td>\n",
       "      <td>...</td>\n",
       "      <td>150761136.0</td>\n",
       "      <td>47.619349</td>\n",
       "      <td>-122.351471</td>\n",
       "      <td>5b1ccf47ec6f6313</td>\n",
       "      <td>C1</td>\n",
       "      <td>SEATTLE</td>\n",
       "      <td>C</td>\n",
       "      <td>SM-NG 145</td>\n",
       "      <td>106.0</td>\n",
       "      <td>Office Building</td>\n",
       "    </tr>\n",
       "    <tr>\n",
       "      <th>2</th>\n",
       "      <td>SE02108E - Site Modification (4946325)</td>\n",
       "      <td>POR0307721,POR0254995,POR0327285</td>\n",
       "      <td>WEST</td>\n",
       "      <td>SEATTLE WA</td>\n",
       "      <td>Seattle</td>\n",
       "      <td>King</td>\n",
       "      <td>3206 SW Admiral Way</td>\n",
       "      <td>Structure Non Building</td>\n",
       "      <td>Wood Pole</td>\n",
       "      <td>City of Seattle</td>\n",
       "      <td>...</td>\n",
       "      <td>150761136.0</td>\n",
       "      <td>47.619349</td>\n",
       "      <td>-122.351471</td>\n",
       "      <td>5b1ccf47ec6f6313</td>\n",
       "      <td>NaN</td>\n",
       "      <td>NaN</td>\n",
       "      <td>NaN</td>\n",
       "      <td>NaN</td>\n",
       "      <td>NaN</td>\n",
       "      <td>NaN</td>\n",
       "    </tr>\n",
       "    <tr>\n",
       "      <th>3</th>\n",
       "      <td>SE03559F - Site Modification (4902649)</td>\n",
       "      <td>POR0260721,POR0308045</td>\n",
       "      <td>WEST</td>\n",
       "      <td>SEATTLE WA</td>\n",
       "      <td>Tukwila</td>\n",
       "      <td>King</td>\n",
       "      <td>4030 S. 140th St</td>\n",
       "      <td>Structure Non Building</td>\n",
       "      <td>Wood Pole</td>\n",
       "      <td>City of Seattle</td>\n",
       "      <td>...</td>\n",
       "      <td>1069363.0</td>\n",
       "      <td>47.476289</td>\n",
       "      <td>-122.275740</td>\n",
       "      <td>9b2abbc615945874</td>\n",
       "      <td>R2</td>\n",
       "      <td>TUKWILA</td>\n",
       "      <td>C</td>\n",
       "      <td>HDR</td>\n",
       "      <td>11.0</td>\n",
       "      <td>Apartment</td>\n",
       "    </tr>\n",
       "    <tr>\n",
       "      <th>4</th>\n",
       "      <td>SE02339D - Site Modification (4902627)</td>\n",
       "      <td>POR0256254</td>\n",
       "      <td>WEST</td>\n",
       "      <td>SEATTLE WA</td>\n",
       "      <td>Redmond</td>\n",
       "      <td>King</td>\n",
       "      <td>18609 NE 65th Street</td>\n",
       "      <td>Structure Non Building</td>\n",
       "      <td>Watertank</td>\n",
       "      <td>City of Redmond</td>\n",
       "      <td>...</td>\n",
       "      <td>1732419.0</td>\n",
       "      <td>47.677925</td>\n",
       "      <td>-122.115336</td>\n",
       "      <td>43129f32c57993d3</td>\n",
       "      <td>U1</td>\n",
       "      <td>REDMOND</td>\n",
       "      <td>C</td>\n",
       "      <td>MP</td>\n",
       "      <td>266.0</td>\n",
       "      <td>Utility, Public</td>\n",
       "    </tr>\n",
       "  </tbody>\n",
       "</table>\n",
       "<p>5 rows × 133 columns</p>\n",
       "</div>"
      ],
      "text/plain": [
       "                                  proj_cd                            por_id  \\\n",
       "0  SE04035A - Site Modification (4902665)             POR0348914,POR0256248   \n",
       "1  SE01130C - Site Modification (4902594)                        POR0256260   \n",
       "2  SE02108E - Site Modification (4946325)  POR0307721,POR0254995,POR0327285   \n",
       "3  SE03559F - Site Modification (4902649)             POR0260721,POR0308045   \n",
       "4  SE02339D - Site Modification (4902627)                        POR0256254   \n",
       "\n",
       "  site_region_name site_mkt_name site_cty_name site_county_name  \\\n",
       "0             WEST    SEATTLE WA        Renton             King   \n",
       "1             WEST    SEATTLE WA       Seattle             King   \n",
       "2             WEST    SEATTLE WA       Seattle             King   \n",
       "3             WEST    SEATTLE WA       Tukwila             King   \n",
       "4             WEST    SEATTLE WA       Redmond             King   \n",
       "\n",
       "         site_addr_desc          site_type_desc site_class_desc  \\\n",
       "0   3401 Lind Avenue SW  Structure Non Building        Monopole   \n",
       "1    9725 3rd Avenue NE                Building  Roof Top Mount   \n",
       "2   3206 SW Admiral Way  Structure Non Building       Wood Pole   \n",
       "3      4030 S. 140th St  Structure Non Building       Wood Pole   \n",
       "4  18609 NE 65th Street  Structure Non Building       Watertank   \n",
       "\n",
       "  Siterra_And_elemenT_Structure_Owner  ...       awater   intptlat  \\\n",
       "0                     Crown Castle T3  ...    4544405.0  47.479191   \n",
       "1                   US Wireless, Inc.  ...  150761136.0  47.619349   \n",
       "2                     City of Seattle  ...  150761136.0  47.619349   \n",
       "3                     City of Seattle  ...    1069363.0  47.476289   \n",
       "4                     City of Redmond  ...    1732419.0  47.677925   \n",
       "\n",
       "     intptlon Universe_geometry_k  SITETYPE  LEVY_JURIS PROPTYPE  KCA_ZONING  \\\n",
       "0 -122.194613    73e4ab58f0aed3fd        C9      RENTON        C          IL   \n",
       "1 -122.351471    5b1ccf47ec6f6313        C1     SEATTLE        C   SM-NG 145   \n",
       "2 -122.351471    5b1ccf47ec6f6313       NaN         NaN      NaN         NaN   \n",
       "3 -122.275740    9b2abbc615945874        R2     TUKWILA        C         HDR   \n",
       "4 -122.115336    43129f32c57993d3        U1     REDMOND        C          MP   \n",
       "\n",
       "   PREUSE_COD       PREUSE_DES  \n",
       "0       195.0        Warehouse  \n",
       "1       106.0  Office Building  \n",
       "2         NaN              NaN  \n",
       "3        11.0        Apartment  \n",
       "4       266.0  Utility, Public  \n",
       "\n",
       "[5 rows x 133 columns]"
      ]
     },
     "execution_count": 4,
     "metadata": {},
     "output_type": "execute_result"
    }
   ],
   "source": [
    "#display rows\n",
    "data.head()"
   ]
  },
  {
   "cell_type": "code",
   "execution_count": 5,
   "id": "c1080da5",
   "metadata": {},
   "outputs": [
    {
     "data": {
      "text/html": [
       "<div>\n",
       "<style scoped>\n",
       "    .dataframe tbody tr th:only-of-type {\n",
       "        vertical-align: middle;\n",
       "    }\n",
       "\n",
       "    .dataframe tbody tr th {\n",
       "        vertical-align: top;\n",
       "    }\n",
       "\n",
       "    .dataframe thead th {\n",
       "        text-align: right;\n",
       "    }\n",
       "</style>\n",
       "<table border=\"1\" class=\"dataframe\">\n",
       "  <thead>\n",
       "    <tr style=\"text-align: right;\">\n",
       "      <th></th>\n",
       "      <th>proj_cd</th>\n",
       "      <th>por_id</th>\n",
       "      <th>site_region_name</th>\n",
       "      <th>site_mkt_name</th>\n",
       "      <th>site_cty_name</th>\n",
       "      <th>site_county_name</th>\n",
       "      <th>site_addr_desc</th>\n",
       "      <th>site_type_desc</th>\n",
       "      <th>site_class_desc</th>\n",
       "      <th>Siterra_And_elemenT_Structure_Owner</th>\n",
       "      <th>...</th>\n",
       "      <th>awater</th>\n",
       "      <th>intptlat</th>\n",
       "      <th>intptlon</th>\n",
       "      <th>Universe_geometry_k</th>\n",
       "      <th>SITETYPE</th>\n",
       "      <th>LEVY_JURIS</th>\n",
       "      <th>PROPTYPE</th>\n",
       "      <th>KCA_ZONING</th>\n",
       "      <th>PREUSE_COD</th>\n",
       "      <th>PREUSE_DES</th>\n",
       "    </tr>\n",
       "  </thead>\n",
       "  <tbody>\n",
       "    <tr>\n",
       "      <th>0</th>\n",
       "      <td>SE04035A - Site Modification (4902665)</td>\n",
       "      <td>POR0348914,POR0256248</td>\n",
       "      <td>WEST</td>\n",
       "      <td>SEATTLE WA</td>\n",
       "      <td>Renton</td>\n",
       "      <td>King</td>\n",
       "      <td>3401 Lind Avenue SW</td>\n",
       "      <td>Structure Non Building</td>\n",
       "      <td>Monopole</td>\n",
       "      <td>Crown Castle T3</td>\n",
       "      <td>...</td>\n",
       "      <td>4544405.0</td>\n",
       "      <td>47.479191</td>\n",
       "      <td>-122.194613</td>\n",
       "      <td>73e4ab58f0aed3fd</td>\n",
       "      <td>C9</td>\n",
       "      <td>RENTON</td>\n",
       "      <td>C</td>\n",
       "      <td>IL</td>\n",
       "      <td>195.0</td>\n",
       "      <td>Warehouse</td>\n",
       "    </tr>\n",
       "    <tr>\n",
       "      <th>1</th>\n",
       "      <td>SE01130C - Site Modification (4902594)</td>\n",
       "      <td>POR0256260</td>\n",
       "      <td>WEST</td>\n",
       "      <td>SEATTLE WA</td>\n",
       "      <td>Seattle</td>\n",
       "      <td>King</td>\n",
       "      <td>9725 3rd Avenue NE</td>\n",
       "      <td>Building</td>\n",
       "      <td>Roof Top Mount</td>\n",
       "      <td>US Wireless, Inc.</td>\n",
       "      <td>...</td>\n",
       "      <td>150761136.0</td>\n",
       "      <td>47.619349</td>\n",
       "      <td>-122.351471</td>\n",
       "      <td>5b1ccf47ec6f6313</td>\n",
       "      <td>C1</td>\n",
       "      <td>SEATTLE</td>\n",
       "      <td>C</td>\n",
       "      <td>SM-NG 145</td>\n",
       "      <td>106.0</td>\n",
       "      <td>Office Building</td>\n",
       "    </tr>\n",
       "    <tr>\n",
       "      <th>2</th>\n",
       "      <td>SE02108E - Site Modification (4946325)</td>\n",
       "      <td>POR0307721,POR0254995,POR0327285</td>\n",
       "      <td>WEST</td>\n",
       "      <td>SEATTLE WA</td>\n",
       "      <td>Seattle</td>\n",
       "      <td>King</td>\n",
       "      <td>3206 SW Admiral Way</td>\n",
       "      <td>Structure Non Building</td>\n",
       "      <td>Wood Pole</td>\n",
       "      <td>City of Seattle</td>\n",
       "      <td>...</td>\n",
       "      <td>150761136.0</td>\n",
       "      <td>47.619349</td>\n",
       "      <td>-122.351471</td>\n",
       "      <td>5b1ccf47ec6f6313</td>\n",
       "      <td>NaN</td>\n",
       "      <td>NaN</td>\n",
       "      <td>NaN</td>\n",
       "      <td>NaN</td>\n",
       "      <td>NaN</td>\n",
       "      <td>NaN</td>\n",
       "    </tr>\n",
       "    <tr>\n",
       "      <th>3</th>\n",
       "      <td>SE03559F - Site Modification (4902649)</td>\n",
       "      <td>POR0260721,POR0308045</td>\n",
       "      <td>WEST</td>\n",
       "      <td>SEATTLE WA</td>\n",
       "      <td>Tukwila</td>\n",
       "      <td>King</td>\n",
       "      <td>4030 S. 140th St</td>\n",
       "      <td>Structure Non Building</td>\n",
       "      <td>Wood Pole</td>\n",
       "      <td>City of Seattle</td>\n",
       "      <td>...</td>\n",
       "      <td>1069363.0</td>\n",
       "      <td>47.476289</td>\n",
       "      <td>-122.275740</td>\n",
       "      <td>9b2abbc615945874</td>\n",
       "      <td>R2</td>\n",
       "      <td>TUKWILA</td>\n",
       "      <td>C</td>\n",
       "      <td>HDR</td>\n",
       "      <td>11.0</td>\n",
       "      <td>Apartment</td>\n",
       "    </tr>\n",
       "    <tr>\n",
       "      <th>4</th>\n",
       "      <td>SE02339D - Site Modification (4902627)</td>\n",
       "      <td>POR0256254</td>\n",
       "      <td>WEST</td>\n",
       "      <td>SEATTLE WA</td>\n",
       "      <td>Redmond</td>\n",
       "      <td>King</td>\n",
       "      <td>18609 NE 65th Street</td>\n",
       "      <td>Structure Non Building</td>\n",
       "      <td>Watertank</td>\n",
       "      <td>City of Redmond</td>\n",
       "      <td>...</td>\n",
       "      <td>1732419.0</td>\n",
       "      <td>47.677925</td>\n",
       "      <td>-122.115336</td>\n",
       "      <td>43129f32c57993d3</td>\n",
       "      <td>U1</td>\n",
       "      <td>REDMOND</td>\n",
       "      <td>C</td>\n",
       "      <td>MP</td>\n",
       "      <td>266.0</td>\n",
       "      <td>Utility, Public</td>\n",
       "    </tr>\n",
       "  </tbody>\n",
       "</table>\n",
       "<p>5 rows × 133 columns</p>\n",
       "</div>"
      ],
      "text/plain": [
       "                                  proj_cd                            por_id  \\\n",
       "0  SE04035A - Site Modification (4902665)             POR0348914,POR0256248   \n",
       "1  SE01130C - Site Modification (4902594)                        POR0256260   \n",
       "2  SE02108E - Site Modification (4946325)  POR0307721,POR0254995,POR0327285   \n",
       "3  SE03559F - Site Modification (4902649)             POR0260721,POR0308045   \n",
       "4  SE02339D - Site Modification (4902627)                        POR0256254   \n",
       "\n",
       "  site_region_name site_mkt_name site_cty_name site_county_name  \\\n",
       "0             WEST    SEATTLE WA        Renton             King   \n",
       "1             WEST    SEATTLE WA       Seattle             King   \n",
       "2             WEST    SEATTLE WA       Seattle             King   \n",
       "3             WEST    SEATTLE WA       Tukwila             King   \n",
       "4             WEST    SEATTLE WA       Redmond             King   \n",
       "\n",
       "         site_addr_desc          site_type_desc site_class_desc  \\\n",
       "0   3401 Lind Avenue SW  Structure Non Building        Monopole   \n",
       "1    9725 3rd Avenue NE                Building  Roof Top Mount   \n",
       "2   3206 SW Admiral Way  Structure Non Building       Wood Pole   \n",
       "3      4030 S. 140th St  Structure Non Building       Wood Pole   \n",
       "4  18609 NE 65th Street  Structure Non Building       Watertank   \n",
       "\n",
       "  Siterra_And_elemenT_Structure_Owner  ...       awater   intptlat  \\\n",
       "0                     Crown Castle T3  ...    4544405.0  47.479191   \n",
       "1                   US Wireless, Inc.  ...  150761136.0  47.619349   \n",
       "2                     City of Seattle  ...  150761136.0  47.619349   \n",
       "3                     City of Seattle  ...    1069363.0  47.476289   \n",
       "4                     City of Redmond  ...    1732419.0  47.677925   \n",
       "\n",
       "     intptlon Universe_geometry_k  SITETYPE  LEVY_JURIS PROPTYPE  KCA_ZONING  \\\n",
       "0 -122.194613    73e4ab58f0aed3fd        C9      RENTON        C          IL   \n",
       "1 -122.351471    5b1ccf47ec6f6313        C1     SEATTLE        C   SM-NG 145   \n",
       "2 -122.351471    5b1ccf47ec6f6313       NaN         NaN      NaN         NaN   \n",
       "3 -122.275740    9b2abbc615945874        R2     TUKWILA        C         HDR   \n",
       "4 -122.115336    43129f32c57993d3        U1     REDMOND        C          MP   \n",
       "\n",
       "   PREUSE_COD       PREUSE_DES  \n",
       "0       195.0        Warehouse  \n",
       "1       106.0  Office Building  \n",
       "2         NaN              NaN  \n",
       "3        11.0        Apartment  \n",
       "4       266.0  Utility, Public  \n",
       "\n",
       "[5 rows x 133 columns]"
      ]
     },
     "execution_count": 5,
     "metadata": {},
     "output_type": "execute_result"
    }
   ],
   "source": [
    "#display rows\n",
    "data2.head()"
   ]
  },
  {
   "cell_type": "code",
   "execution_count": 6,
   "id": "530a9831",
   "metadata": {},
   "outputs": [],
   "source": [
    "data['Siterra_And_elemenT_Structure_Owner'] = data2['Siterra_And_elemenT_Structure_Owner']"
   ]
  },
  {
   "cell_type": "code",
   "execution_count": 7,
   "id": "2eeff4e0",
   "metadata": {},
   "outputs": [],
   "source": [
    "data['por_plan_type_desc'] = data2['por_plan_type_desc']"
   ]
  },
  {
   "cell_type": "code",
   "execution_count": 8,
   "id": "9e8635cf",
   "metadata": {},
   "outputs": [
    {
     "data": {
      "text/plain": [
       "Index(['proj_cd', 'por_id', 'site_region_name', 'site_mkt_name',\n",
       "       'site_cty_name', 'site_county_name', 'site_addr_desc', 'site_type_desc',\n",
       "       'site_class_desc', 'Siterra_And_elemenT_Structure_Owner',\n",
       "       ...\n",
       "       'awater', 'intptlat', 'intptlon', 'Universe_geometry_k', 'SITETYPE',\n",
       "       'LEVY_JURIS', 'PROPTYPE', 'KCA_ZONING', 'PREUSE_COD', 'PREUSE_DES'],\n",
       "      dtype='object', length=133)"
      ]
     },
     "execution_count": 8,
     "metadata": {},
     "output_type": "execute_result"
    }
   ],
   "source": [
    "#column names\n",
    "data.columns"
   ]
  },
  {
   "cell_type": "code",
   "execution_count": 9,
   "id": "6a2ab6c2",
   "metadata": {},
   "outputs": [
    {
     "data": {
      "text/plain": [
       "Index(['proj_cd', 'por_id', 'site_region_name', 'site_mkt_name',\n",
       "       'site_cty_name', 'site_county_name', 'site_addr_desc', 'site_type_desc',\n",
       "       'site_class_desc', 'Siterra_And_elemenT_Structure_Owner',\n",
       "       ...\n",
       "       'awater', 'intptlat', 'intptlon', 'Universe_geometry_k', 'SITETYPE',\n",
       "       'LEVY_JURIS', 'PROPTYPE', 'KCA_ZONING', 'PREUSE_COD', 'PREUSE_DES'],\n",
       "      dtype='object', length=133)"
      ]
     },
     "execution_count": 9,
     "metadata": {},
     "output_type": "execute_result"
    }
   ],
   "source": [
    "#column names\n",
    "data2.columns"
   ]
  },
  {
   "cell_type": "code",
   "execution_count": 10,
   "id": "42d8e948",
   "metadata": {},
   "outputs": [
    {
     "data": {
      "text/plain": [
       "(449, 133)"
      ]
     },
     "execution_count": 10,
     "metadata": {},
     "output_type": "execute_result"
    }
   ],
   "source": [
    "#data dimensions\n",
    "data.shape"
   ]
  },
  {
   "cell_type": "code",
   "execution_count": 11,
   "id": "d9092f79",
   "metadata": {},
   "outputs": [
    {
     "data": {
      "text/plain": [
       "(449, 133)"
      ]
     },
     "execution_count": 11,
     "metadata": {},
     "output_type": "execute_result"
    }
   ],
   "source": [
    "#data dimensions\n",
    "data2.shape"
   ]
  },
  {
   "cell_type": "markdown",
   "id": "37be5b16",
   "metadata": {},
   "source": [
    "## Missing Data Analysis"
   ]
  },
  {
   "cell_type": "code",
   "execution_count": 12,
   "id": "7637ca54",
   "metadata": {},
   "outputs": [],
   "source": [
    "#store column names\n",
    "data_cols = data.columns"
   ]
  },
  {
   "cell_type": "code",
   "execution_count": 13,
   "id": "06703751",
   "metadata": {},
   "outputs": [],
   "source": [
    "#storing columns with null values separately\n",
    "isnull_cols = {}\n",
    "for feature in data_cols:\n",
    "    if data[feature].isnull().sum() > 0:\n",
    "        isnull_cols[feature] = data[feature].isnull().sum()"
   ]
  },
  {
   "cell_type": "code",
   "execution_count": 14,
   "id": "f6952a0f",
   "metadata": {
    "scrolled": true
   },
   "outputs": [
    {
     "data": {
      "text/plain": [
       "{'min_por_plan_status_dt': 40,\n",
       " 'max_por_plan_status_dt': 40,\n",
       " 'Min_HC_Release_POR': 25,\n",
       " 'id': 60,\n",
       " 'frm_apn': 60,\n",
       " 'orig_apn': 60,\n",
       " 'land_use': 60,\n",
       " 'land_use_name': 65,\n",
       " 'prop_ind': 60,\n",
       " 'property_indicator_name': 60,\n",
       " 'zoning': 60,\n",
       " 'tax_yr': 61,\n",
       " 'tax_amt': 61,\n",
       " 'tot_val': 122,\n",
       " 'imp_val': 160,\n",
       " 'lan_val': 123,\n",
       " 'imp_land_ratio': 161,\n",
       " 'land_value_assessment_type': 60,\n",
       " 'total_value_assessment_type': 60,\n",
       " 'mkt_imp': 160,\n",
       " 'mkt_lan': 123,\n",
       " 'mkt_val': 122,\n",
       " 'mkt_imp_land_ratio': 161,\n",
       " 'assd_imp': 160,\n",
       " 'assd_lan': 123,\n",
       " 'assd_val': 122,\n",
       " 'assd_imp_land_ratio': 161,\n",
       " 'yr_blt': 152,\n",
       " 'eff_yr_blt': 187,\n",
       " 'bld_units': 96,\n",
       " 'units_nbr': 378,\n",
       " 'land_acres': 60,\n",
       " 'land_sq_ft': 60,\n",
       " 'bld_sq_ft': 164,\n",
       " 'bldg_far': 164,\n",
       " 'ubld_sq_ft': 153,\n",
       " 'adj_sq_ft': 204,\n",
       " 'bsmt_sq_ft': 430,\n",
       " 'front_ft': 449,\n",
       " 'depth_ft': 449,\n",
       " 'gf_sq_ft': 409,\n",
       " 'pool': 434,\n",
       " 'energy_use_type': 449,\n",
       " 'water_type': 73,\n",
       " 'fuel_type': 449,\n",
       " 'sewer_type': 449,\n",
       " 'std_addr': 102,\n",
       " 'std_state': 102,\n",
       " 'std_zip': 102,\n",
       " 'census_tr': 67,\n",
       " 'cnty_code': 60,\n",
       " 'state_code': 60,\n",
       " 'geometry_key': 60,\n",
       " 'geometry_k': 60,\n",
       " 'fid': 35,\n",
       " 'statefp': 35,\n",
       " 'placefp': 35,\n",
       " 'placens': 35,\n",
       " 'geoid': 35,\n",
       " 'name': 35,\n",
       " 'namelsad': 35,\n",
       " 'lsad': 35,\n",
       " 'classfp': 35,\n",
       " 'pcicbsa': 35,\n",
       " 'pcinecta': 35,\n",
       " 'mtfcc': 35,\n",
       " 'funcstat': 35,\n",
       " 'aland': 35,\n",
       " 'awater': 35,\n",
       " 'intptlat': 35,\n",
       " 'intptlon': 35,\n",
       " 'Universe_geometry_k': 35,\n",
       " 'SITETYPE': 89,\n",
       " 'LEVY_JURIS': 86,\n",
       " 'PROPTYPE': 59,\n",
       " 'KCA_ZONING': 59,\n",
       " 'PREUSE_COD': 59,\n",
       " 'PREUSE_DES': 67}"
      ]
     },
     "execution_count": 14,
     "metadata": {},
     "output_type": "execute_result"
    }
   ],
   "source": [
    "#dictionary containing null counts \n",
    "isnull_cols"
   ]
  },
  {
   "cell_type": "code",
   "execution_count": 15,
   "id": "1e651d46",
   "metadata": {},
   "outputs": [
    {
     "data": {
      "text/plain": [
       "proj_cd              0.000000\n",
       "por_id               0.000000\n",
       "site_region_name     0.000000\n",
       "site_mkt_name        0.000000\n",
       "site_cty_name        0.000000\n",
       "                      ...    \n",
       "LEVY_JURIS          19.153675\n",
       "PROPTYPE            13.140312\n",
       "KCA_ZONING          13.140312\n",
       "PREUSE_COD          13.140312\n",
       "PREUSE_DES          14.922049\n",
       "Length: 133, dtype: float64"
      ]
     },
     "execution_count": 15,
     "metadata": {},
     "output_type": "execute_result"
    }
   ],
   "source": [
    "# calculating missing values percentage\n",
    "percent_missing = data.isnull().sum() / len(data) * 100\n",
    "percent_missing"
   ]
  },
  {
   "cell_type": "code",
   "execution_count": 16,
   "id": "2d063ba4",
   "metadata": {
    "tags": []
   },
   "outputs": [
    {
     "data": {
      "text/plain": [
       "proj_cd              object\n",
       "por_id               object\n",
       "site_region_name     object\n",
       "site_mkt_name        object\n",
       "site_cty_name        object\n",
       "                     ...   \n",
       "LEVY_JURIS           object\n",
       "PROPTYPE             object\n",
       "KCA_ZONING           object\n",
       "PREUSE_COD          float64\n",
       "PREUSE_DES           object\n",
       "Length: 133, dtype: object"
      ]
     },
     "execution_count": 16,
     "metadata": {},
     "output_type": "execute_result"
    }
   ],
   "source": [
    "#checking datatypes\n",
    "data.dtypes"
   ]
  },
  {
   "cell_type": "markdown",
   "id": "3c47a91b-12b8-4430-9b86-f47ad10a7b0a",
   "metadata": {},
   "source": [
    "## Features of interest"
   ]
  },
  {
   "cell_type": "code",
   "execution_count": 17,
   "id": "6f3c2aff",
   "metadata": {},
   "outputs": [],
   "source": [
    "#Final features for the dataset\n",
    "#added PROPTYPE feature to the dataset\n",
    "data_v1 = data[['site_type_desc','site_class_desc','MLA_Partner','MLA_Flag','isurban','EC Duration',\n",
    "            'Category_v_Anchor','Category_v_L600','Category_v_Capacity_Other','max_proj_l600_flg','max_proj_2500_flg',\n",
    "            'Min_SC_Release_POR','land_use_name','property_indicator_name','tax_amt','yr_blt','land_acres','std_city',\n",
    "                'PROPTYPE']]"
   ]
  },
  {
   "cell_type": "code",
   "execution_count": 18,
   "id": "09bddd9a",
   "metadata": {},
   "outputs": [],
   "source": [
    "#removing columns\n",
    "data_v1.drop(['Category_v_Anchor', 'land_use_name'], axis = 1, inplace = True)"
   ]
  },
  {
   "cell_type": "markdown",
   "id": "3a530d85",
   "metadata": {},
   "source": [
    "#### Feature Engineering"
   ]
  },
  {
   "cell_type": "code",
   "execution_count": 19,
   "id": "56ec849a",
   "metadata": {},
   "outputs": [],
   "source": [
    "#created tax_per_acre column\n",
    "data_v1['tax_per_acre'] = data_v1['tax_amt']/data_v1['land_acres']"
   ]
  },
  {
   "cell_type": "code",
   "execution_count": 20,
   "id": "c30dbd50",
   "metadata": {},
   "outputs": [],
   "source": [
    "#dropping 'tax_amt' to use 'tax_per_acre' column instead\n",
    "data_v1.drop('tax_amt', axis = 1, inplace = True)"
   ]
  },
  {
   "cell_type": "code",
   "execution_count": 21,
   "id": "150d8f51",
   "metadata": {},
   "outputs": [],
   "source": [
    "#adding age column using yr_blt column\n",
    "data_v1['age'] = 2022 - data_v1['yr_blt']"
   ]
  },
  {
   "cell_type": "code",
   "execution_count": 22,
   "id": "65a33fdf",
   "metadata": {},
   "outputs": [],
   "source": [
    "#dropping 'yr_blt' to use 'age' column instead\n",
    "data_v1.drop('yr_blt', axis = 1, inplace = True)"
   ]
  },
  {
   "cell_type": "code",
   "execution_count": 23,
   "id": "99f6fe58",
   "metadata": {},
   "outputs": [],
   "source": [
    "#dropping column due to high correlation with 'max_proj_l600_flg' \n",
    "data_v1.drop('Category_v_L600', axis = 1, inplace = True)"
   ]
  },
  {
   "cell_type": "code",
   "execution_count": 24,
   "id": "afb78e35",
   "metadata": {},
   "outputs": [],
   "source": [
    "#converting 'Min_SC_Release_POR' column to datetime format\n",
    "data_v1['Min_SC_Release_POR'] = pd.to_datetime(data_v1['Min_SC_Release_POR'])"
   ]
  },
  {
   "cell_type": "code",
   "execution_count": 25,
   "id": "602e2e22",
   "metadata": {},
   "outputs": [],
   "source": [
    "#storing 'month' from 'Min_SC_Release_POR' to a different column\n",
    "data_v1['SC_month'] = data_v1['Min_SC_Release_POR'].dt.month"
   ]
  },
  {
   "cell_type": "code",
   "execution_count": 26,
   "id": "9baef002",
   "metadata": {},
   "outputs": [],
   "source": [
    "#storing 'year' from 'Min_SC_Release_POR' to a different column\n",
    "data_v1['SC_year'] = data_v1['Min_SC_Release_POR'].dt.year"
   ]
  },
  {
   "cell_type": "markdown",
   "id": "16ef772a",
   "metadata": {},
   "source": [
    "#### Bucketizing Categorical data columns"
   ]
  },
  {
   "cell_type": "markdown",
   "id": "135cadc0",
   "metadata": {},
   "source": [
    "1. Bucketizing the **'property_indicator_name'** into following classes -\n",
    "\n",
    "Class 1:\n",
    "- SINGLE FAMILY RESIDENCE\n",
    "- OFFICE BUILDING\n",
    "- WAREHOUSE\n",
    "- RETAIL\n",
    "- VACANT\n",
    "- AMUSEMENT-RECREATION\n",
    "- EXEMPT\n",
    "- CONDOMINIUM\n",
    "- INDUSTRIAL\n",
    "- PARKING\n",
    "- INDUSTRIAL LIGHT\n",
    "\n",
    "Class 2:\n",
    "- APARTMENT\n",
    "- UTILITIES\n",
    "- MISCELLANEOUS\n",
    "- HOTEL, MOTEL\n",
    "\n",
    "Class 3:\n",
    "- COMMERCIAL\n",
    "- SERVICE\n",
    "\n",
    "Class 4:\n",
    "- INDUSTRIAL HEAVY            \n",
    "- DUPLEX                      \n",
    "- TRANSPORT                   \n",
    "- HOSPITAL                    \n",
    "- COMMERCIAL CONDOMINIUM      \n",
    "- AGRICULTURAL  \n",
    "\n"
   ]
  },
  {
   "cell_type": "markdown",
   "id": "2269f5b3",
   "metadata": {},
   "source": [
    "2. Bucketizing the **'std_city'** based on their location in 4 major regions in the King County - North, East, Seattle, and South. Unless otherwise noted in the Notes & Sources section for the indicator, region boundaries are based on aggregated cities and neighborhoods and census block groups. \n",
    "\n",
    "North Region includes the areas of Bothell, Cottage Lake, Kenmore, Lake Forest Park, Shoreline, and Woodinville.\n",
    "\n",
    "East Region includes Bellevue, Carnation, Duvall, Issaquah, Kirkland, Medina, Mercer Island, Newcastle, North Bend, Redmond, Sammamish, and Skykomish. \n",
    "\n",
    "South region contains Auburn, Burien, Covington, Des Moines, Enumclaw, Federal Way, Kent, Maple Valley, Normandy Park, Renton, Tukwila, SeaTac, White Center/Boulevard Park, and Vashon Island.\n",
    "\n",
    "**Reference for grouping based on regions in King County: https://www.communitiescount.org/king-county-geographies**"
   ]
  },
  {
   "cell_type": "code",
   "execution_count": 27,
   "id": "8446dbeb",
   "metadata": {},
   "outputs": [],
   "source": [
    "#data with COVID related EC Duration outliers in April 2020 \n",
    "data_apr = data_v1[(data_v1['SC_month'] == 4) & (data_v1['SC_year'] == 2020) & (data_v1['EC Duration'] > 10)]"
   ]
  },
  {
   "cell_type": "code",
   "execution_count": 28,
   "id": "71da4b73",
   "metadata": {},
   "outputs": [],
   "source": [
    "#data with COVID related EC Duration outliers in May 2020\n",
    "data_may = data_v1[(data_v1['SC_month'] == 5) & (data_v1['SC_year'] == 2020) & (data_v1['EC Duration'] > 10)]"
   ]
  },
  {
   "cell_type": "code",
   "execution_count": 29,
   "id": "a3860479",
   "metadata": {},
   "outputs": [],
   "source": [
    "#data with COVID related EC Duration outliers in June 2020\n",
    "data_june = data_v1[(data_v1['SC_month'] == 6) & (data_v1['SC_year'] == 2020) & (data_v1['EC Duration'] > 10)]"
   ]
  },
  {
   "cell_type": "code",
   "execution_count": 30,
   "id": "faf5109e",
   "metadata": {},
   "outputs": [],
   "source": [
    "#data with COVID related EC Duration outliers in July 2020\n",
    "data_july = data_v1[(data_v1['SC_month'] == 7) & (data_v1['SC_year'] == 2020) & (data_v1['EC Duration'] > 10)]"
   ]
  },
  {
   "cell_type": "code",
   "execution_count": 31,
   "id": "faac63df",
   "metadata": {},
   "outputs": [],
   "source": [
    "#data with COVID related EC Duration outliers in August 2020\n",
    "data_august = data_v1[(data_v1['SC_month'] == 8) & (data_v1['SC_year'] == 2020) & (data_v1['EC Duration'] > 10)]"
   ]
  },
  {
   "cell_type": "code",
   "execution_count": 32,
   "id": "d4cf4b1c",
   "metadata": {},
   "outputs": [],
   "source": [
    "#data with COVID related EC Duration outliers in September 2020\n",
    "data_sep = data_v1[(data_v1['SC_month'] == 9) & (data_v1['SC_year'] == 2020) & (data_v1['EC Duration'] > 10)]"
   ]
  },
  {
   "cell_type": "code",
   "execution_count": 33,
   "id": "b5efa1c7",
   "metadata": {},
   "outputs": [],
   "source": [
    "#data with COVID related EC Duration outliers in October 2020\n",
    "data_oct = data_v1[(data_v1['SC_month'] == 10) & (data_v1['SC_year'] == 2020) & (data_v1['EC Duration'] > 10)]"
   ]
  },
  {
   "cell_type": "code",
   "execution_count": 34,
   "id": "a1c13408",
   "metadata": {},
   "outputs": [],
   "source": [
    "#data with COVID related EC Duration outliers in December 2020\n",
    "data_dec = data_v1[(data_v1['SC_month'] == 12) & (data_v1['SC_year'] == 2020) & (data_v1['EC Duration'] > 10)]"
   ]
  },
  {
   "cell_type": "code",
   "execution_count": 35,
   "id": "635d0c4b",
   "metadata": {},
   "outputs": [],
   "source": [
    "#combining all of 2020 data\n",
    "data_v3 = pd.concat([data_apr, data_may, data_june, data_july, data_august, data_sep, data_oct, data_dec])"
   ]
  },
  {
   "cell_type": "code",
   "execution_count": 36,
   "id": "49b61415",
   "metadata": {},
   "outputs": [],
   "source": [
    "#excluding 2020 COVID outlier data from main dataset\n",
    "data_v1 = data_v1.drop(data_v3.index)"
   ]
  },
  {
   "cell_type": "code",
   "execution_count": 37,
   "id": "365d34dc",
   "metadata": {},
   "outputs": [],
   "source": [
    "#dropping a date column\n",
    "data_v1.drop(['Min_SC_Release_POR','SC_month','SC_year'], axis = 1, inplace = True)"
   ]
  },
  {
   "cell_type": "code",
   "execution_count": 38,
   "id": "ef07690d",
   "metadata": {},
   "outputs": [
    {
     "name": "stdout",
     "output_type": "stream",
     "text": [
      "Number of categorical features: 7\n",
      "Categorical features: ['site_type_desc', 'site_class_desc', 'MLA_Partner', 'MLA_Flag', 'property_indicator_name', 'std_city', 'PROPTYPE']\n"
     ]
    }
   ],
   "source": [
    "#separating categorical features in the dataset\n",
    "categorical_features = [column_name for column_name in data_v1.columns if data_v1[column_name].dtype == 'O']\n",
    "print('Number of categorical features: {}'.format(len(categorical_features)))\n",
    "print('Categorical features: {}'.format(list(categorical_features)))"
   ]
  },
  {
   "cell_type": "code",
   "execution_count": 39,
   "id": "0919f23e",
   "metadata": {},
   "outputs": [
    {
     "name": "stdout",
     "output_type": "stream",
     "text": [
      "Number of numerical features: 8\n",
      "Numerical Features: ['isurban', 'EC Duration', 'Category_v_Capacity_Other', 'max_proj_l600_flg', 'max_proj_2500_flg', 'land_acres', 'tax_per_acre', 'age']\n"
     ]
    }
   ],
   "source": [
    "#Separating numerical features in the dataset\n",
    "numerical_features = [column_name for column_name in data_v1.columns if data_v1[column_name].dtype != 'O']\n",
    "print('Number of numerical features: {}'.format(len(numerical_features)))\n",
    "print('Numerical Features:', list(numerical_features))"
   ]
  },
  {
   "cell_type": "markdown",
   "id": "780587bf-ccac-446c-a3d1-ec55f4d1717d",
   "metadata": {},
   "source": [
    "#### Cardinality\n",
    "Conclusions:\n",
    " - land_use_name, property_indicator_name, std_city are all high-cardinality, requiring reduction\n",
    " - site_class_desc should be considered for grouping"
   ]
  },
  {
   "cell_type": "code",
   "execution_count": 40,
   "id": "3d9cdc4c",
   "metadata": {},
   "outputs": [
    {
     "name": "stdout",
     "output_type": "stream",
     "text": [
      "site_type_desc : 2\n",
      "site_class_desc : 14\n",
      "MLA_Partner : 3\n",
      "MLA_Flag : 2\n",
      "property_indicator_name : 24\n",
      "std_city : 36\n",
      "PROPTYPE : 5\n"
     ]
    }
   ],
   "source": [
    "#checking cardinality\n",
    "for each_feature in categorical_features:\n",
    "    unique_values = len(data[each_feature].unique())\n",
    "    print('{} : {}'.format(each_feature, unique_values))"
   ]
  },
  {
   "cell_type": "markdown",
   "id": "9682f6a8-22fa-4129-98bf-66801a6d8e59",
   "metadata": {},
   "source": [
    "### Sweetvis Report"
   ]
  },
  {
   "cell_type": "code",
   "execution_count": 41,
   "id": "6b526734",
   "metadata": {},
   "outputs": [],
   "source": [
    "# pip install sweetviz\n",
    "# Importing Sweetviz for analysis\n",
    "import sweetviz as sv"
   ]
  },
  {
   "cell_type": "code",
   "execution_count": 42,
   "id": "a4fbf3e0",
   "metadata": {},
   "outputs": [
    {
     "data": {
      "application/vnd.jupyter.widget-view+json": {
       "model_id": "3c5888568032410084319254e97c380e",
       "version_major": 2,
       "version_minor": 0
      },
      "text/plain": [
       "                                             |                                             | [  0%]   00:00 ->…"
      ]
     },
     "metadata": {},
     "output_type": "display_data"
    },
    {
     "name": "stdout",
     "output_type": "stream",
     "text": [
      "Report EC_v2_Analysis.html was generated! NOTEBOOK/COLAB USERS: the web browser MAY not pop up, regardless, the report IS saved in your notebook/colab files.\n"
     ]
    }
   ],
   "source": [
    "# generating report around data \n",
    "report = sv.analyze(source=data_v1,target_feat='EC Duration', pairwise_analysis='on')\n",
    "report.show_html('EC_v2_Analysis.html')"
   ]
  },
  {
   "cell_type": "markdown",
   "id": "463d8bb9",
   "metadata": {},
   "source": [
    "### Without Urban Planning Data"
   ]
  },
  {
   "cell_type": "code",
   "execution_count": 43,
   "id": "f0060d9e",
   "metadata": {},
   "outputs": [],
   "source": [
    "#excluding features beonging to urban planning data\n",
    "data_v1 = data_v1.drop(['property_indicator_name','land_acres','std_city','PROPTYPE','tax_per_acre','age'], axis = 1)"
   ]
  },
  {
   "cell_type": "code",
   "execution_count": 44,
   "id": "50fbcc33",
   "metadata": {},
   "outputs": [],
   "source": [
    "#readding 'site_cty_name' column from T-Mobile data\n",
    "data_v1['site_cty_name'] = data['site_cty_name']"
   ]
  },
  {
   "cell_type": "code",
   "execution_count": 45,
   "id": "6bda739f",
   "metadata": {},
   "outputs": [],
   "source": [
    "#creating new labels based on main 4 regions in the King County\n",
    "data_change = {'Seattle': 'Seattle', 'Bellevue':'East','Renton':'South','Redmond':'East','Kent':'South','Auburn':'South',\n",
    "              'Kirkland':'East','Issaquah':'East','Shoreline':'North','Bothell':'North','Tukwila':'South',\n",
    "               'Sammamish':'East','Fall City':'unincorporated/federal','Snoqualmie':'East','Burien':'South',\n",
    "               'Federal Way':'South','Duvall':'East','Carnation':'East','Seatac':'South','Woodinville':'North',\n",
    "               'Vashon Island':'South','Kenmore':'North','Mercer Island': 'East','Preston':'East','Black Diamond':'South',\n",
    "               'Enumclaw Plateau':'South','North Bend':'East','Enumclaw':'South','Ravensdale':'South',\n",
    "               'Newcastle':'East','Factoria':'East','SeaTac':'South','Maple Valley':'South','Clyde Hill':'East',\n",
    "               'Vashon':'South','East Seattle':'Seattle','Lake Forest Park':'North','Pacific':'South',\n",
    "               'Snoqualmie Pass':'East','USFS':'South','Skykomish':'East'}"
   ]
  },
  {
   "cell_type": "code",
   "execution_count": 46,
   "id": "67aff944",
   "metadata": {},
   "outputs": [],
   "source": [
    "# relabelling classes in the property_indicator_name column\n",
    "data_v1['site_cty_name'] = data_v1.site_cty_name.map(data_change)"
   ]
  },
  {
   "cell_type": "code",
   "execution_count": 47,
   "id": "e94d0c7a",
   "metadata": {},
   "outputs": [
    {
     "data": {
      "text/plain": [
       "site_type_desc               0\n",
       "site_class_desc              0\n",
       "MLA_Partner                  0\n",
       "MLA_Flag                     0\n",
       "isurban                      0\n",
       "EC Duration                  0\n",
       "Category_v_Capacity_Other    0\n",
       "max_proj_l600_flg            0\n",
       "max_proj_2500_flg            0\n",
       "site_cty_name                0\n",
       "dtype: int64"
      ]
     },
     "execution_count": 47,
     "metadata": {},
     "output_type": "execute_result"
    }
   ],
   "source": [
    "#checking null values\n",
    "data_v1.isnull().sum()"
   ]
  },
  {
   "cell_type": "markdown",
   "id": "443bb7de",
   "metadata": {},
   "source": [
    "#### One-hot Encoding"
   ]
  },
  {
   "cell_type": "code",
   "execution_count": 48,
   "id": "2c9a5811",
   "metadata": {},
   "outputs": [],
   "source": [
    "# dummy_na parameter helps get separate column for null values, treating them as a separate feature\n",
    "data_v1 = pd.get_dummies(data_v1, dummy_na=True)"
   ]
  },
  {
   "cell_type": "code",
   "execution_count": 49,
   "id": "9e9d8081",
   "metadata": {},
   "outputs": [],
   "source": [
    "# assigning to new dataset\n",
    "data_v1_oh = data_v1"
   ]
  },
  {
   "cell_type": "markdown",
   "id": "418fbb91",
   "metadata": {},
   "source": [
    "#### Separating Target and Features"
   ]
  },
  {
   "cell_type": "code",
   "execution_count": 50,
   "id": "6f1fa0b6",
   "metadata": {},
   "outputs": [],
   "source": [
    "#separating target variable\n",
    "X = data_v1_oh.drop(['EC Duration'], axis = 1)\n",
    "y = data_v1_oh['EC Duration']"
   ]
  },
  {
   "cell_type": "markdown",
   "id": "d405b463",
   "metadata": {},
   "source": [
    "# Model Training"
   ]
  },
  {
   "cell_type": "markdown",
   "id": "fa684974",
   "metadata": {},
   "source": [
    "### Neural Net"
   ]
  },
  {
   "cell_type": "code",
   "execution_count": 51,
   "id": "cfedc9b7",
   "metadata": {},
   "outputs": [],
   "source": [
    "#separating training and testing data\n",
    "from sklearn.model_selection import train_test_split\n",
    "X_train, X_test, y_train, y_test = train_test_split(X, y, test_size = 0.2, random_state = 42)"
   ]
  },
  {
   "cell_type": "code",
   "execution_count": 52,
   "id": "0e06c310",
   "metadata": {},
   "outputs": [],
   "source": [
    "#scaling the features\n",
    "scaler = MinMaxScaler() #StandardScaler() #QuantileTransformer(output_distribution=\"uniform\")\n",
    "\n",
    "X_train_scaled = scaler.fit_transform(X_train)\n",
    "X_test_scaled = scaler.transform(X_test)"
   ]
  },
  {
   "cell_type": "code",
   "execution_count": 53,
   "id": "46a3bb03",
   "metadata": {},
   "outputs": [],
   "source": [
    "#install tensorflow\n",
    "# pip install tensorflow"
   ]
  },
  {
   "cell_type": "code",
   "execution_count": 54,
   "id": "6b35af8e",
   "metadata": {},
   "outputs": [],
   "source": [
    "#importing tensorflow\n",
    "import tensorflow as tf"
   ]
  },
  {
   "cell_type": "code",
   "execution_count": 55,
   "id": "92aba9c0",
   "metadata": {},
   "outputs": [],
   "source": [
    "#building a neural network\n",
    "tf.random.set_seed(42)"
   ]
  },
  {
   "cell_type": "code",
   "execution_count": 56,
   "id": "ad5127af",
   "metadata": {},
   "outputs": [],
   "source": [
    "#create a model\n",
    "nn_model_2=tf.keras.Sequential([\n",
    "    tf.keras.layers.Dense(100),\n",
    "    tf.keras.layers.Dense(10),\n",
    "    tf.keras.layers.Dense(1)\n",
    "])"
   ]
  },
  {
   "cell_type": "code",
   "execution_count": 57,
   "id": "dba8337e",
   "metadata": {},
   "outputs": [],
   "source": [
    "#compile the model\n",
    "nn_model_2.compile(loss=tf.keras.losses.mae,\n",
    "                          optimizer=tf.keras.optimizers.Adam(),\n",
    "                          metrics=[\"mae\"]\n",
    ")"
   ]
  },
  {
   "cell_type": "code",
   "execution_count": 58,
   "id": "1ea8c94a",
   "metadata": {},
   "outputs": [
    {
     "name": "stdout",
     "output_type": "stream",
     "text": [
      "Epoch 1/300\n",
      "10/10 [==============================] - 0s 2ms/step - loss: 4.2248 - mae: 4.2248\n",
      "Epoch 2/300\n",
      "10/10 [==============================] - 0s 888us/step - loss: 2.7016 - mae: 2.7016\n",
      "Epoch 3/300\n",
      "10/10 [==============================] - 0s 976us/step - loss: 2.0904 - mae: 2.0904\n",
      "Epoch 4/300\n",
      "10/10 [==============================] - 0s 877us/step - loss: 2.0524 - mae: 2.0524\n",
      "Epoch 5/300\n",
      "10/10 [==============================] - 0s 888us/step - loss: 1.9713 - mae: 1.9713\n",
      "Epoch 6/300\n",
      "10/10 [==============================] - 0s 889us/step - loss: 1.9399 - mae: 1.9399\n",
      "Epoch 7/300\n",
      "10/10 [==============================] - 0s 888us/step - loss: 1.9069 - mae: 1.9069\n",
      "Epoch 8/300\n",
      "10/10 [==============================] - 0s 888us/step - loss: 1.8861 - mae: 1.8861\n",
      "Epoch 9/300\n",
      "10/10 [==============================] - 0s 888us/step - loss: 1.8650 - mae: 1.8650\n",
      "Epoch 10/300\n",
      "10/10 [==============================] - 0s 1ms/step - loss: 1.8425 - mae: 1.8425\n",
      "Epoch 11/300\n",
      "10/10 [==============================] - 0s 681us/step - loss: 1.8339 - mae: 1.8339\n",
      "Epoch 12/300\n",
      "10/10 [==============================] - 0s 889us/step - loss: 1.8152 - mae: 1.8152\n",
      "Epoch 13/300\n",
      "10/10 [==============================] - 0s 889us/step - loss: 1.8093 - mae: 1.8093\n",
      "Epoch 14/300\n",
      "10/10 [==============================] - 0s 888us/step - loss: 1.8081 - mae: 1.8081\n",
      "Epoch 15/300\n",
      "10/10 [==============================] - 0s 888us/step - loss: 1.7768 - mae: 1.7768\n",
      "Epoch 16/300\n",
      "10/10 [==============================] - 0s 888us/step - loss: 1.7809 - mae: 1.7809\n",
      "Epoch 17/300\n",
      "10/10 [==============================] - 0s 888us/step - loss: 1.7906 - mae: 1.7906\n",
      "Epoch 18/300\n",
      "10/10 [==============================] - 0s 888us/step - loss: 1.7686 - mae: 1.7686\n",
      "Epoch 19/300\n",
      "10/10 [==============================] - 0s 888us/step - loss: 1.7501 - mae: 1.7501\n",
      "Epoch 20/300\n",
      "10/10 [==============================] - 0s 2ms/step - loss: 1.7504 - mae: 1.7504\n",
      "Epoch 21/300\n",
      "10/10 [==============================] - 0s 1ms/step - loss: 1.7480 - mae: 1.7480\n",
      "Epoch 22/300\n",
      "10/10 [==============================] - 0s 1ms/step - loss: 1.7392 - mae: 1.7392\n",
      "Epoch 23/300\n",
      "10/10 [==============================] - 0s 817us/step - loss: 1.7335 - mae: 1.7335\n",
      "Epoch 24/300\n",
      "10/10 [==============================] - 0s 889us/step - loss: 1.7390 - mae: 1.7390\n",
      "Epoch 25/300\n",
      "10/10 [==============================] - 0s 888us/step - loss: 1.7416 - mae: 1.7416\n",
      "Epoch 26/300\n",
      "10/10 [==============================] - 0s 888us/step - loss: 1.7269 - mae: 1.7269\n",
      "Epoch 27/300\n",
      "10/10 [==============================] - 0s 885us/step - loss: 1.7358 - mae: 1.7358\n",
      "Epoch 28/300\n",
      "10/10 [==============================] - 0s 1ms/step - loss: 1.7255 - mae: 1.7255\n",
      "Epoch 29/300\n",
      "10/10 [==============================] - 0s 888us/step - loss: 1.7260 - mae: 1.7260\n",
      "Epoch 30/300\n",
      "10/10 [==============================] - 0s 888us/step - loss: 1.7173 - mae: 1.7173\n",
      "Epoch 31/300\n",
      "10/10 [==============================] - 0s 888us/step - loss: 1.7136 - mae: 1.7136\n",
      "Epoch 32/300\n",
      "10/10 [==============================] - 0s 888us/step - loss: 1.7137 - mae: 1.7137\n",
      "Epoch 33/300\n",
      "10/10 [==============================] - 0s 888us/step - loss: 1.7143 - mae: 1.7143\n",
      "Epoch 34/300\n",
      "10/10 [==============================] - 0s 888us/step - loss: 1.7210 - mae: 1.7210\n",
      "Epoch 35/300\n",
      "10/10 [==============================] - 0s 859us/step - loss: 1.7297 - mae: 1.7297\n",
      "Epoch 36/300\n",
      "10/10 [==============================] - 0s 888us/step - loss: 1.7193 - mae: 1.7193\n",
      "Epoch 37/300\n",
      "10/10 [==============================] - 0s 790us/step - loss: 1.7107 - mae: 1.7107\n",
      "Epoch 38/300\n",
      "10/10 [==============================] - 0s 888us/step - loss: 1.7083 - mae: 1.7083\n",
      "Epoch 39/300\n",
      "10/10 [==============================] - 0s 888us/step - loss: 1.7322 - mae: 1.7322\n",
      "Epoch 40/300\n",
      "10/10 [==============================] - 0s 888us/step - loss: 1.7261 - mae: 1.7261\n",
      "Epoch 41/300\n",
      "10/10 [==============================] - 0s 1ms/step - loss: 1.7083 - mae: 1.7083\n",
      "Epoch 42/300\n",
      "10/10 [==============================] - 0s 883us/step - loss: 1.7087 - mae: 1.7087\n",
      "Epoch 43/300\n",
      "10/10 [==============================] - 0s 888us/step - loss: 1.7524 - mae: 1.7524\n",
      "Epoch 44/300\n",
      "10/10 [==============================] - 0s 888us/step - loss: 1.7217 - mae: 1.7217\n",
      "Epoch 45/300\n",
      "10/10 [==============================] - 0s 889us/step - loss: 1.7182 - mae: 1.7182\n",
      "Epoch 46/300\n",
      "10/10 [==============================] - 0s 2ms/step - loss: 1.7243 - mae: 1.7243\n",
      "Epoch 47/300\n",
      "10/10 [==============================] - 0s 888us/step - loss: 1.7082 - mae: 1.7082\n",
      "Epoch 48/300\n",
      "10/10 [==============================] - 0s 888us/step - loss: 1.7003 - mae: 1.7003\n",
      "Epoch 49/300\n",
      "10/10 [==============================] - 0s 2ms/step - loss: 1.7067 - mae: 1.7067\n",
      "Epoch 50/300\n",
      "10/10 [==============================] - 0s 888us/step - loss: 1.7038 - mae: 1.7038\n",
      "Epoch 51/300\n",
      "10/10 [==============================] - 0s 888us/step - loss: 1.7178 - mae: 1.7178\n",
      "Epoch 52/300\n",
      "10/10 [==============================] - 0s 888us/step - loss: 1.7020 - mae: 1.7020\n",
      "Epoch 53/300\n",
      "10/10 [==============================] - 0s 2ms/step - loss: 1.7018 - mae: 1.7018\n",
      "Epoch 54/300\n",
      "10/10 [==============================] - 0s 888us/step - loss: 1.7037 - mae: 1.7037\n",
      "Epoch 55/300\n",
      "10/10 [==============================] - 0s 2ms/step - loss: 1.7010 - mae: 1.7010\n",
      "Epoch 56/300\n",
      "10/10 [==============================] - 0s 1ms/step - loss: 1.6981 - mae: 1.6981\n",
      "Epoch 57/300\n",
      "10/10 [==============================] - 0s 586us/step - loss: 1.7207 - mae: 1.7207\n",
      "Epoch 58/300\n",
      "10/10 [==============================] - 0s 244us/step - loss: 1.7040 - mae: 1.7040\n",
      "Epoch 59/300\n",
      "10/10 [==============================] - 0s 977us/step - loss: 1.6977 - mae: 1.6977\n",
      "Epoch 60/300\n",
      "10/10 [==============================] - 0s 1ms/step - loss: 1.6992 - mae: 1.6992\n",
      "Epoch 61/300\n",
      "10/10 [==============================] - 0s 347us/step - loss: 1.7033 - mae: 1.7033\n",
      "Epoch 62/300\n",
      "10/10 [==============================] - 0s 517us/step - loss: 1.7097 - mae: 1.7097\n",
      "Epoch 63/300\n",
      "10/10 [==============================] - 0s 992us/step - loss: 1.7023 - mae: 1.7023\n",
      "Epoch 64/300\n",
      "10/10 [==============================] - 0s 356us/step - loss: 1.7073 - mae: 1.7073\n",
      "Epoch 65/300\n",
      "10/10 [==============================] - 0s 1ms/step - loss: 1.7081 - mae: 1.7081\n",
      "Epoch 66/300\n",
      "10/10 [==============================] - 0s 861us/step - loss: 1.7037 - mae: 1.7037\n",
      "Epoch 67/300\n",
      "10/10 [==============================] - 0s 955us/step - loss: 1.7148 - mae: 1.7148\n",
      "Epoch 68/300\n",
      "10/10 [==============================] - 0s 260us/step - loss: 1.7259 - mae: 1.7259\n",
      "Epoch 69/300\n",
      "10/10 [==============================] - 0s 447us/step - loss: 1.7317 - mae: 1.7317\n",
      "Epoch 70/300\n",
      "10/10 [==============================] - 0s 1ms/step - loss: 1.7059 - mae: 1.7059\n",
      "Epoch 71/300\n",
      "10/10 [==============================] - 0s 786us/step - loss: 1.7080 - mae: 1.7080\n",
      "Epoch 72/300\n",
      "10/10 [==============================] - 0s 272us/step - loss: 1.7046 - mae: 1.7046\n",
      "Epoch 73/300\n",
      "10/10 [==============================] - 0s 903us/step - loss: 1.7020 - mae: 1.7020\n",
      "Epoch 74/300\n",
      "10/10 [==============================] - 0s 1ms/step - loss: 1.7056 - mae: 1.7056\n",
      "Epoch 75/300\n",
      "10/10 [==============================] - 0s 432us/step - loss: 1.6972 - mae: 1.6972\n",
      "Epoch 76/300\n",
      "10/10 [==============================] - 0s 904us/step - loss: 1.7109 - mae: 1.7109\n",
      "Epoch 77/300\n",
      "10/10 [==============================] - 0s 934us/step - loss: 1.7107 - mae: 1.7107\n",
      "Epoch 78/300\n",
      "10/10 [==============================] - 0s 202us/step - loss: 1.6968 - mae: 1.6968\n",
      "Epoch 79/300\n",
      "10/10 [==============================] - 0s 340us/step - loss: 1.7197 - mae: 1.7197\n",
      "Epoch 80/300\n",
      "10/10 [==============================] - 0s 902us/step - loss: 1.7143 - mae: 1.7143\n",
      "Epoch 81/300\n",
      "10/10 [==============================] - 0s 947us/step - loss: 1.6922 - mae: 1.6922\n",
      "Epoch 82/300\n",
      "10/10 [==============================] - 0s 250us/step - loss: 1.7032 - mae: 1.7032\n",
      "Epoch 83/300\n",
      "10/10 [==============================] - 0s 888us/step - loss: 1.7130 - mae: 1.7130\n",
      "Epoch 84/300\n",
      "10/10 [==============================] - 0s 1ms/step - loss: 1.7016 - mae: 1.7016\n",
      "Epoch 85/300\n",
      "10/10 [==============================] - 0s 1ms/step - loss: 1.7000 - mae: 1.7000\n",
      "Epoch 86/300\n",
      "10/10 [==============================] - 0s 476us/step - loss: 1.6991 - mae: 1.6991\n",
      "Epoch 87/300\n",
      "10/10 [==============================] - 0s 1ms/step - loss: 1.6976 - mae: 1.6976\n",
      "Epoch 88/300\n",
      "10/10 [==============================] - 0s 736us/step - loss: 1.6999 - mae: 1.6999\n",
      "Epoch 89/300\n",
      "10/10 [==============================] - 0s 275us/step - loss: 1.6950 - mae: 1.6950\n",
      "Epoch 90/300\n",
      "10/10 [==============================] - 0s 265us/step - loss: 1.7001 - mae: 1.7001\n",
      "Epoch 91/300\n",
      "10/10 [==============================] - 0s 450us/step - loss: 1.6975 - mae: 1.6975\n",
      "Epoch 92/300\n",
      "10/10 [==============================] - 0s 888us/step - loss: 1.7179 - mae: 1.7179\n",
      "Epoch 93/300\n",
      "10/10 [==============================] - 0s 530us/step - loss: 1.7003 - mae: 1.7003\n",
      "Epoch 94/300\n",
      "10/10 [==============================] - 0s 904us/step - loss: 1.6931 - mae: 1.6931\n",
      "Epoch 95/300\n",
      "10/10 [==============================] - 0s 450us/step - loss: 1.7240 - mae: 1.7240\n",
      "Epoch 96/300\n",
      "10/10 [==============================] - 0s 2ms/step - loss: 1.7188 - mae: 1.7188\n",
      "Epoch 97/300\n",
      "10/10 [==============================] - 0s 495us/step - loss: 1.6966 - mae: 1.6966\n",
      "Epoch 98/300\n",
      "10/10 [==============================] - 0s 287us/step - loss: 1.7098 - mae: 1.7098\n",
      "Epoch 99/300\n",
      "10/10 [==============================] - 0s 903us/step - loss: 1.7218 - mae: 1.7218\n",
      "Epoch 100/300\n",
      "10/10 [==============================] - 0s 889us/step - loss: 1.7120 - mae: 1.7120\n",
      "Epoch 101/300\n",
      "10/10 [==============================] - 0s 1ms/step - loss: 1.6945 - mae: 1.6945\n",
      "Epoch 102/300\n",
      "10/10 [==============================] - 0s 874us/step - loss: 1.7032 - mae: 1.7032\n",
      "Epoch 103/300\n",
      "10/10 [==============================] - 0s 888us/step - loss: 1.7065 - mae: 1.7065\n",
      "Epoch 104/300\n",
      "10/10 [==============================] - 0s 520us/step - loss: 1.7130 - mae: 1.7130\n",
      "Epoch 105/300\n",
      "10/10 [==============================] - 0s 635us/step - loss: 1.6948 - mae: 1.6948\n",
      "Epoch 106/300\n",
      "10/10 [==============================] - 0s 2ms/step - loss: 1.6965 - mae: 1.6965\n",
      "Epoch 107/300\n",
      "10/10 [==============================] - 0s 955us/step - loss: 1.6932 - mae: 1.6932\n",
      "Epoch 108/300\n",
      "10/10 [==============================] - 0s 294us/step - loss: 1.7061 - mae: 1.7061\n",
      "Epoch 109/300\n",
      "10/10 [==============================] - 0s 902us/step - loss: 1.6958 - mae: 1.6958\n",
      "Epoch 110/300\n",
      "10/10 [==============================] - 0s 888us/step - loss: 1.6970 - mae: 1.6970\n",
      "Epoch 111/300\n",
      "10/10 [==============================] - 0s 598us/step - loss: 1.6945 - mae: 1.6945\n",
      "Epoch 112/300\n",
      "10/10 [==============================] - 0s 239us/step - loss: 1.7115 - mae: 1.7115\n",
      "Epoch 113/300\n",
      "10/10 [==============================] - 0s 900us/step - loss: 1.7110 - mae: 1.7110\n",
      "Epoch 114/300\n",
      "10/10 [==============================] - 0s 1ms/step - loss: 1.7136 - mae: 1.7136\n",
      "Epoch 115/300\n",
      "10/10 [==============================] - 0s 183us/step - loss: 1.7346 - mae: 1.7346\n",
      "Epoch 116/300\n",
      "10/10 [==============================] - 0s 1ms/step - loss: 1.6981 - mae: 1.6981\n",
      "Epoch 117/300\n",
      "10/10 [==============================] - 0s 937us/step - loss: 1.6998 - mae: 1.6998\n",
      "Epoch 118/300\n",
      "10/10 [==============================] - 0s 865us/step - loss: 1.7003 - mae: 1.7003\n",
      "Epoch 119/300\n",
      "10/10 [==============================] - 0s 261us/step - loss: 1.6943 - mae: 1.6943\n",
      "Epoch 120/300\n",
      "10/10 [==============================] - 0s 888us/step - loss: 1.6996 - mae: 1.6996\n",
      "Epoch 121/300\n",
      "10/10 [==============================] - 0s 2ms/step - loss: 1.6997 - mae: 1.6997\n",
      "Epoch 122/300\n",
      "10/10 [==============================] - 0s 888us/step - loss: 1.7161 - mae: 1.7161\n",
      "Epoch 123/300\n",
      "10/10 [==============================] - 0s 2ms/step - loss: 1.7078 - mae: 1.7078\n",
      "Epoch 124/300\n",
      "10/10 [==============================] - 0s 676us/step - loss: 1.7170 - mae: 1.7170\n",
      "Epoch 125/300\n",
      "10/10 [==============================] - 0s 863us/step - loss: 1.7016 - mae: 1.7016\n",
      "Epoch 126/300\n",
      "10/10 [==============================] - 0s 992us/step - loss: 1.6950 - mae: 1.6950\n",
      "Epoch 127/300\n",
      "10/10 [==============================] - 0s 309us/step - loss: 1.7090 - mae: 1.7090\n",
      "Epoch 128/300\n",
      "10/10 [==============================] - 0s 901us/step - loss: 1.6967 - mae: 1.6967\n",
      "Epoch 129/300\n",
      "10/10 [==============================] - 0s 888us/step - loss: 1.6987 - mae: 1.6987\n",
      "Epoch 130/300\n",
      "10/10 [==============================] - 0s 866us/step - loss: 1.7002 - mae: 1.7002\n",
      "Epoch 131/300\n",
      "10/10 [==============================] - 0s 307us/step - loss: 1.7004 - mae: 1.7004\n",
      "Epoch 132/300\n",
      "10/10 [==============================] - 0s 906us/step - loss: 1.7102 - mae: 1.7102\n",
      "Epoch 133/300\n",
      "10/10 [==============================] - 0s 229us/step - loss: 1.7015 - mae: 1.7015\n",
      "Epoch 134/300\n",
      "10/10 [==============================] - 0s 320us/step - loss: 1.6985 - mae: 1.6985\n",
      "Epoch 135/300\n",
      "10/10 [==============================] - 0s 904us/step - loss: 1.6945 - mae: 1.6945\n",
      "Epoch 136/300\n",
      "10/10 [==============================] - 0s 882us/step - loss: 1.6999 - mae: 1.6999\n",
      "Epoch 137/300\n",
      "10/10 [==============================] - 0s 405us/step - loss: 1.7047 - mae: 1.7047\n",
      "Epoch 138/300\n",
      "10/10 [==============================] - 0s 365us/step - loss: 1.6919 - mae: 1.6919\n",
      "Epoch 139/300\n",
      "10/10 [==============================] - 0s 904us/step - loss: 1.6923 - mae: 1.6923\n",
      "Epoch 140/300\n",
      "10/10 [==============================] - 0s 949us/step - loss: 1.6944 - mae: 1.6944\n",
      "Epoch 141/300\n",
      "10/10 [==============================] - 0s 1ms/step - loss: 1.6992 - mae: 1.6992\n",
      "Epoch 142/300\n",
      "10/10 [==============================] - 0s 747us/step - loss: 1.7002 - mae: 1.7002\n",
      "Epoch 143/300\n",
      "10/10 [==============================] - 0s 905us/step - loss: 1.6988 - mae: 1.6988\n",
      "Epoch 144/300\n",
      "10/10 [==============================] - 0s 976us/step - loss: 1.6928 - mae: 1.6928\n",
      "Epoch 145/300\n",
      "10/10 [==============================] - 0s 485us/step - loss: 1.6934 - mae: 1.6934\n",
      "Epoch 146/300\n",
      "10/10 [==============================] - 0s 273us/step - loss: 1.6942 - mae: 1.6942\n",
      "Epoch 147/300\n",
      "10/10 [==============================] - 0s 959us/step - loss: 1.7024 - mae: 1.7024\n",
      "Epoch 148/300\n",
      "10/10 [==============================] - 0s 889us/step - loss: 1.6970 - mae: 1.6970\n",
      "Epoch 149/300\n",
      "10/10 [==============================] - 0s 127us/step - loss: 1.7024 - mae: 1.7024\n",
      "Epoch 150/300\n",
      "10/10 [==============================] - 0s 570us/step - loss: 1.7116 - mae: 1.7116\n",
      "Epoch 151/300\n",
      "10/10 [==============================] - 0s 975us/step - loss: 1.7170 - mae: 1.7170\n",
      "Epoch 152/300\n",
      "10/10 [==============================] - 0s 322us/step - loss: 1.6953 - mae: 1.6953\n",
      "Epoch 153/300\n",
      "10/10 [==============================] - 0s 987us/step - loss: 1.7025 - mae: 1.7025\n",
      "Epoch 154/300\n",
      "10/10 [==============================] - 0s 1ms/step - loss: 1.6961 - mae: 1.6961\n",
      "Epoch 155/300\n",
      "10/10 [==============================] - 0s 882us/step - loss: 1.7131 - mae: 1.7131\n",
      "Epoch 156/300\n",
      "10/10 [==============================] - 0s 237us/step - loss: 1.6946 - mae: 1.6946\n",
      "Epoch 157/300\n",
      "10/10 [==============================] - 0s 433us/step - loss: 1.7334 - mae: 1.7334\n",
      "Epoch 158/300\n",
      "10/10 [==============================] - 0s 997us/step - loss: 1.7262 - mae: 1.7262\n",
      "Epoch 159/300\n",
      "10/10 [==============================] - 0s 256us/step - loss: 1.6961 - mae: 1.6961\n",
      "Epoch 160/300\n",
      "10/10 [==============================] - 0s 309us/step - loss: 1.7026 - mae: 1.7026\n",
      "Epoch 161/300\n",
      "10/10 [==============================] - 0s 904us/step - loss: 1.7114 - mae: 1.7114\n",
      "Epoch 162/300\n",
      "10/10 [==============================] - 0s 890us/step - loss: 1.7036 - mae: 1.7036\n",
      "Epoch 163/300\n",
      "10/10 [==============================] - 0s 391us/step - loss: 1.7023 - mae: 1.7023\n",
      "Epoch 164/300\n",
      "10/10 [==============================] - 0s 418us/step - loss: 1.7100 - mae: 1.7100\n",
      "Epoch 165/300\n",
      "10/10 [==============================] - 0s 900us/step - loss: 1.7086 - mae: 1.7086\n",
      "Epoch 166/300\n",
      "10/10 [==============================] - 0s 218us/step - loss: 1.6963 - mae: 1.6963\n",
      "Epoch 167/300\n",
      "10/10 [==============================] - 0s 674us/step - loss: 1.6945 - mae: 1.6945\n",
      "Epoch 168/300\n",
      "10/10 [==============================] - 0s 926us/step - loss: 1.7095 - mae: 1.7095\n",
      "Epoch 169/300\n",
      "10/10 [==============================] - 0s 930us/step - loss: 1.7053 - mae: 1.7053\n",
      "Epoch 170/300\n",
      "10/10 [==============================] - 0s 255us/step - loss: 1.7040 - mae: 1.7040\n",
      "Epoch 171/300\n",
      "10/10 [==============================] - 0s 255us/step - loss: 1.6994 - mae: 1.6994\n",
      "Epoch 172/300\n",
      "10/10 [==============================] - 0s 930us/step - loss: 1.7031 - mae: 1.7031\n",
      "Epoch 173/300\n",
      "10/10 [==============================] - 0s 901us/step - loss: 1.7003 - mae: 1.7003\n",
      "Epoch 174/300\n",
      "10/10 [==============================] - 0s 234us/step - loss: 1.6930 - mae: 1.6930\n",
      "Epoch 175/300\n",
      "10/10 [==============================] - 0s 353us/step - loss: 1.7026 - mae: 1.7026\n",
      "Epoch 176/300\n",
      "10/10 [==============================] - 0s 897us/step - loss: 1.7116 - mae: 1.7116\n",
      "Epoch 177/300\n",
      "10/10 [==============================] - 0s 947us/step - loss: 1.6985 - mae: 1.6985\n",
      "Epoch 178/300\n",
      "10/10 [==============================] - 0s 274us/step - loss: 1.7003 - mae: 1.7003\n",
      "Epoch 179/300\n",
      "10/10 [==============================] - 0s 903us/step - loss: 1.7035 - mae: 1.7035\n",
      "Epoch 180/300\n",
      "10/10 [==============================] - 0s 888us/step - loss: 1.6945 - mae: 1.6945\n",
      "Epoch 181/300\n",
      "10/10 [==============================] - 0s 493us/step - loss: 1.7029 - mae: 1.7029\n",
      "Epoch 182/300\n",
      "10/10 [==============================] - 0s 212us/step - loss: 1.7122 - mae: 1.7122\n",
      "Epoch 183/300\n",
      "10/10 [==============================] - 0s 744us/step - loss: 1.7027 - mae: 1.7027\n",
      "Epoch 184/300\n",
      "10/10 [==============================] - 0s 138us/step - loss: 1.6974 - mae: 1.6974\n",
      "Epoch 185/300\n",
      "10/10 [==============================] - 0s 266us/step - loss: 1.7225 - mae: 1.7225\n",
      "Epoch 186/300\n",
      "10/10 [==============================] - 0s 937us/step - loss: 1.7043 - mae: 1.7043\n",
      "Epoch 187/300\n",
      "10/10 [==============================] - 0s 456us/step - loss: 1.7109 - mae: 1.7109\n",
      "Epoch 188/300\n",
      "10/10 [==============================] - 0s 264us/step - loss: 1.6994 - mae: 1.6994\n",
      "Epoch 189/300\n",
      "10/10 [==============================] - 0s 901us/step - loss: 1.7091 - mae: 1.7091\n",
      "Epoch 190/300\n",
      "10/10 [==============================] - 0s 931us/step - loss: 1.7039 - mae: 1.7039\n",
      "Epoch 191/300\n",
      "10/10 [==============================] - 0s 231us/step - loss: 1.7018 - mae: 1.7018\n",
      "Epoch 192/300\n",
      "10/10 [==============================] - 0s 901us/step - loss: 1.7162 - mae: 1.7162\n",
      "Epoch 193/300\n",
      "10/10 [==============================] - 0s 240us/step - loss: 1.6961 - mae: 1.6961\n",
      "Epoch 194/300\n",
      "10/10 [==============================] - 0s 888us/step - loss: 1.6976 - mae: 1.6976\n",
      "Epoch 195/300\n",
      "10/10 [==============================] - 0s 889us/step - loss: 1.6976 - mae: 1.6976\n",
      "Epoch 196/300\n",
      "10/10 [==============================] - 0s 1ms/step - loss: 1.7064 - mae: 1.7064\n",
      "Epoch 197/300\n",
      "10/10 [==============================] - 0s 1ms/step - loss: 1.6980 - mae: 1.6980\n",
      "Epoch 198/300\n",
      "10/10 [==============================] - 0s 786us/step - loss: 1.6945 - mae: 1.6945\n",
      "Epoch 199/300\n",
      "10/10 [==============================] - 0s 731us/step - loss: 1.7076 - mae: 1.7076\n",
      "Epoch 200/300\n",
      "10/10 [==============================] - 0s 722us/step - loss: 1.6983 - mae: 1.6983\n",
      "Epoch 201/300\n",
      "10/10 [==============================] - 0s 903us/step - loss: 1.6988 - mae: 1.6988\n",
      "Epoch 202/300\n",
      "10/10 [==============================] - 0s 229us/step - loss: 1.6983 - mae: 1.6983\n",
      "Epoch 203/300\n",
      "10/10 [==============================] - 0s 898us/step - loss: 1.6984 - mae: 1.6984\n",
      "Epoch 204/300\n",
      "10/10 [==============================] - 0s 217us/step - loss: 1.7019 - mae: 1.7019\n",
      "Epoch 205/300\n",
      "10/10 [==============================] - 0s 315us/step - loss: 1.6992 - mae: 1.6992\n",
      "Epoch 206/300\n",
      "10/10 [==============================] - 0s 888us/step - loss: 1.6963 - mae: 1.6963\n",
      "Epoch 207/300\n",
      "10/10 [==============================] - 0s 256us/step - loss: 1.6963 - mae: 1.6963\n",
      "Epoch 208/300\n",
      "10/10 [==============================] - 0s 0s/step - loss: 1.6955 - mae: 1.6955\n",
      "Epoch 209/300\n",
      "10/10 [==============================] - 0s 1ms/step - loss: 1.7003 - mae: 1.7003\n",
      "Epoch 210/300\n",
      "10/10 [==============================] - 0s 734us/step - loss: 1.6975 - mae: 1.6975\n",
      "Epoch 211/300\n",
      "10/10 [==============================] - 0s 889us/step - loss: 1.7032 - mae: 1.7032\n",
      "Epoch 212/300\n",
      "10/10 [==============================] - 0s 888us/step - loss: 1.7008 - mae: 1.7008\n",
      "Epoch 213/300\n",
      "10/10 [==============================] - 0s 1ms/step - loss: 1.6933 - mae: 1.6933\n",
      "Epoch 214/300\n",
      "10/10 [==============================] - 0s 838us/step - loss: 1.6985 - mae: 1.6985\n",
      "Epoch 215/300\n",
      "10/10 [==============================] - 0s 618us/step - loss: 1.6935 - mae: 1.6935\n",
      "Epoch 216/300\n",
      "10/10 [==============================] - 0s 888us/step - loss: 1.6959 - mae: 1.6959\n",
      "Epoch 217/300\n",
      "10/10 [==============================] - 0s 898us/step - loss: 1.6971 - mae: 1.6971\n",
      "Epoch 218/300\n",
      "10/10 [==============================] - 0s 785us/step - loss: 1.7195 - mae: 1.7195\n",
      "Epoch 219/300\n",
      "10/10 [==============================] - 0s 289us/step - loss: 1.7098 - mae: 1.7098\n",
      "Epoch 220/300\n",
      "10/10 [==============================] - 0s 979us/step - loss: 1.6947 - mae: 1.6947\n",
      "Epoch 221/300\n",
      "10/10 [==============================] - 0s 927us/step - loss: 1.6997 - mae: 1.6997\n",
      "Epoch 222/300\n",
      "10/10 [==============================] - 0s 449us/step - loss: 1.6975 - mae: 1.6975\n",
      "Epoch 223/300\n",
      "10/10 [==============================] - 0s 923us/step - loss: 1.7022 - mae: 1.7022\n",
      "Epoch 224/300\n",
      "10/10 [==============================] - 0s 921us/step - loss: 1.6934 - mae: 1.6934\n",
      "Epoch 225/300\n",
      "10/10 [==============================] - 0s 1ms/step - loss: 1.6961 - mae: 1.6961\n",
      "Epoch 226/300\n",
      "10/10 [==============================] - 0s 1ms/step - loss: 1.6961 - mae: 1.6961\n",
      "Epoch 227/300\n",
      "10/10 [==============================] - 0s 627us/step - loss: 1.7010 - mae: 1.7010\n",
      "Epoch 228/300\n",
      "10/10 [==============================] - 0s 1ms/step - loss: 1.7006 - mae: 1.7006\n",
      "Epoch 229/300\n",
      "10/10 [==============================] - 0s 427us/step - loss: 1.7052 - mae: 1.7052\n",
      "Epoch 230/300\n",
      "10/10 [==============================] - 0s 335us/step - loss: 1.6937 - mae: 1.6937\n",
      "Epoch 231/300\n",
      "10/10 [==============================] - 0s 902us/step - loss: 1.6925 - mae: 1.6925\n",
      "Epoch 232/300\n",
      "10/10 [==============================] - 0s 1ms/step - loss: 1.7010 - mae: 1.7010\n",
      "Epoch 233/300\n",
      "10/10 [==============================] - 0s 638us/step - loss: 1.6906 - mae: 1.6906\n",
      "Epoch 234/300\n",
      "10/10 [==============================] - 0s 957us/step - loss: 1.6926 - mae: 1.6926\n",
      "Epoch 235/300\n",
      "10/10 [==============================] - 0s 970us/step - loss: 1.6906 - mae: 1.6906\n",
      "Epoch 236/300\n",
      "10/10 [==============================] - 0s 399us/step - loss: 1.6974 - mae: 1.6974\n",
      "Epoch 237/300\n",
      "10/10 [==============================] - 0s 288us/step - loss: 1.6963 - mae: 1.6963\n",
      "Epoch 238/300\n",
      "10/10 [==============================] - 0s 900us/step - loss: 1.6959 - mae: 1.6959\n",
      "Epoch 239/300\n",
      "10/10 [==============================] - 0s 168us/step - loss: 1.6949 - mae: 1.6949\n",
      "Epoch 240/300\n",
      "10/10 [==============================] - 0s 491us/step - loss: 1.7047 - mae: 1.7047\n",
      "Epoch 241/300\n",
      "10/10 [==============================] - 0s 903us/step - loss: 1.7075 - mae: 1.7075\n",
      "Epoch 242/300\n",
      "10/10 [==============================] - 0s 896us/step - loss: 1.6965 - mae: 1.6965\n",
      "Epoch 243/300\n",
      "10/10 [==============================] - 0s 814us/step - loss: 1.6967 - mae: 1.6967\n",
      "Epoch 244/300\n",
      "10/10 [==============================] - 0s 330us/step - loss: 1.6998 - mae: 1.6998\n",
      "Epoch 245/300\n",
      "10/10 [==============================] - 0s 2ms/step - loss: 1.7067 - mae: 1.7067\n",
      "Epoch 246/300\n",
      "10/10 [==============================] - 0s 888us/step - loss: 1.7099 - mae: 1.7099\n",
      "Epoch 247/300\n",
      "10/10 [==============================] - 0s 888us/step - loss: 1.6964 - mae: 1.6964\n",
      "Epoch 248/300\n",
      "10/10 [==============================] - 0s 888us/step - loss: 1.6974 - mae: 1.6974\n",
      "Epoch 249/300\n",
      "10/10 [==============================] - 0s 1ms/step - loss: 1.6951 - mae: 1.6951\n",
      "Epoch 250/300\n",
      "10/10 [==============================] - 0s 2ms/step - loss: 1.6990 - mae: 1.6990\n",
      "Epoch 251/300\n",
      "10/10 [==============================] - 0s 774us/step - loss: 1.6963 - mae: 1.6963\n",
      "Epoch 252/300\n",
      "10/10 [==============================] - 0s 378us/step - loss: 1.6958 - mae: 1.6958\n",
      "Epoch 253/300\n",
      "10/10 [==============================] - 0s 861us/step - loss: 1.7016 - mae: 1.7016\n",
      "Epoch 254/300\n",
      "10/10 [==============================] - 0s 892us/step - loss: 1.7070 - mae: 1.7070\n",
      "Epoch 255/300\n",
      "10/10 [==============================] - 0s 535us/step - loss: 1.6984 - mae: 1.6984\n",
      "Epoch 256/300\n",
      "10/10 [==============================] - 0s 263us/step - loss: 1.6947 - mae: 1.6947\n",
      "Epoch 257/300\n",
      "10/10 [==============================] - 0s 902us/step - loss: 1.6944 - mae: 1.6944\n",
      "Epoch 258/300\n",
      "10/10 [==============================] - 0s 977us/step - loss: 1.6948 - mae: 1.6948\n",
      "Epoch 259/300\n",
      "10/10 [==============================] - 0s 296us/step - loss: 1.6944 - mae: 1.6944\n",
      "Epoch 260/300\n",
      "10/10 [==============================] - 0s 906us/step - loss: 1.7292 - mae: 1.7292\n",
      "Epoch 261/300\n",
      "10/10 [==============================] - 0s 889us/step - loss: 1.7175 - mae: 1.7175\n",
      "Epoch 262/300\n",
      "10/10 [==============================] - 0s 1ms/step - loss: 1.7167 - mae: 1.7167\n",
      "Epoch 263/300\n",
      "10/10 [==============================] - 0s 348us/step - loss: 1.7493 - mae: 1.7493\n",
      "Epoch 264/300\n",
      "10/10 [==============================] - 0s 907us/step - loss: 1.6967 - mae: 1.6967\n",
      "Epoch 265/300\n",
      "10/10 [==============================] - 0s 1ms/step - loss: 1.7054 - mae: 1.7054\n",
      "Epoch 266/300\n",
      "10/10 [==============================] - 0s 227us/step - loss: 1.7036 - mae: 1.7036\n",
      "Epoch 267/300\n",
      "10/10 [==============================] - 0s 570us/step - loss: 1.6945 - mae: 1.6945\n",
      "Epoch 268/300\n",
      "10/10 [==============================] - 0s 902us/step - loss: 1.6995 - mae: 1.6995\n",
      "Epoch 269/300\n",
      "10/10 [==============================] - 0s 1ms/step - loss: 1.6938 - mae: 1.6938\n",
      "Epoch 270/300\n",
      "10/10 [==============================] - 0s 275us/step - loss: 1.6962 - mae: 1.6962\n",
      "Epoch 271/300\n",
      "10/10 [==============================] - 0s 902us/step - loss: 1.7087 - mae: 1.7087\n",
      "Epoch 272/300\n",
      "10/10 [==============================] - 0s 889us/step - loss: 1.6964 - mae: 1.6964\n",
      "Epoch 273/300\n",
      "10/10 [==============================] - 0s 574us/step - loss: 1.6958 - mae: 1.6958\n",
      "Epoch 274/300\n",
      "10/10 [==============================] - 0s 1ms/step - loss: 1.7037 - mae: 1.7037\n",
      "Epoch 275/300\n",
      "10/10 [==============================] - 0s 844us/step - loss: 1.7044 - mae: 1.7044\n",
      "Epoch 276/300\n",
      "10/10 [==============================] - 0s 2ms/step - loss: 1.7136 - mae: 1.7136\n",
      "Epoch 277/300\n",
      "10/10 [==============================] - 0s 770us/step - loss: 1.7197 - mae: 1.7197\n",
      "Epoch 278/300\n",
      "10/10 [==============================] - 0s 851us/step - loss: 1.7056 - mae: 1.7056\n",
      "Epoch 279/300\n",
      "10/10 [==============================] - 0s 888us/step - loss: 1.6966 - mae: 1.6966\n",
      "Epoch 280/300\n",
      "10/10 [==============================] - 0s 505us/step - loss: 1.7045 - mae: 1.7045\n",
      "Epoch 281/300\n",
      "10/10 [==============================] - 0s 320us/step - loss: 1.6941 - mae: 1.6941\n",
      "Epoch 282/300\n",
      "10/10 [==============================] - 0s 900us/step - loss: 1.7012 - mae: 1.7012\n",
      "Epoch 283/300\n",
      "10/10 [==============================] - 0s 1ms/step - loss: 1.6947 - mae: 1.6947\n",
      "Epoch 284/300\n",
      "10/10 [==============================] - 0s 265us/step - loss: 1.7025 - mae: 1.7025\n",
      "Epoch 285/300\n",
      "10/10 [==============================] - 0s 527us/step - loss: 1.7083 - mae: 1.7083\n",
      "Epoch 286/300\n",
      "10/10 [==============================] - 0s 936us/step - loss: 1.6936 - mae: 1.6936\n",
      "Epoch 287/300\n",
      "10/10 [==============================] - 0s 1ms/step - loss: 1.6959 - mae: 1.6959\n",
      "Epoch 288/300\n",
      "10/10 [==============================] - 0s 292us/step - loss: 1.6943 - mae: 1.6943\n",
      "Epoch 289/300\n",
      "10/10 [==============================] - 0s 928us/step - loss: 1.6946 - mae: 1.6946\n",
      "Epoch 290/300\n",
      "10/10 [==============================] - 0s 822us/step - loss: 1.6930 - mae: 1.6930\n",
      "Epoch 291/300\n",
      "10/10 [==============================] - 0s 892us/step - loss: 1.6983 - mae: 1.6983\n",
      "Epoch 292/300\n",
      "10/10 [==============================] - 0s 330us/step - loss: 1.6989 - mae: 1.6989\n",
      "Epoch 293/300\n",
      "10/10 [==============================] - 0s 900us/step - loss: 1.6931 - mae: 1.6931\n",
      "Epoch 294/300\n",
      "10/10 [==============================] - 0s 1ms/step - loss: 1.6941 - mae: 1.6941\n",
      "Epoch 295/300\n",
      "10/10 [==============================] - 0s 732us/step - loss: 1.7004 - mae: 1.7004\n",
      "Epoch 296/300\n",
      "10/10 [==============================] - 0s 863us/step - loss: 1.6942 - mae: 1.6942\n",
      "Epoch 297/300\n",
      "10/10 [==============================] - 0s 798us/step - loss: 1.6976 - mae: 1.6976\n",
      "Epoch 298/300\n",
      "10/10 [==============================] - 0s 268us/step - loss: 1.6928 - mae: 1.6928\n",
      "Epoch 299/300\n",
      "10/10 [==============================] - 0s 286us/step - loss: 1.7012 - mae: 1.7012\n",
      "Epoch 300/300\n",
      "10/10 [==============================] - 0s 903us/step - loss: 1.7031 - mae: 1.7031\n"
     ]
    }
   ],
   "source": [
    "# fit the model\n",
    "history= nn_model_2.fit(X_train_scaled,y_train,epochs=300)"
   ]
  },
  {
   "cell_type": "code",
   "execution_count": 59,
   "id": "9ff31a67",
   "metadata": {},
   "outputs": [
    {
     "name": "stdout",
     "output_type": "stream",
     "text": [
      "3/3 [==============================] - 0s 0s/step - loss: 1.6731 - mae: 1.6731\n"
     ]
    },
    {
     "data": {
      "text/plain": [
       "[1.6730560064315796, 1.6730560064315796]"
      ]
     },
     "execution_count": 59,
     "metadata": {},
     "output_type": "execute_result"
    }
   ],
   "source": [
    "# #check the results with insurnce model test data\n",
    "nn_model_2.evaluate(X_test_scaled,y_test)"
   ]
  },
  {
   "cell_type": "code",
   "execution_count": 60,
   "id": "b73f6fc4",
   "metadata": {},
   "outputs": [
    {
     "data": {
      "text/plain": [
       "Text(0.5, 0, 'Epochs')"
      ]
     },
     "execution_count": 60,
     "metadata": {},
     "output_type": "execute_result"
    },
    {
     "data": {
      "image/png": "[encoded data removed]",
      "text/plain": [
       "<Figure size 600x400 with 1 Axes>"
      ]
     },
     "metadata": {},
     "output_type": "display_data"
    }
   ],
   "source": [
    "#plot history (Also known as loss  curve or a training curve)\n",
    "pd.DataFrame(history.history).plot()\n",
    "plt.ylabel(\"Loss\")\n",
    "plt.xlabel(\"Epochs\")"
   ]
  },
  {
   "cell_type": "markdown",
   "id": "72d53c05",
   "metadata": {},
   "source": [
    "#### Evaluating Model Performance"
   ]
  },
  {
   "cell_type": "markdown",
   "id": "d8de905e",
   "metadata": {},
   "source": [
    "#### Feature Importance\n",
    "We will be using ExtraTreesRegressor class for Feature Importance. This class implements a meta estimator that fits a number of randomized decision trees on various samples of the dataset and uses averaging to improve the predictive accuracy and control over-fitting."
   ]
  },
  {
   "cell_type": "code",
   "execution_count": 61,
   "id": "e97987e2",
   "metadata": {},
   "outputs": [
    {
     "data": {
      "text/plain": [
       "array([0.02797011, 0.011053  , 0.09397685, 0.42299942, 0.01411759,\n",
       "       0.01028799, 0.        , 0.00525499, 0.00305177, 0.03551958,\n",
       "       0.00280713, 0.00296888, 0.01335741, 0.00492643, 0.00403297,\n",
       "       0.00226827, 0.00989475, 0.00441544, 0.00290508, 0.00755409,\n",
       "       0.02898668, 0.        , 0.05526752, 0.02422242, 0.0391558 ,\n",
       "       0.        , 0.01765551, 0.06051542, 0.        , 0.03259145,\n",
       "       0.0127623 , 0.03610247, 0.01265044, 0.00072823, 0.        ])"
      ]
     },
     "execution_count": 61,
     "metadata": {},
     "output_type": "execute_result"
    }
   ],
   "source": [
    "#initializing models and fitting data\n",
    "etr_model = ExtraTreesRegressor()\n",
    "etr_model.fit(X, y)\n",
    "etr_model.feature_importances_"
   ]
  },
  {
   "cell_type": "code",
   "execution_count": 62,
   "id": "c1c11e21",
   "metadata": {},
   "outputs": [
    {
     "data": {
      "text/plain": [
       "<AxesSubplot:>"
      ]
     },
     "execution_count": 62,
     "metadata": {},
     "output_type": "execute_result"
    },
    {
     "data": {
      "image/png": "[encoded data removed]",
      "text/plain": [
       "<Figure size 600x400 with 1 Axes>"
      ]
     },
     "metadata": {},
     "output_type": "display_data"
    }
   ],
   "source": [
    "#Top 20 Important features\n",
    "feature_imp = pd.Series(etr_model.feature_importances_, index = X.columns)\n",
    "feature_imp.nlargest(20).plot(kind = 'barh')"
   ]
  },
  {
   "cell_type": "markdown",
   "id": "595693ba",
   "metadata": {},
   "source": [
    "#### Feature Scaling"
   ]
  },
  {
   "cell_type": "code",
   "execution_count": 63,
   "id": "bd268369",
   "metadata": {},
   "outputs": [],
   "source": [
    "#min-max scaling is a better option than Standard Scaler as the data is skewed and does ont follow a normal distribution\n",
    "scaler_x = MinMaxScaler() #StandardScaler() #QuantileTransformer(output_distribution=\"uniform\")\n",
    "\n",
    "X_scaled = scaler_x.fit_transform(X)"
   ]
  },
  {
   "cell_type": "markdown",
   "id": "96836798",
   "metadata": {},
   "source": [
    "#### Using Interaction terms in the linear model"
   ]
  },
  {
   "cell_type": "code",
   "execution_count": 64,
   "id": "1cb4256c",
   "metadata": {},
   "outputs": [],
   "source": [
    "#adding interaction terms\n",
    "poly = PolynomialFeatures(interaction_only=True,include_bias = False)\n",
    "X_scaled_poly = poly.fit_transform(X_scaled)"
   ]
  },
  {
   "cell_type": "markdown",
   "id": "7b877a05",
   "metadata": {},
   "source": [
    "#### Model Design with target scaling"
   ]
  },
  {
   "cell_type": "code",
   "execution_count": 65,
   "id": "7293848e-2e39-4990-87d8-0f59b73365a1",
   "metadata": {},
   "outputs": [],
   "source": [
    "from sklearn.preprocessing import FunctionTransformer\n",
    "from sklearn.preprocessing import PowerTransformer\n",
    "\n",
    "\n",
    "def pass_func(x):\n",
    "    return x\n",
    "pass_transformer = FunctionTransformer(func=pass_func, inverse_func=pass_func)\n",
    "\n",
    "\n",
    "pos_qt = QuantileTransformer(output_distribution=\"normal\")\n",
    "def qt_func(x):\n",
    "    return max(qt.transform(x),0)\n",
    "def qt_inv(x):\n",
    "    return max(qt.inverse_transform(x), 0)\n",
    "pos_qt_transformer = FunctionTransformer(func=pass_func, inverse_func=pass_func)"
   ]
  },
  {
   "cell_type": "code",
   "execution_count": 66,
   "id": "770adeae-4887-4147-bffd-926ec0aef758",
   "metadata": {},
   "outputs": [
    {
     "name": "stdout",
     "output_type": "stream",
     "text": [
      "Cross-validation scores: [1.70991553 2.10326289 2.15052861 1.58192651 1.57156967 1.41776374\n",
      " 1.73266115 2.46584092 3.19134553 1.53519863]\n",
      "Average cross-validation score: 1.9460013176233208\n"
     ]
    },
    {
     "data": {
      "text/plain": [
       "<AxesSubplot:xlabel='EC Duration'>"
      ]
     },
     "execution_count": 66,
     "metadata": {},
     "output_type": "execute_result"
    },
    {
     "data": {
      "image/png": "[encoded data removed]",
      "text/plain": [
       "<Figure size 600x400 with 1 Axes>"
      ]
     },
     "metadata": {},
     "output_type": "display_data"
    }
   ],
   "source": [
    "regr_trans = TransformedTargetRegressor(\n",
    "    regressor=TweedieRegressor(link='log', power=2),\n",
    "    #regressor=RidgeCV(),\n",
    "    transformer=pass_transformer\n",
    "    #transformer=MinMaxScaler()\n",
    "    #transformer=PowerTransformer(method=\"box-cox\")\n",
    "    #transformer=QuantileTransformer(output_distribution=\"uniform\")\n",
    ")\n",
    "\n",
    "#Cross Validated training and scoring\n",
    "scores = cross_val_score(regr_trans, X_scaled_poly, y, cv = 10, scoring = make_scorer(mean_absolute_error))\n",
    "print('Cross-validation scores: {}'.format(scores))\n",
    "print('Average cross-validation score: {}'.format(scores.mean()))\n",
    "y_pred = cross_val_predict(regr_trans, X_scaled_poly, y, cv = 10)\n",
    "sns.scatterplot(y, y_pred, (y-y_pred), hue_norm=(-10,10), palette=\"coolwarm\")"
   ]
  },
  {
   "cell_type": "code",
   "execution_count": 67,
   "id": "8565fa2f",
   "metadata": {},
   "outputs": [
    {
     "name": "stdout",
     "output_type": "stream",
     "text": [
      "Cross-validation scores: [1.7786594  1.62113466 1.92188105 1.0625663  1.42752388 1.73090094\n",
      " 1.9266836  2.50397807 2.90202686 1.35516878]\n",
      "Average cross-validation score: 1.8230523531482752\n"
     ]
    },
    {
     "data": {
      "text/plain": [
       "<AxesSubplot:xlabel='EC Duration'>"
      ]
     },
     "execution_count": 67,
     "metadata": {},
     "output_type": "execute_result"
    },
    {
     "data": {
      "image/png": "[encoded data removed]",
      "text/plain": [
       "<Figure size 600x400 with 1 Axes>"
      ]
     },
     "metadata": {},
     "output_type": "display_data"
    }
   ],
   "source": [
    "regr_trans = TransformedTargetRegressor(\n",
    "    #regressor=TweedieRegressor(link='log', power=2),\n",
    "    regressor=RidgeCV(),\n",
    "    #transformer=pass_transformer\n",
    "    #transformer=MinMaxScaler()\n",
    "    transformer=PowerTransformer()\n",
    "    #transformer=QuantileTransformer(output_distribution=\"uniform\")\n",
    ")\n",
    "\n",
    "#Cross Validated training and scoring\n",
    "scores = cross_val_score(regr_trans, X_scaled_poly, y, cv = 10, scoring = make_scorer(mean_absolute_error))\n",
    "print('Cross-validation scores: {}'.format(scores))\n",
    "print('Average cross-validation score: {}'.format(scores.mean()))\n",
    "y_pred = cross_val_predict(regr_trans, X_scaled_poly, y, cv = 10)\n",
    "sns.scatterplot(y, y_pred, (y-y_pred), hue_norm=(-10,10), palette=\"coolwarm\")"
   ]
  },
  {
   "cell_type": "code",
   "execution_count": 68,
   "id": "090ae2fc",
   "metadata": {},
   "outputs": [
    {
     "name": "stdout",
     "output_type": "stream",
     "text": [
      "Cross-validation scores: [1.70954791 2.10005315 2.1485843  1.57892978 1.56992173 1.42017792\n",
      " 1.73385748 2.46467176 3.18927864 1.53449994]\n",
      "Average cross-validation score: 1.9449522615313666\n"
     ]
    },
    {
     "data": {
      "text/plain": [
       "<AxesSubplot:xlabel='EC Duration'>"
      ]
     },
     "execution_count": 68,
     "metadata": {},
     "output_type": "execute_result"
    },
    {
     "data": {
      "image/png": "[encoded data removed]",
      "text/plain": [
       "<Figure size 600x400 with 1 Axes>"
      ]
     },
     "metadata": {},
     "output_type": "display_data"
    }
   ],
   "source": [
    "regr_trans = TransformedTargetRegressor(\n",
    "    regressor=TweedieRegressor(link='log', power=1.99),\n",
    "    #transformer=MinMaxScaler()\n",
    "    #transformer=PowerTransformer()\n",
    "    transformer=pos_qt_transformer\n",
    "    #transformer=QuantileTransformer(output_distribution=\"uniform\")\n",
    ")\n",
    "\n",
    "#Cross Validated training and scoring\n",
    "scores = cross_val_score(regr_trans, X_scaled_poly, y, cv = 10, scoring = make_scorer(mean_absolute_error))\n",
    "print('Cross-validation scores: {}'.format(scores))\n",
    "print('Average cross-validation score: {}'.format(scores.mean()))\n",
    "y_pred = cross_val_predict(regr_trans, X_scaled_poly, y, cv = 10)\n",
    "sns.scatterplot(y, y_pred, (y-y_pred), hue_norm=(-10,10), palette=\"coolwarm\")"
   ]
  },
  {
   "cell_type": "code",
   "execution_count": 69,
   "id": "d323c683",
   "metadata": {},
   "outputs": [
    {
     "name": "stdout",
     "output_type": "stream",
     "text": [
      "Cross-validation scores: [1.76151715 1.86156493 2.12442573 1.30426505 1.47619995 1.49022985\n",
      " 1.75605268 2.35219846 2.99876022 1.27949882]\n",
      "Average cross-validation score: 1.8404712828986736\n"
     ]
    },
    {
     "data": {
      "text/plain": [
       "<AxesSubplot:xlabel='EC Duration'>"
      ]
     },
     "execution_count": 69,
     "metadata": {},
     "output_type": "execute_result"
    },
    {
     "data": {
      "image/png": "[encoded data removed]",
      "text/plain": [
       "<Figure size 600x400 with 1 Axes>"
      ]
     },
     "metadata": {},
     "output_type": "display_data"
    }
   ],
   "source": [
    "regr_trans = TransformedTargetRegressor(\n",
    "    #regressor=TweedieRegressor(link='log', power=2),\n",
    "    regressor=RidgeCV(),\n",
    "    #transformer=pass_transformer\n",
    "    #transformer=MinMaxScaler()\n",
    "    #transformer=PowerTransformer(method=\"box-cox\")\n",
    "    transformer=QuantileTransformer(output_distribution=\"uniform\")\n",
    ")\n",
    "\n",
    "#Cross Validated training and scoring\n",
    "scores = cross_val_score(regr_trans, X_scaled_poly, y, cv = 10, scoring = make_scorer(mean_absolute_error))\n",
    "print('Cross-validation scores: {}'.format(scores))\n",
    "print('Average cross-validation score: {}'.format(scores.mean()))\n",
    "y_pred = cross_val_predict(regr_trans, X_scaled_poly, y, cv = 10)\n",
    "sns.scatterplot(y, y_pred, (y-y_pred), hue_norm=(-10,10), palette=\"coolwarm\")"
   ]
  },
  {
   "cell_type": "code",
   "execution_count": 70,
   "id": "adfafdf7",
   "metadata": {},
   "outputs": [
    {
     "name": "stdout",
     "output_type": "stream",
     "text": [
      "Cross-validation scores: [1.80253294 1.74049443 1.91497377 1.41599195 1.47884947 1.72595662\n",
      " 1.97308831 2.21585715 2.7291238  1.47032845]\n",
      "Average cross-validation score: 1.846719688757947\n"
     ]
    },
    {
     "data": {
      "text/plain": [
       "<AxesSubplot:xlabel='EC Duration'>"
      ]
     },
     "execution_count": 70,
     "metadata": {},
     "output_type": "execute_result"
    },
    {
     "data": {
      "image/png": "[encoded data removed]",
      "text/plain": [
       "<Figure size 600x400 with 1 Axes>"
      ]
     },
     "metadata": {},
     "output_type": "display_data"
    }
   ],
   "source": [
    "from sklearn.ensemble import RandomForestRegressor\n",
    "regr_trans = TransformedTargetRegressor(\n",
    "    #regressor=TweedieRegressor(link='log', power=2),\n",
    "    regressor=RandomForestRegressor(min_samples_leaf=10),\n",
    "    #transformer=pass_transformer\n",
    "    #transformer=MinMaxScaler()\n",
    "    transformer=PowerTransformer()\n",
    "    #transformer=QuantileTransformer(output_distribution=\"uniform\")\n",
    ")\n",
    "\n",
    "#Cross Validated training and scoring\n",
    "scores = cross_val_score(regr_trans, X_scaled, y, cv = 10, scoring = make_scorer(mean_absolute_error))\n",
    "print('Cross-validation scores: {}'.format(scores))\n",
    "print('Average cross-validation score: {}'.format(scores.mean()))\n",
    "y_pred = cross_val_predict(regr_trans, X_scaled, y, cv = 10)\n",
    "sns.scatterplot(y, y_pred, (y-y_pred), hue_norm=(-10,10), palette=\"coolwarm\")"
   ]
  },
  {
   "cell_type": "code",
   "execution_count": 71,
   "id": "84ce6bcb",
   "metadata": {},
   "outputs": [],
   "source": [
    "#creating list of prediction differences\n",
    "lst = list(abs(y - y_pred))"
   ]
  },
  {
   "cell_type": "code",
   "execution_count": 72,
   "id": "a5afdf80",
   "metadata": {},
   "outputs": [
    {
     "name": "stdout",
     "output_type": "stream",
     "text": [
      "187\n"
     ]
    }
   ],
   "source": [
    "#looping through to find prediction differences less that or equal to 1.5\n",
    "count = 0\n",
    "for i in lst:\n",
    "    if i <= 1.5:\n",
    "        count += 1\n",
    "        \n",
    "print(count)"
   ]
  },
  {
   "cell_type": "code",
   "execution_count": 76,
   "id": "37cbeaa1",
   "metadata": {},
   "outputs": [
    {
     "name": "stdout",
     "output_type": "stream",
     "text": [
      "Percentage of predictions around 1.5 months Delta: 49.47089947089947\n"
     ]
    }
   ],
   "source": [
    "print('Percentage of predictions around 1.5 months Delta: {}'.format((count/y.shape[0]) * 100))"
   ]
  },
  {
   "cell_type": "code",
   "execution_count": null,
   "id": "e6ee6c07",
   "metadata": {},
   "outputs": [],
   "source": []
  },
  {
   "cell_type": "code",
   "execution_count": null,
   "id": "7d1c0058",
   "metadata": {},
   "outputs": [],
   "source": []
  },
  {
   "cell_type": "code",
   "execution_count": null,
   "id": "0dd32be5",
   "metadata": {},
   "outputs": [],
   "source": []
  },
  {
   "cell_type": "code",
   "execution_count": null,
   "id": "064986d6",
   "metadata": {},
   "outputs": [],
   "source": []
  },
  {
   "cell_type": "code",
   "execution_count": null,
   "id": "32b284b6",
   "metadata": {},
   "outputs": [],
   "source": []
  },
  {
   "cell_type": "code",
   "execution_count": null,
   "id": "132681eb",
   "metadata": {},
   "outputs": [],
   "source": []
  },
  {
   "cell_type": "code",
   "execution_count": null,
   "id": "b2af66a0",
   "metadata": {},
   "outputs": [],
   "source": []
  },
  {
   "cell_type": "code",
   "execution_count": null,
   "id": "921ac25a",
   "metadata": {},
   "outputs": [],
   "source": []
  },
  {
   "cell_type": "code",
   "execution_count": null,
   "id": "f72f3751",
   "metadata": {},
   "outputs": [],
   "source": []
  },
  {
   "cell_type": "code",
   "execution_count": null,
   "id": "afffc0b7",
   "metadata": {},
   "outputs": [],
   "source": []
  },
  {
   "cell_type": "code",
   "execution_count": null,
   "id": "ae689c32",
   "metadata": {},
   "outputs": [],
   "source": []
  },
  {
   "cell_type": "code",
   "execution_count": null,
   "id": "dd66d459",
   "metadata": {},
   "outputs": [],
   "source": []
  },
  {
   "cell_type": "code",
   "execution_count": null,
   "id": "fb63a726",
   "metadata": {},
   "outputs": [],
   "source": []
  }
 ],
 "metadata": {
  "kernelspec": {
   "display_name": "Python 3 (ipykernel)",
   "language": "python",
   "name": "python3"
  },
  "language_info": {
   "codemirror_mode": {
    "name": "ipython",
    "version": 3
   },
   "file_extension": ".py",
   "mimetype": "text/x-python",
   "name": "python",
   "nbconvert_exporter": "python",
   "pygments_lexer": "ipython3",
   "version": "3.9.7"
  }
 },
 "nbformat": 4,
 "nbformat_minor": 5
}
