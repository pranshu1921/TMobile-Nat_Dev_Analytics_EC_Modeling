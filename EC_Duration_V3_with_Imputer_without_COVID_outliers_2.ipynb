{
 "cells": [
  {
   "cell_type": "markdown",
   "id": "3bae6282",
   "metadata": {},
   "source": [
    "# NatDev - EC Modeling"
   ]
  },
  {
   "cell_type": "markdown",
   "id": "bda6e28d",
   "metadata": {},
   "source": [
    "#### Importing Libraries"
   ]
  },
  {
   "cell_type": "markdown",
   "id": "4e83b8b1",
   "metadata": {},
   "source": [
    "#### Important Changes\n",
    "1. added PROPTYPE column to data\n",
    "2. created feature 'tax_per_acre' to calculate tax amount per acre\n",
    "3. removed 'Category_v_Anchor' column\n",
    "4. removed 'land_use_name' feature\n",
    "5. converted 'yr_blt' column to 'age' column"
   ]
  },
  {
   "cell_type": "code",
   "execution_count": 1,
   "id": "e8f2c22c",
   "metadata": {},
   "outputs": [],
   "source": [
    "#importing libraries\n",
    "import pandas as pd\n",
    "import numpy as np\n",
    "import seaborn as sns\n",
    "import sklearn\n",
    "from sklearn.linear_model import TweedieRegressor\n",
    "from sklearn.preprocessing import StandardScaler\n",
    "from sklearn.model_selection import cross_validate\n",
    "from sklearn.preprocessing import MinMaxScaler\n",
    "import matplotlib.pyplot as plt\n",
    "import pickle\n",
    "import warnings\n",
    "warnings.filterwarnings(\"ignore\")\n",
    "from sklearn.ensemble import RandomForestRegressor\n",
    "from sklearn.compose import TransformedTargetRegressor\n",
    "from sklearn.preprocessing import QuantileTransformer\n",
    "from sklearn.metrics import mean_absolute_error\n",
    "from sklearn.model_selection import cross_val_score\n",
    "from sklearn.metrics import make_scorer\n",
    "from sklearn.preprocessing import PolynomialFeatures\n",
    "from sklearn.linear_model import RidgeCV\n",
    "from sklearn.model_selection import cross_val_predict"
   ]
  },
  {
   "cell_type": "markdown",
   "id": "c8fb0b30-9c67-4e44-ac71-7a619c8c124e",
   "metadata": {},
   "source": [
    "## Load Data"
   ]
  },
  {
   "cell_type": "code",
   "execution_count": 2,
   "id": "63e1aa97",
   "metadata": {},
   "outputs": [],
   "source": [
    "# Load data\n",
    "data_file_path = 'C:/Users/pranshuk/OneDrive - Logic20 20 Inc/Desktop/EC Prediction Data/New EC Data/data_w_geo_predictors_proj_level_kc.xlsx'\n",
    "data = pd.read_excel(data_file_path)"
   ]
  },
  {
   "cell_type": "code",
   "execution_count": 3,
   "id": "22a99600",
   "metadata": {},
   "outputs": [],
   "source": [
    "data_file_path_2 = 'C:/Users/pranshuk/OneDrive - Logic20 20 Inc/Desktop/EC_Data_May_5/data_w_geo_predictors_proj_level.xlsx'\n",
    "data2 = pd.read_excel(data_file_path)"
   ]
  },
  {
   "cell_type": "code",
   "execution_count": 4,
   "id": "faa2160c",
   "metadata": {},
   "outputs": [
    {
     "data": {
      "text/html": [
       "<div>\n",
       "<style scoped>\n",
       "    .dataframe tbody tr th:only-of-type {\n",
       "        vertical-align: middle;\n",
       "    }\n",
       "\n",
       "    .dataframe tbody tr th {\n",
       "        vertical-align: top;\n",
       "    }\n",
       "\n",
       "    .dataframe thead th {\n",
       "        text-align: right;\n",
       "    }\n",
       "</style>\n",
       "<table border=\"1\" class=\"dataframe\">\n",
       "  <thead>\n",
       "    <tr style=\"text-align: right;\">\n",
       "      <th></th>\n",
       "      <th>proj_cd</th>\n",
       "      <th>por_id</th>\n",
       "      <th>site_region_name</th>\n",
       "      <th>site_mkt_name</th>\n",
       "      <th>site_cty_name</th>\n",
       "      <th>site_county_name</th>\n",
       "      <th>site_addr_desc</th>\n",
       "      <th>site_type_desc</th>\n",
       "      <th>site_class_desc</th>\n",
       "      <th>Siterra_And_elemenT_Structure_Owner</th>\n",
       "      <th>...</th>\n",
       "      <th>awater</th>\n",
       "      <th>intptlat</th>\n",
       "      <th>intptlon</th>\n",
       "      <th>Universe_geometry_k</th>\n",
       "      <th>SITETYPE</th>\n",
       "      <th>LEVY_JURIS</th>\n",
       "      <th>PROPTYPE</th>\n",
       "      <th>KCA_ZONING</th>\n",
       "      <th>PREUSE_COD</th>\n",
       "      <th>PREUSE_DES</th>\n",
       "    </tr>\n",
       "  </thead>\n",
       "  <tbody>\n",
       "    <tr>\n",
       "      <th>0</th>\n",
       "      <td>SE04035A - Site Modification (4902665)</td>\n",
       "      <td>POR0348914,POR0256248</td>\n",
       "      <td>WEST</td>\n",
       "      <td>SEATTLE WA</td>\n",
       "      <td>Renton</td>\n",
       "      <td>King</td>\n",
       "      <td>3401 Lind Avenue SW</td>\n",
       "      <td>Structure Non Building</td>\n",
       "      <td>Monopole</td>\n",
       "      <td>Crown Castle T3</td>\n",
       "      <td>...</td>\n",
       "      <td>4544405.0</td>\n",
       "      <td>47.479191</td>\n",
       "      <td>-122.194613</td>\n",
       "      <td>73e4ab58f0aed3fd</td>\n",
       "      <td>C9</td>\n",
       "      <td>RENTON</td>\n",
       "      <td>C</td>\n",
       "      <td>IL</td>\n",
       "      <td>195.0</td>\n",
       "      <td>Warehouse</td>\n",
       "    </tr>\n",
       "    <tr>\n",
       "      <th>1</th>\n",
       "      <td>SE01130C - Site Modification (4902594)</td>\n",
       "      <td>POR0256260</td>\n",
       "      <td>WEST</td>\n",
       "      <td>SEATTLE WA</td>\n",
       "      <td>Seattle</td>\n",
       "      <td>King</td>\n",
       "      <td>9725 3rd Avenue NE</td>\n",
       "      <td>Building</td>\n",
       "      <td>Roof Top Mount</td>\n",
       "      <td>US Wireless, Inc.</td>\n",
       "      <td>...</td>\n",
       "      <td>150761136.0</td>\n",
       "      <td>47.619349</td>\n",
       "      <td>-122.351471</td>\n",
       "      <td>5b1ccf47ec6f6313</td>\n",
       "      <td>C1</td>\n",
       "      <td>SEATTLE</td>\n",
       "      <td>C</td>\n",
       "      <td>SM-NG 145</td>\n",
       "      <td>106.0</td>\n",
       "      <td>Office Building</td>\n",
       "    </tr>\n",
       "    <tr>\n",
       "      <th>2</th>\n",
       "      <td>SE02108E - Site Modification (4946325)</td>\n",
       "      <td>POR0307721,POR0254995,POR0327285</td>\n",
       "      <td>WEST</td>\n",
       "      <td>SEATTLE WA</td>\n",
       "      <td>Seattle</td>\n",
       "      <td>King</td>\n",
       "      <td>3206 SW Admiral Way</td>\n",
       "      <td>Structure Non Building</td>\n",
       "      <td>Wood Pole</td>\n",
       "      <td>City of Seattle</td>\n",
       "      <td>...</td>\n",
       "      <td>150761136.0</td>\n",
       "      <td>47.619349</td>\n",
       "      <td>-122.351471</td>\n",
       "      <td>5b1ccf47ec6f6313</td>\n",
       "      <td>NaN</td>\n",
       "      <td>NaN</td>\n",
       "      <td>NaN</td>\n",
       "      <td>NaN</td>\n",
       "      <td>NaN</td>\n",
       "      <td>NaN</td>\n",
       "    </tr>\n",
       "    <tr>\n",
       "      <th>3</th>\n",
       "      <td>SE03559F - Site Modification (4902649)</td>\n",
       "      <td>POR0260721,POR0308045</td>\n",
       "      <td>WEST</td>\n",
       "      <td>SEATTLE WA</td>\n",
       "      <td>Tukwila</td>\n",
       "      <td>King</td>\n",
       "      <td>4030 S. 140th St</td>\n",
       "      <td>Structure Non Building</td>\n",
       "      <td>Wood Pole</td>\n",
       "      <td>City of Seattle</td>\n",
       "      <td>...</td>\n",
       "      <td>1069363.0</td>\n",
       "      <td>47.476289</td>\n",
       "      <td>-122.275740</td>\n",
       "      <td>9b2abbc615945874</td>\n",
       "      <td>R2</td>\n",
       "      <td>TUKWILA</td>\n",
       "      <td>C</td>\n",
       "      <td>HDR</td>\n",
       "      <td>11.0</td>\n",
       "      <td>Apartment</td>\n",
       "    </tr>\n",
       "    <tr>\n",
       "      <th>4</th>\n",
       "      <td>SE02339D - Site Modification (4902627)</td>\n",
       "      <td>POR0256254</td>\n",
       "      <td>WEST</td>\n",
       "      <td>SEATTLE WA</td>\n",
       "      <td>Redmond</td>\n",
       "      <td>King</td>\n",
       "      <td>18609 NE 65th Street</td>\n",
       "      <td>Structure Non Building</td>\n",
       "      <td>Watertank</td>\n",
       "      <td>City of Redmond</td>\n",
       "      <td>...</td>\n",
       "      <td>1732419.0</td>\n",
       "      <td>47.677925</td>\n",
       "      <td>-122.115336</td>\n",
       "      <td>43129f32c57993d3</td>\n",
       "      <td>U1</td>\n",
       "      <td>REDMOND</td>\n",
       "      <td>C</td>\n",
       "      <td>MP</td>\n",
       "      <td>266.0</td>\n",
       "      <td>Utility, Public</td>\n",
       "    </tr>\n",
       "  </tbody>\n",
       "</table>\n",
       "<p>5 rows × 133 columns</p>\n",
       "</div>"
      ],
      "text/plain": [
       "                                  proj_cd                            por_id  \\\n",
       "0  SE04035A - Site Modification (4902665)             POR0348914,POR0256248   \n",
       "1  SE01130C - Site Modification (4902594)                        POR0256260   \n",
       "2  SE02108E - Site Modification (4946325)  POR0307721,POR0254995,POR0327285   \n",
       "3  SE03559F - Site Modification (4902649)             POR0260721,POR0308045   \n",
       "4  SE02339D - Site Modification (4902627)                        POR0256254   \n",
       "\n",
       "  site_region_name site_mkt_name site_cty_name site_county_name  \\\n",
       "0             WEST    SEATTLE WA        Renton             King   \n",
       "1             WEST    SEATTLE WA       Seattle             King   \n",
       "2             WEST    SEATTLE WA       Seattle             King   \n",
       "3             WEST    SEATTLE WA       Tukwila             King   \n",
       "4             WEST    SEATTLE WA       Redmond             King   \n",
       "\n",
       "         site_addr_desc          site_type_desc site_class_desc  \\\n",
       "0   3401 Lind Avenue SW  Structure Non Building        Monopole   \n",
       "1    9725 3rd Avenue NE                Building  Roof Top Mount   \n",
       "2   3206 SW Admiral Way  Structure Non Building       Wood Pole   \n",
       "3      4030 S. 140th St  Structure Non Building       Wood Pole   \n",
       "4  18609 NE 65th Street  Structure Non Building       Watertank   \n",
       "\n",
       "  Siterra_And_elemenT_Structure_Owner  ...       awater   intptlat  \\\n",
       "0                     Crown Castle T3  ...    4544405.0  47.479191   \n",
       "1                   US Wireless, Inc.  ...  150761136.0  47.619349   \n",
       "2                     City of Seattle  ...  150761136.0  47.619349   \n",
       "3                     City of Seattle  ...    1069363.0  47.476289   \n",
       "4                     City of Redmond  ...    1732419.0  47.677925   \n",
       "\n",
       "     intptlon Universe_geometry_k  SITETYPE  LEVY_JURIS PROPTYPE  KCA_ZONING  \\\n",
       "0 -122.194613    73e4ab58f0aed3fd        C9      RENTON        C          IL   \n",
       "1 -122.351471    5b1ccf47ec6f6313        C1     SEATTLE        C   SM-NG 145   \n",
       "2 -122.351471    5b1ccf47ec6f6313       NaN         NaN      NaN         NaN   \n",
       "3 -122.275740    9b2abbc615945874        R2     TUKWILA        C         HDR   \n",
       "4 -122.115336    43129f32c57993d3        U1     REDMOND        C          MP   \n",
       "\n",
       "   PREUSE_COD       PREUSE_DES  \n",
       "0       195.0        Warehouse  \n",
       "1       106.0  Office Building  \n",
       "2         NaN              NaN  \n",
       "3        11.0        Apartment  \n",
       "4       266.0  Utility, Public  \n",
       "\n",
       "[5 rows x 133 columns]"
      ]
     },
     "execution_count": 4,
     "metadata": {},
     "output_type": "execute_result"
    }
   ],
   "source": [
    "#display rows\n",
    "data.head()"
   ]
  },
  {
   "cell_type": "code",
   "execution_count": 5,
   "id": "c1080da5",
   "metadata": {},
   "outputs": [
    {
     "data": {
      "text/html": [
       "<div>\n",
       "<style scoped>\n",
       "    .dataframe tbody tr th:only-of-type {\n",
       "        vertical-align: middle;\n",
       "    }\n",
       "\n",
       "    .dataframe tbody tr th {\n",
       "        vertical-align: top;\n",
       "    }\n",
       "\n",
       "    .dataframe thead th {\n",
       "        text-align: right;\n",
       "    }\n",
       "</style>\n",
       "<table border=\"1\" class=\"dataframe\">\n",
       "  <thead>\n",
       "    <tr style=\"text-align: right;\">\n",
       "      <th></th>\n",
       "      <th>proj_cd</th>\n",
       "      <th>por_id</th>\n",
       "      <th>site_region_name</th>\n",
       "      <th>site_mkt_name</th>\n",
       "      <th>site_cty_name</th>\n",
       "      <th>site_county_name</th>\n",
       "      <th>site_addr_desc</th>\n",
       "      <th>site_type_desc</th>\n",
       "      <th>site_class_desc</th>\n",
       "      <th>Siterra_And_elemenT_Structure_Owner</th>\n",
       "      <th>...</th>\n",
       "      <th>awater</th>\n",
       "      <th>intptlat</th>\n",
       "      <th>intptlon</th>\n",
       "      <th>Universe_geometry_k</th>\n",
       "      <th>SITETYPE</th>\n",
       "      <th>LEVY_JURIS</th>\n",
       "      <th>PROPTYPE</th>\n",
       "      <th>KCA_ZONING</th>\n",
       "      <th>PREUSE_COD</th>\n",
       "      <th>PREUSE_DES</th>\n",
       "    </tr>\n",
       "  </thead>\n",
       "  <tbody>\n",
       "    <tr>\n",
       "      <th>0</th>\n",
       "      <td>SE04035A - Site Modification (4902665)</td>\n",
       "      <td>POR0348914,POR0256248</td>\n",
       "      <td>WEST</td>\n",
       "      <td>SEATTLE WA</td>\n",
       "      <td>Renton</td>\n",
       "      <td>King</td>\n",
       "      <td>3401 Lind Avenue SW</td>\n",
       "      <td>Structure Non Building</td>\n",
       "      <td>Monopole</td>\n",
       "      <td>Crown Castle T3</td>\n",
       "      <td>...</td>\n",
       "      <td>4544405.0</td>\n",
       "      <td>47.479191</td>\n",
       "      <td>-122.194613</td>\n",
       "      <td>73e4ab58f0aed3fd</td>\n",
       "      <td>C9</td>\n",
       "      <td>RENTON</td>\n",
       "      <td>C</td>\n",
       "      <td>IL</td>\n",
       "      <td>195.0</td>\n",
       "      <td>Warehouse</td>\n",
       "    </tr>\n",
       "    <tr>\n",
       "      <th>1</th>\n",
       "      <td>SE01130C - Site Modification (4902594)</td>\n",
       "      <td>POR0256260</td>\n",
       "      <td>WEST</td>\n",
       "      <td>SEATTLE WA</td>\n",
       "      <td>Seattle</td>\n",
       "      <td>King</td>\n",
       "      <td>9725 3rd Avenue NE</td>\n",
       "      <td>Building</td>\n",
       "      <td>Roof Top Mount</td>\n",
       "      <td>US Wireless, Inc.</td>\n",
       "      <td>...</td>\n",
       "      <td>150761136.0</td>\n",
       "      <td>47.619349</td>\n",
       "      <td>-122.351471</td>\n",
       "      <td>5b1ccf47ec6f6313</td>\n",
       "      <td>C1</td>\n",
       "      <td>SEATTLE</td>\n",
       "      <td>C</td>\n",
       "      <td>SM-NG 145</td>\n",
       "      <td>106.0</td>\n",
       "      <td>Office Building</td>\n",
       "    </tr>\n",
       "    <tr>\n",
       "      <th>2</th>\n",
       "      <td>SE02108E - Site Modification (4946325)</td>\n",
       "      <td>POR0307721,POR0254995,POR0327285</td>\n",
       "      <td>WEST</td>\n",
       "      <td>SEATTLE WA</td>\n",
       "      <td>Seattle</td>\n",
       "      <td>King</td>\n",
       "      <td>3206 SW Admiral Way</td>\n",
       "      <td>Structure Non Building</td>\n",
       "      <td>Wood Pole</td>\n",
       "      <td>City of Seattle</td>\n",
       "      <td>...</td>\n",
       "      <td>150761136.0</td>\n",
       "      <td>47.619349</td>\n",
       "      <td>-122.351471</td>\n",
       "      <td>5b1ccf47ec6f6313</td>\n",
       "      <td>NaN</td>\n",
       "      <td>NaN</td>\n",
       "      <td>NaN</td>\n",
       "      <td>NaN</td>\n",
       "      <td>NaN</td>\n",
       "      <td>NaN</td>\n",
       "    </tr>\n",
       "    <tr>\n",
       "      <th>3</th>\n",
       "      <td>SE03559F - Site Modification (4902649)</td>\n",
       "      <td>POR0260721,POR0308045</td>\n",
       "      <td>WEST</td>\n",
       "      <td>SEATTLE WA</td>\n",
       "      <td>Tukwila</td>\n",
       "      <td>King</td>\n",
       "      <td>4030 S. 140th St</td>\n",
       "      <td>Structure Non Building</td>\n",
       "      <td>Wood Pole</td>\n",
       "      <td>City of Seattle</td>\n",
       "      <td>...</td>\n",
       "      <td>1069363.0</td>\n",
       "      <td>47.476289</td>\n",
       "      <td>-122.275740</td>\n",
       "      <td>9b2abbc615945874</td>\n",
       "      <td>R2</td>\n",
       "      <td>TUKWILA</td>\n",
       "      <td>C</td>\n",
       "      <td>HDR</td>\n",
       "      <td>11.0</td>\n",
       "      <td>Apartment</td>\n",
       "    </tr>\n",
       "    <tr>\n",
       "      <th>4</th>\n",
       "      <td>SE02339D - Site Modification (4902627)</td>\n",
       "      <td>POR0256254</td>\n",
       "      <td>WEST</td>\n",
       "      <td>SEATTLE WA</td>\n",
       "      <td>Redmond</td>\n",
       "      <td>King</td>\n",
       "      <td>18609 NE 65th Street</td>\n",
       "      <td>Structure Non Building</td>\n",
       "      <td>Watertank</td>\n",
       "      <td>City of Redmond</td>\n",
       "      <td>...</td>\n",
       "      <td>1732419.0</td>\n",
       "      <td>47.677925</td>\n",
       "      <td>-122.115336</td>\n",
       "      <td>43129f32c57993d3</td>\n",
       "      <td>U1</td>\n",
       "      <td>REDMOND</td>\n",
       "      <td>C</td>\n",
       "      <td>MP</td>\n",
       "      <td>266.0</td>\n",
       "      <td>Utility, Public</td>\n",
       "    </tr>\n",
       "  </tbody>\n",
       "</table>\n",
       "<p>5 rows × 133 columns</p>\n",
       "</div>"
      ],
      "text/plain": [
       "                                  proj_cd                            por_id  \\\n",
       "0  SE04035A - Site Modification (4902665)             POR0348914,POR0256248   \n",
       "1  SE01130C - Site Modification (4902594)                        POR0256260   \n",
       "2  SE02108E - Site Modification (4946325)  POR0307721,POR0254995,POR0327285   \n",
       "3  SE03559F - Site Modification (4902649)             POR0260721,POR0308045   \n",
       "4  SE02339D - Site Modification (4902627)                        POR0256254   \n",
       "\n",
       "  site_region_name site_mkt_name site_cty_name site_county_name  \\\n",
       "0             WEST    SEATTLE WA        Renton             King   \n",
       "1             WEST    SEATTLE WA       Seattle             King   \n",
       "2             WEST    SEATTLE WA       Seattle             King   \n",
       "3             WEST    SEATTLE WA       Tukwila             King   \n",
       "4             WEST    SEATTLE WA       Redmond             King   \n",
       "\n",
       "         site_addr_desc          site_type_desc site_class_desc  \\\n",
       "0   3401 Lind Avenue SW  Structure Non Building        Monopole   \n",
       "1    9725 3rd Avenue NE                Building  Roof Top Mount   \n",
       "2   3206 SW Admiral Way  Structure Non Building       Wood Pole   \n",
       "3      4030 S. 140th St  Structure Non Building       Wood Pole   \n",
       "4  18609 NE 65th Street  Structure Non Building       Watertank   \n",
       "\n",
       "  Siterra_And_elemenT_Structure_Owner  ...       awater   intptlat  \\\n",
       "0                     Crown Castle T3  ...    4544405.0  47.479191   \n",
       "1                   US Wireless, Inc.  ...  150761136.0  47.619349   \n",
       "2                     City of Seattle  ...  150761136.0  47.619349   \n",
       "3                     City of Seattle  ...    1069363.0  47.476289   \n",
       "4                     City of Redmond  ...    1732419.0  47.677925   \n",
       "\n",
       "     intptlon Universe_geometry_k  SITETYPE  LEVY_JURIS PROPTYPE  KCA_ZONING  \\\n",
       "0 -122.194613    73e4ab58f0aed3fd        C9      RENTON        C          IL   \n",
       "1 -122.351471    5b1ccf47ec6f6313        C1     SEATTLE        C   SM-NG 145   \n",
       "2 -122.351471    5b1ccf47ec6f6313       NaN         NaN      NaN         NaN   \n",
       "3 -122.275740    9b2abbc615945874        R2     TUKWILA        C         HDR   \n",
       "4 -122.115336    43129f32c57993d3        U1     REDMOND        C          MP   \n",
       "\n",
       "   PREUSE_COD       PREUSE_DES  \n",
       "0       195.0        Warehouse  \n",
       "1       106.0  Office Building  \n",
       "2         NaN              NaN  \n",
       "3        11.0        Apartment  \n",
       "4       266.0  Utility, Public  \n",
       "\n",
       "[5 rows x 133 columns]"
      ]
     },
     "execution_count": 5,
     "metadata": {},
     "output_type": "execute_result"
    }
   ],
   "source": [
    "data2.head()"
   ]
  },
  {
   "cell_type": "code",
   "execution_count": 6,
   "id": "0cdc90bb",
   "metadata": {},
   "outputs": [
    {
     "data": {
      "text/plain": [
       "0      False\n",
       "1      False\n",
       "2      False\n",
       "3      False\n",
       "4      False\n",
       "       ...  \n",
       "444    False\n",
       "445    False\n",
       "446    False\n",
       "447    False\n",
       "448    False\n",
       "Name: std_city, Length: 449, dtype: bool"
      ]
     },
     "execution_count": 6,
     "metadata": {},
     "output_type": "execute_result"
    }
   ],
   "source": [
    "data2['std_city'].isna()"
   ]
  },
  {
   "cell_type": "code",
   "execution_count": 7,
   "id": "2db569de",
   "metadata": {},
   "outputs": [
    {
     "data": {
      "text/plain": [
       "114"
      ]
     },
     "execution_count": 7,
     "metadata": {},
     "output_type": "execute_result"
    }
   ],
   "source": [
    "data2.columns.get_loc('name')"
   ]
  },
  {
   "cell_type": "code",
   "execution_count": 8,
   "id": "b8756205",
   "metadata": {},
   "outputs": [],
   "source": [
    "# data = data[data['EC Duration'] < 10]"
   ]
  },
  {
   "cell_type": "code",
   "execution_count": 9,
   "id": "530a9831",
   "metadata": {},
   "outputs": [],
   "source": [
    "data['Siterra_And_elemenT_Structure_Owner'] = data2['Siterra_And_elemenT_Structure_Owner']"
   ]
  },
  {
   "cell_type": "code",
   "execution_count": 10,
   "id": "2eeff4e0",
   "metadata": {},
   "outputs": [],
   "source": [
    "data['por_plan_type_desc'] = data2['por_plan_type_desc']"
   ]
  },
  {
   "cell_type": "code",
   "execution_count": 11,
   "id": "9e8635cf",
   "metadata": {},
   "outputs": [
    {
     "data": {
      "text/plain": [
       "Index(['proj_cd', 'por_id', 'site_region_name', 'site_mkt_name',\n",
       "       'site_cty_name', 'site_county_name', 'site_addr_desc', 'site_type_desc',\n",
       "       'site_class_desc', 'Siterra_And_elemenT_Structure_Owner',\n",
       "       ...\n",
       "       'awater', 'intptlat', 'intptlon', 'Universe_geometry_k', 'SITETYPE',\n",
       "       'LEVY_JURIS', 'PROPTYPE', 'KCA_ZONING', 'PREUSE_COD', 'PREUSE_DES'],\n",
       "      dtype='object', length=133)"
      ]
     },
     "execution_count": 11,
     "metadata": {},
     "output_type": "execute_result"
    }
   ],
   "source": [
    "data.columns"
   ]
  },
  {
   "cell_type": "code",
   "execution_count": 12,
   "id": "6a2ab6c2",
   "metadata": {},
   "outputs": [
    {
     "data": {
      "text/plain": [
       "Index(['proj_cd', 'por_id', 'site_region_name', 'site_mkt_name',\n",
       "       'site_cty_name', 'site_county_name', 'site_addr_desc', 'site_type_desc',\n",
       "       'site_class_desc', 'Siterra_And_elemenT_Structure_Owner',\n",
       "       ...\n",
       "       'awater', 'intptlat', 'intptlon', 'Universe_geometry_k', 'SITETYPE',\n",
       "       'LEVY_JURIS', 'PROPTYPE', 'KCA_ZONING', 'PREUSE_COD', 'PREUSE_DES'],\n",
       "      dtype='object', length=133)"
      ]
     },
     "execution_count": 12,
     "metadata": {},
     "output_type": "execute_result"
    }
   ],
   "source": [
    "data2.columns"
   ]
  },
  {
   "cell_type": "code",
   "execution_count": 13,
   "id": "4e15ba0e",
   "metadata": {},
   "outputs": [],
   "source": [
    "# data['special_infrastructure'] = data2['special_infrastructure']"
   ]
  },
  {
   "cell_type": "code",
   "execution_count": 14,
   "id": "8c37c3e9",
   "metadata": {},
   "outputs": [],
   "source": [
    "# data2['special_infrastructure']"
   ]
  },
  {
   "cell_type": "code",
   "execution_count": 15,
   "id": "42d8e948",
   "metadata": {},
   "outputs": [
    {
     "data": {
      "text/plain": [
       "(449, 133)"
      ]
     },
     "execution_count": 15,
     "metadata": {},
     "output_type": "execute_result"
    }
   ],
   "source": [
    "#data dimensions\n",
    "data.shape"
   ]
  },
  {
   "cell_type": "code",
   "execution_count": 16,
   "id": "d9092f79",
   "metadata": {},
   "outputs": [
    {
     "data": {
      "text/plain": [
       "(449, 133)"
      ]
     },
     "execution_count": 16,
     "metadata": {},
     "output_type": "execute_result"
    }
   ],
   "source": [
    "data2.shape"
   ]
  },
  {
   "cell_type": "markdown",
   "id": "37be5b16",
   "metadata": {},
   "source": [
    "## Missing Data Analysis"
   ]
  },
  {
   "cell_type": "code",
   "execution_count": 17,
   "id": "7637ca54",
   "metadata": {},
   "outputs": [],
   "source": [
    "#store column names\n",
    "data_cols = data.columns"
   ]
  },
  {
   "cell_type": "code",
   "execution_count": 18,
   "id": "06703751",
   "metadata": {},
   "outputs": [],
   "source": [
    "#storing columns with null values separately\n",
    "isnull_cols = {}\n",
    "for feature in data_cols:\n",
    "    if data[feature].isnull().sum() > 0:\n",
    "        isnull_cols[feature] = data[feature].isnull().sum()"
   ]
  },
  {
   "cell_type": "code",
   "execution_count": 19,
   "id": "f6952a0f",
   "metadata": {
    "scrolled": true
   },
   "outputs": [
    {
     "data": {
      "text/plain": [
       "{'min_por_plan_status_dt': 40,\n",
       " 'max_por_plan_status_dt': 40,\n",
       " 'Min_HC_Release_POR': 25,\n",
       " 'id': 60,\n",
       " 'frm_apn': 60,\n",
       " 'orig_apn': 60,\n",
       " 'land_use': 60,\n",
       " 'land_use_name': 65,\n",
       " 'prop_ind': 60,\n",
       " 'property_indicator_name': 60,\n",
       " 'zoning': 60,\n",
       " 'tax_yr': 61,\n",
       " 'tax_amt': 61,\n",
       " 'tot_val': 122,\n",
       " 'imp_val': 160,\n",
       " 'lan_val': 123,\n",
       " 'imp_land_ratio': 161,\n",
       " 'land_value_assessment_type': 60,\n",
       " 'total_value_assessment_type': 60,\n",
       " 'mkt_imp': 160,\n",
       " 'mkt_lan': 123,\n",
       " 'mkt_val': 122,\n",
       " 'mkt_imp_land_ratio': 161,\n",
       " 'assd_imp': 160,\n",
       " 'assd_lan': 123,\n",
       " 'assd_val': 122,\n",
       " 'assd_imp_land_ratio': 161,\n",
       " 'yr_blt': 152,\n",
       " 'eff_yr_blt': 187,\n",
       " 'bld_units': 96,\n",
       " 'units_nbr': 378,\n",
       " 'land_acres': 60,\n",
       " 'land_sq_ft': 60,\n",
       " 'bld_sq_ft': 164,\n",
       " 'bldg_far': 164,\n",
       " 'ubld_sq_ft': 153,\n",
       " 'adj_sq_ft': 204,\n",
       " 'bsmt_sq_ft': 430,\n",
       " 'front_ft': 449,\n",
       " 'depth_ft': 449,\n",
       " 'gf_sq_ft': 409,\n",
       " 'pool': 434,\n",
       " 'energy_use_type': 449,\n",
       " 'water_type': 73,\n",
       " 'fuel_type': 449,\n",
       " 'sewer_type': 449,\n",
       " 'std_addr': 102,\n",
       " 'std_state': 102,\n",
       " 'std_zip': 102,\n",
       " 'census_tr': 67,\n",
       " 'cnty_code': 60,\n",
       " 'state_code': 60,\n",
       " 'geometry_key': 60,\n",
       " 'geometry_k': 60,\n",
       " 'fid': 35,\n",
       " 'statefp': 35,\n",
       " 'placefp': 35,\n",
       " 'placens': 35,\n",
       " 'geoid': 35,\n",
       " 'name': 35,\n",
       " 'namelsad': 35,\n",
       " 'lsad': 35,\n",
       " 'classfp': 35,\n",
       " 'pcicbsa': 35,\n",
       " 'pcinecta': 35,\n",
       " 'mtfcc': 35,\n",
       " 'funcstat': 35,\n",
       " 'aland': 35,\n",
       " 'awater': 35,\n",
       " 'intptlat': 35,\n",
       " 'intptlon': 35,\n",
       " 'Universe_geometry_k': 35,\n",
       " 'SITETYPE': 89,\n",
       " 'LEVY_JURIS': 86,\n",
       " 'PROPTYPE': 59,\n",
       " 'KCA_ZONING': 59,\n",
       " 'PREUSE_COD': 59,\n",
       " 'PREUSE_DES': 67}"
      ]
     },
     "execution_count": 19,
     "metadata": {},
     "output_type": "execute_result"
    }
   ],
   "source": [
    "#dictionary containing null counts \n",
    "isnull_cols"
   ]
  },
  {
   "cell_type": "code",
   "execution_count": 20,
   "id": "1e651d46",
   "metadata": {},
   "outputs": [
    {
     "data": {
      "text/plain": [
       "proj_cd              0.000000\n",
       "por_id               0.000000\n",
       "site_region_name     0.000000\n",
       "site_mkt_name        0.000000\n",
       "site_cty_name        0.000000\n",
       "                      ...    \n",
       "LEVY_JURIS          19.153675\n",
       "PROPTYPE            13.140312\n",
       "KCA_ZONING          13.140312\n",
       "PREUSE_COD          13.140312\n",
       "PREUSE_DES          14.922049\n",
       "Length: 133, dtype: float64"
      ]
     },
     "execution_count": 20,
     "metadata": {},
     "output_type": "execute_result"
    }
   ],
   "source": [
    "# calculating missing values percentage\n",
    "percent_missing = data.isnull().sum() / len(data) * 100\n",
    "percent_missing"
   ]
  },
  {
   "cell_type": "code",
   "execution_count": 21,
   "id": "2d063ba4",
   "metadata": {
    "tags": []
   },
   "outputs": [
    {
     "data": {
      "text/plain": [
       "proj_cd              object\n",
       "por_id               object\n",
       "site_region_name     object\n",
       "site_mkt_name        object\n",
       "site_cty_name        object\n",
       "                     ...   \n",
       "LEVY_JURIS           object\n",
       "PROPTYPE             object\n",
       "KCA_ZONING           object\n",
       "PREUSE_COD          float64\n",
       "PREUSE_DES           object\n",
       "Length: 133, dtype: object"
      ]
     },
     "execution_count": 21,
     "metadata": {},
     "output_type": "execute_result"
    }
   ],
   "source": [
    "#checking datatypes\n",
    "data.dtypes"
   ]
  },
  {
   "cell_type": "markdown",
   "id": "3c47a91b-12b8-4430-9b86-f47ad10a7b0a",
   "metadata": {},
   "source": [
    "## Features of interest"
   ]
  },
  {
   "cell_type": "code",
   "execution_count": 22,
   "id": "6f3c2aff",
   "metadata": {},
   "outputs": [],
   "source": [
    "#Final features for the dataset\n",
    "#added PROPTYPE feature to the dataset\n",
    "data_v1 = data[['site_type_desc','site_class_desc','MLA_Partner','MLA_Flag','isurban','EC Duration',\n",
    "            'Category_v_Anchor','Category_v_L600','Category_v_Capacity_Other','max_proj_l600_flg','max_proj_2500_flg',\n",
    "            'Min_SC_Release_POR','land_use_name','property_indicator_name','tax_amt','yr_blt','land_acres','std_city',\n",
    "                'PROPTYPE']]"
   ]
  },
  {
   "cell_type": "code",
   "execution_count": 23,
   "id": "09bddd9a",
   "metadata": {},
   "outputs": [],
   "source": [
    "#removing columns\n",
    "data_v1.drop(['Category_v_Anchor', 'land_use_name'], axis = 1, inplace = True)"
   ]
  },
  {
   "cell_type": "markdown",
   "id": "3a530d85",
   "metadata": {},
   "source": [
    "#### Feature Engineering"
   ]
  },
  {
   "cell_type": "code",
   "execution_count": 24,
   "id": "56ec849a",
   "metadata": {},
   "outputs": [],
   "source": [
    "#created tax_per_acre column\n",
    "data_v1['tax_per_acre'] = data_v1['tax_amt']/data_v1['land_acres']"
   ]
  },
  {
   "cell_type": "code",
   "execution_count": 25,
   "id": "c30dbd50",
   "metadata": {},
   "outputs": [],
   "source": [
    "#dropping 'tax_amt' to use 'tax_per_acre' column instead\n",
    "data_v1.drop('tax_amt', axis = 1, inplace = True)"
   ]
  },
  {
   "cell_type": "code",
   "execution_count": 26,
   "id": "150d8f51",
   "metadata": {},
   "outputs": [],
   "source": [
    "#adding age column using yr_blt column\n",
    "data_v1['age'] = 2022 - data_v1['yr_blt']"
   ]
  },
  {
   "cell_type": "code",
   "execution_count": 27,
   "id": "65a33fdf",
   "metadata": {},
   "outputs": [],
   "source": [
    "#dropping 'yr_blt' to use 'age' column instead\n",
    "data_v1.drop('yr_blt', axis = 1, inplace = True)"
   ]
  },
  {
   "cell_type": "code",
   "execution_count": 28,
   "id": "0efde41b",
   "metadata": {},
   "outputs": [
    {
     "data": {
      "text/html": [
       "<div>\n",
       "<style scoped>\n",
       "    .dataframe tbody tr th:only-of-type {\n",
       "        vertical-align: middle;\n",
       "    }\n",
       "\n",
       "    .dataframe tbody tr th {\n",
       "        vertical-align: top;\n",
       "    }\n",
       "\n",
       "    .dataframe thead th {\n",
       "        text-align: right;\n",
       "    }\n",
       "</style>\n",
       "<table border=\"1\" class=\"dataframe\">\n",
       "  <thead>\n",
       "    <tr style=\"text-align: right;\">\n",
       "      <th></th>\n",
       "      <th>site_type_desc</th>\n",
       "      <th>site_class_desc</th>\n",
       "      <th>MLA_Partner</th>\n",
       "      <th>MLA_Flag</th>\n",
       "      <th>isurban</th>\n",
       "      <th>EC Duration</th>\n",
       "      <th>Category_v_L600</th>\n",
       "      <th>Category_v_Capacity_Other</th>\n",
       "      <th>max_proj_l600_flg</th>\n",
       "      <th>max_proj_2500_flg</th>\n",
       "      <th>Min_SC_Release_POR</th>\n",
       "      <th>property_indicator_name</th>\n",
       "      <th>land_acres</th>\n",
       "      <th>std_city</th>\n",
       "      <th>PROPTYPE</th>\n",
       "      <th>tax_per_acre</th>\n",
       "      <th>age</th>\n",
       "    </tr>\n",
       "  </thead>\n",
       "  <tbody>\n",
       "    <tr>\n",
       "      <th>0</th>\n",
       "      <td>Structure Non Building</td>\n",
       "      <td>Monopole</td>\n",
       "      <td>Other</td>\n",
       "      <td>Y</td>\n",
       "      <td>1</td>\n",
       "      <td>5.9</td>\n",
       "      <td>0</td>\n",
       "      <td>1</td>\n",
       "      <td>0</td>\n",
       "      <td>1</td>\n",
       "      <td>2020-04-01</td>\n",
       "      <td>WAREHOUSE</td>\n",
       "      <td>5.1496</td>\n",
       "      <td>RENTON</td>\n",
       "      <td>C</td>\n",
       "      <td>40035.461007</td>\n",
       "      <td>36.0</td>\n",
       "    </tr>\n",
       "    <tr>\n",
       "      <th>1</th>\n",
       "      <td>Building</td>\n",
       "      <td>Roof Top Mount</td>\n",
       "      <td>Other</td>\n",
       "      <td>N</td>\n",
       "      <td>1</td>\n",
       "      <td>8.8</td>\n",
       "      <td>0</td>\n",
       "      <td>0</td>\n",
       "      <td>0</td>\n",
       "      <td>1</td>\n",
       "      <td>2020-04-01</td>\n",
       "      <td>OFFICE BUILDING</td>\n",
       "      <td>3.2108</td>\n",
       "      <td>SEATTLE</td>\n",
       "      <td>C</td>\n",
       "      <td>80411.754080</td>\n",
       "      <td>43.0</td>\n",
       "    </tr>\n",
       "    <tr>\n",
       "      <th>2</th>\n",
       "      <td>Structure Non Building</td>\n",
       "      <td>Wood Pole</td>\n",
       "      <td>Other</td>\n",
       "      <td>N</td>\n",
       "      <td>1</td>\n",
       "      <td>12.7</td>\n",
       "      <td>1</td>\n",
       "      <td>1</td>\n",
       "      <td>1</td>\n",
       "      <td>1</td>\n",
       "      <td>2020-05-01</td>\n",
       "      <td>NaN</td>\n",
       "      <td>NaN</td>\n",
       "      <td>SEATTLE</td>\n",
       "      <td>NaN</td>\n",
       "      <td>NaN</td>\n",
       "      <td>NaN</td>\n",
       "    </tr>\n",
       "    <tr>\n",
       "      <th>3</th>\n",
       "      <td>Structure Non Building</td>\n",
       "      <td>Wood Pole</td>\n",
       "      <td>Other</td>\n",
       "      <td>N</td>\n",
       "      <td>1</td>\n",
       "      <td>10.6</td>\n",
       "      <td>1</td>\n",
       "      <td>0</td>\n",
       "      <td>1</td>\n",
       "      <td>1</td>\n",
       "      <td>2020-04-01</td>\n",
       "      <td>APARTMENT</td>\n",
       "      <td>0.3857</td>\n",
       "      <td>TUKWILA</td>\n",
       "      <td>C</td>\n",
       "      <td>14598.625875</td>\n",
       "      <td>NaN</td>\n",
       "    </tr>\n",
       "    <tr>\n",
       "      <th>4</th>\n",
       "      <td>Structure Non Building</td>\n",
       "      <td>Watertank</td>\n",
       "      <td>Other</td>\n",
       "      <td>N</td>\n",
       "      <td>1</td>\n",
       "      <td>4.6</td>\n",
       "      <td>0</td>\n",
       "      <td>0</td>\n",
       "      <td>0</td>\n",
       "      <td>1</td>\n",
       "      <td>2020-04-01</td>\n",
       "      <td>UTILITIES</td>\n",
       "      <td>0.8844</td>\n",
       "      <td>REDMOND</td>\n",
       "      <td>C</td>\n",
       "      <td>19.934419</td>\n",
       "      <td>NaN</td>\n",
       "    </tr>\n",
       "    <tr>\n",
       "      <th>...</th>\n",
       "      <td>...</td>\n",
       "      <td>...</td>\n",
       "      <td>...</td>\n",
       "      <td>...</td>\n",
       "      <td>...</td>\n",
       "      <td>...</td>\n",
       "      <td>...</td>\n",
       "      <td>...</td>\n",
       "      <td>...</td>\n",
       "      <td>...</td>\n",
       "      <td>...</td>\n",
       "      <td>...</td>\n",
       "      <td>...</td>\n",
       "      <td>...</td>\n",
       "      <td>...</td>\n",
       "      <td>...</td>\n",
       "      <td>...</td>\n",
       "    </tr>\n",
       "    <tr>\n",
       "      <th>444</th>\n",
       "      <td>Structure Non Building</td>\n",
       "      <td>Utility Lattice Tower</td>\n",
       "      <td>Other</td>\n",
       "      <td>N</td>\n",
       "      <td>1</td>\n",
       "      <td>6.1</td>\n",
       "      <td>1</td>\n",
       "      <td>0</td>\n",
       "      <td>1</td>\n",
       "      <td>0</td>\n",
       "      <td>2021-08-01</td>\n",
       "      <td>MISCELLANEOUS</td>\n",
       "      <td>0.2415</td>\n",
       "      <td>RENTON</td>\n",
       "      <td>R</td>\n",
       "      <td>49.233954</td>\n",
       "      <td>NaN</td>\n",
       "    </tr>\n",
       "    <tr>\n",
       "      <th>445</th>\n",
       "      <td>Structure Non Building</td>\n",
       "      <td>Self Support Tower</td>\n",
       "      <td>Crown Castle</td>\n",
       "      <td>Y</td>\n",
       "      <td>0</td>\n",
       "      <td>8.6</td>\n",
       "      <td>0</td>\n",
       "      <td>0</td>\n",
       "      <td>0</td>\n",
       "      <td>1</td>\n",
       "      <td>2021-08-01</td>\n",
       "      <td>VACANT</td>\n",
       "      <td>49.2300</td>\n",
       "      <td>FALL CITY</td>\n",
       "      <td>R</td>\n",
       "      <td>5.750965</td>\n",
       "      <td>NaN</td>\n",
       "    </tr>\n",
       "    <tr>\n",
       "      <th>446</th>\n",
       "      <td>Building</td>\n",
       "      <td>Roof Top Mount</td>\n",
       "      <td>Other</td>\n",
       "      <td>N</td>\n",
       "      <td>1</td>\n",
       "      <td>5.1</td>\n",
       "      <td>0</td>\n",
       "      <td>1</td>\n",
       "      <td>0</td>\n",
       "      <td>1</td>\n",
       "      <td>2021-12-01</td>\n",
       "      <td>INDUSTRIAL</td>\n",
       "      <td>4.3243</td>\n",
       "      <td>BOTHELL</td>\n",
       "      <td>C</td>\n",
       "      <td>37266.223435</td>\n",
       "      <td>35.0</td>\n",
       "    </tr>\n",
       "    <tr>\n",
       "      <th>447</th>\n",
       "      <td>Building</td>\n",
       "      <td>In Building</td>\n",
       "      <td>Other</td>\n",
       "      <td>N</td>\n",
       "      <td>1</td>\n",
       "      <td>0.9</td>\n",
       "      <td>0</td>\n",
       "      <td>1</td>\n",
       "      <td>0</td>\n",
       "      <td>0</td>\n",
       "      <td>2022-01-01</td>\n",
       "      <td>PARKING</td>\n",
       "      <td>0.7920</td>\n",
       "      <td>BELLEVUE</td>\n",
       "      <td>C</td>\n",
       "      <td>28922.449495</td>\n",
       "      <td>NaN</td>\n",
       "    </tr>\n",
       "    <tr>\n",
       "      <th>448</th>\n",
       "      <td>Structure Non Building</td>\n",
       "      <td>Monopole</td>\n",
       "      <td>Other</td>\n",
       "      <td>Y</td>\n",
       "      <td>1</td>\n",
       "      <td>0.9</td>\n",
       "      <td>1</td>\n",
       "      <td>0</td>\n",
       "      <td>1</td>\n",
       "      <td>0</td>\n",
       "      <td>2022-02-01</td>\n",
       "      <td>VACANT</td>\n",
       "      <td>0.3060</td>\n",
       "      <td>SEATTLE</td>\n",
       "      <td>C</td>\n",
       "      <td>64058.333333</td>\n",
       "      <td>NaN</td>\n",
       "    </tr>\n",
       "  </tbody>\n",
       "</table>\n",
       "<p>449 rows × 17 columns</p>\n",
       "</div>"
      ],
      "text/plain": [
       "             site_type_desc        site_class_desc   MLA_Partner MLA_Flag  \\\n",
       "0    Structure Non Building               Monopole         Other        Y   \n",
       "1                  Building         Roof Top Mount         Other        N   \n",
       "2    Structure Non Building              Wood Pole         Other        N   \n",
       "3    Structure Non Building              Wood Pole         Other        N   \n",
       "4    Structure Non Building              Watertank         Other        N   \n",
       "..                      ...                    ...           ...      ...   \n",
       "444  Structure Non Building  Utility Lattice Tower         Other        N   \n",
       "445  Structure Non Building     Self Support Tower  Crown Castle        Y   \n",
       "446                Building         Roof Top Mount         Other        N   \n",
       "447                Building            In Building         Other        N   \n",
       "448  Structure Non Building               Monopole         Other        Y   \n",
       "\n",
       "     isurban  EC Duration  Category_v_L600  Category_v_Capacity_Other  \\\n",
       "0          1          5.9                0                          1   \n",
       "1          1          8.8                0                          0   \n",
       "2          1         12.7                1                          1   \n",
       "3          1         10.6                1                          0   \n",
       "4          1          4.6                0                          0   \n",
       "..       ...          ...              ...                        ...   \n",
       "444        1          6.1                1                          0   \n",
       "445        0          8.6                0                          0   \n",
       "446        1          5.1                0                          1   \n",
       "447        1          0.9                0                          1   \n",
       "448        1          0.9                1                          0   \n",
       "\n",
       "     max_proj_l600_flg  max_proj_2500_flg Min_SC_Release_POR  \\\n",
       "0                    0                  1         2020-04-01   \n",
       "1                    0                  1         2020-04-01   \n",
       "2                    1                  1         2020-05-01   \n",
       "3                    1                  1         2020-04-01   \n",
       "4                    0                  1         2020-04-01   \n",
       "..                 ...                ...                ...   \n",
       "444                  1                  0         2021-08-01   \n",
       "445                  0                  1         2021-08-01   \n",
       "446                  0                  1         2021-12-01   \n",
       "447                  0                  0         2022-01-01   \n",
       "448                  1                  0         2022-02-01   \n",
       "\n",
       "    property_indicator_name  land_acres   std_city PROPTYPE  tax_per_acre  \\\n",
       "0                 WAREHOUSE      5.1496     RENTON        C  40035.461007   \n",
       "1           OFFICE BUILDING      3.2108    SEATTLE        C  80411.754080   \n",
       "2                       NaN         NaN    SEATTLE      NaN           NaN   \n",
       "3                 APARTMENT      0.3857    TUKWILA        C  14598.625875   \n",
       "4                 UTILITIES      0.8844    REDMOND        C     19.934419   \n",
       "..                      ...         ...        ...      ...           ...   \n",
       "444           MISCELLANEOUS      0.2415     RENTON        R     49.233954   \n",
       "445                  VACANT     49.2300  FALL CITY        R      5.750965   \n",
       "446              INDUSTRIAL      4.3243    BOTHELL        C  37266.223435   \n",
       "447                 PARKING      0.7920   BELLEVUE        C  28922.449495   \n",
       "448                  VACANT      0.3060    SEATTLE        C  64058.333333   \n",
       "\n",
       "      age  \n",
       "0    36.0  \n",
       "1    43.0  \n",
       "2     NaN  \n",
       "3     NaN  \n",
       "4     NaN  \n",
       "..    ...  \n",
       "444   NaN  \n",
       "445   NaN  \n",
       "446  35.0  \n",
       "447   NaN  \n",
       "448   NaN  \n",
       "\n",
       "[449 rows x 17 columns]"
      ]
     },
     "execution_count": 28,
     "metadata": {},
     "output_type": "execute_result"
    }
   ],
   "source": [
    "data_v1"
   ]
  },
  {
   "cell_type": "code",
   "execution_count": 29,
   "id": "ca694421",
   "metadata": {},
   "outputs": [
    {
     "data": {
      "text/plain": [
       "site_type_desc                       object\n",
       "site_class_desc                      object\n",
       "MLA_Partner                          object\n",
       "MLA_Flag                             object\n",
       "isurban                               int64\n",
       "EC Duration                         float64\n",
       "Category_v_L600                       int64\n",
       "Category_v_Capacity_Other             int64\n",
       "max_proj_l600_flg                     int64\n",
       "max_proj_2500_flg                     int64\n",
       "Min_SC_Release_POR           datetime64[ns]\n",
       "property_indicator_name              object\n",
       "land_acres                          float64\n",
       "std_city                             object\n",
       "PROPTYPE                             object\n",
       "tax_per_acre                        float64\n",
       "age                                 float64\n",
       "dtype: object"
      ]
     },
     "execution_count": 29,
     "metadata": {},
     "output_type": "execute_result"
    }
   ],
   "source": [
    "data_v1.dtypes"
   ]
  },
  {
   "cell_type": "code",
   "execution_count": 30,
   "id": "99f6fe58",
   "metadata": {},
   "outputs": [],
   "source": [
    "#dropping column due to high correlation with 'max_proj_l600_flg' \n",
    "data_v1.drop('Category_v_L600', axis = 1, inplace = True)"
   ]
  },
  {
   "cell_type": "code",
   "execution_count": 31,
   "id": "54fe6982-5791-4d68-a7b1-fed5321a0fd6",
   "metadata": {},
   "outputs": [
    {
     "data": {
      "text/html": [
       "<div>\n",
       "<style scoped>\n",
       "    .dataframe tbody tr th:only-of-type {\n",
       "        vertical-align: middle;\n",
       "    }\n",
       "\n",
       "    .dataframe tbody tr th {\n",
       "        vertical-align: top;\n",
       "    }\n",
       "\n",
       "    .dataframe thead th {\n",
       "        text-align: right;\n",
       "    }\n",
       "</style>\n",
       "<table border=\"1\" class=\"dataframe\">\n",
       "  <thead>\n",
       "    <tr style=\"text-align: right;\">\n",
       "      <th></th>\n",
       "      <th>site_type_desc</th>\n",
       "      <th>site_class_desc</th>\n",
       "      <th>MLA_Partner</th>\n",
       "      <th>MLA_Flag</th>\n",
       "      <th>isurban</th>\n",
       "      <th>EC Duration</th>\n",
       "      <th>Category_v_Capacity_Other</th>\n",
       "      <th>max_proj_l600_flg</th>\n",
       "      <th>max_proj_2500_flg</th>\n",
       "      <th>Min_SC_Release_POR</th>\n",
       "      <th>property_indicator_name</th>\n",
       "      <th>land_acres</th>\n",
       "      <th>std_city</th>\n",
       "      <th>PROPTYPE</th>\n",
       "      <th>tax_per_acre</th>\n",
       "      <th>age</th>\n",
       "    </tr>\n",
       "  </thead>\n",
       "  <tbody>\n",
       "    <tr>\n",
       "      <th>0</th>\n",
       "      <td>Structure Non Building</td>\n",
       "      <td>Monopole</td>\n",
       "      <td>Other</td>\n",
       "      <td>Y</td>\n",
       "      <td>1</td>\n",
       "      <td>5.9</td>\n",
       "      <td>1</td>\n",
       "      <td>0</td>\n",
       "      <td>1</td>\n",
       "      <td>2020-04-01</td>\n",
       "      <td>WAREHOUSE</td>\n",
       "      <td>5.1496</td>\n",
       "      <td>RENTON</td>\n",
       "      <td>C</td>\n",
       "      <td>40035.461007</td>\n",
       "      <td>36.0</td>\n",
       "    </tr>\n",
       "    <tr>\n",
       "      <th>1</th>\n",
       "      <td>Building</td>\n",
       "      <td>Roof Top Mount</td>\n",
       "      <td>Other</td>\n",
       "      <td>N</td>\n",
       "      <td>1</td>\n",
       "      <td>8.8</td>\n",
       "      <td>0</td>\n",
       "      <td>0</td>\n",
       "      <td>1</td>\n",
       "      <td>2020-04-01</td>\n",
       "      <td>OFFICE BUILDING</td>\n",
       "      <td>3.2108</td>\n",
       "      <td>SEATTLE</td>\n",
       "      <td>C</td>\n",
       "      <td>80411.754080</td>\n",
       "      <td>43.0</td>\n",
       "    </tr>\n",
       "    <tr>\n",
       "      <th>2</th>\n",
       "      <td>Structure Non Building</td>\n",
       "      <td>Wood Pole</td>\n",
       "      <td>Other</td>\n",
       "      <td>N</td>\n",
       "      <td>1</td>\n",
       "      <td>12.7</td>\n",
       "      <td>1</td>\n",
       "      <td>1</td>\n",
       "      <td>1</td>\n",
       "      <td>2020-05-01</td>\n",
       "      <td>NaN</td>\n",
       "      <td>NaN</td>\n",
       "      <td>SEATTLE</td>\n",
       "      <td>NaN</td>\n",
       "      <td>NaN</td>\n",
       "      <td>NaN</td>\n",
       "    </tr>\n",
       "    <tr>\n",
       "      <th>3</th>\n",
       "      <td>Structure Non Building</td>\n",
       "      <td>Wood Pole</td>\n",
       "      <td>Other</td>\n",
       "      <td>N</td>\n",
       "      <td>1</td>\n",
       "      <td>10.6</td>\n",
       "      <td>0</td>\n",
       "      <td>1</td>\n",
       "      <td>1</td>\n",
       "      <td>2020-04-01</td>\n",
       "      <td>APARTMENT</td>\n",
       "      <td>0.3857</td>\n",
       "      <td>TUKWILA</td>\n",
       "      <td>C</td>\n",
       "      <td>14598.625875</td>\n",
       "      <td>NaN</td>\n",
       "    </tr>\n",
       "    <tr>\n",
       "      <th>4</th>\n",
       "      <td>Structure Non Building</td>\n",
       "      <td>Watertank</td>\n",
       "      <td>Other</td>\n",
       "      <td>N</td>\n",
       "      <td>1</td>\n",
       "      <td>4.6</td>\n",
       "      <td>0</td>\n",
       "      <td>0</td>\n",
       "      <td>1</td>\n",
       "      <td>2020-04-01</td>\n",
       "      <td>UTILITIES</td>\n",
       "      <td>0.8844</td>\n",
       "      <td>REDMOND</td>\n",
       "      <td>C</td>\n",
       "      <td>19.934419</td>\n",
       "      <td>NaN</td>\n",
       "    </tr>\n",
       "  </tbody>\n",
       "</table>\n",
       "</div>"
      ],
      "text/plain": [
       "           site_type_desc site_class_desc MLA_Partner MLA_Flag  isurban  \\\n",
       "0  Structure Non Building        Monopole       Other        Y        1   \n",
       "1                Building  Roof Top Mount       Other        N        1   \n",
       "2  Structure Non Building       Wood Pole       Other        N        1   \n",
       "3  Structure Non Building       Wood Pole       Other        N        1   \n",
       "4  Structure Non Building       Watertank       Other        N        1   \n",
       "\n",
       "   EC Duration  Category_v_Capacity_Other  max_proj_l600_flg  \\\n",
       "0          5.9                          1                  0   \n",
       "1          8.8                          0                  0   \n",
       "2         12.7                          1                  1   \n",
       "3         10.6                          0                  1   \n",
       "4          4.6                          0                  0   \n",
       "\n",
       "   max_proj_2500_flg Min_SC_Release_POR property_indicator_name  land_acres  \\\n",
       "0                  1         2020-04-01               WAREHOUSE      5.1496   \n",
       "1                  1         2020-04-01         OFFICE BUILDING      3.2108   \n",
       "2                  1         2020-05-01                     NaN         NaN   \n",
       "3                  1         2020-04-01               APARTMENT      0.3857   \n",
       "4                  1         2020-04-01               UTILITIES      0.8844   \n",
       "\n",
       "  std_city PROPTYPE  tax_per_acre   age  \n",
       "0   RENTON        C  40035.461007  36.0  \n",
       "1  SEATTLE        C  80411.754080  43.0  \n",
       "2  SEATTLE      NaN           NaN   NaN  \n",
       "3  TUKWILA        C  14598.625875   NaN  \n",
       "4  REDMOND        C     19.934419   NaN  "
      ]
     },
     "execution_count": 31,
     "metadata": {},
     "output_type": "execute_result"
    }
   ],
   "source": [
    "data_v1.head()"
   ]
  },
  {
   "cell_type": "code",
   "execution_count": 32,
   "id": "3ad44571",
   "metadata": {},
   "outputs": [
    {
     "data": {
      "text/plain": [
       "dtype('float64')"
      ]
     },
     "execution_count": 32,
     "metadata": {},
     "output_type": "execute_result"
    }
   ],
   "source": [
    "data_v1['EC Duration'].dtype"
   ]
  },
  {
   "cell_type": "code",
   "execution_count": 33,
   "id": "a40a40f3",
   "metadata": {},
   "outputs": [
    {
     "data": {
      "text/plain": [
       "Index(['proj_cd', 'por_id', 'site_region_name', 'site_mkt_name',\n",
       "       'site_cty_name', 'site_county_name', 'site_addr_desc', 'site_type_desc',\n",
       "       'site_class_desc', 'Siterra_And_elemenT_Structure_Owner',\n",
       "       ...\n",
       "       'awater', 'intptlat', 'intptlon', 'Universe_geometry_k', 'SITETYPE',\n",
       "       'LEVY_JURIS', 'PROPTYPE', 'KCA_ZONING', 'PREUSE_COD', 'PREUSE_DES'],\n",
       "      dtype='object', length=133)"
      ]
     },
     "execution_count": 33,
     "metadata": {},
     "output_type": "execute_result"
    }
   ],
   "source": [
    "data.columns"
   ]
  },
  {
   "cell_type": "code",
   "execution_count": 34,
   "id": "afb78e35",
   "metadata": {},
   "outputs": [],
   "source": [
    "#converting 'Min_SC_Release_POR' column to datetime format\n",
    "data_v1['Min_SC_Release_POR'] = pd.to_datetime(data_v1['Min_SC_Release_POR'])"
   ]
  },
  {
   "cell_type": "code",
   "execution_count": 35,
   "id": "602e2e22",
   "metadata": {},
   "outputs": [],
   "source": [
    "#storing 'month' from 'Min_SC_Release_POR' to a different column\n",
    "data_v1['SC_month'] = data_v1['Min_SC_Release_POR'].dt.month"
   ]
  },
  {
   "cell_type": "code",
   "execution_count": 36,
   "id": "9baef002",
   "metadata": {},
   "outputs": [],
   "source": [
    "#storing 'year' from 'Min_SC_Release_POR' to a different column\n",
    "data_v1['SC_year'] = data_v1['Min_SC_Release_POR'].dt.year"
   ]
  },
  {
   "cell_type": "markdown",
   "id": "16ef772a",
   "metadata": {},
   "source": [
    "#### Subsetting COVID Outliers data"
   ]
  },
  {
   "cell_type": "code",
   "execution_count": 37,
   "id": "8446dbeb",
   "metadata": {},
   "outputs": [],
   "source": [
    "#data with COVID related EC Duration outliers in April 2020 \n",
    "data_apr = data_v1[(data_v1['SC_month'] == 4) & (data_v1['SC_year'] == 2020) & (data_v1['EC Duration'] > 10)]"
   ]
  },
  {
   "cell_type": "code",
   "execution_count": 38,
   "id": "71da4b73",
   "metadata": {},
   "outputs": [],
   "source": [
    "#data with COVID related EC Duration outliers in May 2020\n",
    "data_may = data_v1[(data_v1['SC_month'] == 5) & (data_v1['SC_year'] == 2020) & (data_v1['EC Duration'] > 10)]"
   ]
  },
  {
   "cell_type": "code",
   "execution_count": 39,
   "id": "a3860479",
   "metadata": {},
   "outputs": [],
   "source": [
    "#data with COVID related EC Duration outliers in June 2020\n",
    "data_june = data_v1[(data_v1['SC_month'] == 6) & (data_v1['SC_year'] == 2020) & (data_v1['EC Duration'] > 10)]"
   ]
  },
  {
   "cell_type": "code",
   "execution_count": 40,
   "id": "faf5109e",
   "metadata": {},
   "outputs": [],
   "source": [
    "#data with COVID related EC Duration outliers in July 2020\n",
    "data_july = data_v1[(data_v1['SC_month'] == 7) & (data_v1['SC_year'] == 2020) & (data_v1['EC Duration'] > 10)]"
   ]
  },
  {
   "cell_type": "code",
   "execution_count": 41,
   "id": "faac63df",
   "metadata": {},
   "outputs": [],
   "source": [
    "#data with COVID related EC Duration outliers in August 2020\n",
    "data_august = data_v1[(data_v1['SC_month'] == 8) & (data_v1['SC_year'] == 2020) & (data_v1['EC Duration'] > 10)]"
   ]
  },
  {
   "cell_type": "code",
   "execution_count": 42,
   "id": "d4cf4b1c",
   "metadata": {},
   "outputs": [],
   "source": [
    "#data with COVID related EC Duration outliers in September 2020\n",
    "data_sep = data_v1[(data_v1['SC_month'] == 9) & (data_v1['SC_year'] == 2020) & (data_v1['EC Duration'] > 10)]"
   ]
  },
  {
   "cell_type": "code",
   "execution_count": 43,
   "id": "b5efa1c7",
   "metadata": {},
   "outputs": [],
   "source": [
    "#data with COVID related EC Duration outliers in October 2020\n",
    "data_oct = data_v1[(data_v1['SC_month'] == 10) & (data_v1['SC_year'] == 2020) & (data_v1['EC Duration'] > 10)]"
   ]
  },
  {
   "cell_type": "code",
   "execution_count": 44,
   "id": "a1c13408",
   "metadata": {},
   "outputs": [],
   "source": [
    "#data with COVID related EC Duration outliers in December 2020\n",
    "data_dec = data_v1[(data_v1['SC_month'] == 12) & (data_v1['SC_year'] == 2020) & (data_v1['EC Duration'] > 10)]"
   ]
  },
  {
   "cell_type": "code",
   "execution_count": 45,
   "id": "635d0c4b",
   "metadata": {},
   "outputs": [],
   "source": [
    "#combining all of 2020 data\n",
    "data_v3 = pd.concat([data_apr, data_may, data_june, data_july, data_august, data_sep, data_oct, data_dec])"
   ]
  },
  {
   "cell_type": "code",
   "execution_count": 46,
   "id": "49b61415",
   "metadata": {},
   "outputs": [],
   "source": [
    "#excluding 2020 COVID outlier data from main dataset\n",
    "data_v1 = data_v1.drop(data_v3.index)"
   ]
  },
  {
   "cell_type": "code",
   "execution_count": 47,
   "id": "c04784ca",
   "metadata": {},
   "outputs": [
    {
     "data": {
      "text/plain": [
       "(378, 18)"
      ]
     },
     "execution_count": 47,
     "metadata": {},
     "output_type": "execute_result"
    }
   ],
   "source": [
    "data_v1.shape"
   ]
  },
  {
   "cell_type": "code",
   "execution_count": 48,
   "id": "365d34dc",
   "metadata": {},
   "outputs": [],
   "source": [
    "#dropping a date column\n",
    "data_v1.drop(['Min_SC_Release_POR','SC_month','SC_year'], axis = 1, inplace = True)"
   ]
  },
  {
   "cell_type": "code",
   "execution_count": 49,
   "id": "ef07690d",
   "metadata": {},
   "outputs": [
    {
     "name": "stdout",
     "output_type": "stream",
     "text": [
      "Number of categorical features: 7\n",
      "Categorical features: ['site_type_desc', 'site_class_desc', 'MLA_Partner', 'MLA_Flag', 'property_indicator_name', 'std_city', 'PROPTYPE']\n"
     ]
    }
   ],
   "source": [
    "#separating categorical features in the dataset\n",
    "categorical_features = [column_name for column_name in data_v1.columns if data_v1[column_name].dtype == 'O']\n",
    "print('Number of categorical features: {}'.format(len(categorical_features)))\n",
    "print('Categorical features: {}'.format(list(categorical_features)))"
   ]
  },
  {
   "cell_type": "code",
   "execution_count": 50,
   "id": "0919f23e",
   "metadata": {},
   "outputs": [
    {
     "name": "stdout",
     "output_type": "stream",
     "text": [
      "Number of numerical features: 8\n",
      "Numerical Features: ['isurban', 'EC Duration', 'Category_v_Capacity_Other', 'max_proj_l600_flg', 'max_proj_2500_flg', 'land_acres', 'tax_per_acre', 'age']\n"
     ]
    }
   ],
   "source": [
    "#Separating numerical features in the dataset\n",
    "numerical_features = [column_name for column_name in data_v1.columns if data_v1[column_name].dtype != 'O']\n",
    "print('Number of numerical features: {}'.format(len(numerical_features)))\n",
    "print('Numerical Features:', list(numerical_features))"
   ]
  },
  {
   "cell_type": "markdown",
   "id": "780587bf-ccac-446c-a3d1-ec55f4d1717d",
   "metadata": {},
   "source": [
    "#### Cardinality\n",
    "Conclusions:\n",
    " - land_use_name, property_indicator_name, std_city are all high-cardinality, requiring reduction\n",
    " - site_class_desc should be considered for grouping"
   ]
  },
  {
   "cell_type": "code",
   "execution_count": 51,
   "id": "3d9cdc4c",
   "metadata": {},
   "outputs": [
    {
     "name": "stdout",
     "output_type": "stream",
     "text": [
      "site_type_desc : 2\n",
      "site_class_desc : 14\n",
      "MLA_Partner : 3\n",
      "MLA_Flag : 2\n",
      "property_indicator_name : 24\n",
      "std_city : 36\n",
      "PROPTYPE : 5\n"
     ]
    }
   ],
   "source": [
    "#checking cardinality\n",
    "for each_feature in categorical_features:\n",
    "    unique_values = len(data[each_feature].unique())\n",
    "    print('{} : {}'.format(each_feature, unique_values))"
   ]
  },
  {
   "cell_type": "code",
   "execution_count": 52,
   "id": "ce2995b9",
   "metadata": {},
   "outputs": [
    {
     "data": {
      "text/plain": [
       "SINGLE FAMILY RESIDENCE    49\n",
       "APARTMENT                  48\n",
       "OFFICE BUILDING            38\n",
       "WAREHOUSE                  32\n",
       "UTILITIES                  27\n",
       "RETAIL                     20\n",
       "VACANT                     18\n",
       "AMUSEMENT-RECREATION       16\n",
       "COMMERCIAL                 15\n",
       "EXEMPT                     12\n",
       "CONDOMINIUM                11\n",
       "INDUSTRIAL                 10\n",
       "SERVICE                     8\n",
       "PARKING                     5\n",
       "INDUSTRIAL LIGHT            5\n",
       "MISCELLANEOUS               5\n",
       "HOTEL, MOTEL                4\n",
       "INDUSTRIAL HEAVY            3\n",
       "DUPLEX                      2\n",
       "TRANSPORT                   2\n",
       "HOSPITAL                    1\n",
       "COMMERCIAL CONDOMINIUM      1\n",
       "AGRICULTURAL                1\n",
       "Name: property_indicator_name, dtype: int64"
      ]
     },
     "execution_count": 52,
     "metadata": {},
     "output_type": "execute_result"
    }
   ],
   "source": [
    "# data_v1['property_indicator_name'].mode()\n",
    "data_v1['property_indicator_name'].value_counts()\n"
   ]
  },
  {
   "cell_type": "markdown",
   "id": "9682f6a8-22fa-4129-98bf-66801a6d8e59",
   "metadata": {},
   "source": [
    "### Sweetvis Report"
   ]
  },
  {
   "cell_type": "code",
   "execution_count": 53,
   "id": "6b526734",
   "metadata": {},
   "outputs": [],
   "source": [
    "# pip install sweetviz\n",
    "# Importing Sweetviz for analysis\n",
    "import sweetviz as sv"
   ]
  },
  {
   "cell_type": "code",
   "execution_count": 54,
   "id": "a4fbf3e0",
   "metadata": {},
   "outputs": [
    {
     "data": {
      "application/vnd.jupyter.widget-view+json": {
       "model_id": "92d2e23c897a42358ba4610a374081e9",
       "version_major": 2,
       "version_minor": 0
      },
      "text/plain": [
       "                                             |                                             | [  0%]   00:00 ->…"
      ]
     },
     "metadata": {},
     "output_type": "display_data"
    },
    {
     "name": "stdout",
     "output_type": "stream",
     "text": [
      "Report EC_v2_Analysis.html was generated! NOTEBOOK/COLAB USERS: the web browser MAY not pop up, regardless, the report IS saved in your notebook/colab files.\n"
     ]
    }
   ],
   "source": [
    "# generating report around data \n",
    "report = sv.analyze(source=data_v1,target_feat='EC Duration', pairwise_analysis='on')\n",
    "report.show_html('EC_v2_Analysis.html')"
   ]
  },
  {
   "cell_type": "markdown",
   "id": "490414f4",
   "metadata": {},
   "source": [
    "#### Missing Values\n",
    "Conclusions:\n",
    "The following fields should be considered for missing value replacement or interpolation:\n",
    " - land_use_name (categorical)\n",
    " - property_indicator_name (categorical)\n",
    " - tax_amt (numeric)\n",
    " - yr_blt (numeric)\n",
    " - land_acres (numeric)"
   ]
  },
  {
   "cell_type": "code",
   "execution_count": 55,
   "id": "fb241758",
   "metadata": {},
   "outputs": [
    {
     "data": {
      "text/plain": [
       "site_type_desc                 0\n",
       "site_class_desc                0\n",
       "MLA_Partner                    0\n",
       "MLA_Flag                       0\n",
       "isurban                        0\n",
       "EC Duration                    0\n",
       "Category_v_Capacity_Other      0\n",
       "max_proj_l600_flg              0\n",
       "max_proj_2500_flg              0\n",
       "property_indicator_name       45\n",
       "land_acres                    45\n",
       "std_city                       0\n",
       "PROPTYPE                      44\n",
       "tax_per_acre                  46\n",
       "age                          117\n",
       "dtype: int64"
      ]
     },
     "execution_count": 55,
     "metadata": {},
     "output_type": "execute_result"
    }
   ],
   "source": [
    "#checking null values\n",
    "data_v1.isnull().sum()"
   ]
  },
  {
   "cell_type": "markdown",
   "id": "76a88413",
   "metadata": {},
   "source": [
    "**Reference for grouping based on regions in King County: https://www.communitiescount.org/king-county-geographies**"
   ]
  },
  {
   "cell_type": "code",
   "execution_count": 56,
   "id": "b895df42",
   "metadata": {},
   "outputs": [],
   "source": [
    "# careting new labels for classes in the 'property_indicator_name' column\n",
    "data_change = {'SINGLE FAMILY RESIDENCE': 'type_1', 'OFFICE BUILDING': 'type_1', 'WAREHOUSE': 'type_1', 'RETAIL': 'type_1',\n",
    "              'VACANT': 'type_1', 'AMUSEMENT-RECREATION': 'type_1', 'EXEMPT': 'type_1','CONDOMINIUM': 'type_1',\n",
    "              'INDUSTRIAL': 'type_1', 'PARKING': 'type_1', 'INDUSTRIAL LIGHT': 'type_1', 'APARTMENT': 'type_2',\n",
    "              'UTILITIES': 'type_2', 'MISCELLANEOUS': 'type_2', 'HOTEL, MOTEL': 'type_2', 'COMMERCIAL': 'type_3',\n",
    "              'SERVICE': 'type_3', 'INDUSTRIAL HEAVY': 'type_4', 'DUPLEX': 'type_4', 'TRANSPORT': 'type_4',\n",
    "              'HOSPITAL': 'type_4', 'COMMERCIAL CONDOMINIUM': 'type_4', 'AGRICULTURAL': 'type_4'}"
   ]
  },
  {
   "cell_type": "code",
   "execution_count": 57,
   "id": "f0230e1c",
   "metadata": {},
   "outputs": [],
   "source": [
    "# relabelling classes in the property_indicator_name column\n",
    "data_v1['property_indicator_name'] = data_v1.property_indicator_name.map(data_change)"
   ]
  },
  {
   "cell_type": "code",
   "execution_count": 58,
   "id": "ce3ad7cc",
   "metadata": {},
   "outputs": [
    {
     "data": {
      "text/plain": [
       "type_1    216\n",
       "type_2     84\n",
       "type_3     23\n",
       "type_4     10\n",
       "Name: property_indicator_name, dtype: int64"
      ]
     },
     "execution_count": 58,
     "metadata": {},
     "output_type": "execute_result"
    }
   ],
   "source": [
    "# checking values count across new classes\n",
    "data_v1['property_indicator_name'].value_counts()"
   ]
  },
  {
   "cell_type": "code",
   "execution_count": 59,
   "id": "0778af0e",
   "metadata": {},
   "outputs": [],
   "source": [
    "# creating new labels for classes in the 'std_city' column\n",
    "cities = {'SEATTLE': 'Seattle','BELLEVUE': 'East','KENT':'South','RENTON':'South','AUBURN':'South','REDMOND':'East',\n",
    "          'KIRKLAND':'East','ISSAQUAH':'East','SAMMAMISH':'East','SHORELINE':'North','TUKWILA':'South',\n",
    "          'UNINCORPORATED/FEDERAL':'unincorporated/federal','SEATAC':'South','DUVALL':'East','VASHON':'South',\n",
    "          'FEDERAL WAY':'South','KENMORE':'North','FALL CITY':'unincorporated/federal','BURIEN': 'South',\n",
    "          'ENUMCLAW':'South','UNION HILL-NOVELTY HILL':'East','BOTHELL':'North','CARNATION': 'East',\n",
    "          'WOODINVILLE':'North','SNOQUALMIE':'East','BLACK DIAMOND':'South','NEWCASTLE':'East','NORTH BEND':'East',\n",
    "          'FAIRWOOD':'unincorporated/federal','MAPLE VALLEY':'South','LAKE FOREST PARK':'North','BRYN MAWR-SKYWAY': 'South',\n",
    "          'MERCER ISLAND':'East','RAVENSDALE':'South'}"
   ]
  },
  {
   "cell_type": "code",
   "execution_count": 60,
   "id": "afdde45d",
   "metadata": {},
   "outputs": [],
   "source": [
    "# relabelling classes in the property_indicator_name column\n",
    "data_v1['std_city'] = data_v1.std_city.map(cities)"
   ]
  },
  {
   "cell_type": "code",
   "execution_count": 61,
   "id": "db60d1ed",
   "metadata": {},
   "outputs": [
    {
     "data": {
      "text/plain": [
       "0                       South\n",
       "1                     Seattle\n",
       "4                        East\n",
       "5                       South\n",
       "6                       South\n",
       "                ...          \n",
       "444                     South\n",
       "445    unincorporated/federal\n",
       "446                     North\n",
       "447                      East\n",
       "448                   Seattle\n",
       "Name: std_city, Length: 378, dtype: object"
      ]
     },
     "execution_count": 61,
     "metadata": {},
     "output_type": "execute_result"
    }
   ],
   "source": [
    "data_v1['std_city']"
   ]
  },
  {
   "cell_type": "markdown",
   "id": "1875b839",
   "metadata": {},
   "source": [
    "## Outlier Identification\n",
    "Conclusions:\n",
    "tax_per_acre, age, and land_acres contain outliers that should be treated before missing value interpolation"
   ]
  },
  {
   "cell_type": "code",
   "execution_count": 62,
   "id": "8ef8cda2",
   "metadata": {},
   "outputs": [
    {
     "data": {
      "text/plain": [
       "<AxesSubplot:xlabel='land_acres'>"
      ]
     },
     "execution_count": 62,
     "metadata": {},
     "output_type": "execute_result"
    },
    {
     "data": {
      "image/png": "[encoded data removed]",
      "text/plain": [
       "<Figure size 600x400 with 1 Axes>"
      ]
     },
     "metadata": {},
     "output_type": "display_data"
    }
   ],
   "source": [
    "#using boxplot to visualize outliers\n",
    "sns.boxplot(data_v1['land_acres'])"
   ]
  },
  {
   "cell_type": "code",
   "execution_count": 63,
   "id": "cea8f33c",
   "metadata": {},
   "outputs": [
    {
     "data": {
      "text/plain": [
       "<AxesSubplot:xlabel='tax_per_acre'>"
      ]
     },
     "execution_count": 63,
     "metadata": {},
     "output_type": "execute_result"
    },
    {
     "data": {
      "image/png": "[encoded data removed]",
      "text/plain": [
       "<Figure size 600x400 with 1 Axes>"
      ]
     },
     "metadata": {},
     "output_type": "display_data"
    }
   ],
   "source": [
    "#using boxplot to visualize outliers\n",
    "sns.boxplot(data_v1['tax_per_acre'])"
   ]
  },
  {
   "cell_type": "code",
   "execution_count": 64,
   "id": "f422fa04",
   "metadata": {},
   "outputs": [
    {
     "data": {
      "text/plain": [
       "<AxesSubplot:xlabel='age'>"
      ]
     },
     "execution_count": 64,
     "metadata": {},
     "output_type": "execute_result"
    },
    {
     "data": {
      "image/png": "[encoded data removed]",
      "text/plain": [
       "<Figure size 600x400 with 1 Axes>"
      ]
     },
     "metadata": {},
     "output_type": "display_data"
    }
   ],
   "source": [
    "#using boxplot to visualize outliers\n",
    "sns.boxplot(data_v1['age'])"
   ]
  },
  {
   "cell_type": "code",
   "execution_count": 65,
   "id": "67fd3af8",
   "metadata": {},
   "outputs": [
    {
     "name": "stdout",
     "output_type": "stream",
     "text": [
      "Treating 0 lower (-4.62755) and 47 upper (8.81445) outliers for land_acres\n",
      "Treating 0 lower (-115809.39603281852) and 41 upper (198200.75723907538) outliers for tax_per_acre\n",
      "Treating 0 lower (-13.0) and 10 upper (99.0) outliers for age\n"
     ]
    }
   ],
   "source": [
    "#Outliers Treatment\n",
    "\n",
    "features_with_outliers = ['land_acres', 'tax_per_acre', 'age']\n",
    "for feature in features_with_outliers:\n",
    "    q1 = data_v1[feature].quantile(.25)\n",
    "    q3 = data_v1[feature].quantile(.75)\n",
    "    IQR = q3 - q1\n",
    "    lower_limit = q1 - (IQR*1.5)\n",
    "    upper_limit = q3 + (IQR*1.5)\n",
    "    lower_outliers = data_v1.loc[data_v1[feature] < lower_limit, feature].count()\n",
    "    upper_outliers = data_v1.loc[data_v1[feature] > upper_limit, feature].count()\n",
    "    print(f\"Treating {lower_outliers} lower ({lower_limit}) and {upper_outliers} upper ({upper_limit}) outliers for {feature}\")\n",
    "    data_v1.loc[data_v1[feature] < lower_limit, feature] = lower_limit\n",
    "    data_v1.loc[data_v1[feature] > upper_limit, feature] = upper_limit"
   ]
  },
  {
   "cell_type": "markdown",
   "id": "133eb9d5",
   "metadata": {},
   "source": [
    "### Predicting Missing Values using Iterative Imputer / KNNImputer"
   ]
  },
  {
   "cell_type": "markdown",
   "id": "1e346290",
   "metadata": {},
   "source": [
    "**Multivariate feature imputation - Multivariate imputation by chained equations (MICE)**\n",
    "A strategy for imputing missing values by modeling each feature with missing values as a function of other features in a round-robin fashion. It performns multiple regressions over random sample ofthe data, then takes the average ofthe multiple regression values and uses that value to impute the missing value."
   ]
  },
  {
   "cell_type": "markdown",
   "id": "5733cd7b",
   "metadata": {},
   "source": [
    "**K-Nearest Neighbor Imputation**\n",
    "The KNNImputer class provides imputation for filling in missing values using the k-Nearest Neighbors approach.Each missing feature is imputed using values from n_neighbors nearest neighbors that have a value for the feature. The feature of the neighbors are averaged uniformly or weighted by distance to each neighbor."
   ]
  },
  {
   "cell_type": "code",
   "execution_count": 66,
   "id": "2ec8b7c1",
   "metadata": {},
   "outputs": [],
   "source": [
    "# from sklearn.impute import KNNImputer\n",
    "# train_knn = data_v1.copy(deep=True)\n",
    "\n",
    "# knn_imputer = KNNImputer(n_neighbors=5, weights=\"uniform\")\n",
    "# train_knn['land_acres'] = knn_imputer.fit_transform(train_knn[['land_acres']])"
   ]
  },
  {
   "cell_type": "code",
   "execution_count": 67,
   "id": "2b18b043",
   "metadata": {},
   "outputs": [],
   "source": [
    "from sklearn.experimental import enable_iterative_imputer\n",
    "from sklearn.impute import IterativeImputer\n",
    "train_mice = data_v1.copy(deep=True)\n",
    "mice_imputer = IterativeImputer(estimator=RandomForestRegressor(random_state=0), max_iter=20)\n",
    "# mice_imputer = IterativeImputer()\n",
    "train_mice['land_acres'] = mice_imputer.fit_transform(train_mice[['land_acres']])"
   ]
  },
  {
   "cell_type": "code",
   "execution_count": 68,
   "id": "50ffa8e1",
   "metadata": {},
   "outputs": [
    {
     "data": {
      "text/plain": [
       "site_type_desc                 0\n",
       "site_class_desc                0\n",
       "MLA_Partner                    0\n",
       "MLA_Flag                       0\n",
       "isurban                        0\n",
       "EC Duration                    0\n",
       "Category_v_Capacity_Other      0\n",
       "max_proj_l600_flg              0\n",
       "max_proj_2500_flg              0\n",
       "property_indicator_name       45\n",
       "land_acres                     0\n",
       "std_city                       0\n",
       "PROPTYPE                      44\n",
       "tax_per_acre                  46\n",
       "age                          117\n",
       "dtype: int64"
      ]
     },
     "execution_count": 68,
     "metadata": {},
     "output_type": "execute_result"
    }
   ],
   "source": [
    "train_mice.isnull().sum()"
   ]
  },
  {
   "cell_type": "code",
   "execution_count": 69,
   "id": "80a92978",
   "metadata": {},
   "outputs": [],
   "source": [
    "# train_knn['tax_per_acre'] = knn_imputer.fit_transform(train_knn[['tax_per_acre']])\n",
    "train_mice['tax_per_acre'] = mice_imputer.fit_transform(train_mice[['tax_per_acre']])"
   ]
  },
  {
   "cell_type": "code",
   "execution_count": 70,
   "id": "21d1513a",
   "metadata": {},
   "outputs": [],
   "source": [
    "# train_knn['age'] = knn_imputer.fit_transform(train_knn[['age']])\n",
    "train_mice['age'] = mice_imputer.fit_transform(train_mice[['age']])"
   ]
  },
  {
   "cell_type": "code",
   "execution_count": 71,
   "id": "b2c5a1ef",
   "metadata": {},
   "outputs": [
    {
     "data": {
      "text/plain": [
       "site_type_desc                0\n",
       "site_class_desc               0\n",
       "MLA_Partner                   0\n",
       "MLA_Flag                      0\n",
       "isurban                       0\n",
       "EC Duration                   0\n",
       "Category_v_Capacity_Other     0\n",
       "max_proj_l600_flg             0\n",
       "max_proj_2500_flg             0\n",
       "property_indicator_name      45\n",
       "land_acres                    0\n",
       "std_city                      0\n",
       "PROPTYPE                     44\n",
       "tax_per_acre                  0\n",
       "age                           0\n",
       "dtype: int64"
      ]
     },
     "execution_count": 71,
     "metadata": {},
     "output_type": "execute_result"
    }
   ],
   "source": [
    "train_mice.isnull().sum()"
   ]
  },
  {
   "cell_type": "code",
   "execution_count": 72,
   "id": "6b323bc7",
   "metadata": {},
   "outputs": [],
   "source": [
    "# train_knn.isnull().sum()"
   ]
  },
  {
   "cell_type": "markdown",
   "id": "443bb7de",
   "metadata": {},
   "source": [
    "#### One-hot Encoding"
   ]
  },
  {
   "cell_type": "code",
   "execution_count": 73,
   "id": "ae1808fb",
   "metadata": {},
   "outputs": [
    {
     "data": {
      "text/html": [
       "<div>\n",
       "<style scoped>\n",
       "    .dataframe tbody tr th:only-of-type {\n",
       "        vertical-align: middle;\n",
       "    }\n",
       "\n",
       "    .dataframe tbody tr th {\n",
       "        vertical-align: top;\n",
       "    }\n",
       "\n",
       "    .dataframe thead th {\n",
       "        text-align: right;\n",
       "    }\n",
       "</style>\n",
       "<table border=\"1\" class=\"dataframe\">\n",
       "  <thead>\n",
       "    <tr style=\"text-align: right;\">\n",
       "      <th></th>\n",
       "      <th>site_type_desc</th>\n",
       "      <th>site_class_desc</th>\n",
       "      <th>MLA_Partner</th>\n",
       "      <th>MLA_Flag</th>\n",
       "      <th>isurban</th>\n",
       "      <th>EC Duration</th>\n",
       "      <th>Category_v_Capacity_Other</th>\n",
       "      <th>max_proj_l600_flg</th>\n",
       "      <th>max_proj_2500_flg</th>\n",
       "      <th>property_indicator_name</th>\n",
       "      <th>land_acres</th>\n",
       "      <th>std_city</th>\n",
       "      <th>PROPTYPE</th>\n",
       "      <th>tax_per_acre</th>\n",
       "      <th>age</th>\n",
       "    </tr>\n",
       "  </thead>\n",
       "  <tbody>\n",
       "    <tr>\n",
       "      <th>0</th>\n",
       "      <td>Structure Non Building</td>\n",
       "      <td>Monopole</td>\n",
       "      <td>Other</td>\n",
       "      <td>Y</td>\n",
       "      <td>1</td>\n",
       "      <td>5.9</td>\n",
       "      <td>1</td>\n",
       "      <td>0</td>\n",
       "      <td>1</td>\n",
       "      <td>type_1</td>\n",
       "      <td>5.14960</td>\n",
       "      <td>South</td>\n",
       "      <td>C</td>\n",
       "      <td>40035.461007</td>\n",
       "      <td>36.000000</td>\n",
       "    </tr>\n",
       "    <tr>\n",
       "      <th>1</th>\n",
       "      <td>Building</td>\n",
       "      <td>Roof Top Mount</td>\n",
       "      <td>Other</td>\n",
       "      <td>N</td>\n",
       "      <td>1</td>\n",
       "      <td>8.8</td>\n",
       "      <td>0</td>\n",
       "      <td>0</td>\n",
       "      <td>1</td>\n",
       "      <td>type_1</td>\n",
       "      <td>3.21080</td>\n",
       "      <td>Seattle</td>\n",
       "      <td>C</td>\n",
       "      <td>80411.754080</td>\n",
       "      <td>43.000000</td>\n",
       "    </tr>\n",
       "    <tr>\n",
       "      <th>4</th>\n",
       "      <td>Structure Non Building</td>\n",
       "      <td>Watertank</td>\n",
       "      <td>Other</td>\n",
       "      <td>N</td>\n",
       "      <td>1</td>\n",
       "      <td>4.6</td>\n",
       "      <td>0</td>\n",
       "      <td>0</td>\n",
       "      <td>1</td>\n",
       "      <td>type_2</td>\n",
       "      <td>0.88440</td>\n",
       "      <td>East</td>\n",
       "      <td>C</td>\n",
       "      <td>19.934419</td>\n",
       "      <td>46.206897</td>\n",
       "    </tr>\n",
       "    <tr>\n",
       "      <th>5</th>\n",
       "      <td>Structure Non Building</td>\n",
       "      <td>Utility Lattice Tower</td>\n",
       "      <td>Other</td>\n",
       "      <td>N</td>\n",
       "      <td>1</td>\n",
       "      <td>2.6</td>\n",
       "      <td>0</td>\n",
       "      <td>1</td>\n",
       "      <td>1</td>\n",
       "      <td>type_1</td>\n",
       "      <td>0.80080</td>\n",
       "      <td>South</td>\n",
       "      <td>R</td>\n",
       "      <td>592.082917</td>\n",
       "      <td>46.206897</td>\n",
       "    </tr>\n",
       "    <tr>\n",
       "      <th>6</th>\n",
       "      <td>Structure Non Building</td>\n",
       "      <td>Monopole</td>\n",
       "      <td>Other</td>\n",
       "      <td>Y</td>\n",
       "      <td>1</td>\n",
       "      <td>2.1</td>\n",
       "      <td>0</td>\n",
       "      <td>0</td>\n",
       "      <td>1</td>\n",
       "      <td>type_1</td>\n",
       "      <td>2.20630</td>\n",
       "      <td>South</td>\n",
       "      <td>C</td>\n",
       "      <td>15585.187871</td>\n",
       "      <td>33.000000</td>\n",
       "    </tr>\n",
       "    <tr>\n",
       "      <th>...</th>\n",
       "      <td>...</td>\n",
       "      <td>...</td>\n",
       "      <td>...</td>\n",
       "      <td>...</td>\n",
       "      <td>...</td>\n",
       "      <td>...</td>\n",
       "      <td>...</td>\n",
       "      <td>...</td>\n",
       "      <td>...</td>\n",
       "      <td>...</td>\n",
       "      <td>...</td>\n",
       "      <td>...</td>\n",
       "      <td>...</td>\n",
       "      <td>...</td>\n",
       "      <td>...</td>\n",
       "    </tr>\n",
       "    <tr>\n",
       "      <th>444</th>\n",
       "      <td>Structure Non Building</td>\n",
       "      <td>Utility Lattice Tower</td>\n",
       "      <td>Other</td>\n",
       "      <td>N</td>\n",
       "      <td>1</td>\n",
       "      <td>6.1</td>\n",
       "      <td>0</td>\n",
       "      <td>1</td>\n",
       "      <td>0</td>\n",
       "      <td>type_2</td>\n",
       "      <td>0.24150</td>\n",
       "      <td>South</td>\n",
       "      <td>R</td>\n",
       "      <td>49.233954</td>\n",
       "      <td>46.206897</td>\n",
       "    </tr>\n",
       "    <tr>\n",
       "      <th>445</th>\n",
       "      <td>Structure Non Building</td>\n",
       "      <td>Self Support Tower</td>\n",
       "      <td>Crown Castle</td>\n",
       "      <td>Y</td>\n",
       "      <td>0</td>\n",
       "      <td>8.6</td>\n",
       "      <td>0</td>\n",
       "      <td>0</td>\n",
       "      <td>1</td>\n",
       "      <td>type_1</td>\n",
       "      <td>8.81445</td>\n",
       "      <td>unincorporated/federal</td>\n",
       "      <td>R</td>\n",
       "      <td>5.750965</td>\n",
       "      <td>46.206897</td>\n",
       "    </tr>\n",
       "    <tr>\n",
       "      <th>446</th>\n",
       "      <td>Building</td>\n",
       "      <td>Roof Top Mount</td>\n",
       "      <td>Other</td>\n",
       "      <td>N</td>\n",
       "      <td>1</td>\n",
       "      <td>5.1</td>\n",
       "      <td>1</td>\n",
       "      <td>0</td>\n",
       "      <td>1</td>\n",
       "      <td>type_1</td>\n",
       "      <td>4.32430</td>\n",
       "      <td>North</td>\n",
       "      <td>C</td>\n",
       "      <td>37266.223435</td>\n",
       "      <td>35.000000</td>\n",
       "    </tr>\n",
       "    <tr>\n",
       "      <th>447</th>\n",
       "      <td>Building</td>\n",
       "      <td>In Building</td>\n",
       "      <td>Other</td>\n",
       "      <td>N</td>\n",
       "      <td>1</td>\n",
       "      <td>0.9</td>\n",
       "      <td>1</td>\n",
       "      <td>0</td>\n",
       "      <td>0</td>\n",
       "      <td>type_1</td>\n",
       "      <td>0.79200</td>\n",
       "      <td>East</td>\n",
       "      <td>C</td>\n",
       "      <td>28922.449495</td>\n",
       "      <td>46.206897</td>\n",
       "    </tr>\n",
       "    <tr>\n",
       "      <th>448</th>\n",
       "      <td>Structure Non Building</td>\n",
       "      <td>Monopole</td>\n",
       "      <td>Other</td>\n",
       "      <td>Y</td>\n",
       "      <td>1</td>\n",
       "      <td>0.9</td>\n",
       "      <td>0</td>\n",
       "      <td>1</td>\n",
       "      <td>0</td>\n",
       "      <td>type_1</td>\n",
       "      <td>0.30600</td>\n",
       "      <td>Seattle</td>\n",
       "      <td>C</td>\n",
       "      <td>64058.333333</td>\n",
       "      <td>46.206897</td>\n",
       "    </tr>\n",
       "  </tbody>\n",
       "</table>\n",
       "<p>378 rows × 15 columns</p>\n",
       "</div>"
      ],
      "text/plain": [
       "             site_type_desc        site_class_desc   MLA_Partner MLA_Flag  \\\n",
       "0    Structure Non Building               Monopole         Other        Y   \n",
       "1                  Building         Roof Top Mount         Other        N   \n",
       "4    Structure Non Building              Watertank         Other        N   \n",
       "5    Structure Non Building  Utility Lattice Tower         Other        N   \n",
       "6    Structure Non Building               Monopole         Other        Y   \n",
       "..                      ...                    ...           ...      ...   \n",
       "444  Structure Non Building  Utility Lattice Tower         Other        N   \n",
       "445  Structure Non Building     Self Support Tower  Crown Castle        Y   \n",
       "446                Building         Roof Top Mount         Other        N   \n",
       "447                Building            In Building         Other        N   \n",
       "448  Structure Non Building               Monopole         Other        Y   \n",
       "\n",
       "     isurban  EC Duration  Category_v_Capacity_Other  max_proj_l600_flg  \\\n",
       "0          1          5.9                          1                  0   \n",
       "1          1          8.8                          0                  0   \n",
       "4          1          4.6                          0                  0   \n",
       "5          1          2.6                          0                  1   \n",
       "6          1          2.1                          0                  0   \n",
       "..       ...          ...                        ...                ...   \n",
       "444        1          6.1                          0                  1   \n",
       "445        0          8.6                          0                  0   \n",
       "446        1          5.1                          1                  0   \n",
       "447        1          0.9                          1                  0   \n",
       "448        1          0.9                          0                  1   \n",
       "\n",
       "     max_proj_2500_flg property_indicator_name  land_acres  \\\n",
       "0                    1                  type_1     5.14960   \n",
       "1                    1                  type_1     3.21080   \n",
       "4                    1                  type_2     0.88440   \n",
       "5                    1                  type_1     0.80080   \n",
       "6                    1                  type_1     2.20630   \n",
       "..                 ...                     ...         ...   \n",
       "444                  0                  type_2     0.24150   \n",
       "445                  1                  type_1     8.81445   \n",
       "446                  1                  type_1     4.32430   \n",
       "447                  0                  type_1     0.79200   \n",
       "448                  0                  type_1     0.30600   \n",
       "\n",
       "                   std_city PROPTYPE  tax_per_acre        age  \n",
       "0                     South        C  40035.461007  36.000000  \n",
       "1                   Seattle        C  80411.754080  43.000000  \n",
       "4                      East        C     19.934419  46.206897  \n",
       "5                     South        R    592.082917  46.206897  \n",
       "6                     South        C  15585.187871  33.000000  \n",
       "..                      ...      ...           ...        ...  \n",
       "444                   South        R     49.233954  46.206897  \n",
       "445  unincorporated/federal        R      5.750965  46.206897  \n",
       "446                   North        C  37266.223435  35.000000  \n",
       "447                    East        C  28922.449495  46.206897  \n",
       "448                 Seattle        C  64058.333333  46.206897  \n",
       "\n",
       "[378 rows x 15 columns]"
      ]
     },
     "execution_count": 73,
     "metadata": {},
     "output_type": "execute_result"
    }
   ],
   "source": [
    "# displaying rows\n",
    "train_mice"
   ]
  },
  {
   "cell_type": "code",
   "execution_count": 74,
   "id": "2c9a5811",
   "metadata": {},
   "outputs": [],
   "source": [
    "# dummy_na parameter helps get separate column for null values, treating them as a separate feature\n",
    "train_mice = pd.get_dummies(train_mice, dummy_na=True)"
   ]
  },
  {
   "cell_type": "code",
   "execution_count": 75,
   "id": "57c64c60",
   "metadata": {},
   "outputs": [],
   "source": [
    "# dummy_na parameter helps get separate column for null values, treating them as a separate feature\n",
    "# train_knn = pd.get_dummies(train_knn, dummy_na=True)"
   ]
  },
  {
   "cell_type": "code",
   "execution_count": 76,
   "id": "9e9d8081",
   "metadata": {},
   "outputs": [],
   "source": [
    "# assigning to new dataset\n",
    "data_v1_oh = train_mice"
   ]
  },
  {
   "cell_type": "code",
   "execution_count": 77,
   "id": "0d946b66",
   "metadata": {},
   "outputs": [],
   "source": [
    "# assigning to new dataset\n",
    "# data_v1_oh = train_knn"
   ]
  },
  {
   "cell_type": "markdown",
   "id": "418fbb91",
   "metadata": {},
   "source": [
    "#### Separating Target and Features"
   ]
  },
  {
   "cell_type": "code",
   "execution_count": 104,
   "id": "6f1fa0b6",
   "metadata": {},
   "outputs": [],
   "source": [
    "X = data_v1_oh.drop(['EC Duration'], axis = 1)\n",
    "y = data_v1_oh['EC Duration']"
   ]
  },
  {
   "cell_type": "markdown",
   "id": "33cd96fe",
   "metadata": {},
   "source": [
    "### Model Training: Neural Net"
   ]
  },
  {
   "cell_type": "code",
   "execution_count": 106,
   "id": "cfedc9b7",
   "metadata": {},
   "outputs": [],
   "source": [
    "from sklearn.model_selection import train_test_split\n",
    "X_train, X_test, y_train, y_test = train_test_split(X, y, test_size = 0.2, random_state = 42)"
   ]
  },
  {
   "cell_type": "code",
   "execution_count": 107,
   "id": "0e06c310",
   "metadata": {},
   "outputs": [],
   "source": [
    "scaler = MinMaxScaler() #StandardScaler() #QuantileTransformer(output_distribution=\"uniform\")\n",
    "\n",
    "X_train_scaled = scaler.fit_transform(X_train)\n",
    "X_test_scaled = scaler.transform(X_test)"
   ]
  },
  {
   "cell_type": "code",
   "execution_count": 108,
   "id": "46a3bb03",
   "metadata": {
    "collapsed": true
   },
   "outputs": [
    {
     "name": "stdout",
     "output_type": "stream",
     "text": [
      "Requirement already satisfied: tensorflow in c:\\users\\pranshuk\\anaconda3\\lib\\site-packages (2.8.0)\n",
      "Requirement already satisfied: keras<2.9,>=2.8.0rc0 in c:\\users\\pranshuk\\anaconda3\\lib\\site-packages (from tensorflow) (2.8.0)\n",
      "Requirement already satisfied: termcolor>=1.1.0 in c:\\users\\pranshuk\\anaconda3\\lib\\site-packages (from tensorflow) (1.1.0)\n",
      "Requirement already satisfied: flatbuffers>=1.12 in c:\\users\\pranshuk\\anaconda3\\lib\\site-packages (from tensorflow) (2.0)\n",
      "Requirement already satisfied: opt-einsum>=2.3.2 in c:\\users\\pranshuk\\anaconda3\\lib\\site-packages (from tensorflow) (3.3.0)\n",
      "Requirement already satisfied: setuptools in c:\\users\\pranshuk\\anaconda3\\lib\\site-packages (from tensorflow) (58.0.4)\n",
      "Requirement already satisfied: numpy>=1.20 in c:\\users\\pranshuk\\anaconda3\\lib\\site-packages (from tensorflow) (1.20.3)\n",
      "Requirement already satisfied: six>=1.12.0 in c:\\users\\pranshuk\\anaconda3\\lib\\site-packages (from tensorflow) (1.16.0)\n",
      "Requirement already satisfied: wrapt>=1.11.0 in c:\\users\\pranshuk\\anaconda3\\lib\\site-packages (from tensorflow) (1.12.1)\n",
      "Requirement already satisfied: absl-py>=0.4.0 in c:\\users\\pranshuk\\anaconda3\\lib\\site-packages (from tensorflow) (1.0.0)\n",
      "Requirement already satisfied: google-pasta>=0.1.1 in c:\\users\\pranshuk\\anaconda3\\lib\\site-packages (from tensorflow) (0.2.0)\n",
      "Requirement already satisfied: keras-preprocessing>=1.1.1 in c:\\users\\pranshuk\\anaconda3\\lib\\site-packages (from tensorflow) (1.1.2)\n",
      "Requirement already satisfied: h5py>=2.9.0 in c:\\users\\pranshuk\\anaconda3\\lib\\site-packages (from tensorflow) (3.2.1)\n",
      "Requirement already satisfied: astunparse>=1.6.0 in c:\\users\\pranshuk\\anaconda3\\lib\\site-packages (from tensorflow) (1.6.3)\n",
      "Requirement already satisfied: typing-extensions>=3.6.6 in c:\\users\\pranshuk\\anaconda3\\lib\\site-packages (from tensorflow) (3.10.0.2)\n",
      "Requirement already satisfied: libclang>=9.0.1 in c:\\users\\pranshuk\\anaconda3\\lib\\site-packages (from tensorflow) (14.0.1)\n",
      "Requirement already satisfied: protobuf>=3.9.2 in c:\\users\\pranshuk\\anaconda3\\lib\\site-packages (from tensorflow) (3.20.1)\n",
      "Requirement already satisfied: tf-estimator-nightly==2.8.0.dev2021122109 in c:\\users\\pranshuk\\anaconda3\\lib\\site-packages (from tensorflow) (2.8.0.dev2021122109)\n",
      "Requirement already satisfied: tensorboard<2.9,>=2.8 in c:\\users\\pranshuk\\anaconda3\\lib\\site-packages (from tensorflow) (2.8.0)\n",
      "Requirement already satisfied: gast>=0.2.1 in c:\\users\\pranshuk\\anaconda3\\lib\\site-packages (from tensorflow) (0.5.3)\n",
      "Requirement already satisfied: grpcio<2.0,>=1.24.3 in c:\\users\\pranshuk\\anaconda3\\lib\\site-packages (from tensorflow) (1.46.0)\n",
      "Requirement already satisfied: tensorflow-io-gcs-filesystem>=0.23.1 in c:\\users\\pranshuk\\anaconda3\\lib\\site-packages (from tensorflow) (0.25.0)\n",
      "Requirement already satisfied: wheel<1.0,>=0.23.0 in c:\\users\\pranshuk\\anaconda3\\lib\\site-packages (from astunparse>=1.6.0->tensorflow) (0.37.0)\n",
      "Requirement already satisfied: requests<3,>=2.21.0 in c:\\users\\pranshuk\\anaconda3\\lib\\site-packages (from tensorboard<2.9,>=2.8->tensorflow) (2.26.0)\n",
      "Requirement already satisfied: markdown>=2.6.8 in c:\\users\\pranshuk\\anaconda3\\lib\\site-packages (from tensorboard<2.9,>=2.8->tensorflow) (3.3.7)\n",
      "Requirement already satisfied: werkzeug>=0.11.15 in c:\\users\\pranshuk\\anaconda3\\lib\\site-packages (from tensorboard<2.9,>=2.8->tensorflow) (2.0.2)\n",
      "Requirement already satisfied: tensorboard-plugin-wit>=1.6.0 in c:\\users\\pranshuk\\anaconda3\\lib\\site-packages (from tensorboard<2.9,>=2.8->tensorflow) (1.8.1)\n",
      "Requirement already satisfied: google-auth<3,>=1.6.3 in c:\\users\\pranshuk\\anaconda3\\lib\\site-packages (from tensorboard<2.9,>=2.8->tensorflow) (2.6.6)\n",
      "Requirement already satisfied: tensorboard-data-server<0.7.0,>=0.6.0 in c:\\users\\pranshuk\\anaconda3\\lib\\site-packages (from tensorboard<2.9,>=2.8->tensorflow) (0.6.1)\n",
      "Requirement already satisfied: google-auth-oauthlib<0.5,>=0.4.1 in c:\\users\\pranshuk\\anaconda3\\lib\\site-packages (from tensorboard<2.9,>=2.8->tensorflow) (0.4.6)\n",
      "Requirement already satisfied: rsa<5,>=3.1.4 in c:\\users\\pranshuk\\anaconda3\\lib\\site-packages (from google-auth<3,>=1.6.3->tensorboard<2.9,>=2.8->tensorflow) (4.8)\n",
      "Requirement already satisfied: cachetools<6.0,>=2.0.0 in c:\\users\\pranshuk\\anaconda3\\lib\\site-packages (from google-auth<3,>=1.6.3->tensorboard<2.9,>=2.8->tensorflow) (5.0.0)\n",
      "Requirement already satisfied: pyasn1-modules>=0.2.1 in c:\\users\\pranshuk\\anaconda3\\lib\\site-packages (from google-auth<3,>=1.6.3->tensorboard<2.9,>=2.8->tensorflow) (0.2.8)\n",
      "Requirement already satisfied: requests-oauthlib>=0.7.0 in c:\\users\\pranshuk\\anaconda3\\lib\\site-packages (from google-auth-oauthlib<0.5,>=0.4.1->tensorboard<2.9,>=2.8->tensorflow) (1.3.1)\n",
      "Requirement already satisfied: importlib-metadata>=4.4 in c:\\users\\pranshuk\\anaconda3\\lib\\site-packages (from markdown>=2.6.8->tensorboard<2.9,>=2.8->tensorflow) (4.8.1)\n",
      "Requirement already satisfied: zipp>=0.5 in c:\\users\\pranshuk\\anaconda3\\lib\\site-packages (from importlib-metadata>=4.4->markdown>=2.6.8->tensorboard<2.9,>=2.8->tensorflow) (3.6.0)\n",
      "Requirement already satisfied: pyasn1<0.5.0,>=0.4.6 in c:\\users\\pranshuk\\anaconda3\\lib\\site-packages (from pyasn1-modules>=0.2.1->google-auth<3,>=1.6.3->tensorboard<2.9,>=2.8->tensorflow) (0.4.8)\n",
      "Requirement already satisfied: idna<4,>=2.5 in c:\\users\\pranshuk\\anaconda3\\lib\\site-packages (from requests<3,>=2.21.0->tensorboard<2.9,>=2.8->tensorflow) (3.2)\n",
      "Requirement already satisfied: charset-normalizer~=2.0.0 in c:\\users\\pranshuk\\anaconda3\\lib\\site-packages (from requests<3,>=2.21.0->tensorboard<2.9,>=2.8->tensorflow) (2.0.4)\n",
      "Requirement already satisfied: urllib3<1.27,>=1.21.1 in c:\\users\\pranshuk\\anaconda3\\lib\\site-packages (from requests<3,>=2.21.0->tensorboard<2.9,>=2.8->tensorflow) (1.26.7)\n",
      "Requirement already satisfied: certifi>=2017.4.17 in c:\\users\\pranshuk\\anaconda3\\lib\\site-packages (from requests<3,>=2.21.0->tensorboard<2.9,>=2.8->tensorflow) (2021.10.8)\n",
      "Requirement already satisfied: oauthlib>=3.0.0 in c:\\users\\pranshuk\\anaconda3\\lib\\site-packages (from requests-oauthlib>=0.7.0->google-auth-oauthlib<0.5,>=0.4.1->tensorboard<2.9,>=2.8->tensorflow) (3.2.0)\n",
      "Note: you may need to restart the kernel to use updated packages.\n"
     ]
    }
   ],
   "source": [
    "# pip install tensorflow"
   ]
  },
  {
   "cell_type": "code",
   "execution_count": 109,
   "id": "6b35af8e",
   "metadata": {},
   "outputs": [],
   "source": [
    "#importing tensorflow\n",
    "import tensorflow as tf"
   ]
  },
  {
   "cell_type": "code",
   "execution_count": 110,
   "id": "92aba9c0",
   "metadata": {},
   "outputs": [],
   "source": [
    "#building a neural network\n",
    "tf.random.set_seed(42)"
   ]
  },
  {
   "cell_type": "code",
   "execution_count": 111,
   "id": "ad5127af",
   "metadata": {},
   "outputs": [],
   "source": [
    "#create a model\n",
    "nn_model_2=tf.keras.Sequential([\n",
    "    tf.keras.layers.Dense(100),\n",
    "    tf.keras.layers.Dense(10),\n",
    "    tf.keras.layers.Dense(1)\n",
    "])"
   ]
  },
  {
   "cell_type": "code",
   "execution_count": 112,
   "id": "dba8337e",
   "metadata": {},
   "outputs": [],
   "source": [
    "#compile the model\n",
    "nn_model_2.compile(loss=tf.keras.losses.mae,\n",
    "                          optimizer=tf.keras.optimizers.Adam(),\n",
    "                          metrics=[\"mae\"]\n",
    ")"
   ]
  },
  {
   "cell_type": "code",
   "execution_count": 113,
   "id": "1ea8c94a",
   "metadata": {
    "collapsed": true
   },
   "outputs": [
    {
     "name": "stdout",
     "output_type": "stream",
     "text": [
      "Epoch 1/300\n",
      "10/10 [==============================] - 0s 2ms/step - loss: 4.4476 - mae: 4.4476\n",
      "Epoch 2/300\n",
      "10/10 [==============================] - 0s 936us/step - loss: 2.6408 - mae: 2.6408\n",
      "Epoch 3/300\n",
      "10/10 [==============================] - 0s 965us/step - loss: 2.0182 - mae: 2.0182\n",
      "Epoch 4/300\n",
      "10/10 [==============================] - 0s 891us/step - loss: 1.9998 - mae: 1.9998\n",
      "Epoch 5/300\n",
      "10/10 [==============================] - 0s 654us/step - loss: 1.9377 - mae: 1.9377\n",
      "Epoch 6/300\n",
      "10/10 [==============================] - 0s 1ms/step - loss: 1.9012 - mae: 1.9012\n",
      "Epoch 7/300\n",
      "10/10 [==============================] - 0s 777us/step - loss: 1.8546 - mae: 1.8546\n",
      "Epoch 8/300\n",
      "10/10 [==============================] - 0s 888us/step - loss: 1.8322 - mae: 1.8322\n",
      "Epoch 9/300\n",
      "10/10 [==============================] - 0s 888us/step - loss: 1.8113 - mae: 1.8113\n",
      "Epoch 10/300\n",
      "10/10 [==============================] - 0s 890us/step - loss: 1.7890 - mae: 1.7890\n",
      "Epoch 11/300\n",
      "10/10 [==============================] - 0s 888us/step - loss: 1.7877 - mae: 1.7877\n",
      "Epoch 12/300\n",
      "10/10 [==============================] - 0s 743us/step - loss: 1.7683 - mae: 1.7683\n",
      "Epoch 13/300\n",
      "10/10 [==============================] - 0s 1ms/step - loss: 1.7660 - mae: 1.7660\n",
      "Epoch 14/300\n",
      "10/10 [==============================] - 0s 845us/step - loss: 1.7679 - mae: 1.7679\n",
      "Epoch 15/300\n",
      "10/10 [==============================] - 0s 2ms/step - loss: 1.7321 - mae: 1.7321\n",
      "Epoch 16/300\n",
      "10/10 [==============================] - 0s 1ms/step - loss: 1.7426 - mae: 1.7426\n",
      "Epoch 17/300\n",
      "10/10 [==============================] - 0s 1ms/step - loss: 1.7474 - mae: 1.7474\n",
      "Epoch 18/300\n",
      "10/10 [==============================] - 0s 800us/step - loss: 1.7222 - mae: 1.7222\n",
      "Epoch 19/300\n",
      "10/10 [==============================] - 0s 2ms/step - loss: 1.7060 - mae: 1.7060\n",
      "Epoch 20/300\n",
      "10/10 [==============================] - 0s 1ms/step - loss: 1.7204 - mae: 1.7204\n",
      "Epoch 21/300\n",
      "10/10 [==============================] - 0s 1ms/step - loss: 1.7115 - mae: 1.7115\n",
      "Epoch 22/300\n",
      "10/10 [==============================] - 0s 800us/step - loss: 1.7005 - mae: 1.7005\n",
      "Epoch 23/300\n",
      "10/10 [==============================] - 0s 2ms/step - loss: 1.7006 - mae: 1.7006\n",
      "Epoch 24/300\n",
      "10/10 [==============================] - 0s 885us/step - loss: 1.6956 - mae: 1.6956\n",
      "Epoch 25/300\n",
      "10/10 [==============================] - 0s 1ms/step - loss: 1.6916 - mae: 1.6916\n",
      "Epoch 26/300\n",
      "10/10 [==============================] - 0s 962us/step - loss: 1.6996 - mae: 1.6996\n",
      "Epoch 27/300\n",
      "10/10 [==============================] - 0s 888us/step - loss: 1.6964 - mae: 1.6964\n",
      "Epoch 28/300\n",
      "10/10 [==============================] - 0s 972us/step - loss: 1.6837 - mae: 1.6837\n",
      "Epoch 29/300\n",
      "10/10 [==============================] - 0s 1ms/step - loss: 1.6764 - mae: 1.6764\n",
      "Epoch 30/300\n",
      "10/10 [==============================] - 0s 1ms/step - loss: 1.6731 - mae: 1.6731\n",
      "Epoch 31/300\n",
      "10/10 [==============================] - 0s 476us/step - loss: 1.6742 - mae: 1.6742\n",
      "Epoch 32/300\n",
      "10/10 [==============================] - 0s 889us/step - loss: 1.6698 - mae: 1.6698\n",
      "Epoch 33/300\n",
      "10/10 [==============================] - 0s 888us/step - loss: 1.6696 - mae: 1.6696\n",
      "Epoch 34/300\n",
      "10/10 [==============================] - 0s 892us/step - loss: 1.6782 - mae: 1.6782\n",
      "Epoch 35/300\n",
      "10/10 [==============================] - 0s 885us/step - loss: 1.6955 - mae: 1.6955\n",
      "Epoch 36/300\n",
      "10/10 [==============================] - 0s 890us/step - loss: 1.6702 - mae: 1.6702\n",
      "Epoch 37/300\n",
      "10/10 [==============================] - 0s 888us/step - loss: 1.6751 - mae: 1.6751\n",
      "Epoch 38/300\n",
      "10/10 [==============================] - 0s 892us/step - loss: 1.6561 - mae: 1.6561\n",
      "Epoch 39/300\n",
      "10/10 [==============================] - 0s 891us/step - loss: 1.6612 - mae: 1.6612\n",
      "Epoch 40/300\n",
      "10/10 [==============================] - 0s 2ms/step - loss: 1.6738 - mae: 1.6738\n",
      "Epoch 41/300\n",
      "10/10 [==============================] - 0s 611us/step - loss: 1.6675 - mae: 1.6675\n",
      "Epoch 42/300\n",
      "10/10 [==============================] - 0s 815us/step - loss: 1.6569 - mae: 1.6569\n",
      "Epoch 43/300\n",
      "10/10 [==============================] - 0s 892us/step - loss: 1.6869 - mae: 1.6869\n",
      "Epoch 44/300\n",
      "10/10 [==============================] - 0s 888us/step - loss: 1.6734 - mae: 1.6734\n",
      "Epoch 45/300\n",
      "10/10 [==============================] - 0s 2ms/step - loss: 1.6679 - mae: 1.6679\n",
      "Epoch 46/300\n",
      "10/10 [==============================] - 0s 888us/step - loss: 1.6660 - mae: 1.6660\n",
      "Epoch 47/300\n",
      "10/10 [==============================] - 0s 888us/step - loss: 1.6562 - mae: 1.6562\n",
      "Epoch 48/300\n",
      "10/10 [==============================] - 0s 888us/step - loss: 1.6450 - mae: 1.6450\n",
      "Epoch 49/300\n",
      "10/10 [==============================] - 0s 888us/step - loss: 1.6434 - mae: 1.6434\n",
      "Epoch 50/300\n",
      "10/10 [==============================] - 0s 859us/step - loss: 1.6455 - mae: 1.6455\n",
      "Epoch 51/300\n",
      "10/10 [==============================] - 0s 2ms/step - loss: 1.6636 - mae: 1.6636\n",
      "Epoch 52/300\n",
      "10/10 [==============================] - 0s 888us/step - loss: 1.6464 - mae: 1.6464\n",
      "Epoch 53/300\n",
      "10/10 [==============================] - 0s 1ms/step - loss: 1.6444 - mae: 1.6444\n",
      "Epoch 54/300\n",
      "10/10 [==============================] - 0s 667us/step - loss: 1.6424 - mae: 1.6424\n",
      "Epoch 55/300\n",
      "10/10 [==============================] - 0s 1ms/step - loss: 1.6358 - mae: 1.6358\n",
      "Epoch 56/300\n",
      "10/10 [==============================] - 0s 563us/step - loss: 1.6367 - mae: 1.6367\n",
      "Epoch 57/300\n",
      "10/10 [==============================] - 0s 1ms/step - loss: 1.6463 - mae: 1.6463\n",
      "Epoch 58/300\n",
      "10/10 [==============================] - 0s 940us/step - loss: 1.6372 - mae: 1.6372\n",
      "Epoch 59/300\n",
      "10/10 [==============================] - 0s 888us/step - loss: 1.6454 - mae: 1.6454\n",
      "Epoch 60/300\n",
      "10/10 [==============================] - 0s 1ms/step - loss: 1.6400 - mae: 1.6400\n",
      "Epoch 61/300\n",
      "10/10 [==============================] - 0s 887us/step - loss: 1.6394 - mae: 1.6394\n",
      "Epoch 62/300\n",
      "10/10 [==============================] - 0s 889us/step - loss: 1.6367 - mae: 1.6367\n",
      "Epoch 63/300\n",
      "10/10 [==============================] - 0s 1ms/step - loss: 1.6328 - mae: 1.6328\n",
      "Epoch 64/300\n",
      "10/10 [==============================] - 0s 909us/step - loss: 1.6431 - mae: 1.6431\n",
      "Epoch 65/300\n",
      "10/10 [==============================] - 0s 2ms/step - loss: 1.6360 - mae: 1.6360\n",
      "Epoch 66/300\n",
      "10/10 [==============================] - 0s 253us/step - loss: 1.6435 - mae: 1.6435\n",
      "Epoch 67/300\n",
      "10/10 [==============================] - 0s 901us/step - loss: 1.6488 - mae: 1.6488\n",
      "Epoch 68/300\n",
      "10/10 [==============================] - 0s 874us/step - loss: 1.6897 - mae: 1.6897\n",
      "Epoch 69/300\n",
      "10/10 [==============================] - 0s 427us/step - loss: 1.6836 - mae: 1.6836\n",
      "Epoch 70/300\n",
      "10/10 [==============================] - 0s 897us/step - loss: 1.6783 - mae: 1.6783\n",
      "Epoch 71/300\n",
      "10/10 [==============================] - 0s 717us/step - loss: 1.6519 - mae: 1.6519\n",
      "Epoch 72/300\n",
      "10/10 [==============================] - 0s 953us/step - loss: 1.6449 - mae: 1.6449\n",
      "Epoch 73/300\n",
      "10/10 [==============================] - 0s 888us/step - loss: 1.6340 - mae: 1.6340\n",
      "Epoch 74/300\n",
      "10/10 [==============================] - 0s 1ms/step - loss: 1.6454 - mae: 1.6454\n",
      "Epoch 75/300\n",
      "10/10 [==============================] - 0s 2ms/step - loss: 1.6411 - mae: 1.6411\n",
      "Epoch 76/300\n",
      "10/10 [==============================] - 0s 0s/step - loss: 1.6426 - mae: 1.6426\n",
      "Epoch 77/300\n",
      "10/10 [==============================] - 0s 2ms/step - loss: 1.6425 - mae: 1.6425\n",
      "Epoch 78/300\n",
      "10/10 [==============================] - 0s 318us/step - loss: 1.6401 - mae: 1.6401\n",
      "Epoch 79/300\n",
      "10/10 [==============================] - 0s 897us/step - loss: 1.6319 - mae: 1.6319\n",
      "Epoch 80/300\n",
      "10/10 [==============================] - 0s 1ms/step - loss: 1.6295 - mae: 1.6295\n",
      "Epoch 81/300\n",
      "10/10 [==============================] - 0s 888us/step - loss: 1.6264 - mae: 1.6264\n",
      "Epoch 82/300\n",
      "10/10 [==============================] - 0s 888us/step - loss: 1.6350 - mae: 1.6350\n",
      "Epoch 83/300\n",
      "10/10 [==============================] - 0s 2ms/step - loss: 1.6512 - mae: 1.6512\n",
      "Epoch 84/300\n",
      "10/10 [==============================] - 0s 892us/step - loss: 1.6324 - mae: 1.6324\n",
      "Epoch 85/300\n",
      "10/10 [==============================] - 0s 974us/step - loss: 1.6307 - mae: 1.6307\n",
      "Epoch 86/300\n",
      "10/10 [==============================] - 0s 408us/step - loss: 1.6341 - mae: 1.6341\n",
      "Epoch 87/300\n",
      "10/10 [==============================] - 0s 1ms/step - loss: 1.6266 - mae: 1.6266\n",
      "Epoch 88/300\n",
      "10/10 [==============================] - 0s 854us/step - loss: 1.6302 - mae: 1.6302\n",
      "Epoch 89/300\n",
      "10/10 [==============================] - 0s 487us/step - loss: 1.6428 - mae: 1.6428\n",
      "Epoch 90/300\n",
      "10/10 [==============================] - 0s 247us/step - loss: 1.6516 - mae: 1.6516\n",
      "Epoch 91/300\n",
      "10/10 [==============================] - 0s 689us/step - loss: 1.6351 - mae: 1.6351\n",
      "Epoch 92/300\n",
      "10/10 [==============================] - 0s 532us/step - loss: 1.6680 - mae: 1.6680\n",
      "Epoch 93/300\n",
      "10/10 [==============================] - 0s 308us/step - loss: 1.6455 - mae: 1.6455\n",
      "Epoch 94/300\n",
      "10/10 [==============================] - 0s 2ms/step - loss: 1.6380 - mae: 1.6380\n",
      "Epoch 95/300\n",
      "10/10 [==============================] - 0s 867us/step - loss: 1.6440 - mae: 1.6440\n",
      "Epoch 96/300\n",
      "10/10 [==============================] - 0s 257us/step - loss: 1.6764 - mae: 1.6764\n",
      "Epoch 97/300\n",
      "10/10 [==============================] - 0s 321us/step - loss: 1.6437 - mae: 1.6437\n",
      "Epoch 98/300\n",
      "10/10 [==============================] - 0s 1ms/step - loss: 1.6357 - mae: 1.6357\n",
      "Epoch 99/300\n",
      "10/10 [==============================] - 0s 646us/step - loss: 1.6508 - mae: 1.6508\n",
      "Epoch 100/300\n",
      "10/10 [==============================] - 0s 518us/step - loss: 1.6492 - mae: 1.6492\n",
      "Epoch 101/300\n",
      "10/10 [==============================] - 0s 242us/step - loss: 1.6339 - mae: 1.6339\n",
      "Epoch 102/300\n",
      "10/10 [==============================] - 0s 733us/step - loss: 1.6285 - mae: 1.6285\n",
      "Epoch 103/300\n",
      "10/10 [==============================] - 0s 1ms/step - loss: 1.6368 - mae: 1.6368\n",
      "Epoch 104/300\n",
      "10/10 [==============================] - 0s 763us/step - loss: 1.6427 - mae: 1.6427\n",
      "Epoch 105/300\n",
      "10/10 [==============================] - 0s 892us/step - loss: 1.6405 - mae: 1.6405\n",
      "Epoch 106/300\n",
      "10/10 [==============================] - 0s 730us/step - loss: 1.6283 - mae: 1.6283\n",
      "Epoch 107/300\n",
      "10/10 [==============================] - 0s 681us/step - loss: 1.6238 - mae: 1.6238\n",
      "Epoch 108/300\n",
      "10/10 [==============================] - 0s 472us/step - loss: 1.6316 - mae: 1.6316\n",
      "Epoch 109/300\n",
      "10/10 [==============================] - 0s 243us/step - loss: 1.6306 - mae: 1.6306\n",
      "Epoch 110/300\n",
      "10/10 [==============================] - 0s 737us/step - loss: 1.6291 - mae: 1.6291\n",
      "Epoch 111/300\n",
      "10/10 [==============================] - 0s 717us/step - loss: 1.6230 - mae: 1.6230\n",
      "Epoch 112/300\n",
      "10/10 [==============================] - 0s 670us/step - loss: 1.6525 - mae: 1.6525\n",
      "Epoch 113/300\n",
      "10/10 [==============================] - 0s 362us/step - loss: 1.6384 - mae: 1.6384\n",
      "Epoch 114/300\n",
      "10/10 [==============================] - 0s 1ms/step - loss: 1.6395 - mae: 1.6395\n",
      "Epoch 115/300\n",
      "10/10 [==============================] - 0s 710us/step - loss: 1.6557 - mae: 1.6557\n",
      "Epoch 116/300\n",
      "10/10 [==============================] - 0s 641us/step - loss: 1.6431 - mae: 1.6431\n",
      "Epoch 117/300\n",
      "10/10 [==============================] - 0s 783us/step - loss: 1.6320 - mae: 1.6320\n",
      "Epoch 118/300\n",
      "10/10 [==============================] - 0s 849us/step - loss: 1.6279 - mae: 1.6279\n",
      "Epoch 119/300\n",
      "10/10 [==============================] - 0s 235us/step - loss: 1.6243 - mae: 1.6243\n",
      "Epoch 120/300\n",
      "10/10 [==============================] - 0s 716us/step - loss: 1.6359 - mae: 1.6359\n",
      "Epoch 121/300\n",
      "10/10 [==============================] - 0s 1ms/step - loss: 1.6388 - mae: 1.6388\n",
      "Epoch 122/300\n",
      "10/10 [==============================] - 0s 910us/step - loss: 1.6334 - mae: 1.6334\n",
      "Epoch 123/300\n",
      "10/10 [==============================] - 0s 816us/step - loss: 1.6272 - mae: 1.6272\n",
      "Epoch 124/300\n",
      "10/10 [==============================] - 0s 796us/step - loss: 1.6459 - mae: 1.6459\n",
      "Epoch 125/300\n",
      "10/10 [==============================] - 0s 1ms/step - loss: 1.6464 - mae: 1.6464\n",
      "Epoch 126/300\n",
      "10/10 [==============================] - 0s 722us/step - loss: 1.6292 - mae: 1.6292\n",
      "Epoch 127/300\n",
      "10/10 [==============================] - 0s 1ms/step - loss: 1.6308 - mae: 1.6308\n",
      "Epoch 128/300\n",
      "10/10 [==============================] - 0s 815us/step - loss: 1.6263 - mae: 1.6263\n",
      "Epoch 129/300\n",
      "10/10 [==============================] - 0s 440us/step - loss: 1.6246 - mae: 1.6246\n",
      "Epoch 130/300\n",
      "10/10 [==============================] - 0s 273us/step - loss: 1.6305 - mae: 1.6305\n",
      "Epoch 131/300\n",
      "10/10 [==============================] - 0s 888us/step - loss: 1.6347 - mae: 1.6347\n",
      "Epoch 132/300\n",
      "10/10 [==============================] - 0s 563us/step - loss: 1.6448 - mae: 1.6448\n",
      "Epoch 133/300\n",
      "10/10 [==============================] - 0s 773us/step - loss: 1.6347 - mae: 1.6347\n",
      "Epoch 134/300\n",
      "10/10 [==============================] - 0s 870us/step - loss: 1.6415 - mae: 1.6415\n",
      "Epoch 135/300\n",
      "10/10 [==============================] - 0s 835us/step - loss: 1.6286 - mae: 1.6286\n",
      "Epoch 136/300\n",
      "10/10 [==============================] - 0s 1ms/step - loss: 1.6381 - mae: 1.6381\n",
      "Epoch 137/300\n",
      "10/10 [==============================] - 0s 474us/step - loss: 1.6431 - mae: 1.6431\n",
      "Epoch 138/300\n",
      "10/10 [==============================] - 0s 978us/step - loss: 1.6321 - mae: 1.6321\n",
      "Epoch 139/300\n",
      "10/10 [==============================] - 0s 848us/step - loss: 1.6252 - mae: 1.6252\n",
      "Epoch 140/300\n",
      "10/10 [==============================] - 0s 421us/step - loss: 1.6312 - mae: 1.6312\n",
      "Epoch 141/300\n",
      "10/10 [==============================] - 0s 911us/step - loss: 1.6366 - mae: 1.6366\n",
      "Epoch 142/300\n",
      "10/10 [==============================] - 0s 666us/step - loss: 1.6279 - mae: 1.6279\n",
      "Epoch 143/300\n",
      "10/10 [==============================] - 0s 1ms/step - loss: 1.6254 - mae: 1.6254\n",
      "Epoch 144/300\n",
      "10/10 [==============================] - 0s 807us/step - loss: 1.6261 - mae: 1.6261\n",
      "Epoch 145/300\n",
      "10/10 [==============================] - 0s 1ms/step - loss: 1.6271 - mae: 1.6271\n",
      "Epoch 146/300\n",
      "10/10 [==============================] - 0s 1ms/step - loss: 1.6270 - mae: 1.6270\n",
      "Epoch 147/300\n",
      "10/10 [==============================] - 0s 927us/step - loss: 1.6279 - mae: 1.6279\n",
      "Epoch 148/300\n",
      "10/10 [==============================] - 0s 1ms/step - loss: 1.6234 - mae: 1.6234\n",
      "Epoch 149/300\n",
      "10/10 [==============================] - 0s 853us/step - loss: 1.6202 - mae: 1.6202\n",
      "Epoch 150/300\n",
      "10/10 [==============================] - 0s 808us/step - loss: 1.6281 - mae: 1.6281\n",
      "Epoch 151/300\n",
      "10/10 [==============================] - 0s 399us/step - loss: 1.6394 - mae: 1.6394\n",
      "Epoch 152/300\n",
      "10/10 [==============================] - 0s 846us/step - loss: 1.6381 - mae: 1.6381\n",
      "Epoch 153/300\n",
      "10/10 [==============================] - 0s 1ms/step - loss: 1.6256 - mae: 1.6256\n",
      "Epoch 154/300\n",
      "10/10 [==============================] - 0s 1000us/step - loss: 1.6281 - mae: 1.6281\n",
      "Epoch 155/300\n",
      "10/10 [==============================] - 0s 888us/step - loss: 1.6324 - mae: 1.6324\n",
      "Epoch 156/300\n",
      "10/10 [==============================] - 0s 533us/step - loss: 1.6165 - mae: 1.6165\n",
      "Epoch 157/300\n",
      "10/10 [==============================] - 0s 897us/step - loss: 1.6390 - mae: 1.6390\n",
      "Epoch 158/300\n",
      "10/10 [==============================] - 0s 869us/step - loss: 1.6402 - mae: 1.6402\n",
      "Epoch 159/300\n",
      "10/10 [==============================] - 0s 861us/step - loss: 1.6412 - mae: 1.6412\n",
      "Epoch 160/300\n",
      "10/10 [==============================] - 0s 821us/step - loss: 1.6290 - mae: 1.6290\n",
      "Epoch 161/300\n",
      "10/10 [==============================] - 0s 966us/step - loss: 1.6448 - mae: 1.6448\n",
      "Epoch 162/300\n",
      "10/10 [==============================] - 0s 1ms/step - loss: 1.6348 - mae: 1.6348\n",
      "Epoch 163/300\n",
      "10/10 [==============================] - 0s 886us/step - loss: 1.6463 - mae: 1.6463\n",
      "Epoch 164/300\n",
      "10/10 [==============================] - 0s 595us/step - loss: 1.6372 - mae: 1.6372\n",
      "Epoch 165/300\n",
      "10/10 [==============================] - 0s 910us/step - loss: 1.6376 - mae: 1.6376\n",
      "Epoch 166/300\n",
      "10/10 [==============================] - 0s 310us/step - loss: 1.6310 - mae: 1.6310\n",
      "Epoch 167/300\n",
      "10/10 [==============================] - 0s 281us/step - loss: 1.6268 - mae: 1.6268\n",
      "Epoch 168/300\n",
      "10/10 [==============================] - 0s 2ms/step - loss: 1.6682 - mae: 1.6682\n",
      "Epoch 169/300\n",
      "10/10 [==============================] - 0s 694us/step - loss: 1.6367 - mae: 1.6367\n",
      "Epoch 170/300\n",
      "10/10 [==============================] - 0s 1ms/step - loss: 1.6408 - mae: 1.6408\n",
      "Epoch 171/300\n",
      "10/10 [==============================] - 0s 911us/step - loss: 1.6296 - mae: 1.6296\n",
      "Epoch 172/300\n",
      "10/10 [==============================] - 0s 613us/step - loss: 1.6314 - mae: 1.6314\n",
      "Epoch 173/300\n",
      "10/10 [==============================] - 0s 858us/step - loss: 1.6248 - mae: 1.6248\n",
      "Epoch 174/300\n",
      "10/10 [==============================] - 0s 36us/step - loss: 1.6311 - mae: 1.6311\n",
      "Epoch 175/300\n",
      "10/10 [==============================] - 0s 500us/step - loss: 1.6320 - mae: 1.6320\n",
      "Epoch 176/300\n",
      "10/10 [==============================] - 0s 629us/step - loss: 1.6255 - mae: 1.6255\n",
      "Epoch 177/300\n",
      "10/10 [==============================] - 0s 859us/step - loss: 1.6334 - mae: 1.6334\n",
      "Epoch 178/300\n",
      "10/10 [==============================] - 0s 269us/step - loss: 1.6297 - mae: 1.6297\n",
      "Epoch 179/300\n",
      "10/10 [==============================] - 0s 676us/step - loss: 1.6225 - mae: 1.6225\n",
      "Epoch 180/300\n",
      "10/10 [==============================] - 0s 619us/step - loss: 1.6204 - mae: 1.6204\n",
      "Epoch 181/300\n",
      "10/10 [==============================] - 0s 490us/step - loss: 1.6377 - mae: 1.6377\n",
      "Epoch 182/300\n",
      "10/10 [==============================] - 0s 323us/step - loss: 1.6312 - mae: 1.6312\n",
      "Epoch 183/300\n",
      "10/10 [==============================] - 0s 220us/step - loss: 1.6326 - mae: 1.6326\n",
      "Epoch 184/300\n",
      "10/10 [==============================] - 0s 671us/step - loss: 1.6326 - mae: 1.6326\n",
      "Epoch 185/300\n",
      "10/10 [==============================] - 0s 574us/step - loss: 1.6339 - mae: 1.6339\n",
      "Epoch 186/300\n",
      "10/10 [==============================] - 0s 794us/step - loss: 1.6338 - mae: 1.6338\n",
      "Epoch 187/300\n",
      "10/10 [==============================] - 0s 900us/step - loss: 1.6339 - mae: 1.6339\n",
      "Epoch 188/300\n",
      "10/10 [==============================] - 0s 831us/step - loss: 1.6381 - mae: 1.6381\n",
      "Epoch 189/300\n",
      "10/10 [==============================] - 0s 722us/step - loss: 1.6488 - mae: 1.6488\n",
      "Epoch 190/300\n",
      "10/10 [==============================] - 0s 2ms/step - loss: 1.6471 - mae: 1.6471\n",
      "Epoch 191/300\n",
      "10/10 [==============================] - 0s 250us/step - loss: 1.6532 - mae: 1.6532\n",
      "Epoch 192/300\n",
      "10/10 [==============================] - 0s 724us/step - loss: 1.6390 - mae: 1.6390\n",
      "Epoch 193/300\n",
      "10/10 [==============================] - 0s 1ms/step - loss: 1.6423 - mae: 1.6423\n",
      "Epoch 194/300\n",
      "10/10 [==============================] - 0s 799us/step - loss: 1.6319 - mae: 1.6319\n",
      "Epoch 195/300\n",
      "10/10 [==============================] - 0s 782us/step - loss: 1.6288 - mae: 1.6288\n",
      "Epoch 196/300\n",
      "10/10 [==============================] - 0s 765us/step - loss: 1.6384 - mae: 1.6384\n",
      "Epoch 197/300\n",
      "10/10 [==============================] - 0s 738us/step - loss: 1.6289 - mae: 1.6289\n",
      "Epoch 198/300\n",
      "10/10 [==============================] - 0s 309us/step - loss: 1.6252 - mae: 1.6252\n",
      "Epoch 199/300\n",
      "10/10 [==============================] - 0s 2ms/step - loss: 1.6456 - mae: 1.6456\n",
      "Epoch 200/300\n",
      "10/10 [==============================] - 0s 836us/step - loss: 1.6354 - mae: 1.6354\n",
      "Epoch 201/300\n",
      "10/10 [==============================] - 0s 999us/step - loss: 1.6278 - mae: 1.6278\n",
      "Epoch 202/300\n",
      "10/10 [==============================] - 0s 859us/step - loss: 1.6304 - mae: 1.6304\n",
      "Epoch 203/300\n",
      "10/10 [==============================] - 0s 889us/step - loss: 1.6280 - mae: 1.6280\n",
      "Epoch 204/300\n",
      "10/10 [==============================] - 0s 1ms/step - loss: 1.6330 - mae: 1.6330\n",
      "Epoch 205/300\n",
      "10/10 [==============================] - 0s 698us/step - loss: 1.6247 - mae: 1.6247\n",
      "Epoch 206/300\n",
      "10/10 [==============================] - 0s 888us/step - loss: 1.6233 - mae: 1.6233\n",
      "Epoch 207/300\n",
      "10/10 [==============================] - 0s 1ms/step - loss: 1.6277 - mae: 1.6277\n",
      "Epoch 208/300\n",
      "10/10 [==============================] - 0s 732us/step - loss: 1.6265 - mae: 1.6265\n",
      "Epoch 209/300\n",
      "10/10 [==============================] - 0s 1ms/step - loss: 1.6276 - mae: 1.6276\n",
      "Epoch 210/300\n",
      "10/10 [==============================] - 0s 1ms/step - loss: 1.6264 - mae: 1.6264\n",
      "Epoch 211/300\n",
      "10/10 [==============================] - 0s 734us/step - loss: 1.6376 - mae: 1.6376\n",
      "Epoch 212/300\n",
      "10/10 [==============================] - 0s 566us/step - loss: 1.6335 - mae: 1.6335\n",
      "Epoch 213/300\n",
      "10/10 [==============================] - 0s 811us/step - loss: 1.6223 - mae: 1.6223\n",
      "Epoch 214/300\n",
      "10/10 [==============================] - 0s 889us/step - loss: 1.6389 - mae: 1.6389\n",
      "Epoch 215/300\n",
      "10/10 [==============================] - 0s 790us/step - loss: 1.6330 - mae: 1.6330\n",
      "Epoch 216/300\n",
      "10/10 [==============================] - 0s 827us/step - loss: 1.6232 - mae: 1.6232\n",
      "Epoch 217/300\n",
      "10/10 [==============================] - 0s 1ms/step - loss: 1.6230 - mae: 1.6230\n",
      "Epoch 218/300\n",
      "10/10 [==============================] - 0s 1ms/step - loss: 1.6327 - mae: 1.6327\n",
      "Epoch 219/300\n",
      "10/10 [==============================] - 0s 777us/step - loss: 1.6336 - mae: 1.6336\n",
      "Epoch 220/300\n",
      "10/10 [==============================] - 0s 640us/step - loss: 1.6304 - mae: 1.6304\n",
      "Epoch 221/300\n",
      "10/10 [==============================] - 0s 788us/step - loss: 1.6476 - mae: 1.6476\n",
      "Epoch 222/300\n",
      "10/10 [==============================] - 0s 35us/step - loss: 1.6336 - mae: 1.6336\n",
      "Epoch 223/300\n",
      "10/10 [==============================] - 0s 823us/step - loss: 1.6267 - mae: 1.6267\n",
      "Epoch 224/300\n",
      "10/10 [==============================] - 0s 789us/step - loss: 1.6221 - mae: 1.6221\n",
      "Epoch 225/300\n",
      "10/10 [==============================] - 0s 687us/step - loss: 1.6246 - mae: 1.6246\n",
      "Epoch 226/300\n",
      "10/10 [==============================] - 0s 918us/step - loss: 1.6261 - mae: 1.6261\n",
      "Epoch 227/300\n",
      "10/10 [==============================] - 0s 816us/step - loss: 1.6261 - mae: 1.6261\n",
      "Epoch 228/300\n",
      "10/10 [==============================] - 0s 1ms/step - loss: 1.6231 - mae: 1.6231\n",
      "Epoch 229/300\n",
      "10/10 [==============================] - 0s 865us/step - loss: 1.6297 - mae: 1.6297\n",
      "Epoch 230/300\n",
      "10/10 [==============================] - 0s 2ms/step - loss: 1.6251 - mae: 1.6251\n",
      "Epoch 231/300\n",
      "10/10 [==============================] - 0s 726us/step - loss: 1.6233 - mae: 1.6233\n",
      "Epoch 232/300\n",
      "10/10 [==============================] - 0s 843us/step - loss: 1.6289 - mae: 1.6289\n",
      "Epoch 233/300\n",
      "10/10 [==============================] - 0s 889us/step - loss: 1.6367 - mae: 1.6367\n",
      "Epoch 234/300\n",
      "10/10 [==============================] - 0s 449us/step - loss: 1.6331 - mae: 1.6331\n",
      "Epoch 235/300\n",
      "10/10 [==============================] - 0s 869us/step - loss: 1.6248 - mae: 1.6248\n",
      "Epoch 236/300\n",
      "10/10 [==============================] - 0s 991us/step - loss: 1.6243 - mae: 1.6243\n",
      "Epoch 237/300\n",
      "10/10 [==============================] - 0s 863us/step - loss: 1.6223 - mae: 1.6223\n",
      "Epoch 238/300\n",
      "10/10 [==============================] - 0s 888us/step - loss: 1.6302 - mae: 1.6302\n",
      "Epoch 239/300\n",
      "10/10 [==============================] - 0s 826us/step - loss: 1.6309 - mae: 1.6309\n",
      "Epoch 240/300\n",
      "10/10 [==============================] - 0s 890us/step - loss: 1.6371 - mae: 1.6371\n",
      "Epoch 241/300\n",
      "10/10 [==============================] - 0s 974us/step - loss: 1.6784 - mae: 1.6784\n",
      "Epoch 242/300\n",
      "10/10 [==============================] - 0s 2ms/step - loss: 1.6363 - mae: 1.6363\n",
      "Epoch 243/300\n",
      "10/10 [==============================] - 0s 939us/step - loss: 1.6472 - mae: 1.6472\n",
      "Epoch 244/300\n",
      "10/10 [==============================] - 0s 536us/step - loss: 1.6371 - mae: 1.6371\n",
      "Epoch 245/300\n",
      "10/10 [==============================] - 0s 1ms/step - loss: 1.6315 - mae: 1.6315\n",
      "Epoch 246/300\n",
      "10/10 [==============================] - 0s 48us/step - loss: 1.6376 - mae: 1.6376\n",
      "Epoch 247/300\n",
      "10/10 [==============================] - 0s 881us/step - loss: 1.6282 - mae: 1.6282\n",
      "Epoch 248/300\n",
      "10/10 [==============================] - 0s 1ms/step - loss: 1.6309 - mae: 1.6309\n",
      "Epoch 249/300\n",
      "10/10 [==============================] - 0s 888us/step - loss: 1.6219 - mae: 1.6219\n",
      "Epoch 250/300\n",
      "10/10 [==============================] - 0s 320us/step - loss: 1.6272 - mae: 1.6272\n",
      "Epoch 251/300\n",
      "10/10 [==============================] - 0s 898us/step - loss: 1.6240 - mae: 1.6240\n",
      "Epoch 252/300\n",
      "10/10 [==============================] - 0s 271us/step - loss: 1.6221 - mae: 1.6221\n",
      "Epoch 253/300\n",
      "10/10 [==============================] - 0s 304us/step - loss: 1.6237 - mae: 1.6237\n",
      "Epoch 254/300\n",
      "10/10 [==============================] - 0s 901us/step - loss: 1.6554 - mae: 1.6554\n",
      "Epoch 255/300\n",
      "10/10 [==============================] - 0s 888us/step - loss: 1.6332 - mae: 1.6332\n",
      "Epoch 256/300\n",
      "10/10 [==============================] - 0s 879us/step - loss: 1.6244 - mae: 1.6244\n",
      "Epoch 257/300\n",
      "10/10 [==============================] - 0s 778us/step - loss: 1.6215 - mae: 1.6215\n",
      "Epoch 258/300\n",
      "10/10 [==============================] - 0s 354us/step - loss: 1.6226 - mae: 1.6226\n",
      "Epoch 259/300\n",
      "10/10 [==============================] - 0s 883us/step - loss: 1.6267 - mae: 1.6267\n",
      "Epoch 260/300\n",
      "10/10 [==============================] - 0s 733us/step - loss: 1.6346 - mae: 1.6346\n",
      "Epoch 261/300\n",
      "10/10 [==============================] - 0s 710us/step - loss: 1.6280 - mae: 1.6280\n",
      "Epoch 262/300\n",
      "10/10 [==============================] - 0s 814us/step - loss: 1.6378 - mae: 1.6378\n",
      "Epoch 263/300\n",
      "10/10 [==============================] - 0s 324us/step - loss: 1.6647 - mae: 1.6647\n",
      "Epoch 264/300\n",
      "10/10 [==============================] - 0s 226us/step - loss: 1.6433 - mae: 1.6433\n",
      "Epoch 265/300\n",
      "10/10 [==============================] - 0s 792us/step - loss: 1.6307 - mae: 1.6307\n",
      "Epoch 266/300\n",
      "10/10 [==============================] - 0s 785us/step - loss: 1.6241 - mae: 1.6241\n",
      "Epoch 267/300\n",
      "10/10 [==============================] - 0s 238us/step - loss: 1.6230 - mae: 1.6230\n",
      "Epoch 268/300\n",
      "10/10 [==============================] - 0s 782us/step - loss: 1.6354 - mae: 1.6354\n",
      "Epoch 269/300\n",
      "10/10 [==============================] - 0s 536us/step - loss: 1.6271 - mae: 1.6271\n",
      "Epoch 270/300\n",
      "10/10 [==============================] - 0s 875us/step - loss: 1.6218 - mae: 1.6218\n",
      "Epoch 271/300\n",
      "10/10 [==============================] - 0s 833us/step - loss: 1.6321 - mae: 1.6321\n",
      "Epoch 272/300\n",
      "10/10 [==============================] - 0s 688us/step - loss: 1.6268 - mae: 1.6268\n",
      "Epoch 273/300\n",
      "10/10 [==============================] - 0s 810us/step - loss: 1.6229 - mae: 1.6229\n",
      "Epoch 274/300\n",
      "10/10 [==============================] - 0s 2ms/step - loss: 1.6302 - mae: 1.6302\n",
      "Epoch 275/300\n",
      "10/10 [==============================] - 0s 787us/step - loss: 1.6290 - mae: 1.6290\n",
      "Epoch 276/300\n",
      "10/10 [==============================] - 0s 818us/step - loss: 1.6414 - mae: 1.6414\n",
      "Epoch 277/300\n",
      "10/10 [==============================] - 0s 391us/step - loss: 1.6268 - mae: 1.6268\n",
      "Epoch 278/300\n",
      "10/10 [==============================] - 0s 931us/step - loss: 1.6251 - mae: 1.6251\n",
      "Epoch 279/300\n",
      "10/10 [==============================] - 0s 830us/step - loss: 1.6212 - mae: 1.6212\n",
      "Epoch 280/300\n",
      "10/10 [==============================] - 0s 626us/step - loss: 1.6231 - mae: 1.6231\n",
      "Epoch 281/300\n",
      "10/10 [==============================] - 0s 837us/step - loss: 1.6238 - mae: 1.6238\n",
      "Epoch 282/300\n",
      "10/10 [==============================] - 0s 2ms/step - loss: 1.6235 - mae: 1.6235\n",
      "Epoch 283/300\n",
      "10/10 [==============================] - 0s 817us/step - loss: 1.6245 - mae: 1.6245\n",
      "Epoch 284/300\n",
      "10/10 [==============================] - 0s 915us/step - loss: 1.6342 - mae: 1.6342\n",
      "Epoch 285/300\n",
      "10/10 [==============================] - 0s 888us/step - loss: 1.6338 - mae: 1.6338\n",
      "Epoch 286/300\n",
      "10/10 [==============================] - 0s 994us/step - loss: 1.6248 - mae: 1.6248\n",
      "Epoch 287/300\n",
      "10/10 [==============================] - 0s 843us/step - loss: 1.6366 - mae: 1.6366\n",
      "Epoch 288/300\n",
      "10/10 [==============================] - 0s 997us/step - loss: 1.6255 - mae: 1.6255\n",
      "Epoch 289/300\n",
      "10/10 [==============================] - 0s 2ms/step - loss: 1.6240 - mae: 1.6240\n",
      "Epoch 290/300\n",
      "10/10 [==============================] - 0s 993us/step - loss: 1.6222 - mae: 1.6222\n",
      "Epoch 291/300\n",
      "10/10 [==============================] - 0s 417us/step - loss: 1.6358 - mae: 1.6358\n",
      "Epoch 292/300\n",
      "10/10 [==============================] - 0s 1ms/step - loss: 1.6256 - mae: 1.6256\n",
      "Epoch 293/300\n",
      "10/10 [==============================] - 0s 883us/step - loss: 1.6267 - mae: 1.6267\n",
      "Epoch 294/300\n",
      "10/10 [==============================] - 0s 977us/step - loss: 1.6219 - mae: 1.6219\n",
      "Epoch 295/300\n",
      "10/10 [==============================] - 0s 894us/step - loss: 1.6241 - mae: 1.6241\n",
      "Epoch 296/300\n",
      "10/10 [==============================] - 0s 894us/step - loss: 1.6291 - mae: 1.6291\n",
      "Epoch 297/300\n",
      "10/10 [==============================] - 0s 730us/step - loss: 1.6266 - mae: 1.6266\n",
      "Epoch 298/300\n",
      "10/10 [==============================] - 0s 963us/step - loss: 1.6219 - mae: 1.6219\n",
      "Epoch 299/300\n",
      "10/10 [==============================] - 0s 665us/step - loss: 1.6240 - mae: 1.6240\n",
      "Epoch 300/300\n",
      "10/10 [==============================] - 0s 891us/step - loss: 1.6275 - mae: 1.6275\n"
     ]
    }
   ],
   "source": [
    "# fit the model\n",
    "history= nn_model_2.fit(X_train_scaled,y_train,epochs=300)"
   ]
  },
  {
   "cell_type": "code",
   "execution_count": 114,
   "id": "9ff31a67",
   "metadata": {},
   "outputs": [
    {
     "name": "stdout",
     "output_type": "stream",
     "text": [
      "3/3 [==============================] - 0s 1ms/step - loss: 1.8129 - mae: 1.8129\n"
     ]
    },
    {
     "data": {
      "text/plain": [
       "[1.812902569770813, 1.812902569770813]"
      ]
     },
     "execution_count": 114,
     "metadata": {},
     "output_type": "execute_result"
    }
   ],
   "source": [
    "# #check the results with insurnce model test data\n",
    "nn_model_2.evaluate(X_test_scaled,y_test)"
   ]
  },
  {
   "cell_type": "code",
   "execution_count": 115,
   "id": "72c644e1",
   "metadata": {},
   "outputs": [
    {
     "data": {
      "text/plain": [
       "Text(0.5, 0, 'Epochs')"
      ]
     },
     "execution_count": 115,
     "metadata": {},
     "output_type": "execute_result"
    },
    {
     "data": {
      "image/png": "[encoded data removed]",
      "text/plain": [
       "<Figure size 600x400 with 1 Axes>"
      ]
     },
     "metadata": {},
     "output_type": "display_data"
    }
   ],
   "source": [
    "#plot history (Also known as loss  curve or a training curve)\n",
    "pd.DataFrame(history.history).plot()\n",
    "plt.ylabel(\"Loss\")\n",
    "plt.xlabel(\"Epochs\")"
   ]
  },
  {
   "cell_type": "markdown",
   "id": "d405b463",
   "metadata": {},
   "source": [
    "# Model Training"
   ]
  },
  {
   "cell_type": "markdown",
   "id": "72d53c05",
   "metadata": {},
   "source": [
    "#### Evaluating Model Performance"
   ]
  },
  {
   "cell_type": "markdown",
   "id": "d8de905e",
   "metadata": {},
   "source": [
    "#### Feature Importance\n",
    "We will be using ExtraTreesRegressor class for Feature Importance. This class implements a meta estimator that fits a number of randomized decision trees on various samples of the dataset and uses averaging to improve the predictive accuracy and control over-fitting."
   ]
  },
  {
   "cell_type": "code",
   "execution_count": 88,
   "id": "e97987e2",
   "metadata": {},
   "outputs": [
    {
     "data": {
      "text/plain": [
       "array([0.01009002, 0.01655188, 0.04478579, 0.23697316, 0.10343638,\n",
       "       0.11752017, 0.10712567, 0.00584532, 0.00873608, 0.        ,\n",
       "       0.00112829, 0.00770608, 0.01376096, 0.01037793, 0.00865309,\n",
       "       0.00398243, 0.0007978 , 0.00057566, 0.00061979, 0.00037679,\n",
       "       0.00466769, 0.00085467, 0.00365793, 0.00495869, 0.        ,\n",
       "       0.03094251, 0.00845172, 0.02236556, 0.        , 0.01077519,\n",
       "       0.03525412, 0.        , 0.03893517, 0.00723191, 0.0108741 ,\n",
       "       0.01021786, 0.00224477, 0.01601608, 0.01040649, 0.0281269 ,\n",
       "       0.01624582, 0.00289109, 0.        , 0.00772977, 0.00844846,\n",
       "       0.00959175, 0.00732985, 0.00273862])"
      ]
     },
     "execution_count": 88,
     "metadata": {},
     "output_type": "execute_result"
    }
   ],
   "source": [
    "from sklearn.ensemble import ExtraTreesRegressor\n",
    "etr_model = ExtraTreesRegressor()\n",
    "etr_model.fit(X, y)\n",
    "etr_model.feature_importances_"
   ]
  },
  {
   "cell_type": "code",
   "execution_count": 89,
   "id": "c1c11e21",
   "metadata": {},
   "outputs": [
    {
     "data": {
      "text/plain": [
       "<AxesSubplot:>"
      ]
     },
     "execution_count": 89,
     "metadata": {},
     "output_type": "execute_result"
    },
    {
     "data": {
      "image/png": "[encoded data removed]",
      "text/plain": [
       "<Figure size 600x400 with 1 Axes>"
      ]
     },
     "metadata": {},
     "output_type": "display_data"
    }
   ],
   "source": [
    "#Top 20 Important features\n",
    "feature_imp = pd.Series(etr_model.feature_importances_, index = X.columns)\n",
    "feature_imp.nlargest(20).plot(kind = 'barh')"
   ]
  },
  {
   "cell_type": "markdown",
   "id": "595693ba",
   "metadata": {},
   "source": [
    "#### Feature Scaling"
   ]
  },
  {
   "cell_type": "code",
   "execution_count": 90,
   "id": "bd268369",
   "metadata": {},
   "outputs": [],
   "source": [
    "#min-max scaling is a better option than Standard Scaler as the data is skewed and does ont follow a normal distribution\n",
    "scaler_x = MinMaxScaler() #StandardScaler() #QuantileTransformer(output_distribution=\"uniform\")\n",
    "\n",
    "X_scaled = scaler_x.fit_transform(X)"
   ]
  },
  {
   "cell_type": "markdown",
   "id": "96836798",
   "metadata": {},
   "source": [
    "#### Using Interaction terms in the linear model"
   ]
  },
  {
   "cell_type": "code",
   "execution_count": 91,
   "id": "1cb4256c",
   "metadata": {},
   "outputs": [],
   "source": [
    "poly = PolynomialFeatures(interaction_only=True,include_bias = False)\n",
    "X_scaled_poly = poly.fit_transform(X_scaled)"
   ]
  },
  {
   "cell_type": "markdown",
   "id": "7b877a05",
   "metadata": {},
   "source": [
    "#### Model Design with target scaling"
   ]
  },
  {
   "cell_type": "code",
   "execution_count": 92,
   "id": "7293848e-2e39-4990-87d8-0f59b73365a1",
   "metadata": {},
   "outputs": [],
   "source": [
    "from sklearn.preprocessing import FunctionTransformer\n",
    "from sklearn.preprocessing import PowerTransformer\n",
    "\n",
    "\n",
    "def pass_func(x):\n",
    "    return x\n",
    "pass_transformer = FunctionTransformer(func=pass_func, inverse_func=pass_func)\n",
    "\n",
    "\n",
    "pos_qt = QuantileTransformer(output_distribution=\"normal\")\n",
    "def qt_func(x):\n",
    "    return max(qt.transform(x),0)\n",
    "def qt_inv(x):\n",
    "    return max(qt.inverse_transform(x), 0)\n",
    "pos_qt_transformer = FunctionTransformer(func=pass_func, inverse_func=pass_func)"
   ]
  },
  {
   "cell_type": "code",
   "execution_count": 93,
   "id": "770adeae-4887-4147-bffd-926ec0aef758",
   "metadata": {},
   "outputs": [
    {
     "name": "stdout",
     "output_type": "stream",
     "text": [
      "Cross-validation scores: [1.67190159 2.09176406 2.07097331 1.51995975 1.5559403  1.3497953\n",
      " 1.78320793 2.52528446 3.14472427 1.49013843]\n",
      "Average cross-validation score: 1.9203689405143656\n"
     ]
    },
    {
     "data": {
      "text/plain": [
       "<AxesSubplot:xlabel='EC Duration'>"
      ]
     },
     "execution_count": 93,
     "metadata": {},
     "output_type": "execute_result"
    },
    {
     "data": {
      "image/png": "[encoded data removed]",
      "text/plain": [
       "<Figure size 600x400 with 1 Axes>"
      ]
     },
     "metadata": {},
     "output_type": "display_data"
    }
   ],
   "source": [
    "regr_trans = TransformedTargetRegressor(\n",
    "    regressor=TweedieRegressor(link='log', power=2),\n",
    "    #regressor=RidgeCV(),\n",
    "    transformer=pass_transformer\n",
    "    #transformer=MinMaxScaler()\n",
    "    #transformer=PowerTransformer(method=\"box-cox\")\n",
    "    #transformer=QuantileTransformer(output_distribution=\"uniform\")\n",
    ")\n",
    "\n",
    "#Cross Validated training and scoring\n",
    "scores = cross_val_score(regr_trans, X_scaled_poly, y, cv = 10, scoring = make_scorer(mean_absolute_error))\n",
    "print('Cross-validation scores: {}'.format(scores))\n",
    "print('Average cross-validation score: {}'.format(scores.mean()))\n",
    "y_pred = cross_val_predict(regr_trans, X_scaled_poly, y, cv = 10)\n",
    "sns.scatterplot(y, y_pred, (y-y_pred), hue_norm=(-10,10), palette=\"coolwarm\")"
   ]
  },
  {
   "cell_type": "code",
   "execution_count": 94,
   "id": "8565fa2f",
   "metadata": {},
   "outputs": [
    {
     "name": "stdout",
     "output_type": "stream",
     "text": [
      "Cross-validation scores: [1.75091826 1.72460059 1.95310345 1.27531026 1.60839691 1.85096135\n",
      " 1.92787742 2.59174689 2.79125538 1.29505242]\n",
      "Average cross-validation score: 1.8769222930132063\n"
     ]
    },
    {
     "data": {
      "text/plain": [
       "<AxesSubplot:xlabel='EC Duration'>"
      ]
     },
     "execution_count": 94,
     "metadata": {},
     "output_type": "execute_result"
    },
    {
     "data": {
      "image/png": "[encoded data removed]",
      "text/plain": [
       "<Figure size 600x400 with 1 Axes>"
      ]
     },
     "metadata": {},
     "output_type": "display_data"
    }
   ],
   "source": [
    "regr_trans = TransformedTargetRegressor(\n",
    "    #regressor=TweedieRegressor(link='log', power=2),\n",
    "    regressor=RidgeCV(),\n",
    "    #transformer=pass_transformer\n",
    "    #transformer=MinMaxScaler()\n",
    "    transformer=PowerTransformer()\n",
    "    #transformer=QuantileTransformer(output_distribution=\"uniform\")\n",
    ")\n",
    "\n",
    "#Cross Validated training and scoring\n",
    "scores = cross_val_score(regr_trans, X_scaled_poly, y, cv = 10, scoring = make_scorer(mean_absolute_error))\n",
    "print('Cross-validation scores: {}'.format(scores))\n",
    "print('Average cross-validation score: {}'.format(scores.mean()))\n",
    "y_pred = cross_val_predict(regr_trans, X_scaled_poly, y, cv = 10)\n",
    "sns.scatterplot(y, y_pred, (y-y_pred), hue_norm=(-10,10), palette=\"coolwarm\")"
   ]
  },
  {
   "cell_type": "code",
   "execution_count": 95,
   "id": "090ae2fc",
   "metadata": {},
   "outputs": [
    {
     "name": "stdout",
     "output_type": "stream",
     "text": [
      "Cross-validation scores: [1.67117478 2.08896586 2.06903283 1.51687273 1.55638238 1.35206805\n",
      " 1.7855987  2.52370695 3.14228262 1.48987229]\n",
      "Average cross-validation score: 1.9195957191011908\n"
     ]
    },
    {
     "data": {
      "text/plain": [
       "<AxesSubplot:xlabel='EC Duration'>"
      ]
     },
     "execution_count": 95,
     "metadata": {},
     "output_type": "execute_result"
    },
    {
     "data": {
      "image/png": "[encoded data removed]",
      "text/plain": [
       "<Figure size 600x400 with 1 Axes>"
      ]
     },
     "metadata": {},
     "output_type": "display_data"
    }
   ],
   "source": [
    "regr_trans = TransformedTargetRegressor(\n",
    "    regressor=TweedieRegressor(link='log', power=1.99),\n",
    "    #transformer=MinMaxScaler()\n",
    "    #transformer=PowerTransformer()\n",
    "    transformer=pos_qt_transformer\n",
    "    #transformer=QuantileTransformer(output_distribution=\"uniform\")\n",
    ")\n",
    "\n",
    "#Cross Validated training and scoring\n",
    "scores = cross_val_score(regr_trans, X_scaled_poly, y, cv = 10, scoring = make_scorer(mean_absolute_error))\n",
    "print('Cross-validation scores: {}'.format(scores))\n",
    "print('Average cross-validation score: {}'.format(scores.mean()))\n",
    "y_pred = cross_val_predict(regr_trans, X_scaled_poly, y, cv = 10)\n",
    "sns.scatterplot(y, y_pred, (y-y_pred), hue_norm=(-10,10), palette=\"coolwarm\")"
   ]
  },
  {
   "cell_type": "code",
   "execution_count": 96,
   "id": "d323c683",
   "metadata": {},
   "outputs": [
    {
     "name": "stdout",
     "output_type": "stream",
     "text": [
      "Cross-validation scores: [1.74633837 1.87079352 2.15648767 1.45531997 1.53433543 1.60975169\n",
      " 1.80243521 2.43900443 2.91819076 1.1621086 ]\n",
      "Average cross-validation score: 1.8694765635444401\n"
     ]
    },
    {
     "data": {
      "text/plain": [
       "<AxesSubplot:xlabel='EC Duration'>"
      ]
     },
     "execution_count": 96,
     "metadata": {},
     "output_type": "execute_result"
    },
    {
     "data": {
      "image/png": "[encoded data removed]",
      "text/plain": [
       "<Figure size 600x400 with 1 Axes>"
      ]
     },
     "metadata": {},
     "output_type": "display_data"
    }
   ],
   "source": [
    "regr_trans = TransformedTargetRegressor(\n",
    "    #regressor=TweedieRegressor(link='log', power=2),\n",
    "    regressor=RidgeCV(),\n",
    "    #transformer=pass_transformer\n",
    "    #transformer=MinMaxScaler()\n",
    "    #transformer=PowerTransformer(method=\"box-cox\")\n",
    "    transformer=QuantileTransformer(output_distribution=\"uniform\")\n",
    ")\n",
    "\n",
    "#Cross Validated training and scoring\n",
    "scores = cross_val_score(regr_trans, X_scaled_poly, y, cv = 10, scoring = make_scorer(mean_absolute_error))\n",
    "print('Cross-validation scores: {}'.format(scores))\n",
    "print('Average cross-validation score: {}'.format(scores.mean()))\n",
    "y_pred = cross_val_predict(regr_trans, X_scaled_poly, y, cv = 10)\n",
    "sns.scatterplot(y, y_pred, (y-y_pred), hue_norm=(-10,10), palette=\"coolwarm\")"
   ]
  },
  {
   "cell_type": "code",
   "execution_count": 97,
   "id": "39a4b479",
   "metadata": {},
   "outputs": [
    {
     "data": {
      "text/plain": [
       "(378, 48)"
      ]
     },
     "execution_count": 97,
     "metadata": {},
     "output_type": "execute_result"
    }
   ],
   "source": [
    "X_scaled.shape"
   ]
  },
  {
   "cell_type": "code",
   "execution_count": 98,
   "id": "adfafdf7",
   "metadata": {},
   "outputs": [
    {
     "name": "stdout",
     "output_type": "stream",
     "text": [
      "Cross-validation scores: [1.79224881 1.72852343 1.95806137 1.49114236 1.68595278 1.6013199\n",
      " 2.09621822 2.31664995 2.60521237 1.47538137]\n",
      "Average cross-validation score: 1.875071056252965\n"
     ]
    },
    {
     "data": {
      "text/plain": [
       "<AxesSubplot:xlabel='EC Duration'>"
      ]
     },
     "execution_count": 98,
     "metadata": {},
     "output_type": "execute_result"
    },
    {
     "data": {
      "image/png": "[encoded data removed]",
      "text/plain": [
       "<Figure size 600x400 with 1 Axes>"
      ]
     },
     "metadata": {},
     "output_type": "display_data"
    }
   ],
   "source": [
    "from sklearn.ensemble import RandomForestRegressor\n",
    "regr_trans = TransformedTargetRegressor(\n",
    "    #regressor=TweedieRegressor(link='log', power=2),\n",
    "    regressor=RandomForestRegressor(min_samples_leaf=10),\n",
    "    #transformer=pass_transformer\n",
    "    #transformer=MinMaxScaler()\n",
    "    transformer=PowerTransformer()\n",
    "    #transformer=QuantileTransformer(output_distribution=\"uniform\")\n",
    ")\n",
    "\n",
    "#Cross Validated training and scoring\n",
    "scores = cross_val_score(regr_trans, X_scaled, y, cv = 10, scoring = make_scorer(mean_absolute_error))\n",
    "print('Cross-validation scores: {}'.format(scores))\n",
    "print('Average cross-validation score: {}'.format(scores.mean()))\n",
    "y_pred = cross_val_predict(regr_trans, X_scaled, y, cv = 10)\n",
    "sns.scatterplot(y, y_pred, (y-y_pred), hue_norm=(-10,10), palette=\"coolwarm\")"
   ]
  },
  {
   "cell_type": "code",
   "execution_count": 99,
   "id": "82a16b52",
   "metadata": {},
   "outputs": [
    {
     "data": {
      "text/plain": [
       "<AxesSubplot:xlabel='EC Duration', ylabel='Density'>"
      ]
     },
     "execution_count": 99,
     "metadata": {},
     "output_type": "execute_result"
    },
    {
     "data": {
      "image/png": "[encoded data removed]",
      "text/plain": [
       "<Figure size 600x400 with 1 Axes>"
      ]
     },
     "metadata": {},
     "output_type": "display_data"
    }
   ],
   "source": [
    "sns.distplot(y-y_pred)"
   ]
  },
  {
   "cell_type": "code",
   "execution_count": 102,
   "id": "847fb98b",
   "metadata": {},
   "outputs": [
    {
     "data": {
      "text/plain": [
       "array([0.00242618, 0.00469673, 0.0149709 , 0.49669297, 0.12578307,\n",
       "       0.08277168, 0.04530041, 0.00442226, 0.00504195, 0.        ,\n",
       "       0.        , 0.        , 0.0102239 , 0.00345526, 0.        ,\n",
       "       0.        , 0.        , 0.        , 0.        , 0.        ,\n",
       "       0.        , 0.        , 0.        , 0.00057324, 0.        ,\n",
       "       0.00293552, 0.00104044, 0.04024364, 0.        , 0.01691742,\n",
       "       0.02637699, 0.        , 0.05204542, 0.0041359 , 0.00604102,\n",
       "       0.        , 0.00260358, 0.00395734, 0.        , 0.02271316,\n",
       "       0.01148043, 0.        , 0.        , 0.00844921, 0.        ,\n",
       "       0.00419341, 0.        , 0.00050798])"
      ]
     },
     "execution_count": 102,
     "metadata": {},
     "output_type": "execute_result"
    }
   ],
   "source": [
    "regressor=RandomForestRegressor(min_samples_leaf=10)\n",
    "regressor.fit(X, y)\n",
    "regressor.feature_importances_"
   ]
  },
  {
   "cell_type": "code",
   "execution_count": 103,
   "id": "52d8aaa3",
   "metadata": {},
   "outputs": [
    {
     "data": {
      "text/plain": [
       "<AxesSubplot:>"
      ]
     },
     "execution_count": 103,
     "metadata": {},
     "output_type": "execute_result"
    },
    {
     "data": {
      "image/png": "[encoded data removed]",
      "text/plain": [
       "<Figure size 600x400 with 1 Axes>"
      ]
     },
     "metadata": {},
     "output_type": "display_data"
    }
   ],
   "source": [
    "feature_imp = pd.Series(regressor.feature_importances_, index = X.columns)\n",
    "feature_imp.nlargest(20).plot(kind = 'barh')"
   ]
  },
  {
   "cell_type": "code",
   "execution_count": 101,
   "id": "17838b6a",
   "metadata": {},
   "outputs": [
    {
     "data": {
      "text/plain": [
       "<AxesSubplot:xlabel='EC Duration'>"
      ]
     },
     "execution_count": 101,
     "metadata": {},
     "output_type": "execute_result"
    },
    {
     "data": {
      "image/png": "[encoded data removed]",
      "text/plain": [
       "<Figure size 600x400 with 1 Axes>"
      ]
     },
     "metadata": {},
     "output_type": "display_data"
    }
   ],
   "source": [
    "sns.scatterplot(y, y_pred, (y-y_pred), hue_norm=(0,2), palette=\"coolwarm\")"
   ]
  },
  {
   "cell_type": "code",
   "execution_count": null,
   "id": "84ce6bcb",
   "metadata": {},
   "outputs": [],
   "source": []
  },
  {
   "cell_type": "code",
   "execution_count": null,
   "id": "a5afdf80",
   "metadata": {},
   "outputs": [],
   "source": []
  },
  {
   "cell_type": "code",
   "execution_count": null,
   "id": "37cbeaa1",
   "metadata": {},
   "outputs": [],
   "source": []
  },
  {
   "cell_type": "code",
   "execution_count": null,
   "id": "b96d6b2c",
   "metadata": {},
   "outputs": [],
   "source": []
  },
  {
   "cell_type": "code",
   "execution_count": null,
   "id": "9d8849e7",
   "metadata": {},
   "outputs": [],
   "source": []
  },
  {
   "cell_type": "code",
   "execution_count": null,
   "id": "e6ee6c07",
   "metadata": {},
   "outputs": [],
   "source": []
  },
  {
   "cell_type": "code",
   "execution_count": null,
   "id": "7d1c0058",
   "metadata": {},
   "outputs": [],
   "source": []
  },
  {
   "cell_type": "code",
   "execution_count": null,
   "id": "0dd32be5",
   "metadata": {},
   "outputs": [],
   "source": []
  },
  {
   "cell_type": "code",
   "execution_count": null,
   "id": "064986d6",
   "metadata": {},
   "outputs": [],
   "source": []
  },
  {
   "cell_type": "code",
   "execution_count": null,
   "id": "32b284b6",
   "metadata": {},
   "outputs": [],
   "source": []
  },
  {
   "cell_type": "code",
   "execution_count": null,
   "id": "132681eb",
   "metadata": {},
   "outputs": [],
   "source": []
  },
  {
   "cell_type": "code",
   "execution_count": null,
   "id": "b2af66a0",
   "metadata": {},
   "outputs": [],
   "source": []
  }
 ],
 "metadata": {
  "kernelspec": {
   "display_name": "Python 3 (ipykernel)",
   "language": "python",
   "name": "python3"
  },
  "language_info": {
   "codemirror_mode": {
    "name": "ipython",
    "version": 3
   },
   "file_extension": ".py",
   "mimetype": "text/x-python",
   "name": "python",
   "nbconvert_exporter": "python",
   "pygments_lexer": "ipython3",
   "version": "3.9.7"
  }
 },
 "nbformat": 4,
 "nbformat_minor": 5
}
