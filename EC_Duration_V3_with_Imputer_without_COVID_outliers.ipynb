{
 "cells": [
  {
   "cell_type": "markdown",
   "id": "3bae6282",
   "metadata": {},
   "source": [
    "# NatDev - EC Modeling"
   ]
  },
  {
   "cell_type": "markdown",
   "id": "bda6e28d",
   "metadata": {},
   "source": [
    "#### Importing Libraries"
   ]
  },
  {
   "cell_type": "markdown",
   "id": "4e83b8b1",
   "metadata": {},
   "source": [
    "#### Important Changes\n",
    "1. added PROPTYPE column to data\n",
    "2. created feature 'tax_per_acre' to calculate tax amount per acre\n",
    "3. removed 'Category_v_Anchor' column\n",
    "4. removed 'land_use_name' feature\n",
    "5. converted 'yr_blt' column to 'age' column"
   ]
  },
  {
   "cell_type": "code",
   "execution_count": 163,
   "id": "e8f2c22c",
   "metadata": {},
   "outputs": [],
   "source": [
    "#importing libraries\n",
    "import pandas as pd\n",
    "import numpy as np\n",
    "import seaborn as sns\n",
    "import sklearn\n",
    "from sklearn.linear_model import TweedieRegressor\n",
    "from sklearn.preprocessing import StandardScaler\n",
    "from sklearn.model_selection import cross_validate\n",
    "from sklearn.preprocessing import MinMaxScaler\n",
    "import matplotlib.pyplot as plt\n",
    "import pickle\n",
    "import warnings\n",
    "warnings.filterwarnings(\"ignore\")\n",
    "from sklearn.ensemble import RandomForestRegressor\n",
    "from sklearn.compose import TransformedTargetRegressor\n",
    "from sklearn.preprocessing import QuantileTransformer\n",
    "from sklearn.metrics import mean_absolute_error\n",
    "from sklearn.model_selection import cross_val_score\n",
    "from sklearn.metrics import make_scorer\n",
    "from sklearn.preprocessing import PolynomialFeatures\n",
    "from sklearn.linear_model import RidgeCV\n",
    "from sklearn.model_selection import cross_val_predict"
   ]
  },
  {
   "cell_type": "markdown",
   "id": "c8fb0b30-9c67-4e44-ac71-7a619c8c124e",
   "metadata": {},
   "source": [
    "## Load Data"
   ]
  },
  {
   "cell_type": "code",
   "execution_count": 164,
   "id": "63e1aa97",
   "metadata": {},
   "outputs": [],
   "source": [
    "# Load data\n",
    "data_file_path = 'C:/Users/pranshuk/OneDrive - Logic20 20 Inc/Desktop/EC Prediction Data/New EC Data/data_w_geo_predictors_proj_level_kc.xlsx'\n",
    "data = pd.read_excel(data_file_path)"
   ]
  },
  {
   "cell_type": "code",
   "execution_count": 165,
   "id": "22a99600",
   "metadata": {},
   "outputs": [],
   "source": [
    "data_file_path_2 = 'C:/Users/pranshuk/OneDrive - Logic20 20 Inc/Desktop/EC_Data_May_5/data_w_geo_predictors_proj_level.xlsx'\n",
    "data2 = pd.read_excel(data_file_path)"
   ]
  },
  {
   "cell_type": "code",
   "execution_count": 166,
   "id": "faa2160c",
   "metadata": {},
   "outputs": [
    {
     "data": {
      "text/html": [
       "<div>\n",
       "<style scoped>\n",
       "    .dataframe tbody tr th:only-of-type {\n",
       "        vertical-align: middle;\n",
       "    }\n",
       "\n",
       "    .dataframe tbody tr th {\n",
       "        vertical-align: top;\n",
       "    }\n",
       "\n",
       "    .dataframe thead th {\n",
       "        text-align: right;\n",
       "    }\n",
       "</style>\n",
       "<table border=\"1\" class=\"dataframe\">\n",
       "  <thead>\n",
       "    <tr style=\"text-align: right;\">\n",
       "      <th></th>\n",
       "      <th>proj_cd</th>\n",
       "      <th>por_id</th>\n",
       "      <th>site_region_name</th>\n",
       "      <th>site_mkt_name</th>\n",
       "      <th>site_cty_name</th>\n",
       "      <th>site_county_name</th>\n",
       "      <th>site_addr_desc</th>\n",
       "      <th>site_type_desc</th>\n",
       "      <th>site_class_desc</th>\n",
       "      <th>Siterra_And_elemenT_Structure_Owner</th>\n",
       "      <th>...</th>\n",
       "      <th>awater</th>\n",
       "      <th>intptlat</th>\n",
       "      <th>intptlon</th>\n",
       "      <th>Universe_geometry_k</th>\n",
       "      <th>SITETYPE</th>\n",
       "      <th>LEVY_JURIS</th>\n",
       "      <th>PROPTYPE</th>\n",
       "      <th>KCA_ZONING</th>\n",
       "      <th>PREUSE_COD</th>\n",
       "      <th>PREUSE_DES</th>\n",
       "    </tr>\n",
       "  </thead>\n",
       "  <tbody>\n",
       "    <tr>\n",
       "      <th>0</th>\n",
       "      <td>SE04035A - Site Modification (4902665)</td>\n",
       "      <td>POR0348914,POR0256248</td>\n",
       "      <td>WEST</td>\n",
       "      <td>SEATTLE WA</td>\n",
       "      <td>Renton</td>\n",
       "      <td>King</td>\n",
       "      <td>3401 Lind Avenue SW</td>\n",
       "      <td>Structure Non Building</td>\n",
       "      <td>Monopole</td>\n",
       "      <td>Crown Castle T3</td>\n",
       "      <td>...</td>\n",
       "      <td>4544405.0</td>\n",
       "      <td>47.479191</td>\n",
       "      <td>-122.194613</td>\n",
       "      <td>73e4ab58f0aed3fd</td>\n",
       "      <td>C9</td>\n",
       "      <td>RENTON</td>\n",
       "      <td>C</td>\n",
       "      <td>IL</td>\n",
       "      <td>195.0</td>\n",
       "      <td>Warehouse</td>\n",
       "    </tr>\n",
       "    <tr>\n",
       "      <th>1</th>\n",
       "      <td>SE01130C - Site Modification (4902594)</td>\n",
       "      <td>POR0256260</td>\n",
       "      <td>WEST</td>\n",
       "      <td>SEATTLE WA</td>\n",
       "      <td>Seattle</td>\n",
       "      <td>King</td>\n",
       "      <td>9725 3rd Avenue NE</td>\n",
       "      <td>Building</td>\n",
       "      <td>Roof Top Mount</td>\n",
       "      <td>US Wireless, Inc.</td>\n",
       "      <td>...</td>\n",
       "      <td>150761136.0</td>\n",
       "      <td>47.619349</td>\n",
       "      <td>-122.351471</td>\n",
       "      <td>5b1ccf47ec6f6313</td>\n",
       "      <td>C1</td>\n",
       "      <td>SEATTLE</td>\n",
       "      <td>C</td>\n",
       "      <td>SM-NG 145</td>\n",
       "      <td>106.0</td>\n",
       "      <td>Office Building</td>\n",
       "    </tr>\n",
       "    <tr>\n",
       "      <th>2</th>\n",
       "      <td>SE02108E - Site Modification (4946325)</td>\n",
       "      <td>POR0307721,POR0254995,POR0327285</td>\n",
       "      <td>WEST</td>\n",
       "      <td>SEATTLE WA</td>\n",
       "      <td>Seattle</td>\n",
       "      <td>King</td>\n",
       "      <td>3206 SW Admiral Way</td>\n",
       "      <td>Structure Non Building</td>\n",
       "      <td>Wood Pole</td>\n",
       "      <td>City of Seattle</td>\n",
       "      <td>...</td>\n",
       "      <td>150761136.0</td>\n",
       "      <td>47.619349</td>\n",
       "      <td>-122.351471</td>\n",
       "      <td>5b1ccf47ec6f6313</td>\n",
       "      <td>NaN</td>\n",
       "      <td>NaN</td>\n",
       "      <td>NaN</td>\n",
       "      <td>NaN</td>\n",
       "      <td>NaN</td>\n",
       "      <td>NaN</td>\n",
       "    </tr>\n",
       "    <tr>\n",
       "      <th>3</th>\n",
       "      <td>SE03559F - Site Modification (4902649)</td>\n",
       "      <td>POR0260721,POR0308045</td>\n",
       "      <td>WEST</td>\n",
       "      <td>SEATTLE WA</td>\n",
       "      <td>Tukwila</td>\n",
       "      <td>King</td>\n",
       "      <td>4030 S. 140th St</td>\n",
       "      <td>Structure Non Building</td>\n",
       "      <td>Wood Pole</td>\n",
       "      <td>City of Seattle</td>\n",
       "      <td>...</td>\n",
       "      <td>1069363.0</td>\n",
       "      <td>47.476289</td>\n",
       "      <td>-122.275740</td>\n",
       "      <td>9b2abbc615945874</td>\n",
       "      <td>R2</td>\n",
       "      <td>TUKWILA</td>\n",
       "      <td>C</td>\n",
       "      <td>HDR</td>\n",
       "      <td>11.0</td>\n",
       "      <td>Apartment</td>\n",
       "    </tr>\n",
       "    <tr>\n",
       "      <th>4</th>\n",
       "      <td>SE02339D - Site Modification (4902627)</td>\n",
       "      <td>POR0256254</td>\n",
       "      <td>WEST</td>\n",
       "      <td>SEATTLE WA</td>\n",
       "      <td>Redmond</td>\n",
       "      <td>King</td>\n",
       "      <td>18609 NE 65th Street</td>\n",
       "      <td>Structure Non Building</td>\n",
       "      <td>Watertank</td>\n",
       "      <td>City of Redmond</td>\n",
       "      <td>...</td>\n",
       "      <td>1732419.0</td>\n",
       "      <td>47.677925</td>\n",
       "      <td>-122.115336</td>\n",
       "      <td>43129f32c57993d3</td>\n",
       "      <td>U1</td>\n",
       "      <td>REDMOND</td>\n",
       "      <td>C</td>\n",
       "      <td>MP</td>\n",
       "      <td>266.0</td>\n",
       "      <td>Utility, Public</td>\n",
       "    </tr>\n",
       "  </tbody>\n",
       "</table>\n",
       "<p>5 rows × 133 columns</p>\n",
       "</div>"
      ],
      "text/plain": [
       "                                  proj_cd                            por_id  \\\n",
       "0  SE04035A - Site Modification (4902665)             POR0348914,POR0256248   \n",
       "1  SE01130C - Site Modification (4902594)                        POR0256260   \n",
       "2  SE02108E - Site Modification (4946325)  POR0307721,POR0254995,POR0327285   \n",
       "3  SE03559F - Site Modification (4902649)             POR0260721,POR0308045   \n",
       "4  SE02339D - Site Modification (4902627)                        POR0256254   \n",
       "\n",
       "  site_region_name site_mkt_name site_cty_name site_county_name  \\\n",
       "0             WEST    SEATTLE WA        Renton             King   \n",
       "1             WEST    SEATTLE WA       Seattle             King   \n",
       "2             WEST    SEATTLE WA       Seattle             King   \n",
       "3             WEST    SEATTLE WA       Tukwila             King   \n",
       "4             WEST    SEATTLE WA       Redmond             King   \n",
       "\n",
       "         site_addr_desc          site_type_desc site_class_desc  \\\n",
       "0   3401 Lind Avenue SW  Structure Non Building        Monopole   \n",
       "1    9725 3rd Avenue NE                Building  Roof Top Mount   \n",
       "2   3206 SW Admiral Way  Structure Non Building       Wood Pole   \n",
       "3      4030 S. 140th St  Structure Non Building       Wood Pole   \n",
       "4  18609 NE 65th Street  Structure Non Building       Watertank   \n",
       "\n",
       "  Siterra_And_elemenT_Structure_Owner  ...       awater   intptlat  \\\n",
       "0                     Crown Castle T3  ...    4544405.0  47.479191   \n",
       "1                   US Wireless, Inc.  ...  150761136.0  47.619349   \n",
       "2                     City of Seattle  ...  150761136.0  47.619349   \n",
       "3                     City of Seattle  ...    1069363.0  47.476289   \n",
       "4                     City of Redmond  ...    1732419.0  47.677925   \n",
       "\n",
       "     intptlon Universe_geometry_k  SITETYPE  LEVY_JURIS PROPTYPE  KCA_ZONING  \\\n",
       "0 -122.194613    73e4ab58f0aed3fd        C9      RENTON        C          IL   \n",
       "1 -122.351471    5b1ccf47ec6f6313        C1     SEATTLE        C   SM-NG 145   \n",
       "2 -122.351471    5b1ccf47ec6f6313       NaN         NaN      NaN         NaN   \n",
       "3 -122.275740    9b2abbc615945874        R2     TUKWILA        C         HDR   \n",
       "4 -122.115336    43129f32c57993d3        U1     REDMOND        C          MP   \n",
       "\n",
       "   PREUSE_COD       PREUSE_DES  \n",
       "0       195.0        Warehouse  \n",
       "1       106.0  Office Building  \n",
       "2         NaN              NaN  \n",
       "3        11.0        Apartment  \n",
       "4       266.0  Utility, Public  \n",
       "\n",
       "[5 rows x 133 columns]"
      ]
     },
     "execution_count": 166,
     "metadata": {},
     "output_type": "execute_result"
    }
   ],
   "source": [
    "#display rows\n",
    "data.head()"
   ]
  },
  {
   "cell_type": "code",
   "execution_count": 167,
   "id": "c1080da5",
   "metadata": {},
   "outputs": [
    {
     "data": {
      "text/html": [
       "<div>\n",
       "<style scoped>\n",
       "    .dataframe tbody tr th:only-of-type {\n",
       "        vertical-align: middle;\n",
       "    }\n",
       "\n",
       "    .dataframe tbody tr th {\n",
       "        vertical-align: top;\n",
       "    }\n",
       "\n",
       "    .dataframe thead th {\n",
       "        text-align: right;\n",
       "    }\n",
       "</style>\n",
       "<table border=\"1\" class=\"dataframe\">\n",
       "  <thead>\n",
       "    <tr style=\"text-align: right;\">\n",
       "      <th></th>\n",
       "      <th>proj_cd</th>\n",
       "      <th>por_id</th>\n",
       "      <th>site_region_name</th>\n",
       "      <th>site_mkt_name</th>\n",
       "      <th>site_cty_name</th>\n",
       "      <th>site_county_name</th>\n",
       "      <th>site_addr_desc</th>\n",
       "      <th>site_type_desc</th>\n",
       "      <th>site_class_desc</th>\n",
       "      <th>Siterra_And_elemenT_Structure_Owner</th>\n",
       "      <th>...</th>\n",
       "      <th>awater</th>\n",
       "      <th>intptlat</th>\n",
       "      <th>intptlon</th>\n",
       "      <th>Universe_geometry_k</th>\n",
       "      <th>SITETYPE</th>\n",
       "      <th>LEVY_JURIS</th>\n",
       "      <th>PROPTYPE</th>\n",
       "      <th>KCA_ZONING</th>\n",
       "      <th>PREUSE_COD</th>\n",
       "      <th>PREUSE_DES</th>\n",
       "    </tr>\n",
       "  </thead>\n",
       "  <tbody>\n",
       "    <tr>\n",
       "      <th>0</th>\n",
       "      <td>SE04035A - Site Modification (4902665)</td>\n",
       "      <td>POR0348914,POR0256248</td>\n",
       "      <td>WEST</td>\n",
       "      <td>SEATTLE WA</td>\n",
       "      <td>Renton</td>\n",
       "      <td>King</td>\n",
       "      <td>3401 Lind Avenue SW</td>\n",
       "      <td>Structure Non Building</td>\n",
       "      <td>Monopole</td>\n",
       "      <td>Crown Castle T3</td>\n",
       "      <td>...</td>\n",
       "      <td>4544405.0</td>\n",
       "      <td>47.479191</td>\n",
       "      <td>-122.194613</td>\n",
       "      <td>73e4ab58f0aed3fd</td>\n",
       "      <td>C9</td>\n",
       "      <td>RENTON</td>\n",
       "      <td>C</td>\n",
       "      <td>IL</td>\n",
       "      <td>195.0</td>\n",
       "      <td>Warehouse</td>\n",
       "    </tr>\n",
       "    <tr>\n",
       "      <th>1</th>\n",
       "      <td>SE01130C - Site Modification (4902594)</td>\n",
       "      <td>POR0256260</td>\n",
       "      <td>WEST</td>\n",
       "      <td>SEATTLE WA</td>\n",
       "      <td>Seattle</td>\n",
       "      <td>King</td>\n",
       "      <td>9725 3rd Avenue NE</td>\n",
       "      <td>Building</td>\n",
       "      <td>Roof Top Mount</td>\n",
       "      <td>US Wireless, Inc.</td>\n",
       "      <td>...</td>\n",
       "      <td>150761136.0</td>\n",
       "      <td>47.619349</td>\n",
       "      <td>-122.351471</td>\n",
       "      <td>5b1ccf47ec6f6313</td>\n",
       "      <td>C1</td>\n",
       "      <td>SEATTLE</td>\n",
       "      <td>C</td>\n",
       "      <td>SM-NG 145</td>\n",
       "      <td>106.0</td>\n",
       "      <td>Office Building</td>\n",
       "    </tr>\n",
       "    <tr>\n",
       "      <th>2</th>\n",
       "      <td>SE02108E - Site Modification (4946325)</td>\n",
       "      <td>POR0307721,POR0254995,POR0327285</td>\n",
       "      <td>WEST</td>\n",
       "      <td>SEATTLE WA</td>\n",
       "      <td>Seattle</td>\n",
       "      <td>King</td>\n",
       "      <td>3206 SW Admiral Way</td>\n",
       "      <td>Structure Non Building</td>\n",
       "      <td>Wood Pole</td>\n",
       "      <td>City of Seattle</td>\n",
       "      <td>...</td>\n",
       "      <td>150761136.0</td>\n",
       "      <td>47.619349</td>\n",
       "      <td>-122.351471</td>\n",
       "      <td>5b1ccf47ec6f6313</td>\n",
       "      <td>NaN</td>\n",
       "      <td>NaN</td>\n",
       "      <td>NaN</td>\n",
       "      <td>NaN</td>\n",
       "      <td>NaN</td>\n",
       "      <td>NaN</td>\n",
       "    </tr>\n",
       "    <tr>\n",
       "      <th>3</th>\n",
       "      <td>SE03559F - Site Modification (4902649)</td>\n",
       "      <td>POR0260721,POR0308045</td>\n",
       "      <td>WEST</td>\n",
       "      <td>SEATTLE WA</td>\n",
       "      <td>Tukwila</td>\n",
       "      <td>King</td>\n",
       "      <td>4030 S. 140th St</td>\n",
       "      <td>Structure Non Building</td>\n",
       "      <td>Wood Pole</td>\n",
       "      <td>City of Seattle</td>\n",
       "      <td>...</td>\n",
       "      <td>1069363.0</td>\n",
       "      <td>47.476289</td>\n",
       "      <td>-122.275740</td>\n",
       "      <td>9b2abbc615945874</td>\n",
       "      <td>R2</td>\n",
       "      <td>TUKWILA</td>\n",
       "      <td>C</td>\n",
       "      <td>HDR</td>\n",
       "      <td>11.0</td>\n",
       "      <td>Apartment</td>\n",
       "    </tr>\n",
       "    <tr>\n",
       "      <th>4</th>\n",
       "      <td>SE02339D - Site Modification (4902627)</td>\n",
       "      <td>POR0256254</td>\n",
       "      <td>WEST</td>\n",
       "      <td>SEATTLE WA</td>\n",
       "      <td>Redmond</td>\n",
       "      <td>King</td>\n",
       "      <td>18609 NE 65th Street</td>\n",
       "      <td>Structure Non Building</td>\n",
       "      <td>Watertank</td>\n",
       "      <td>City of Redmond</td>\n",
       "      <td>...</td>\n",
       "      <td>1732419.0</td>\n",
       "      <td>47.677925</td>\n",
       "      <td>-122.115336</td>\n",
       "      <td>43129f32c57993d3</td>\n",
       "      <td>U1</td>\n",
       "      <td>REDMOND</td>\n",
       "      <td>C</td>\n",
       "      <td>MP</td>\n",
       "      <td>266.0</td>\n",
       "      <td>Utility, Public</td>\n",
       "    </tr>\n",
       "  </tbody>\n",
       "</table>\n",
       "<p>5 rows × 133 columns</p>\n",
       "</div>"
      ],
      "text/plain": [
       "                                  proj_cd                            por_id  \\\n",
       "0  SE04035A - Site Modification (4902665)             POR0348914,POR0256248   \n",
       "1  SE01130C - Site Modification (4902594)                        POR0256260   \n",
       "2  SE02108E - Site Modification (4946325)  POR0307721,POR0254995,POR0327285   \n",
       "3  SE03559F - Site Modification (4902649)             POR0260721,POR0308045   \n",
       "4  SE02339D - Site Modification (4902627)                        POR0256254   \n",
       "\n",
       "  site_region_name site_mkt_name site_cty_name site_county_name  \\\n",
       "0             WEST    SEATTLE WA        Renton             King   \n",
       "1             WEST    SEATTLE WA       Seattle             King   \n",
       "2             WEST    SEATTLE WA       Seattle             King   \n",
       "3             WEST    SEATTLE WA       Tukwila             King   \n",
       "4             WEST    SEATTLE WA       Redmond             King   \n",
       "\n",
       "         site_addr_desc          site_type_desc site_class_desc  \\\n",
       "0   3401 Lind Avenue SW  Structure Non Building        Monopole   \n",
       "1    9725 3rd Avenue NE                Building  Roof Top Mount   \n",
       "2   3206 SW Admiral Way  Structure Non Building       Wood Pole   \n",
       "3      4030 S. 140th St  Structure Non Building       Wood Pole   \n",
       "4  18609 NE 65th Street  Structure Non Building       Watertank   \n",
       "\n",
       "  Siterra_And_elemenT_Structure_Owner  ...       awater   intptlat  \\\n",
       "0                     Crown Castle T3  ...    4544405.0  47.479191   \n",
       "1                   US Wireless, Inc.  ...  150761136.0  47.619349   \n",
       "2                     City of Seattle  ...  150761136.0  47.619349   \n",
       "3                     City of Seattle  ...    1069363.0  47.476289   \n",
       "4                     City of Redmond  ...    1732419.0  47.677925   \n",
       "\n",
       "     intptlon Universe_geometry_k  SITETYPE  LEVY_JURIS PROPTYPE  KCA_ZONING  \\\n",
       "0 -122.194613    73e4ab58f0aed3fd        C9      RENTON        C          IL   \n",
       "1 -122.351471    5b1ccf47ec6f6313        C1     SEATTLE        C   SM-NG 145   \n",
       "2 -122.351471    5b1ccf47ec6f6313       NaN         NaN      NaN         NaN   \n",
       "3 -122.275740    9b2abbc615945874        R2     TUKWILA        C         HDR   \n",
       "4 -122.115336    43129f32c57993d3        U1     REDMOND        C          MP   \n",
       "\n",
       "   PREUSE_COD       PREUSE_DES  \n",
       "0       195.0        Warehouse  \n",
       "1       106.0  Office Building  \n",
       "2         NaN              NaN  \n",
       "3        11.0        Apartment  \n",
       "4       266.0  Utility, Public  \n",
       "\n",
       "[5 rows x 133 columns]"
      ]
     },
     "execution_count": 167,
     "metadata": {},
     "output_type": "execute_result"
    }
   ],
   "source": [
    "data2.head()"
   ]
  },
  {
   "cell_type": "code",
   "execution_count": 168,
   "id": "0cdc90bb",
   "metadata": {},
   "outputs": [
    {
     "data": {
      "text/plain": [
       "0      False\n",
       "1      False\n",
       "2      False\n",
       "3      False\n",
       "4      False\n",
       "       ...  \n",
       "444    False\n",
       "445    False\n",
       "446    False\n",
       "447    False\n",
       "448    False\n",
       "Name: std_city, Length: 449, dtype: bool"
      ]
     },
     "execution_count": 168,
     "metadata": {},
     "output_type": "execute_result"
    }
   ],
   "source": [
    "data2['std_city'].isna()"
   ]
  },
  {
   "cell_type": "code",
   "execution_count": 169,
   "id": "2db569de",
   "metadata": {},
   "outputs": [
    {
     "data": {
      "text/plain": [
       "114"
      ]
     },
     "execution_count": 169,
     "metadata": {},
     "output_type": "execute_result"
    }
   ],
   "source": [
    "data2.columns.get_loc('name')"
   ]
  },
  {
   "cell_type": "code",
   "execution_count": 170,
   "id": "b8756205",
   "metadata": {},
   "outputs": [],
   "source": [
    "# data = data[data['EC Duration'] < 10]"
   ]
  },
  {
   "cell_type": "code",
   "execution_count": 171,
   "id": "530a9831",
   "metadata": {},
   "outputs": [],
   "source": [
    "data['Siterra_And_elemenT_Structure_Owner'] = data2['Siterra_And_elemenT_Structure_Owner']"
   ]
  },
  {
   "cell_type": "code",
   "execution_count": 172,
   "id": "2eeff4e0",
   "metadata": {},
   "outputs": [],
   "source": [
    "data['por_plan_type_desc'] = data2['por_plan_type_desc']"
   ]
  },
  {
   "cell_type": "code",
   "execution_count": 173,
   "id": "9e8635cf",
   "metadata": {},
   "outputs": [
    {
     "data": {
      "text/plain": [
       "Index(['proj_cd', 'por_id', 'site_region_name', 'site_mkt_name',\n",
       "       'site_cty_name', 'site_county_name', 'site_addr_desc', 'site_type_desc',\n",
       "       'site_class_desc', 'Siterra_And_elemenT_Structure_Owner',\n",
       "       ...\n",
       "       'awater', 'intptlat', 'intptlon', 'Universe_geometry_k', 'SITETYPE',\n",
       "       'LEVY_JURIS', 'PROPTYPE', 'KCA_ZONING', 'PREUSE_COD', 'PREUSE_DES'],\n",
       "      dtype='object', length=133)"
      ]
     },
     "execution_count": 173,
     "metadata": {},
     "output_type": "execute_result"
    }
   ],
   "source": [
    "data.columns"
   ]
  },
  {
   "cell_type": "code",
   "execution_count": 174,
   "id": "6a2ab6c2",
   "metadata": {},
   "outputs": [
    {
     "data": {
      "text/plain": [
       "Index(['proj_cd', 'por_id', 'site_region_name', 'site_mkt_name',\n",
       "       'site_cty_name', 'site_county_name', 'site_addr_desc', 'site_type_desc',\n",
       "       'site_class_desc', 'Siterra_And_elemenT_Structure_Owner',\n",
       "       ...\n",
       "       'awater', 'intptlat', 'intptlon', 'Universe_geometry_k', 'SITETYPE',\n",
       "       'LEVY_JURIS', 'PROPTYPE', 'KCA_ZONING', 'PREUSE_COD', 'PREUSE_DES'],\n",
       "      dtype='object', length=133)"
      ]
     },
     "execution_count": 174,
     "metadata": {},
     "output_type": "execute_result"
    }
   ],
   "source": [
    "data2.columns"
   ]
  },
  {
   "cell_type": "code",
   "execution_count": 175,
   "id": "4e15ba0e",
   "metadata": {},
   "outputs": [],
   "source": [
    "# data['special_infrastructure'] = data2['special_infrastructure']"
   ]
  },
  {
   "cell_type": "code",
   "execution_count": 176,
   "id": "8c37c3e9",
   "metadata": {},
   "outputs": [],
   "source": [
    "# data2['special_infrastructure']"
   ]
  },
  {
   "cell_type": "code",
   "execution_count": 177,
   "id": "42d8e948",
   "metadata": {},
   "outputs": [
    {
     "data": {
      "text/plain": [
       "(449, 133)"
      ]
     },
     "execution_count": 177,
     "metadata": {},
     "output_type": "execute_result"
    }
   ],
   "source": [
    "#data dimensions\n",
    "data.shape"
   ]
  },
  {
   "cell_type": "code",
   "execution_count": 178,
   "id": "d9092f79",
   "metadata": {},
   "outputs": [
    {
     "data": {
      "text/plain": [
       "(449, 133)"
      ]
     },
     "execution_count": 178,
     "metadata": {},
     "output_type": "execute_result"
    }
   ],
   "source": [
    "data2.shape"
   ]
  },
  {
   "cell_type": "markdown",
   "id": "37be5b16",
   "metadata": {},
   "source": [
    "## Missing Data Analysis"
   ]
  },
  {
   "cell_type": "code",
   "execution_count": 179,
   "id": "7637ca54",
   "metadata": {},
   "outputs": [],
   "source": [
    "#store column names\n",
    "data_cols = data.columns"
   ]
  },
  {
   "cell_type": "code",
   "execution_count": 180,
   "id": "06703751",
   "metadata": {},
   "outputs": [],
   "source": [
    "#storing columns with null values separately\n",
    "isnull_cols = {}\n",
    "for feature in data_cols:\n",
    "    if data[feature].isnull().sum() > 0:\n",
    "        isnull_cols[feature] = data[feature].isnull().sum()"
   ]
  },
  {
   "cell_type": "code",
   "execution_count": 181,
   "id": "f6952a0f",
   "metadata": {
    "scrolled": true
   },
   "outputs": [
    {
     "data": {
      "text/plain": [
       "{'min_por_plan_status_dt': 40,\n",
       " 'max_por_plan_status_dt': 40,\n",
       " 'Min_HC_Release_POR': 25,\n",
       " 'id': 60,\n",
       " 'frm_apn': 60,\n",
       " 'orig_apn': 60,\n",
       " 'land_use': 60,\n",
       " 'land_use_name': 65,\n",
       " 'prop_ind': 60,\n",
       " 'property_indicator_name': 60,\n",
       " 'zoning': 60,\n",
       " 'tax_yr': 61,\n",
       " 'tax_amt': 61,\n",
       " 'tot_val': 122,\n",
       " 'imp_val': 160,\n",
       " 'lan_val': 123,\n",
       " 'imp_land_ratio': 161,\n",
       " 'land_value_assessment_type': 60,\n",
       " 'total_value_assessment_type': 60,\n",
       " 'mkt_imp': 160,\n",
       " 'mkt_lan': 123,\n",
       " 'mkt_val': 122,\n",
       " 'mkt_imp_land_ratio': 161,\n",
       " 'assd_imp': 160,\n",
       " 'assd_lan': 123,\n",
       " 'assd_val': 122,\n",
       " 'assd_imp_land_ratio': 161,\n",
       " 'yr_blt': 152,\n",
       " 'eff_yr_blt': 187,\n",
       " 'bld_units': 96,\n",
       " 'units_nbr': 378,\n",
       " 'land_acres': 60,\n",
       " 'land_sq_ft': 60,\n",
       " 'bld_sq_ft': 164,\n",
       " 'bldg_far': 164,\n",
       " 'ubld_sq_ft': 153,\n",
       " 'adj_sq_ft': 204,\n",
       " 'bsmt_sq_ft': 430,\n",
       " 'front_ft': 449,\n",
       " 'depth_ft': 449,\n",
       " 'gf_sq_ft': 409,\n",
       " 'pool': 434,\n",
       " 'energy_use_type': 449,\n",
       " 'water_type': 73,\n",
       " 'fuel_type': 449,\n",
       " 'sewer_type': 449,\n",
       " 'std_addr': 102,\n",
       " 'std_state': 102,\n",
       " 'std_zip': 102,\n",
       " 'census_tr': 67,\n",
       " 'cnty_code': 60,\n",
       " 'state_code': 60,\n",
       " 'geometry_key': 60,\n",
       " 'geometry_k': 60,\n",
       " 'fid': 35,\n",
       " 'statefp': 35,\n",
       " 'placefp': 35,\n",
       " 'placens': 35,\n",
       " 'geoid': 35,\n",
       " 'name': 35,\n",
       " 'namelsad': 35,\n",
       " 'lsad': 35,\n",
       " 'classfp': 35,\n",
       " 'pcicbsa': 35,\n",
       " 'pcinecta': 35,\n",
       " 'mtfcc': 35,\n",
       " 'funcstat': 35,\n",
       " 'aland': 35,\n",
       " 'awater': 35,\n",
       " 'intptlat': 35,\n",
       " 'intptlon': 35,\n",
       " 'Universe_geometry_k': 35,\n",
       " 'SITETYPE': 89,\n",
       " 'LEVY_JURIS': 86,\n",
       " 'PROPTYPE': 59,\n",
       " 'KCA_ZONING': 59,\n",
       " 'PREUSE_COD': 59,\n",
       " 'PREUSE_DES': 67}"
      ]
     },
     "execution_count": 181,
     "metadata": {},
     "output_type": "execute_result"
    }
   ],
   "source": [
    "#dictionary containing null counts \n",
    "isnull_cols"
   ]
  },
  {
   "cell_type": "code",
   "execution_count": 182,
   "id": "1e651d46",
   "metadata": {},
   "outputs": [
    {
     "data": {
      "text/plain": [
       "proj_cd              0.000000\n",
       "por_id               0.000000\n",
       "site_region_name     0.000000\n",
       "site_mkt_name        0.000000\n",
       "site_cty_name        0.000000\n",
       "                      ...    \n",
       "LEVY_JURIS          19.153675\n",
       "PROPTYPE            13.140312\n",
       "KCA_ZONING          13.140312\n",
       "PREUSE_COD          13.140312\n",
       "PREUSE_DES          14.922049\n",
       "Length: 133, dtype: float64"
      ]
     },
     "execution_count": 182,
     "metadata": {},
     "output_type": "execute_result"
    }
   ],
   "source": [
    "# calculating missing values percentage\n",
    "percent_missing = data.isnull().sum() / len(data) * 100\n",
    "percent_missing"
   ]
  },
  {
   "cell_type": "code",
   "execution_count": 183,
   "id": "2d063ba4",
   "metadata": {
    "tags": []
   },
   "outputs": [
    {
     "data": {
      "text/plain": [
       "proj_cd              object\n",
       "por_id               object\n",
       "site_region_name     object\n",
       "site_mkt_name        object\n",
       "site_cty_name        object\n",
       "                     ...   \n",
       "LEVY_JURIS           object\n",
       "PROPTYPE             object\n",
       "KCA_ZONING           object\n",
       "PREUSE_COD          float64\n",
       "PREUSE_DES           object\n",
       "Length: 133, dtype: object"
      ]
     },
     "execution_count": 183,
     "metadata": {},
     "output_type": "execute_result"
    }
   ],
   "source": [
    "#checking datatypes\n",
    "data.dtypes"
   ]
  },
  {
   "cell_type": "markdown",
   "id": "3c47a91b-12b8-4430-9b86-f47ad10a7b0a",
   "metadata": {},
   "source": [
    "## Features of interest"
   ]
  },
  {
   "cell_type": "code",
   "execution_count": 184,
   "id": "6f3c2aff",
   "metadata": {},
   "outputs": [],
   "source": [
    "#Final features for the dataset\n",
    "#added PROPTYPE feature to the dataset\n",
    "data_v1 = data[['site_type_desc','site_class_desc','MLA_Partner','MLA_Flag','isurban','EC Duration',\n",
    "            'Category_v_Anchor','Category_v_L600','Category_v_Capacity_Other','max_proj_l600_flg','max_proj_2500_flg',\n",
    "            'Min_SC_Release_POR','land_use_name','property_indicator_name','tax_amt','yr_blt','land_acres','std_city',\n",
    "                'PROPTYPE']]"
   ]
  },
  {
   "cell_type": "code",
   "execution_count": 185,
   "id": "09bddd9a",
   "metadata": {},
   "outputs": [],
   "source": [
    "#removing columns\n",
    "data_v1.drop(['Category_v_Anchor', 'land_use_name'], axis = 1, inplace = True)"
   ]
  },
  {
   "cell_type": "markdown",
   "id": "3a530d85",
   "metadata": {},
   "source": [
    "#### Feature Engineering"
   ]
  },
  {
   "cell_type": "code",
   "execution_count": 186,
   "id": "56ec849a",
   "metadata": {},
   "outputs": [],
   "source": [
    "#created tax_per_acre column\n",
    "data_v1['tax_per_acre'] = data_v1['tax_amt']/data_v1['land_acres']"
   ]
  },
  {
   "cell_type": "code",
   "execution_count": 187,
   "id": "c30dbd50",
   "metadata": {},
   "outputs": [],
   "source": [
    "#dropping 'tax_amt' to use 'tax_per_acre' column instead\n",
    "data_v1.drop('tax_amt', axis = 1, inplace = True)"
   ]
  },
  {
   "cell_type": "code",
   "execution_count": 188,
   "id": "150d8f51",
   "metadata": {},
   "outputs": [],
   "source": [
    "#adding age column using yr_blt column\n",
    "data_v1['age'] = 2022 - data_v1['yr_blt']"
   ]
  },
  {
   "cell_type": "code",
   "execution_count": 189,
   "id": "65a33fdf",
   "metadata": {},
   "outputs": [],
   "source": [
    "#dropping 'yr_blt' to use 'age' column instead\n",
    "data_v1.drop('yr_blt', axis = 1, inplace = True)"
   ]
  },
  {
   "cell_type": "code",
   "execution_count": 190,
   "id": "0efde41b",
   "metadata": {},
   "outputs": [
    {
     "data": {
      "text/html": [
       "<div>\n",
       "<style scoped>\n",
       "    .dataframe tbody tr th:only-of-type {\n",
       "        vertical-align: middle;\n",
       "    }\n",
       "\n",
       "    .dataframe tbody tr th {\n",
       "        vertical-align: top;\n",
       "    }\n",
       "\n",
       "    .dataframe thead th {\n",
       "        text-align: right;\n",
       "    }\n",
       "</style>\n",
       "<table border=\"1\" class=\"dataframe\">\n",
       "  <thead>\n",
       "    <tr style=\"text-align: right;\">\n",
       "      <th></th>\n",
       "      <th>site_type_desc</th>\n",
       "      <th>site_class_desc</th>\n",
       "      <th>MLA_Partner</th>\n",
       "      <th>MLA_Flag</th>\n",
       "      <th>isurban</th>\n",
       "      <th>EC Duration</th>\n",
       "      <th>Category_v_L600</th>\n",
       "      <th>Category_v_Capacity_Other</th>\n",
       "      <th>max_proj_l600_flg</th>\n",
       "      <th>max_proj_2500_flg</th>\n",
       "      <th>Min_SC_Release_POR</th>\n",
       "      <th>property_indicator_name</th>\n",
       "      <th>land_acres</th>\n",
       "      <th>std_city</th>\n",
       "      <th>PROPTYPE</th>\n",
       "      <th>tax_per_acre</th>\n",
       "      <th>age</th>\n",
       "    </tr>\n",
       "  </thead>\n",
       "  <tbody>\n",
       "    <tr>\n",
       "      <th>0</th>\n",
       "      <td>Structure Non Building</td>\n",
       "      <td>Monopole</td>\n",
       "      <td>Other</td>\n",
       "      <td>Y</td>\n",
       "      <td>1</td>\n",
       "      <td>5.9</td>\n",
       "      <td>0</td>\n",
       "      <td>1</td>\n",
       "      <td>0</td>\n",
       "      <td>1</td>\n",
       "      <td>2020-04-01</td>\n",
       "      <td>WAREHOUSE</td>\n",
       "      <td>5.1496</td>\n",
       "      <td>RENTON</td>\n",
       "      <td>C</td>\n",
       "      <td>40035.461007</td>\n",
       "      <td>36.0</td>\n",
       "    </tr>\n",
       "    <tr>\n",
       "      <th>1</th>\n",
       "      <td>Building</td>\n",
       "      <td>Roof Top Mount</td>\n",
       "      <td>Other</td>\n",
       "      <td>N</td>\n",
       "      <td>1</td>\n",
       "      <td>8.8</td>\n",
       "      <td>0</td>\n",
       "      <td>0</td>\n",
       "      <td>0</td>\n",
       "      <td>1</td>\n",
       "      <td>2020-04-01</td>\n",
       "      <td>OFFICE BUILDING</td>\n",
       "      <td>3.2108</td>\n",
       "      <td>SEATTLE</td>\n",
       "      <td>C</td>\n",
       "      <td>80411.754080</td>\n",
       "      <td>43.0</td>\n",
       "    </tr>\n",
       "    <tr>\n",
       "      <th>2</th>\n",
       "      <td>Structure Non Building</td>\n",
       "      <td>Wood Pole</td>\n",
       "      <td>Other</td>\n",
       "      <td>N</td>\n",
       "      <td>1</td>\n",
       "      <td>12.7</td>\n",
       "      <td>1</td>\n",
       "      <td>1</td>\n",
       "      <td>1</td>\n",
       "      <td>1</td>\n",
       "      <td>2020-05-01</td>\n",
       "      <td>NaN</td>\n",
       "      <td>NaN</td>\n",
       "      <td>SEATTLE</td>\n",
       "      <td>NaN</td>\n",
       "      <td>NaN</td>\n",
       "      <td>NaN</td>\n",
       "    </tr>\n",
       "    <tr>\n",
       "      <th>3</th>\n",
       "      <td>Structure Non Building</td>\n",
       "      <td>Wood Pole</td>\n",
       "      <td>Other</td>\n",
       "      <td>N</td>\n",
       "      <td>1</td>\n",
       "      <td>10.6</td>\n",
       "      <td>1</td>\n",
       "      <td>0</td>\n",
       "      <td>1</td>\n",
       "      <td>1</td>\n",
       "      <td>2020-04-01</td>\n",
       "      <td>APARTMENT</td>\n",
       "      <td>0.3857</td>\n",
       "      <td>TUKWILA</td>\n",
       "      <td>C</td>\n",
       "      <td>14598.625875</td>\n",
       "      <td>NaN</td>\n",
       "    </tr>\n",
       "    <tr>\n",
       "      <th>4</th>\n",
       "      <td>Structure Non Building</td>\n",
       "      <td>Watertank</td>\n",
       "      <td>Other</td>\n",
       "      <td>N</td>\n",
       "      <td>1</td>\n",
       "      <td>4.6</td>\n",
       "      <td>0</td>\n",
       "      <td>0</td>\n",
       "      <td>0</td>\n",
       "      <td>1</td>\n",
       "      <td>2020-04-01</td>\n",
       "      <td>UTILITIES</td>\n",
       "      <td>0.8844</td>\n",
       "      <td>REDMOND</td>\n",
       "      <td>C</td>\n",
       "      <td>19.934419</td>\n",
       "      <td>NaN</td>\n",
       "    </tr>\n",
       "    <tr>\n",
       "      <th>...</th>\n",
       "      <td>...</td>\n",
       "      <td>...</td>\n",
       "      <td>...</td>\n",
       "      <td>...</td>\n",
       "      <td>...</td>\n",
       "      <td>...</td>\n",
       "      <td>...</td>\n",
       "      <td>...</td>\n",
       "      <td>...</td>\n",
       "      <td>...</td>\n",
       "      <td>...</td>\n",
       "      <td>...</td>\n",
       "      <td>...</td>\n",
       "      <td>...</td>\n",
       "      <td>...</td>\n",
       "      <td>...</td>\n",
       "      <td>...</td>\n",
       "    </tr>\n",
       "    <tr>\n",
       "      <th>444</th>\n",
       "      <td>Structure Non Building</td>\n",
       "      <td>Utility Lattice Tower</td>\n",
       "      <td>Other</td>\n",
       "      <td>N</td>\n",
       "      <td>1</td>\n",
       "      <td>6.1</td>\n",
       "      <td>1</td>\n",
       "      <td>0</td>\n",
       "      <td>1</td>\n",
       "      <td>0</td>\n",
       "      <td>2021-08-01</td>\n",
       "      <td>MISCELLANEOUS</td>\n",
       "      <td>0.2415</td>\n",
       "      <td>RENTON</td>\n",
       "      <td>R</td>\n",
       "      <td>49.233954</td>\n",
       "      <td>NaN</td>\n",
       "    </tr>\n",
       "    <tr>\n",
       "      <th>445</th>\n",
       "      <td>Structure Non Building</td>\n",
       "      <td>Self Support Tower</td>\n",
       "      <td>Crown Castle</td>\n",
       "      <td>Y</td>\n",
       "      <td>0</td>\n",
       "      <td>8.6</td>\n",
       "      <td>0</td>\n",
       "      <td>0</td>\n",
       "      <td>0</td>\n",
       "      <td>1</td>\n",
       "      <td>2021-08-01</td>\n",
       "      <td>VACANT</td>\n",
       "      <td>49.2300</td>\n",
       "      <td>FALL CITY</td>\n",
       "      <td>R</td>\n",
       "      <td>5.750965</td>\n",
       "      <td>NaN</td>\n",
       "    </tr>\n",
       "    <tr>\n",
       "      <th>446</th>\n",
       "      <td>Building</td>\n",
       "      <td>Roof Top Mount</td>\n",
       "      <td>Other</td>\n",
       "      <td>N</td>\n",
       "      <td>1</td>\n",
       "      <td>5.1</td>\n",
       "      <td>0</td>\n",
       "      <td>1</td>\n",
       "      <td>0</td>\n",
       "      <td>1</td>\n",
       "      <td>2021-12-01</td>\n",
       "      <td>INDUSTRIAL</td>\n",
       "      <td>4.3243</td>\n",
       "      <td>BOTHELL</td>\n",
       "      <td>C</td>\n",
       "      <td>37266.223435</td>\n",
       "      <td>35.0</td>\n",
       "    </tr>\n",
       "    <tr>\n",
       "      <th>447</th>\n",
       "      <td>Building</td>\n",
       "      <td>In Building</td>\n",
       "      <td>Other</td>\n",
       "      <td>N</td>\n",
       "      <td>1</td>\n",
       "      <td>0.9</td>\n",
       "      <td>0</td>\n",
       "      <td>1</td>\n",
       "      <td>0</td>\n",
       "      <td>0</td>\n",
       "      <td>2022-01-01</td>\n",
       "      <td>PARKING</td>\n",
       "      <td>0.7920</td>\n",
       "      <td>BELLEVUE</td>\n",
       "      <td>C</td>\n",
       "      <td>28922.449495</td>\n",
       "      <td>NaN</td>\n",
       "    </tr>\n",
       "    <tr>\n",
       "      <th>448</th>\n",
       "      <td>Structure Non Building</td>\n",
       "      <td>Monopole</td>\n",
       "      <td>Other</td>\n",
       "      <td>Y</td>\n",
       "      <td>1</td>\n",
       "      <td>0.9</td>\n",
       "      <td>1</td>\n",
       "      <td>0</td>\n",
       "      <td>1</td>\n",
       "      <td>0</td>\n",
       "      <td>2022-02-01</td>\n",
       "      <td>VACANT</td>\n",
       "      <td>0.3060</td>\n",
       "      <td>SEATTLE</td>\n",
       "      <td>C</td>\n",
       "      <td>64058.333333</td>\n",
       "      <td>NaN</td>\n",
       "    </tr>\n",
       "  </tbody>\n",
       "</table>\n",
       "<p>449 rows × 17 columns</p>\n",
       "</div>"
      ],
      "text/plain": [
       "             site_type_desc        site_class_desc   MLA_Partner MLA_Flag  \\\n",
       "0    Structure Non Building               Monopole         Other        Y   \n",
       "1                  Building         Roof Top Mount         Other        N   \n",
       "2    Structure Non Building              Wood Pole         Other        N   \n",
       "3    Structure Non Building              Wood Pole         Other        N   \n",
       "4    Structure Non Building              Watertank         Other        N   \n",
       "..                      ...                    ...           ...      ...   \n",
       "444  Structure Non Building  Utility Lattice Tower         Other        N   \n",
       "445  Structure Non Building     Self Support Tower  Crown Castle        Y   \n",
       "446                Building         Roof Top Mount         Other        N   \n",
       "447                Building            In Building         Other        N   \n",
       "448  Structure Non Building               Monopole         Other        Y   \n",
       "\n",
       "     isurban  EC Duration  Category_v_L600  Category_v_Capacity_Other  \\\n",
       "0          1          5.9                0                          1   \n",
       "1          1          8.8                0                          0   \n",
       "2          1         12.7                1                          1   \n",
       "3          1         10.6                1                          0   \n",
       "4          1          4.6                0                          0   \n",
       "..       ...          ...              ...                        ...   \n",
       "444        1          6.1                1                          0   \n",
       "445        0          8.6                0                          0   \n",
       "446        1          5.1                0                          1   \n",
       "447        1          0.9                0                          1   \n",
       "448        1          0.9                1                          0   \n",
       "\n",
       "     max_proj_l600_flg  max_proj_2500_flg Min_SC_Release_POR  \\\n",
       "0                    0                  1         2020-04-01   \n",
       "1                    0                  1         2020-04-01   \n",
       "2                    1                  1         2020-05-01   \n",
       "3                    1                  1         2020-04-01   \n",
       "4                    0                  1         2020-04-01   \n",
       "..                 ...                ...                ...   \n",
       "444                  1                  0         2021-08-01   \n",
       "445                  0                  1         2021-08-01   \n",
       "446                  0                  1         2021-12-01   \n",
       "447                  0                  0         2022-01-01   \n",
       "448                  1                  0         2022-02-01   \n",
       "\n",
       "    property_indicator_name  land_acres   std_city PROPTYPE  tax_per_acre  \\\n",
       "0                 WAREHOUSE      5.1496     RENTON        C  40035.461007   \n",
       "1           OFFICE BUILDING      3.2108    SEATTLE        C  80411.754080   \n",
       "2                       NaN         NaN    SEATTLE      NaN           NaN   \n",
       "3                 APARTMENT      0.3857    TUKWILA        C  14598.625875   \n",
       "4                 UTILITIES      0.8844    REDMOND        C     19.934419   \n",
       "..                      ...         ...        ...      ...           ...   \n",
       "444           MISCELLANEOUS      0.2415     RENTON        R     49.233954   \n",
       "445                  VACANT     49.2300  FALL CITY        R      5.750965   \n",
       "446              INDUSTRIAL      4.3243    BOTHELL        C  37266.223435   \n",
       "447                 PARKING      0.7920   BELLEVUE        C  28922.449495   \n",
       "448                  VACANT      0.3060    SEATTLE        C  64058.333333   \n",
       "\n",
       "      age  \n",
       "0    36.0  \n",
       "1    43.0  \n",
       "2     NaN  \n",
       "3     NaN  \n",
       "4     NaN  \n",
       "..    ...  \n",
       "444   NaN  \n",
       "445   NaN  \n",
       "446  35.0  \n",
       "447   NaN  \n",
       "448   NaN  \n",
       "\n",
       "[449 rows x 17 columns]"
      ]
     },
     "execution_count": 190,
     "metadata": {},
     "output_type": "execute_result"
    }
   ],
   "source": [
    "data_v1"
   ]
  },
  {
   "cell_type": "code",
   "execution_count": 191,
   "id": "ca694421",
   "metadata": {},
   "outputs": [
    {
     "data": {
      "text/plain": [
       "site_type_desc                       object\n",
       "site_class_desc                      object\n",
       "MLA_Partner                          object\n",
       "MLA_Flag                             object\n",
       "isurban                               int64\n",
       "EC Duration                         float64\n",
       "Category_v_L600                       int64\n",
       "Category_v_Capacity_Other             int64\n",
       "max_proj_l600_flg                     int64\n",
       "max_proj_2500_flg                     int64\n",
       "Min_SC_Release_POR           datetime64[ns]\n",
       "property_indicator_name              object\n",
       "land_acres                          float64\n",
       "std_city                             object\n",
       "PROPTYPE                             object\n",
       "tax_per_acre                        float64\n",
       "age                                 float64\n",
       "dtype: object"
      ]
     },
     "execution_count": 191,
     "metadata": {},
     "output_type": "execute_result"
    }
   ],
   "source": [
    "data_v1.dtypes"
   ]
  },
  {
   "cell_type": "code",
   "execution_count": 192,
   "id": "99f6fe58",
   "metadata": {},
   "outputs": [],
   "source": [
    "#dropping column due to high correlation with 'max_proj_l600_flg' \n",
    "data_v1.drop('Category_v_L600', axis = 1, inplace = True)"
   ]
  },
  {
   "cell_type": "code",
   "execution_count": 193,
   "id": "54fe6982-5791-4d68-a7b1-fed5321a0fd6",
   "metadata": {},
   "outputs": [
    {
     "data": {
      "text/html": [
       "<div>\n",
       "<style scoped>\n",
       "    .dataframe tbody tr th:only-of-type {\n",
       "        vertical-align: middle;\n",
       "    }\n",
       "\n",
       "    .dataframe tbody tr th {\n",
       "        vertical-align: top;\n",
       "    }\n",
       "\n",
       "    .dataframe thead th {\n",
       "        text-align: right;\n",
       "    }\n",
       "</style>\n",
       "<table border=\"1\" class=\"dataframe\">\n",
       "  <thead>\n",
       "    <tr style=\"text-align: right;\">\n",
       "      <th></th>\n",
       "      <th>site_type_desc</th>\n",
       "      <th>site_class_desc</th>\n",
       "      <th>MLA_Partner</th>\n",
       "      <th>MLA_Flag</th>\n",
       "      <th>isurban</th>\n",
       "      <th>EC Duration</th>\n",
       "      <th>Category_v_Capacity_Other</th>\n",
       "      <th>max_proj_l600_flg</th>\n",
       "      <th>max_proj_2500_flg</th>\n",
       "      <th>Min_SC_Release_POR</th>\n",
       "      <th>property_indicator_name</th>\n",
       "      <th>land_acres</th>\n",
       "      <th>std_city</th>\n",
       "      <th>PROPTYPE</th>\n",
       "      <th>tax_per_acre</th>\n",
       "      <th>age</th>\n",
       "    </tr>\n",
       "  </thead>\n",
       "  <tbody>\n",
       "    <tr>\n",
       "      <th>0</th>\n",
       "      <td>Structure Non Building</td>\n",
       "      <td>Monopole</td>\n",
       "      <td>Other</td>\n",
       "      <td>Y</td>\n",
       "      <td>1</td>\n",
       "      <td>5.9</td>\n",
       "      <td>1</td>\n",
       "      <td>0</td>\n",
       "      <td>1</td>\n",
       "      <td>2020-04-01</td>\n",
       "      <td>WAREHOUSE</td>\n",
       "      <td>5.1496</td>\n",
       "      <td>RENTON</td>\n",
       "      <td>C</td>\n",
       "      <td>40035.461007</td>\n",
       "      <td>36.0</td>\n",
       "    </tr>\n",
       "    <tr>\n",
       "      <th>1</th>\n",
       "      <td>Building</td>\n",
       "      <td>Roof Top Mount</td>\n",
       "      <td>Other</td>\n",
       "      <td>N</td>\n",
       "      <td>1</td>\n",
       "      <td>8.8</td>\n",
       "      <td>0</td>\n",
       "      <td>0</td>\n",
       "      <td>1</td>\n",
       "      <td>2020-04-01</td>\n",
       "      <td>OFFICE BUILDING</td>\n",
       "      <td>3.2108</td>\n",
       "      <td>SEATTLE</td>\n",
       "      <td>C</td>\n",
       "      <td>80411.754080</td>\n",
       "      <td>43.0</td>\n",
       "    </tr>\n",
       "    <tr>\n",
       "      <th>2</th>\n",
       "      <td>Structure Non Building</td>\n",
       "      <td>Wood Pole</td>\n",
       "      <td>Other</td>\n",
       "      <td>N</td>\n",
       "      <td>1</td>\n",
       "      <td>12.7</td>\n",
       "      <td>1</td>\n",
       "      <td>1</td>\n",
       "      <td>1</td>\n",
       "      <td>2020-05-01</td>\n",
       "      <td>NaN</td>\n",
       "      <td>NaN</td>\n",
       "      <td>SEATTLE</td>\n",
       "      <td>NaN</td>\n",
       "      <td>NaN</td>\n",
       "      <td>NaN</td>\n",
       "    </tr>\n",
       "    <tr>\n",
       "      <th>3</th>\n",
       "      <td>Structure Non Building</td>\n",
       "      <td>Wood Pole</td>\n",
       "      <td>Other</td>\n",
       "      <td>N</td>\n",
       "      <td>1</td>\n",
       "      <td>10.6</td>\n",
       "      <td>0</td>\n",
       "      <td>1</td>\n",
       "      <td>1</td>\n",
       "      <td>2020-04-01</td>\n",
       "      <td>APARTMENT</td>\n",
       "      <td>0.3857</td>\n",
       "      <td>TUKWILA</td>\n",
       "      <td>C</td>\n",
       "      <td>14598.625875</td>\n",
       "      <td>NaN</td>\n",
       "    </tr>\n",
       "    <tr>\n",
       "      <th>4</th>\n",
       "      <td>Structure Non Building</td>\n",
       "      <td>Watertank</td>\n",
       "      <td>Other</td>\n",
       "      <td>N</td>\n",
       "      <td>1</td>\n",
       "      <td>4.6</td>\n",
       "      <td>0</td>\n",
       "      <td>0</td>\n",
       "      <td>1</td>\n",
       "      <td>2020-04-01</td>\n",
       "      <td>UTILITIES</td>\n",
       "      <td>0.8844</td>\n",
       "      <td>REDMOND</td>\n",
       "      <td>C</td>\n",
       "      <td>19.934419</td>\n",
       "      <td>NaN</td>\n",
       "    </tr>\n",
       "  </tbody>\n",
       "</table>\n",
       "</div>"
      ],
      "text/plain": [
       "           site_type_desc site_class_desc MLA_Partner MLA_Flag  isurban  \\\n",
       "0  Structure Non Building        Monopole       Other        Y        1   \n",
       "1                Building  Roof Top Mount       Other        N        1   \n",
       "2  Structure Non Building       Wood Pole       Other        N        1   \n",
       "3  Structure Non Building       Wood Pole       Other        N        1   \n",
       "4  Structure Non Building       Watertank       Other        N        1   \n",
       "\n",
       "   EC Duration  Category_v_Capacity_Other  max_proj_l600_flg  \\\n",
       "0          5.9                          1                  0   \n",
       "1          8.8                          0                  0   \n",
       "2         12.7                          1                  1   \n",
       "3         10.6                          0                  1   \n",
       "4          4.6                          0                  0   \n",
       "\n",
       "   max_proj_2500_flg Min_SC_Release_POR property_indicator_name  land_acres  \\\n",
       "0                  1         2020-04-01               WAREHOUSE      5.1496   \n",
       "1                  1         2020-04-01         OFFICE BUILDING      3.2108   \n",
       "2                  1         2020-05-01                     NaN         NaN   \n",
       "3                  1         2020-04-01               APARTMENT      0.3857   \n",
       "4                  1         2020-04-01               UTILITIES      0.8844   \n",
       "\n",
       "  std_city PROPTYPE  tax_per_acre   age  \n",
       "0   RENTON        C  40035.461007  36.0  \n",
       "1  SEATTLE        C  80411.754080  43.0  \n",
       "2  SEATTLE      NaN           NaN   NaN  \n",
       "3  TUKWILA        C  14598.625875   NaN  \n",
       "4  REDMOND        C     19.934419   NaN  "
      ]
     },
     "execution_count": 193,
     "metadata": {},
     "output_type": "execute_result"
    }
   ],
   "source": [
    "data_v1.head()"
   ]
  },
  {
   "cell_type": "code",
   "execution_count": 194,
   "id": "3ad44571",
   "metadata": {},
   "outputs": [
    {
     "data": {
      "text/plain": [
       "dtype('float64')"
      ]
     },
     "execution_count": 194,
     "metadata": {},
     "output_type": "execute_result"
    }
   ],
   "source": [
    "data_v1['EC Duration'].dtype"
   ]
  },
  {
   "cell_type": "code",
   "execution_count": 195,
   "id": "e53e58e0",
   "metadata": {},
   "outputs": [],
   "source": [
    "#converting 'Min_SC_Release_POR' column to datetime format\n",
    "data_v1['Min_SC_Release_POR'] = pd.to_datetime(data_v1['Min_SC_Release_POR'])"
   ]
  },
  {
   "cell_type": "code",
   "execution_count": 196,
   "id": "87ffe6d1",
   "metadata": {},
   "outputs": [],
   "source": [
    "#storing 'month' from 'Min_SC_Release_POR' to a different column\n",
    "data_v1['SC_month'] = data_v1['Min_SC_Release_POR'].dt.month"
   ]
  },
  {
   "cell_type": "code",
   "execution_count": 197,
   "id": "eb74f890",
   "metadata": {},
   "outputs": [],
   "source": [
    "#storing 'year' from 'Min_SC_Release_POR' to a different column\n",
    "data_v1['SC_year'] = data_v1['Min_SC_Release_POR'].dt.year"
   ]
  },
  {
   "cell_type": "markdown",
   "id": "6422ab04",
   "metadata": {},
   "source": [
    "#### Subsetting COVID Outliers data"
   ]
  },
  {
   "cell_type": "code",
   "execution_count": 198,
   "id": "7e503444",
   "metadata": {},
   "outputs": [],
   "source": [
    "#data with COVID related EC Duration outliers in April 2020 \n",
    "data_apr = data_v1[(data_v1['SC_month'] == 4) & (data_v1['SC_year'] == 2020) & (data_v1['EC Duration'] > 10)]"
   ]
  },
  {
   "cell_type": "code",
   "execution_count": 199,
   "id": "2624c987",
   "metadata": {},
   "outputs": [],
   "source": [
    "#data with COVID related EC Duration outliers in May 2020\n",
    "data_may = data_v1[(data_v1['SC_month'] == 5) & (data_v1['SC_year'] == 2020) & (data_v1['EC Duration'] > 10)]"
   ]
  },
  {
   "cell_type": "code",
   "execution_count": 200,
   "id": "70921c10",
   "metadata": {},
   "outputs": [],
   "source": [
    "#data with COVID related EC Duration outliers in June 2020\n",
    "data_june = data_v1[(data_v1['SC_month'] == 6) & (data_v1['SC_year'] == 2020) & (data_v1['EC Duration'] > 10)]"
   ]
  },
  {
   "cell_type": "code",
   "execution_count": 201,
   "id": "4e7466ea",
   "metadata": {},
   "outputs": [],
   "source": [
    "#data with COVID related EC Duration outliers in July 2020\n",
    "data_july = data_v1[(data_v1['SC_month'] == 7) & (data_v1['SC_year'] == 2020) & (data_v1['EC Duration'] > 10)]"
   ]
  },
  {
   "cell_type": "code",
   "execution_count": 202,
   "id": "28e96721",
   "metadata": {},
   "outputs": [],
   "source": [
    "#data with COVID related EC Duration outliers in August 2020\n",
    "data_august = data_v1[(data_v1['SC_month'] == 8) & (data_v1['SC_year'] == 2020) & (data_v1['EC Duration'] > 10)]"
   ]
  },
  {
   "cell_type": "code",
   "execution_count": 203,
   "id": "9a29bba6",
   "metadata": {},
   "outputs": [],
   "source": [
    "#data with COVID related EC Duration outliers in September 2020\n",
    "data_sep = data_v1[(data_v1['SC_month'] == 9) & (data_v1['SC_year'] == 2020) & (data_v1['EC Duration'] > 10)]"
   ]
  },
  {
   "cell_type": "code",
   "execution_count": 204,
   "id": "f14b725f",
   "metadata": {},
   "outputs": [],
   "source": [
    "#data with COVID related EC Duration outliers in October 2020\n",
    "data_oct = data_v1[(data_v1['SC_month'] == 10) & (data_v1['SC_year'] == 2020) & (data_v1['EC Duration'] > 10)]"
   ]
  },
  {
   "cell_type": "code",
   "execution_count": 205,
   "id": "dde38575",
   "metadata": {},
   "outputs": [],
   "source": [
    "#data with COVID related EC Duration outliers in December 2020\n",
    "data_dec = data_v1[(data_v1['SC_month'] == 12) & (data_v1['SC_year'] == 2020) & (data_v1['EC Duration'] > 10)]"
   ]
  },
  {
   "cell_type": "code",
   "execution_count": 206,
   "id": "328df2e7",
   "metadata": {},
   "outputs": [],
   "source": [
    "#combining all of 2020 data\n",
    "data_v3 = pd.concat([data_apr, data_may, data_june, data_july, data_august, data_sep, data_oct, data_dec])"
   ]
  },
  {
   "cell_type": "code",
   "execution_count": 207,
   "id": "512af516",
   "metadata": {},
   "outputs": [],
   "source": [
    "#excluding 2020 COVID outlier data from main dataset\n",
    "data_v1 = data_v1.drop(data_v3.index)"
   ]
  },
  {
   "cell_type": "code",
   "execution_count": 208,
   "id": "1ae4068f",
   "metadata": {},
   "outputs": [
    {
     "data": {
      "text/plain": [
       "(378, 18)"
      ]
     },
     "execution_count": 208,
     "metadata": {},
     "output_type": "execute_result"
    }
   ],
   "source": [
    "data_v1.shape"
   ]
  },
  {
   "cell_type": "code",
   "execution_count": 209,
   "id": "28f4ff56",
   "metadata": {},
   "outputs": [],
   "source": [
    "#dropping a date column\n",
    "data_v1.drop(['Min_SC_Release_POR','SC_month','SC_year'], axis = 1, inplace = True)"
   ]
  },
  {
   "cell_type": "code",
   "execution_count": 210,
   "id": "ef07690d",
   "metadata": {},
   "outputs": [
    {
     "name": "stdout",
     "output_type": "stream",
     "text": [
      "Number of categorical features: 7\n",
      "Categorical features: ['site_type_desc', 'site_class_desc', 'MLA_Partner', 'MLA_Flag', 'property_indicator_name', 'std_city', 'PROPTYPE']\n"
     ]
    }
   ],
   "source": [
    "#separating categorical features in the dataset\n",
    "categorical_features = [column_name for column_name in data_v1.columns if data_v1[column_name].dtype == 'O']\n",
    "print('Number of categorical features: {}'.format(len(categorical_features)))\n",
    "print('Categorical features: {}'.format(list(categorical_features)))"
   ]
  },
  {
   "cell_type": "code",
   "execution_count": 211,
   "id": "0919f23e",
   "metadata": {},
   "outputs": [
    {
     "name": "stdout",
     "output_type": "stream",
     "text": [
      "Number of numerical features: 8\n",
      "Numerical Features: ['isurban', 'EC Duration', 'Category_v_Capacity_Other', 'max_proj_l600_flg', 'max_proj_2500_flg', 'land_acres', 'tax_per_acre', 'age']\n"
     ]
    }
   ],
   "source": [
    "#Separating numerical features in the dataset\n",
    "numerical_features = [column_name for column_name in data_v1.columns if data_v1[column_name].dtype != 'O']\n",
    "print('Number of numerical features: {}'.format(len(numerical_features)))\n",
    "print('Numerical Features:', list(numerical_features))"
   ]
  },
  {
   "cell_type": "markdown",
   "id": "780587bf-ccac-446c-a3d1-ec55f4d1717d",
   "metadata": {},
   "source": [
    "#### Cardinality\n",
    "Conclusions:\n",
    " - land_use_name, property_indicator_name, std_city are all high-cardinality, requiring reduction\n",
    " - site_class_desc should be considered for grouping"
   ]
  },
  {
   "cell_type": "code",
   "execution_count": 212,
   "id": "3d9cdc4c",
   "metadata": {},
   "outputs": [
    {
     "name": "stdout",
     "output_type": "stream",
     "text": [
      "site_type_desc : 2\n",
      "site_class_desc : 14\n",
      "MLA_Partner : 3\n",
      "MLA_Flag : 2\n",
      "property_indicator_name : 24\n",
      "std_city : 36\n",
      "PROPTYPE : 5\n"
     ]
    }
   ],
   "source": [
    "#checking cardinality\n",
    "for each_feature in categorical_features:\n",
    "    unique_values = len(data[each_feature].unique())\n",
    "    print('{} : {}'.format(each_feature, unique_values))"
   ]
  },
  {
   "cell_type": "code",
   "execution_count": 213,
   "id": "ce2995b9",
   "metadata": {},
   "outputs": [
    {
     "data": {
      "text/plain": [
       "SINGLE FAMILY RESIDENCE    49\n",
       "APARTMENT                  48\n",
       "OFFICE BUILDING            38\n",
       "WAREHOUSE                  32\n",
       "UTILITIES                  27\n",
       "RETAIL                     20\n",
       "VACANT                     18\n",
       "AMUSEMENT-RECREATION       16\n",
       "COMMERCIAL                 15\n",
       "EXEMPT                     12\n",
       "CONDOMINIUM                11\n",
       "INDUSTRIAL                 10\n",
       "SERVICE                     8\n",
       "PARKING                     5\n",
       "INDUSTRIAL LIGHT            5\n",
       "MISCELLANEOUS               5\n",
       "HOTEL, MOTEL                4\n",
       "INDUSTRIAL HEAVY            3\n",
       "DUPLEX                      2\n",
       "TRANSPORT                   2\n",
       "HOSPITAL                    1\n",
       "COMMERCIAL CONDOMINIUM      1\n",
       "AGRICULTURAL                1\n",
       "Name: property_indicator_name, dtype: int64"
      ]
     },
     "execution_count": 213,
     "metadata": {},
     "output_type": "execute_result"
    }
   ],
   "source": [
    "# data_v1['property_indicator_name'].mode()\n",
    "data_v1['property_indicator_name'].value_counts()\n"
   ]
  },
  {
   "cell_type": "markdown",
   "id": "9682f6a8-22fa-4129-98bf-66801a6d8e59",
   "metadata": {},
   "source": [
    "### Sweetvis Report"
   ]
  },
  {
   "cell_type": "code",
   "execution_count": 214,
   "id": "6b526734",
   "metadata": {},
   "outputs": [],
   "source": [
    "# pip install sweetviz\n",
    "# Importing Sweetviz for analysis\n",
    "#import sweetviz as sv"
   ]
  },
  {
   "cell_type": "code",
   "execution_count": 215,
   "id": "a4fbf3e0",
   "metadata": {},
   "outputs": [],
   "source": [
    "#generating report around data \n",
    "#report = sv.analyze(source=data_v1,target_feat='EC Duration', pairwise_analysis='on')\n",
    "#report.show_html('EC_v2_Analysis.html')"
   ]
  },
  {
   "cell_type": "markdown",
   "id": "490414f4",
   "metadata": {},
   "source": [
    "#### Missing Values\n",
    "Conclusions:\n",
    "The following fields should be considered for missing value replacement or interpolation:\n",
    " - land_use_name (categorical)\n",
    " - property_indicator_name (categorical)\n",
    " - tax_amt (numeric)\n",
    " - yr_blt (numeric)\n",
    " - land_acres (numeric)"
   ]
  },
  {
   "cell_type": "code",
   "execution_count": 216,
   "id": "fb241758",
   "metadata": {},
   "outputs": [
    {
     "data": {
      "text/plain": [
       "site_type_desc                 0\n",
       "site_class_desc                0\n",
       "MLA_Partner                    0\n",
       "MLA_Flag                       0\n",
       "isurban                        0\n",
       "EC Duration                    0\n",
       "Category_v_Capacity_Other      0\n",
       "max_proj_l600_flg              0\n",
       "max_proj_2500_flg              0\n",
       "property_indicator_name       45\n",
       "land_acres                    45\n",
       "std_city                       0\n",
       "PROPTYPE                      44\n",
       "tax_per_acre                  46\n",
       "age                          117\n",
       "dtype: int64"
      ]
     },
     "execution_count": 216,
     "metadata": {},
     "output_type": "execute_result"
    }
   ],
   "source": [
    "#checking null values\n",
    "data_v1.isnull().sum()"
   ]
  },
  {
   "cell_type": "markdown",
   "id": "1875b839",
   "metadata": {},
   "source": [
    "## Outlier Identification\n",
    "Conclusions:\n",
    "tax_per_acre, age, and land_acres contain outliers that should be treated before missing value interpolation"
   ]
  },
  {
   "cell_type": "code",
   "execution_count": 217,
   "id": "8ef8cda2",
   "metadata": {},
   "outputs": [
    {
     "data": {
      "text/plain": [
       "<AxesSubplot:xlabel='land_acres'>"
      ]
     },
     "execution_count": 217,
     "metadata": {},
     "output_type": "execute_result"
    },
    {
     "data": {
      "image/png": "[encoded data removed]",
      "text/plain": [
       "<Figure size 432x288 with 1 Axes>"
      ]
     },
     "metadata": {
      "needs_background": "light"
     },
     "output_type": "display_data"
    }
   ],
   "source": [
    "#using boxplot to visualize outliers\n",
    "sns.boxplot(data_v1['land_acres'])"
   ]
  },
  {
   "cell_type": "code",
   "execution_count": 218,
   "id": "cea8f33c",
   "metadata": {},
   "outputs": [
    {
     "data": {
      "text/plain": [
       "<AxesSubplot:xlabel='tax_per_acre'>"
      ]
     },
     "execution_count": 218,
     "metadata": {},
     "output_type": "execute_result"
    },
    {
     "data": {
      "image/png": "[encoded data removed]",
      "text/plain": [
       "<Figure size 432x288 with 1 Axes>"
      ]
     },
     "metadata": {
      "needs_background": "light"
     },
     "output_type": "display_data"
    }
   ],
   "source": [
    "#using boxplot to visualize outliers\n",
    "sns.boxplot(data_v1['tax_per_acre'])"
   ]
  },
  {
   "cell_type": "code",
   "execution_count": 219,
   "id": "f422fa04",
   "metadata": {},
   "outputs": [
    {
     "data": {
      "text/plain": [
       "<AxesSubplot:xlabel='age'>"
      ]
     },
     "execution_count": 219,
     "metadata": {},
     "output_type": "execute_result"
    },
    {
     "data": {
      "image/png": "[encoded data removed]",
      "text/plain": [
       "<Figure size 432x288 with 1 Axes>"
      ]
     },
     "metadata": {
      "needs_background": "light"
     },
     "output_type": "display_data"
    }
   ],
   "source": [
    "#using boxplot to visualize outliers\n",
    "sns.boxplot(data_v1['age'])"
   ]
  },
  {
   "cell_type": "code",
   "execution_count": 220,
   "id": "67fd3af8",
   "metadata": {},
   "outputs": [
    {
     "name": "stdout",
     "output_type": "stream",
     "text": [
      "Treating 0 lower (-4.62755) and 47 upper (8.81445) outliers for land_acres\n",
      "Treating 0 lower (-115809.39603281852) and 41 upper (198200.75723907538) outliers for tax_per_acre\n",
      "Treating 0 lower (-13.0) and 10 upper (99.0) outliers for age\n"
     ]
    }
   ],
   "source": [
    "#Outliers Treatment\n",
    "\n",
    "features_with_outliers = ['land_acres', 'tax_per_acre', 'age']\n",
    "for feature in features_with_outliers:\n",
    "    q1 = data_v1[feature].quantile(.25)\n",
    "    q3 = data_v1[feature].quantile(.75)\n",
    "    IQR = q3 - q1\n",
    "    lower_limit = q1 - (IQR*1.5)\n",
    "    upper_limit = q3 + (IQR*1.5)\n",
    "    lower_outliers = data_v1.loc[data_v1[feature] < lower_limit, feature].count()\n",
    "    upper_outliers = data_v1.loc[data_v1[feature] > upper_limit, feature].count()\n",
    "    print(f\"Treating {lower_outliers} lower ({lower_limit}) and {upper_outliers} upper ({upper_limit}) outliers for {feature}\")\n",
    "    data_v1.loc[data_v1[feature] < lower_limit, feature] = lower_limit\n",
    "    data_v1.loc[data_v1[feature] > upper_limit, feature] = upper_limit"
   ]
  },
  {
   "cell_type": "markdown",
   "id": "133eb9d5",
   "metadata": {},
   "source": [
    "### Predicting Missing Values using Iterative Imputer / KNNImputer"
   ]
  },
  {
   "cell_type": "markdown",
   "id": "aa5b6534",
   "metadata": {},
   "source": [
    "**Multivariate feature imputation - Multivariate imputation by chained equations (MICE)**\n",
    "A strategy for imputing missing values by modeling each feature with missing values as a function of other features in a round-robin fashion. It performns multiple regressions over random sample ofthe data, then takes the average ofthe multiple regression values and uses that value to impute the missing value."
   ]
  },
  {
   "cell_type": "markdown",
   "id": "666f9ae1",
   "metadata": {},
   "source": [
    "**K-Nearest Neighbor Imputation**\n",
    "The KNNImputer class provides imputation for filling in missing values using the k-Nearest Neighbors approach.Each missing feature is imputed using values from n_neighbors nearest neighbors that have a value for the feature. The feature of the neighbors are averaged uniformly or weighted by distance to each neighbor."
   ]
  },
  {
   "cell_type": "code",
   "execution_count": 221,
   "id": "2ec8b7c1",
   "metadata": {},
   "outputs": [],
   "source": [
    "# from sklearn.impute import KNNImputer\n",
    "# train_knn = data_v1.copy(deep=True)\n",
    "\n",
    "# knn_imputer = KNNImputer(n_neighbors=5, weights=\"uniform\")\n",
    "# train_knn['land_acres'] = knn_imputer.fit_transform(train_knn[['land_acres']])"
   ]
  },
  {
   "cell_type": "code",
   "execution_count": 222,
   "id": "2b18b043",
   "metadata": {},
   "outputs": [],
   "source": [
    "from sklearn.experimental import enable_iterative_imputer\n",
    "from sklearn.impute import IterativeImputer\n",
    "train_mice = data_v1.copy(deep=True)\n",
    "mice_imputer = IterativeImputer(estimator=RandomForestRegressor(random_state=0), max_iter=20)\n",
    "# mice_imputer = IterativeImputer()\n",
    "train_mice['land_acres'] = mice_imputer.fit_transform(train_mice[['land_acres']])"
   ]
  },
  {
   "cell_type": "code",
   "execution_count": 223,
   "id": "50ffa8e1",
   "metadata": {},
   "outputs": [
    {
     "data": {
      "text/plain": [
       "site_type_desc                 0\n",
       "site_class_desc                0\n",
       "MLA_Partner                    0\n",
       "MLA_Flag                       0\n",
       "isurban                        0\n",
       "EC Duration                    0\n",
       "Category_v_Capacity_Other      0\n",
       "max_proj_l600_flg              0\n",
       "max_proj_2500_flg              0\n",
       "property_indicator_name       45\n",
       "land_acres                     0\n",
       "std_city                       0\n",
       "PROPTYPE                      44\n",
       "tax_per_acre                  46\n",
       "age                          117\n",
       "dtype: int64"
      ]
     },
     "execution_count": 223,
     "metadata": {},
     "output_type": "execute_result"
    }
   ],
   "source": [
    "train_mice.isnull().sum()"
   ]
  },
  {
   "cell_type": "code",
   "execution_count": 224,
   "id": "80a92978",
   "metadata": {},
   "outputs": [],
   "source": [
    "# train_knn['tax_per_acre'] = knn_imputer.fit_transform(train_knn[['tax_per_acre']])\n",
    "train_mice['tax_per_acre'] = mice_imputer.fit_transform(train_mice[['tax_per_acre']])"
   ]
  },
  {
   "cell_type": "code",
   "execution_count": 225,
   "id": "21d1513a",
   "metadata": {},
   "outputs": [],
   "source": [
    "# train_knn['age'] = knn_imputer.fit_transform(train_knn[['age']])\n",
    "train_mice['age'] = mice_imputer.fit_transform(train_mice[['age']])"
   ]
  },
  {
   "cell_type": "code",
   "execution_count": 226,
   "id": "b2c5a1ef",
   "metadata": {},
   "outputs": [
    {
     "data": {
      "text/plain": [
       "site_type_desc                0\n",
       "site_class_desc               0\n",
       "MLA_Partner                   0\n",
       "MLA_Flag                      0\n",
       "isurban                       0\n",
       "EC Duration                   0\n",
       "Category_v_Capacity_Other     0\n",
       "max_proj_l600_flg             0\n",
       "max_proj_2500_flg             0\n",
       "property_indicator_name      45\n",
       "land_acres                    0\n",
       "std_city                      0\n",
       "PROPTYPE                     44\n",
       "tax_per_acre                  0\n",
       "age                           0\n",
       "dtype: int64"
      ]
     },
     "execution_count": 226,
     "metadata": {},
     "output_type": "execute_result"
    }
   ],
   "source": [
    "train_mice.isnull().sum()"
   ]
  },
  {
   "cell_type": "code",
   "execution_count": 227,
   "id": "6b323bc7",
   "metadata": {},
   "outputs": [],
   "source": [
    "# train_knn.isnull().sum()"
   ]
  },
  {
   "cell_type": "markdown",
   "id": "443bb7de",
   "metadata": {},
   "source": [
    "#### One-hot Encoding"
   ]
  },
  {
   "cell_type": "code",
   "execution_count": 228,
   "id": "2c9a5811",
   "metadata": {},
   "outputs": [],
   "source": [
    "# dummy_na parameter helps get separate column for null values, treating them as a separate feature\n",
    "train_mice = pd.get_dummies(train_mice, dummy_na=True)"
   ]
  },
  {
   "cell_type": "code",
   "execution_count": 229,
   "id": "57c64c60",
   "metadata": {},
   "outputs": [],
   "source": [
    "# dummy_na parameter helps get separate column for null values, treating them as a separate feature\n",
    "# train_knn = pd.get_dummies(train_knn, dummy_na=True)"
   ]
  },
  {
   "cell_type": "code",
   "execution_count": 230,
   "id": "9e9d8081",
   "metadata": {},
   "outputs": [],
   "source": [
    "data_v1_oh = train_mice"
   ]
  },
  {
   "cell_type": "code",
   "execution_count": 231,
   "id": "0d946b66",
   "metadata": {},
   "outputs": [],
   "source": [
    "# data_v1_oh = train_knn"
   ]
  },
  {
   "cell_type": "markdown",
   "id": "418fbb91",
   "metadata": {},
   "source": [
    "#### Separating Target and Features"
   ]
  },
  {
   "cell_type": "code",
   "execution_count": 232,
   "id": "6f1fa0b6",
   "metadata": {},
   "outputs": [],
   "source": [
    "X = data_v1_oh.drop(['EC Duration'], axis = 1)\n",
    "y = data_v1_oh['EC Duration']"
   ]
  },
  {
   "cell_type": "markdown",
   "id": "d405b463",
   "metadata": {},
   "source": [
    "# Model Training"
   ]
  },
  {
   "cell_type": "markdown",
   "id": "72d53c05",
   "metadata": {},
   "source": [
    "#### Evaluating Model Performance"
   ]
  },
  {
   "cell_type": "markdown",
   "id": "d8de905e",
   "metadata": {},
   "source": [
    "#### Feature Importance\n",
    "We will be using ExtraTreesRegressor class for Feature Importance. This class implements a meta estimator that fits a number of randomized decision trees on various samples of the dataset and uses averaging to improve the predictive accuracy and control over-fitting."
   ]
  },
  {
   "cell_type": "code",
   "execution_count": 233,
   "id": "e97987e2",
   "metadata": {},
   "outputs": [
    {
     "data": {
      "text/plain": [
       "array([7.54794344e-03, 1.84673166e-02, 3.86203385e-02, 2.36199826e-01,\n",
       "       8.13962534e-02, 7.29431563e-02, 5.57661626e-02, 4.39575134e-03,\n",
       "       4.01443682e-03, 0.00000000e+00, 1.31145637e-04, 3.71608206e-03,\n",
       "       1.97752376e-02, 1.43599477e-02, 4.35793527e-03, 4.03261364e-03,\n",
       "       3.79063458e-04, 5.09151908e-20, 1.36728168e-03, 5.01959530e-03,\n",
       "       3.85931105e-03, 7.91181560e-04, 4.19612901e-03, 4.64345331e-03,\n",
       "       0.00000000e+00, 2.72161416e-02, 2.72511370e-03, 2.12110562e-02,\n",
       "       0.00000000e+00, 2.83157454e-03, 2.92970348e-02, 0.00000000e+00,\n",
       "       2.94229228e-04, 6.02367020e-03, 1.84114294e-02, 8.42989466e-03,\n",
       "       2.64668872e-03, 4.43926233e-03, 2.29115480e-03, 1.56733705e-03,\n",
       "       6.97415680e-05, 9.09784078e-04, 2.56111908e-03, 2.08994512e-03,\n",
       "       1.09637174e-03, 2.70445418e-03, 1.15326277e-02, 1.78261420e-03,\n",
       "       1.42964797e-02, 7.62499369e-03, 1.79606124e-03, 2.86328019e-04,\n",
       "       5.34916854e-03, 1.48208018e-03, 3.51104599e-02, 1.51775348e-02,\n",
       "       4.75657194e-03, 1.21579503e-02, 3.94177869e-05, 5.76759532e-04,\n",
       "       4.47502101e-04, 1.64992057e-02, 7.16672571e-03, 1.44105342e-03,\n",
       "       1.24847719e-03, 2.96016225e-04, 1.78034479e-05, 9.16273359e-04,\n",
       "       1.15528931e-03, 1.14752065e-03, 8.84613512e-03, 1.78317907e-02,\n",
       "       3.12136850e-05, 3.80416785e-03, 1.52516367e-04, 1.44040774e-03,\n",
       "       3.35636312e-03, 9.92113288e-04, 3.51126161e-03, 1.04490950e-02,\n",
       "       1.45291599e-02, 1.20335168e-03, 2.29306268e-02, 5.03254618e-03,\n",
       "       7.91675613e-04, 2.42321813e-03, 2.38539952e-03, 1.27316665e-02,\n",
       "       3.30485160e-04, 8.39190103e-04, 0.00000000e+00, 3.85618196e-03,\n",
       "       4.08401899e-03, 3.91806612e-03, 7.34773209e-03, 2.08053705e-03])"
      ]
     },
     "execution_count": 233,
     "metadata": {},
     "output_type": "execute_result"
    }
   ],
   "source": [
    "from sklearn.ensemble import ExtraTreesRegressor\n",
    "etr_model = ExtraTreesRegressor()\n",
    "etr_model.fit(X, y)\n",
    "etr_model.feature_importances_"
   ]
  },
  {
   "cell_type": "code",
   "execution_count": 234,
   "id": "c1c11e21",
   "metadata": {},
   "outputs": [
    {
     "data": {
      "text/plain": [
       "<AxesSubplot:>"
      ]
     },
     "execution_count": 234,
     "metadata": {},
     "output_type": "execute_result"
    },
    {
     "data": {
      "image/png": "[encoded data removed]",
      "text/plain": [
       "<Figure size 432x288 with 1 Axes>"
      ]
     },
     "metadata": {
      "needs_background": "light"
     },
     "output_type": "display_data"
    }
   ],
   "source": [
    "#Top 20 Important features\n",
    "feature_imp = pd.Series(etr_model.feature_importances_, index = X.columns)\n",
    "feature_imp.nlargest(20).plot(kind = 'barh')"
   ]
  },
  {
   "cell_type": "markdown",
   "id": "595693ba",
   "metadata": {},
   "source": [
    "#### Feature Scaling"
   ]
  },
  {
   "cell_type": "code",
   "execution_count": 235,
   "id": "bd268369",
   "metadata": {},
   "outputs": [],
   "source": [
    "#min-max scaling is a better option than Standard Scaler as the data is skewed and does ont follow a normal distribution\n",
    "scaler_x = MinMaxScaler() #StandardScaler() #QuantileTransformer(output_distribution=\"uniform\")\n",
    "\n",
    "X_scaled = scaler_x.fit_transform(X)"
   ]
  },
  {
   "cell_type": "markdown",
   "id": "96836798",
   "metadata": {},
   "source": [
    "#### Using Interaction terms in the linear model"
   ]
  },
  {
   "cell_type": "code",
   "execution_count": 236,
   "id": "1cb4256c",
   "metadata": {},
   "outputs": [],
   "source": [
    "poly = PolynomialFeatures(interaction_only=True,include_bias = False)\n",
    "X_scaled_poly = poly.fit_transform(X_scaled)"
   ]
  },
  {
   "cell_type": "markdown",
   "id": "7b877a05",
   "metadata": {},
   "source": [
    "#### Model Design with target scaling"
   ]
  },
  {
   "cell_type": "code",
   "execution_count": 237,
   "id": "7293848e-2e39-4990-87d8-0f59b73365a1",
   "metadata": {},
   "outputs": [],
   "source": [
    "from sklearn.preprocessing import FunctionTransformer\n",
    "from sklearn.preprocessing import PowerTransformer\n",
    "\n",
    "\n",
    "def pass_func(x):\n",
    "    return x\n",
    "pass_transformer = FunctionTransformer(func=pass_func, inverse_func=pass_func)\n",
    "\n",
    "\n",
    "pos_qt = QuantileTransformer(output_distribution=\"normal\")\n",
    "def qt_func(x):\n",
    "    return max(qt.transform(x),0)\n",
    "def qt_inv(x):\n",
    "    return max(qt.inverse_transform(x), 0)\n",
    "pos_qt_transformer = FunctionTransformer(func=pass_func, inverse_func=pass_func)"
   ]
  },
  {
   "cell_type": "code",
   "execution_count": 238,
   "id": "770adeae-4887-4147-bffd-926ec0aef758",
   "metadata": {},
   "outputs": [
    {
     "name": "stdout",
     "output_type": "stream",
     "text": [
      "Cross-validation scores: [1.71100928 2.14325109 2.05189872 1.56457247 1.58573588 1.32791443\n",
      " 1.784558   2.5512728  3.20077484 1.52838354]\n",
      "Average cross-validation score: 1.9449371056962952\n"
     ]
    },
    {
     "data": {
      "text/plain": [
       "<AxesSubplot:xlabel='EC Duration'>"
      ]
     },
     "execution_count": 238,
     "metadata": {},
     "output_type": "execute_result"
    },
    {
     "data": {
      "image/png": "[encoded data removed]",
      "text/plain": [
       "<Figure size 432x288 with 1 Axes>"
      ]
     },
     "metadata": {
      "needs_background": "light"
     },
     "output_type": "display_data"
    }
   ],
   "source": [
    "regr_trans = TransformedTargetRegressor(\n",
    "    regressor=TweedieRegressor(link='log', power=2),\n",
    "    #regressor=RidgeCV(),\n",
    "    transformer=pass_transformer\n",
    "    #transformer=MinMaxScaler()\n",
    "    #transformer=PowerTransformer(method=\"box-cox\")\n",
    "    #transformer=QuantileTransformer(output_distribution=\"uniform\")\n",
    ")\n",
    "\n",
    "#Cross Validated training and scoring\n",
    "scores = cross_val_score(regr_trans, X_scaled_poly, y, cv = 10, scoring = make_scorer(mean_absolute_error))\n",
    "print('Cross-validation scores: {}'.format(scores))\n",
    "print('Average cross-validation score: {}'.format(scores.mean()))\n",
    "y_pred = cross_val_predict(regr_trans, X_scaled_poly, y, cv = 10)\n",
    "sns.scatterplot(y, y_pred, (y-y_pred), hue_norm=(-10,10), palette=\"coolwarm\")"
   ]
  },
  {
   "cell_type": "code",
   "execution_count": 239,
   "id": "8565fa2f",
   "metadata": {},
   "outputs": [
    {
     "name": "stdout",
     "output_type": "stream",
     "text": [
      "Cross-validation scores: [1.71968955 1.91126715 1.72586098 1.2933501  1.71096826 1.82130191\n",
      " 2.03174923 2.64068449 2.90705078 1.33861648]\n",
      "Average cross-validation score: 1.9100538944651722\n"
     ]
    },
    {
     "data": {
      "text/plain": [
       "<AxesSubplot:xlabel='EC Duration'>"
      ]
     },
     "execution_count": 239,
     "metadata": {},
     "output_type": "execute_result"
    },
    {
     "data": {
      "image/png": "[encoded data removed]",
      "text/plain": [
       "<Figure size 432x288 with 1 Axes>"
      ]
     },
     "metadata": {
      "needs_background": "light"
     },
     "output_type": "display_data"
    }
   ],
   "source": [
    "regr_trans = TransformedTargetRegressor(\n",
    "    #regressor=TweedieRegressor(link='log', power=2),\n",
    "    regressor=RidgeCV(),\n",
    "    #transformer=pass_transformer\n",
    "    #transformer=MinMaxScaler()\n",
    "    transformer=PowerTransformer()\n",
    "    #transformer=QuantileTransformer(output_distribution=\"uniform\")\n",
    ")\n",
    "\n",
    "#Cross Validated training and scoring\n",
    "scores = cross_val_score(regr_trans, X_scaled_poly, y, cv = 10, scoring = make_scorer(mean_absolute_error))\n",
    "print('Cross-validation scores: {}'.format(scores))\n",
    "print('Average cross-validation score: {}'.format(scores.mean()))\n",
    "y_pred = cross_val_predict(regr_trans, X_scaled_poly, y, cv = 10)\n",
    "sns.scatterplot(y, y_pred, (y-y_pred), hue_norm=(-10,10), palette=\"coolwarm\")"
   ]
  },
  {
   "cell_type": "code",
   "execution_count": 240,
   "id": "090ae2fc",
   "metadata": {},
   "outputs": [
    {
     "name": "stdout",
     "output_type": "stream",
     "text": [
      "Cross-validation scores: [1.71020338 2.14089879 2.049707   1.56230817 1.5854552  1.32966219\n",
      " 1.78635112 2.54999089 3.19847502 1.5280698 ]\n",
      "Average cross-validation score: 1.944112156567267\n"
     ]
    },
    {
     "data": {
      "text/plain": [
       "<AxesSubplot:xlabel='EC Duration'>"
      ]
     },
     "execution_count": 240,
     "metadata": {},
     "output_type": "execute_result"
    },
    {
     "data": {
      "image/png": "[encoded data removed]",
      "text/plain": [
       "<Figure size 432x288 with 1 Axes>"
      ]
     },
     "metadata": {
      "needs_background": "light"
     },
     "output_type": "display_data"
    }
   ],
   "source": [
    "regr_trans = TransformedTargetRegressor(\n",
    "    regressor=TweedieRegressor(link='log', power=1.99),\n",
    "    #transformer=MinMaxScaler()\n",
    "    #transformer=PowerTransformer()\n",
    "    transformer=pos_qt_transformer\n",
    "    #transformer=QuantileTransformer(output_distribution=\"uniform\")\n",
    ")\n",
    "\n",
    "#Cross Validated training and scoring\n",
    "scores = cross_val_score(regr_trans, X_scaled_poly, y, cv = 10, scoring = make_scorer(mean_absolute_error))\n",
    "print('Cross-validation scores: {}'.format(scores))\n",
    "print('Average cross-validation score: {}'.format(scores.mean()))\n",
    "y_pred = cross_val_predict(regr_trans, X_scaled_poly, y, cv = 10)\n",
    "sns.scatterplot(y, y_pred, (y-y_pred), hue_norm=(-10,10), palette=\"coolwarm\")"
   ]
  },
  {
   "cell_type": "code",
   "execution_count": 241,
   "id": "d323c683",
   "metadata": {},
   "outputs": [
    {
     "name": "stdout",
     "output_type": "stream",
     "text": [
      "Cross-validation scores: [1.67451472 1.98801107 1.90333961 1.45570218 1.51768497 1.64611066\n",
      " 1.83756066 2.38759459 2.92724018 1.251366  ]\n",
      "Average cross-validation score: 1.85891246103214\n"
     ]
    },
    {
     "data": {
      "text/plain": [
       "<AxesSubplot:xlabel='EC Duration'>"
      ]
     },
     "execution_count": 241,
     "metadata": {},
     "output_type": "execute_result"
    },
    {
     "data": {
      "image/png": "[encoded data removed]",
      "text/plain": [
       "<Figure size 432x288 with 1 Axes>"
      ]
     },
     "metadata": {
      "needs_background": "light"
     },
     "output_type": "display_data"
    }
   ],
   "source": [
    "regr_trans = TransformedTargetRegressor(\n",
    "    #regressor=TweedieRegressor(link='log', power=2),\n",
    "    regressor=RidgeCV(),\n",
    "    #transformer=pass_transformer\n",
    "    #transformer=MinMaxScaler()\n",
    "    #transformer=PowerTransformer(method=\"box-cox\")\n",
    "    transformer=QuantileTransformer(output_distribution=\"uniform\")\n",
    ")\n",
    "\n",
    "#Cross Validated training and scoring\n",
    "scores = cross_val_score(regr_trans, X_scaled_poly, y, cv = 10, scoring = make_scorer(mean_absolute_error))\n",
    "print('Cross-validation scores: {}'.format(scores))\n",
    "print('Average cross-validation score: {}'.format(scores.mean()))\n",
    "y_pred = cross_val_predict(regr_trans, X_scaled_poly, y, cv = 10)\n",
    "sns.scatterplot(y, y_pred, (y-y_pred), hue_norm=(-10,10), palette=\"coolwarm\")"
   ]
  },
  {
   "cell_type": "code",
   "execution_count": 242,
   "id": "adfafdf7",
   "metadata": {},
   "outputs": [
    {
     "name": "stdout",
     "output_type": "stream",
     "text": [
      "Cross-validation scores: [1.82869605 1.89121905 1.96873379 1.44525813 1.6618387  1.59153639\n",
      " 2.00551634 2.24695759 2.82190863 1.42754881]\n",
      "Average cross-validation score: 1.8889213488604315\n"
     ]
    },
    {
     "data": {
      "text/plain": [
       "<AxesSubplot:xlabel='EC Duration'>"
      ]
     },
     "execution_count": 242,
     "metadata": {},
     "output_type": "execute_result"
    },
    {
     "data": {
      "image/png": "[encoded data removed]",
      "text/plain": [
       "<Figure size 432x288 with 1 Axes>"
      ]
     },
     "metadata": {
      "needs_background": "light"
     },
     "output_type": "display_data"
    }
   ],
   "source": [
    "from sklearn.ensemble import RandomForestRegressor\n",
    "regr_trans = TransformedTargetRegressor(\n",
    "    #regressor=TweedieRegressor(link='log', power=2),\n",
    "    regressor=RandomForestRegressor(min_samples_leaf=10, max_features=50),\n",
    "    #transformer=pass_transformer\n",
    "    #transformer=MinMaxScaler()\n",
    "    transformer=PowerTransformer()\n",
    "    #transformer=QuantileTransformer(output_distribution=\"uniform\")\n",
    ")\n",
    "\n",
    "#Cross Validated training and scoring\n",
    "scores = cross_val_score(regr_trans, X_scaled, y, cv = 10, scoring = make_scorer(mean_absolute_error))\n",
    "print('Cross-validation scores: {}'.format(scores))\n",
    "print('Average cross-validation score: {}'.format(scores.mean()))\n",
    "y_pred = cross_val_predict(regr_trans, X_scaled, y, cv = 10)\n",
    "sns.scatterplot(y, y_pred, (y-y_pred), hue_norm=(-10,10), palette=\"coolwarm\")"
   ]
  },
  {
   "cell_type": "code",
   "execution_count": 243,
   "id": "82a16b52",
   "metadata": {},
   "outputs": [
    {
     "data": {
      "text/plain": [
       "<AxesSubplot:xlabel='EC Duration', ylabel='Density'>"
      ]
     },
     "execution_count": 243,
     "metadata": {},
     "output_type": "execute_result"
    },
    {
     "data": {
      "image/png": "[encoded data removed]",
      "text/plain": [
       "<Figure size 432x288 with 1 Axes>"
      ]
     },
     "metadata": {
      "needs_background": "light"
     },
     "output_type": "display_data"
    }
   ],
   "source": [
    "sns.distplot(y-y_pred)"
   ]
  },
  {
   "cell_type": "code",
   "execution_count": 244,
   "id": "847fb98b",
   "metadata": {},
   "outputs": [
    {
     "data": {
      "text/plain": [
       "array([0.00603343, 0.01339382, 0.03006056, 0.47043301, 0.11596679,\n",
       "       0.07716097, 0.05542394, 0.00971324, 0.00540227, 0.        ,\n",
       "       0.        , 0.        , 0.01554896, 0.005563  , 0.        ,\n",
       "       0.        , 0.        , 0.        , 0.        , 0.        ,\n",
       "       0.00164525, 0.        , 0.        , 0.00072719, 0.        ,\n",
       "       0.01627556, 0.00439894, 0.02807689, 0.        , 0.03421005,\n",
       "       0.02304761, 0.        , 0.        , 0.        , 0.00974695,\n",
       "       0.00105563, 0.        , 0.        , 0.        , 0.        ,\n",
       "       0.        , 0.        , 0.        , 0.        , 0.        ,\n",
       "       0.        , 0.00063566, 0.        , 0.00467481, 0.        ,\n",
       "       0.00529102, 0.        , 0.00091543, 0.        , 0.00778352,\n",
       "       0.00493041, 0.        , 0.00091031, 0.        , 0.        ,\n",
       "       0.        , 0.        , 0.        , 0.        , 0.        ,\n",
       "       0.        , 0.        , 0.        , 0.00063926, 0.        ,\n",
       "       0.00304645, 0.        , 0.        , 0.        , 0.        ,\n",
       "       0.        , 0.        , 0.        , 0.        , 0.        ,\n",
       "       0.        , 0.        , 0.03271075, 0.        , 0.        ,\n",
       "       0.        , 0.        , 0.        , 0.        , 0.        ,\n",
       "       0.        , 0.0087699 , 0.00049041, 0.00223197, 0.        ,\n",
       "       0.00308604])"
      ]
     },
     "execution_count": 244,
     "metadata": {},
     "output_type": "execute_result"
    }
   ],
   "source": [
    "regressor=RandomForestRegressor(min_samples_leaf=10, max_features=50)\n",
    "regressor.fit(X, y)\n",
    "regressor.feature_importances_"
   ]
  },
  {
   "cell_type": "code",
   "execution_count": 245,
   "id": "52d8aaa3",
   "metadata": {},
   "outputs": [
    {
     "data": {
      "text/plain": [
       "<AxesSubplot:>"
      ]
     },
     "execution_count": 245,
     "metadata": {},
     "output_type": "execute_result"
    },
    {
     "data": {
      "image/png": "[encoded data removed]",
      "text/plain": [
       "<Figure size 432x288 with 1 Axes>"
      ]
     },
     "metadata": {
      "needs_background": "light"
     },
     "output_type": "display_data"
    }
   ],
   "source": [
    "feature_imp = pd.Series(regressor.feature_importances_, index = X.columns)\n",
    "feature_imp.nlargest(20).plot(kind = 'barh')"
   ]
  },
  {
   "cell_type": "code",
   "execution_count": 246,
   "id": "17838b6a",
   "metadata": {},
   "outputs": [
    {
     "data": {
      "text/plain": [
       "<AxesSubplot:xlabel='EC Duration'>"
      ]
     },
     "execution_count": 246,
     "metadata": {},
     "output_type": "execute_result"
    },
    {
     "data": {
      "image/png": "[encoded data removed]",
      "text/plain": [
       "<Figure size 432x288 with 1 Axes>"
      ]
     },
     "metadata": {
      "needs_background": "light"
     },
     "output_type": "display_data"
    }
   ],
   "source": [
    "sns.scatterplot(y, y_pred, (y-y_pred), hue_norm=(-10,10), palette=\"coolwarm\")"
   ]
  },
  {
   "cell_type": "code",
   "execution_count": null,
   "id": "84ce6bcb",
   "metadata": {},
   "outputs": [],
   "source": []
  },
  {
   "cell_type": "code",
   "execution_count": null,
   "id": "a5afdf80",
   "metadata": {},
   "outputs": [],
   "source": []
  },
  {
   "cell_type": "code",
   "execution_count": null,
   "id": "37cbeaa1",
   "metadata": {},
   "outputs": [],
   "source": []
  },
  {
   "cell_type": "code",
   "execution_count": null,
   "id": "b96d6b2c",
   "metadata": {},
   "outputs": [],
   "source": []
  },
  {
   "cell_type": "code",
   "execution_count": null,
   "id": "9d8849e7",
   "metadata": {},
   "outputs": [],
   "source": []
  },
  {
   "cell_type": "code",
   "execution_count": null,
   "id": "e6ee6c07",
   "metadata": {},
   "outputs": [],
   "source": []
  },
  {
   "cell_type": "code",
   "execution_count": null,
   "id": "7d1c0058",
   "metadata": {},
   "outputs": [],
   "source": []
  },
  {
   "cell_type": "code",
   "execution_count": null,
   "id": "5fc748ec",
   "metadata": {},
   "outputs": [],
   "source": []
  },
  {
   "cell_type": "code",
   "execution_count": null,
   "id": "b9cce302",
   "metadata": {},
   "outputs": [],
   "source": []
  },
  {
   "cell_type": "code",
   "execution_count": null,
   "id": "82b06840",
   "metadata": {},
   "outputs": [],
   "source": []
  },
  {
   "cell_type": "code",
   "execution_count": null,
   "id": "74c89581",
   "metadata": {},
   "outputs": [],
   "source": []
  },
  {
   "cell_type": "code",
   "execution_count": null,
   "id": "3995562d",
   "metadata": {},
   "outputs": [],
   "source": []
  }
 ],
 "metadata": {
  "kernelspec": {
   "display_name": "Python 3 (ipykernel)",
   "language": "python",
   "name": "python3"
  },
  "language_info": {
   "codemirror_mode": {
    "name": "ipython",
    "version": 3
   },
   "file_extension": ".py",
   "mimetype": "text/x-python",
   "name": "python",
   "nbconvert_exporter": "python",
   "pygments_lexer": "ipython3",
   "version": "3.9.7"
  }
 },
 "nbformat": 4,
 "nbformat_minor": 5
}
